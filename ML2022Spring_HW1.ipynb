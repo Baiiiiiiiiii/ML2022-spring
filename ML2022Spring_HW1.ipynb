{
  "cells": [
    {
      "cell_type": "markdown",
      "metadata": {
        "id": "guE34D3Fj2R9"
      },
      "source": [
        "# **Homework 1: COVID-19 Cases Prediction (Regression)**"
      ]
    },
    {
      "cell_type": "markdown",
      "source": [
        "Objectives:\n",
        "* Solve a regression problem with deep neural networks (DNN).\n",
        "* Understand basic DNN training tips.\n",
        "* Familiarize yourself with PyTorch.\n",
        "\n",
        "If you have any questions, please contact the TAs via TA hours, NTU COOL, or email to mlta-2022-spring@googlegroups.com"
      ],
      "metadata": {
        "id": "V57zhcTp1Xxb"
      }
    },
    {
      "cell_type": "markdown",
      "metadata": {
        "id": "Tm2aXcb-j9Fc"
      },
      "source": [
        "# Download data\n",
        "If the Google Drive links below do not work, you can download data from [Kaggle](https://www.kaggle.com/t/a3ebd5b5542f0f55e828d4f00de8e59a), and upload data manually to the workspace."
      ]
    },
    {
      "cell_type": "code",
      "execution_count": 136,
      "metadata": {
        "colab": {
          "base_uri": "https://localhost:8080/"
        },
        "id": "YPmfl-awlKZA",
        "outputId": "4737dbf7-de27-43e9-e1b3-f24eaf0f5245"
      },
      "outputs": [
        {
          "output_type": "stream",
          "name": "stdout",
          "text": [
            "Downloading...\n",
            "From: https://drive.google.com/uc?id=1kLSW_-cW2Huj7bh84YTdimGBOJaODiOS\n",
            "To: /content/covid.train.csv\n",
            "100% 2.49M/2.49M [00:00<00:00, 174MB/s]\n",
            "Downloading...\n",
            "From: https://drive.google.com/uc?id=1iiI5qROrAhZn-o4FPqsE97bMzDEFvIdg\n",
            "To: /content/covid.test.csv\n",
            "100% 993k/993k [00:00<00:00, 126MB/s]\n"
          ]
        }
      ],
      "source": [
        "!gdown --id '1kLSW_-cW2Huj7bh84YTdimGBOJaODiOS' --output covid.train.csv\n",
        "!gdown --id '1iiI5qROrAhZn-o4FPqsE97bMzDEFvIdg' --output covid.test.csv"
      ]
    },
    {
      "cell_type": "markdown",
      "metadata": {
        "id": "igqIMEgu64-F"
      },
      "source": [
        "# Import packages"
      ]
    },
    {
      "cell_type": "code",
      "execution_count": 137,
      "metadata": {
        "id": "xybQNYCXYu13"
      },
      "outputs": [],
      "source": [
        "# Numerical Operations\n",
        "import math\n",
        "import numpy as np\n",
        "\n",
        "# Reading/Writing Data\n",
        "import pandas as pd\n",
        "import os\n",
        "import csv\n",
        "\n",
        "# For Progress Bar\n",
        "from tqdm import tqdm\n",
        "\n",
        "# Pytorch\n",
        "import torch \n",
        "import torch.nn as nn\n",
        "from torch.utils.data import Dataset, DataLoader, random_split\n",
        "\n",
        "# For plotting learning curve\n",
        "from torch.utils.tensorboard import SummaryWriter"
      ]
    },
    {
      "cell_type": "markdown",
      "source": [
        "# Some Utility Functions\n",
        "\n",
        "You do not need to modify this part."
      ],
      "metadata": {
        "id": "fTAVqRfc2KK3"
      }
    },
    {
      "cell_type": "code",
      "source": [
        "def same_seed(seed): \n",
        "    '''Fixes random number generator seeds for reproducibility.'''\n",
        "    torch.backends.cudnn.deterministic = True\n",
        "    torch.backends.cudnn.benchmark = False\n",
        "    np.random.seed(seed)\n",
        "    torch.manual_seed(seed)\n",
        "    if torch.cuda.is_available():\n",
        "        torch.cuda.manual_seed_all(seed)\n",
        "\n",
        "def train_valid_split(data_set, valid_ratio, seed):\n",
        "    '''Split provided training data into training set and validation set'''\n",
        "    valid_set_size = int(valid_ratio * len(data_set)) \n",
        "    train_set_size = len(data_set) - valid_set_size\n",
        "    train_set, valid_set = random_split(data_set, [train_set_size, valid_set_size], generator=torch.Generator().manual_seed(seed))\n",
        "    return np.array(train_set), np.array(valid_set)\n",
        "\n",
        "def predict(test_loader, model, device):\n",
        "    model.eval() # Set your model to evaluation mode.\n",
        "    preds = []\n",
        "    for x in tqdm(test_loader):\n",
        "        x = x.to(device)                        \n",
        "        with torch.no_grad():                   \n",
        "            pred = model(x)                     \n",
        "            preds.append(pred.detach().cpu())   \n",
        "    preds = torch.cat(preds, dim=0).numpy()  \n",
        "    return preds"
      ],
      "metadata": {
        "id": "RbrcpfYN2I-H"
      },
      "execution_count": 138,
      "outputs": []
    },
    {
      "cell_type": "markdown",
      "metadata": {
        "id": "IqO3lTm78nNO"
      },
      "source": [
        "# Dataset"
      ]
    },
    {
      "cell_type": "code",
      "execution_count": 139,
      "metadata": {
        "id": "-mjaJM0wprMs"
      },
      "outputs": [],
      "source": [
        "class COVID19Dataset(Dataset):\n",
        "    '''\n",
        "    x: Features.\n",
        "    y: Targets, if none, do prediction.\n",
        "    '''\n",
        "    def __init__(self, x, y=None):\n",
        "        if y is None:\n",
        "            self.y = y\n",
        "        else:\n",
        "            self.y = torch.FloatTensor(y)\n",
        "        self.x = torch.FloatTensor(x)\n",
        "\n",
        "    def __getitem__(self, idx):\n",
        "        if self.y is None:\n",
        "            return self.x[idx]\n",
        "        else:\n",
        "            return self.x[idx], self.y[idx]\n",
        "\n",
        "    def __len__(self):\n",
        "        return len(self.x)"
      ]
    },
    {
      "cell_type": "markdown",
      "source": [
        "# Neural Network Model\n",
        "Try out different model architectures by modifying the class below."
      ],
      "metadata": {
        "id": "m73ooU75CL_j"
      }
    },
    {
      "cell_type": "code",
      "execution_count": 140,
      "metadata": {
        "id": "Qn97_WvvrEkG"
      },
      "outputs": [],
      "source": [
        "class My_Model(nn.Module):\n",
        "    def __init__(self, input_dim):\n",
        "        super(My_Model, self).__init__()\n",
        "        # TODO: modify model's structure, be aware of dimensions. \n",
        "        self.layers = nn.Sequential(\n",
        "            nn.Linear(input_dim, 32),\n",
        "            nn.ReLU(),\n",
        "            nn.Linear(32, 16),\n",
        "            nn.ReLU(),\n",
        "            nn.Linear(16, 1)\n",
        "        )\n",
        "\n",
        "    def forward(self, x):\n",
        "        x = self.layers(x)\n",
        "        x = x.squeeze(1) # (B, 1) -> (B)\n",
        "        return x"
      ]
    },
    {
      "cell_type": "markdown",
      "metadata": {
        "id": "x5-LKF6R8xeq"
      },
      "source": [
        "# Feature Selection\n",
        "Choose features you deem useful by modifying the function below."
      ]
    },
    {
      "cell_type": "code",
      "source": [
        "def select_feat(train_data, valid_data, test_data, select_all=True):\n",
        "    '''Selects useful features to perform regression'''\n",
        "    y_train, y_valid = train_data[:,-1], valid_data[:,-1]\n",
        "    raw_x_train, raw_x_valid, raw_x_test = train_data[:,:-1], valid_data[:,:-1], test_data\n",
        "\n",
        "    if select_all:\n",
        "        feat_idx = list(range(raw_x_train.shape[1]))\n",
        "    else:\n",
        "        feat_idx = [38,39,40,41,53,54,55,56,57,69,70,71,72,73,85,86,87,88,89,101,102,103,104,105] # TODO: Select suitable feature columns.\n",
        "        \n",
        "    return raw_x_train[:,feat_idx], raw_x_valid[:,feat_idx], raw_x_test[:,feat_idx], y_train, y_valid"
      ],
      "metadata": {
        "id": "0FEnKRaIIeKp"
      },
      "execution_count": 141,
      "outputs": []
    },
    {
      "cell_type": "markdown",
      "source": [
        "# Training Loop"
      ],
      "metadata": {
        "id": "kADIPNQ2Ih5X"
      }
    },
    {
      "cell_type": "code",
      "execution_count": 142,
      "metadata": {
        "id": "k4Rq8_TztAhq"
      },
      "outputs": [],
      "source": [
        "def trainer(train_loader, valid_loader, model, config, device):\n",
        "\n",
        "    criterion = nn.MSELoss(reduction='mean') # Define your loss function, do not modify this.\n",
        "\n",
        "    # Define your optimization algorithm. \n",
        "    # TODO: Please check https://pytorch.org/docs/stable/optim.html to get more available algorithms.\n",
        "    # TODO: L2 regularization (optimizer(weight decay...) or implement by your self).\n",
        "    optimizer = torch.optim.Adam(model.parameters(), lr=config['learning_rate'],weight_decay=1e-5,amsgrad=True) \n",
        "\n",
        "    writer = SummaryWriter() # Writer of tensoboard.\n",
        "\n",
        "    if not os.path.isdir('./models'):\n",
        "        os.mkdir('./models') # Create directory of saving models.\n",
        "\n",
        "    n_epochs, best_loss, step, early_stop_count = config['n_epochs'], math.inf, 0, 0\n",
        "\n",
        "    for epoch in range(n_epochs):\n",
        "        model.train() # Set your model to train mode.\n",
        "        loss_record = []\n",
        "\n",
        "        # tqdm is a package to visualize your training progress.\n",
        "        train_pbar = tqdm(train_loader, position=0, leave=True)\n",
        "\n",
        "        for x, y in train_pbar:\n",
        "            optimizer.zero_grad()               # Set gradient to zero.\n",
        "            x, y = x.to(device), y.to(device)   # Move your data to device. \n",
        "            pred = model(x)             \n",
        "            loss = criterion(pred, y)\n",
        "            loss.backward()                     # Compute gradient(backpropagation).\n",
        "            optimizer.step()                    # Update parameters.\n",
        "            step += 1\n",
        "            loss_record.append(loss.detach().item())\n",
        "            \n",
        "            # Display current epoch number and loss on tqdm progress bar.\n",
        "            train_pbar.set_description(f'Epoch [{epoch+1}/{n_epochs}]')\n",
        "            train_pbar.set_postfix({'loss': loss.detach().item()})\n",
        "\n",
        "        mean_train_loss = sum(loss_record)/len(loss_record)\n",
        "        writer.add_scalar('Loss/train', mean_train_loss, step)\n",
        "\n",
        "        model.eval() # Set your model to evaluation mode.\n",
        "        loss_record = []\n",
        "        for x, y in valid_loader:\n",
        "            x, y = x.to(device), y.to(device)\n",
        "            with torch.no_grad():\n",
        "                pred = model(x)\n",
        "                loss = criterion(pred, y)\n",
        "\n",
        "            loss_record.append(loss.item())\n",
        "            \n",
        "        mean_valid_loss = sum(loss_record)/len(loss_record)\n",
        "        print(f'Epoch [{epoch+1}/{n_epochs}]: Train loss: {mean_train_loss:.4f}, Valid loss: {mean_valid_loss:.4f}')\n",
        "        writer.add_scalar('Loss/valid', mean_valid_loss, step)\n",
        "\n",
        "        if mean_valid_loss < best_loss:\n",
        "            best_loss = mean_valid_loss\n",
        "            torch.save(model.state_dict(), config['save_path']) # Save your best model\n",
        "            print('Saving model with loss {:.3f}...'.format(best_loss))\n",
        "            early_stop_count = 0\n",
        "        else: \n",
        "            early_stop_count += 1\n",
        "\n",
        "        if early_stop_count >= config['early_stop']:\n",
        "            print('\\nModel is not improving, so we halt the training session.')\n",
        "            return"
      ]
    },
    {
      "cell_type": "markdown",
      "metadata": {
        "id": "0pgkOh2e9UjE"
      },
      "source": [
        "# Configurations\n",
        "`config` contains hyper-parameters for training and the path to save your model."
      ]
    },
    {
      "cell_type": "code",
      "execution_count": 143,
      "metadata": {
        "id": "QoWPUahCtoT6"
      },
      "outputs": [],
      "source": [
        "device = 'cuda' if torch.cuda.is_available() else 'cpu'\n",
        "config = {\n",
        "    'seed': 20020416,      # Your seed number, you can pick your lucky number. :)\n",
        "    'select_all': False,   # Whether to use all features.\n",
        "    'valid_ratio': 0.25,   # validation_size = train_size * valid_ratio\n",
        "    'n_epochs': 10000,     # Number of epochs.            \n",
        "    'batch_size': 150, \n",
        "    'learning_rate': 3*1e-3,              \n",
        "    'early_stop': 400,    # If model has not improved for this many consecutive epochs, stop training.     \n",
        "    'save_path': './models/model.ckpt'  # Your model will be saved here.\n",
        "}"
      ]
    },
    {
      "cell_type": "markdown",
      "metadata": {
        "id": "lrS-aJJh9XkW"
      },
      "source": [
        "# Dataloader\n",
        "Read data from files and set up training, validation, and testing sets. You do not need to modify this part."
      ]
    },
    {
      "cell_type": "code",
      "execution_count": 144,
      "metadata": {
        "id": "2jc7ZfDot2t9",
        "colab": {
          "base_uri": "https://localhost:8080/"
        },
        "outputId": "510a6cff-4ed5-4a39-e234-3877870af223"
      },
      "outputs": [
        {
          "output_type": "stream",
          "name": "stdout",
          "text": [
            "train_data size: (2025, 118) \n",
            "valid_data size: (674, 118) \n",
            "test_data size: (1078, 117)\n",
            "number of features: 24\n"
          ]
        }
      ],
      "source": [
        "# Set seed for reproducibility\n",
        "same_seed(config['seed'])\n",
        "\n",
        "\n",
        "# train_data size: 2699 x 118 (id + 37 states + 16 features x 5 days) \n",
        "# test_data size: 1078 x 117 (without last day's positive rate)\n",
        "train_data, test_data = pd.read_csv('./covid.train.csv').values, pd.read_csv('./covid.test.csv').values\n",
        "train_data, valid_data = train_valid_split(train_data, config['valid_ratio'], config['seed'])\n",
        "\n",
        "# Print out the data size.\n",
        "print(f\"\"\"train_data size: {train_data.shape} \n",
        "valid_data size: {valid_data.shape} \n",
        "test_data size: {test_data.shape}\"\"\")\n",
        "\n",
        "# Select features\n",
        "x_train, x_valid, x_test, y_train, y_valid = select_feat(train_data, valid_data, test_data, config['select_all'])\n",
        "\n",
        "# Print out the number of features.\n",
        "print(f'number of features: {x_train.shape[1]}')\n",
        "\n",
        "train_dataset, valid_dataset, test_dataset = COVID19Dataset(x_train, y_train), \\\n",
        "                                            COVID19Dataset(x_valid, y_valid), \\\n",
        "                                            COVID19Dataset(x_test)\n",
        "\n",
        "# Pytorch data loader loads pytorch dataset into batches.\n",
        "train_loader = DataLoader(train_dataset, batch_size=config['batch_size'], shuffle=True, pin_memory=True)\n",
        "valid_loader = DataLoader(valid_dataset, batch_size=config['batch_size'], shuffle=True, pin_memory=True)\n",
        "test_loader = DataLoader(test_dataset, batch_size=config['batch_size'], shuffle=False, pin_memory=True)"
      ]
    },
    {
      "cell_type": "markdown",
      "metadata": {
        "id": "0OBYgjCA-YwD"
      },
      "source": [
        "# Start training!"
      ]
    },
    {
      "cell_type": "code",
      "execution_count": 145,
      "metadata": {
        "colab": {
          "base_uri": "https://localhost:8080/"
        },
        "id": "YdttVRkAfu2t",
        "outputId": "8914f863-7cce-4c59-9fd0-61073412e053"
      },
      "outputs": [
        {
          "output_type": "stream",
          "name": "stderr",
          "text": [
            "Epoch [1/10000]: 100%|██████████| 14/14 [00:00<00:00, 78.80it/s, loss=15.1]\n"
          ]
        },
        {
          "output_type": "stream",
          "name": "stdout",
          "text": [
            "Epoch [1/10000]: Train loss: 33.8698, Valid loss: 14.0467\n",
            "Saving model with loss 14.047...\n"
          ]
        },
        {
          "output_type": "stream",
          "name": "stderr",
          "text": [
            "Epoch [2/10000]: 100%|██████████| 14/14 [00:00<00:00, 87.77it/s, loss=6.98]\n"
          ]
        },
        {
          "output_type": "stream",
          "name": "stdout",
          "text": [
            "Epoch [2/10000]: Train loss: 9.7292, Valid loss: 7.9416\n",
            "Saving model with loss 7.942...\n"
          ]
        },
        {
          "output_type": "stream",
          "name": "stderr",
          "text": [
            "Epoch [3/10000]: 100%|██████████| 14/14 [00:00<00:00, 83.55it/s, loss=3.36]\n"
          ]
        },
        {
          "output_type": "stream",
          "name": "stdout",
          "text": [
            "Epoch [3/10000]: Train loss: 6.2986, Valid loss: 5.2645\n",
            "Saving model with loss 5.265...\n"
          ]
        },
        {
          "output_type": "stream",
          "name": "stderr",
          "text": [
            "Epoch [4/10000]: 100%|██████████| 14/14 [00:00<00:00, 82.69it/s, loss=4.71]\n"
          ]
        },
        {
          "output_type": "stream",
          "name": "stdout",
          "text": [
            "Epoch [4/10000]: Train loss: 5.2581, Valid loss: 4.3513\n",
            "Saving model with loss 4.351...\n"
          ]
        },
        {
          "output_type": "stream",
          "name": "stderr",
          "text": [
            "Epoch [5/10000]: 100%|██████████| 14/14 [00:00<00:00, 86.32it/s, loss=4.57]\n"
          ]
        },
        {
          "output_type": "stream",
          "name": "stdout",
          "text": [
            "Epoch [5/10000]: Train loss: 4.2080, Valid loss: 3.1434\n",
            "Saving model with loss 3.143...\n"
          ]
        },
        {
          "output_type": "stream",
          "name": "stderr",
          "text": [
            "Epoch [6/10000]: 100%|██████████| 14/14 [00:00<00:00, 81.83it/s, loss=3.32]\n"
          ]
        },
        {
          "output_type": "stream",
          "name": "stdout",
          "text": [
            "Epoch [6/10000]: Train loss: 3.0035, Valid loss: 2.3474\n",
            "Saving model with loss 2.347...\n"
          ]
        },
        {
          "output_type": "stream",
          "name": "stderr",
          "text": [
            "Epoch [7/10000]: 100%|██████████| 14/14 [00:00<00:00, 77.78it/s, loss=2.06]\n"
          ]
        },
        {
          "output_type": "stream",
          "name": "stdout",
          "text": [
            "Epoch [7/10000]: Train loss: 2.3062, Valid loss: 2.0889\n",
            "Saving model with loss 2.089...\n"
          ]
        },
        {
          "output_type": "stream",
          "name": "stderr",
          "text": [
            "Epoch [8/10000]: 100%|██████████| 14/14 [00:00<00:00, 80.60it/s, loss=1.97]\n"
          ]
        },
        {
          "output_type": "stream",
          "name": "stdout",
          "text": [
            "Epoch [8/10000]: Train loss: 1.9578, Valid loss: 2.0384\n",
            "Saving model with loss 2.038...\n"
          ]
        },
        {
          "output_type": "stream",
          "name": "stderr",
          "text": [
            "Epoch [9/10000]: 100%|██████████| 14/14 [00:00<00:00, 81.88it/s, loss=2.32]\n"
          ]
        },
        {
          "output_type": "stream",
          "name": "stdout",
          "text": [
            "Epoch [9/10000]: Train loss: 1.9211, Valid loss: 1.8446\n",
            "Saving model with loss 1.845...\n"
          ]
        },
        {
          "output_type": "stream",
          "name": "stderr",
          "text": [
            "Epoch [10/10000]: 100%|██████████| 14/14 [00:00<00:00, 83.45it/s, loss=1.74]\n"
          ]
        },
        {
          "output_type": "stream",
          "name": "stdout",
          "text": [
            "Epoch [10/10000]: Train loss: 1.8316, Valid loss: 1.8197\n",
            "Saving model with loss 1.820...\n"
          ]
        },
        {
          "output_type": "stream",
          "name": "stderr",
          "text": [
            "Epoch [11/10000]: 100%|██████████| 14/14 [00:00<00:00, 83.76it/s, loss=2.01]\n"
          ]
        },
        {
          "output_type": "stream",
          "name": "stdout",
          "text": [
            "Epoch [11/10000]: Train loss: 1.7848, Valid loss: 1.9465\n"
          ]
        },
        {
          "output_type": "stream",
          "name": "stderr",
          "text": [
            "Epoch [12/10000]: 100%|██████████| 14/14 [00:00<00:00, 81.02it/s, loss=1.29]\n"
          ]
        },
        {
          "output_type": "stream",
          "name": "stdout",
          "text": [
            "Epoch [12/10000]: Train loss: 1.7090, Valid loss: 1.7016\n",
            "Saving model with loss 1.702...\n"
          ]
        },
        {
          "output_type": "stream",
          "name": "stderr",
          "text": [
            "Epoch [13/10000]: 100%|██████████| 14/14 [00:00<00:00, 83.66it/s, loss=2.3]\n"
          ]
        },
        {
          "output_type": "stream",
          "name": "stdout",
          "text": [
            "Epoch [13/10000]: Train loss: 1.6833, Valid loss: 1.7298\n"
          ]
        },
        {
          "output_type": "stream",
          "name": "stderr",
          "text": [
            "Epoch [14/10000]: 100%|██████████| 14/14 [00:00<00:00, 88.08it/s, loss=2.14]\n"
          ]
        },
        {
          "output_type": "stream",
          "name": "stdout",
          "text": [
            "Epoch [14/10000]: Train loss: 1.6695, Valid loss: 1.6226\n",
            "Saving model with loss 1.623...\n"
          ]
        },
        {
          "output_type": "stream",
          "name": "stderr",
          "text": [
            "Epoch [15/10000]: 100%|██████████| 14/14 [00:00<00:00, 82.93it/s, loss=2.23]\n"
          ]
        },
        {
          "output_type": "stream",
          "name": "stdout",
          "text": [
            "Epoch [15/10000]: Train loss: 1.5988, Valid loss: 1.5624\n",
            "Saving model with loss 1.562...\n"
          ]
        },
        {
          "output_type": "stream",
          "name": "stderr",
          "text": [
            "Epoch [16/10000]: 100%|██████████| 14/14 [00:00<00:00, 85.04it/s, loss=1.14]\n"
          ]
        },
        {
          "output_type": "stream",
          "name": "stdout",
          "text": [
            "Epoch [16/10000]: Train loss: 1.6495, Valid loss: 1.6894\n"
          ]
        },
        {
          "output_type": "stream",
          "name": "stderr",
          "text": [
            "Epoch [17/10000]: 100%|██████████| 14/14 [00:00<00:00, 82.58it/s, loss=1.75]\n"
          ]
        },
        {
          "output_type": "stream",
          "name": "stdout",
          "text": [
            "Epoch [17/10000]: Train loss: 1.6026, Valid loss: 1.4671\n",
            "Saving model with loss 1.467...\n"
          ]
        },
        {
          "output_type": "stream",
          "name": "stderr",
          "text": [
            "Epoch [18/10000]: 100%|██████████| 14/14 [00:00<00:00, 83.35it/s, loss=1.54]\n"
          ]
        },
        {
          "output_type": "stream",
          "name": "stdout",
          "text": [
            "Epoch [18/10000]: Train loss: 1.4867, Valid loss: 1.4659\n",
            "Saving model with loss 1.466...\n"
          ]
        },
        {
          "output_type": "stream",
          "name": "stderr",
          "text": [
            "Epoch [19/10000]: 100%|██████████| 14/14 [00:00<00:00, 81.54it/s, loss=1.4]\n"
          ]
        },
        {
          "output_type": "stream",
          "name": "stdout",
          "text": [
            "Epoch [19/10000]: Train loss: 1.4590, Valid loss: 1.3776\n",
            "Saving model with loss 1.378...\n"
          ]
        },
        {
          "output_type": "stream",
          "name": "stderr",
          "text": [
            "Epoch [20/10000]: 100%|██████████| 14/14 [00:00<00:00, 86.95it/s, loss=1.42]\n"
          ]
        },
        {
          "output_type": "stream",
          "name": "stdout",
          "text": [
            "Epoch [20/10000]: Train loss: 1.4631, Valid loss: 1.4488\n"
          ]
        },
        {
          "output_type": "stream",
          "name": "stderr",
          "text": [
            "Epoch [21/10000]: 100%|██████████| 14/14 [00:00<00:00, 84.10it/s, loss=1.1]\n"
          ]
        },
        {
          "output_type": "stream",
          "name": "stdout",
          "text": [
            "Epoch [21/10000]: Train loss: 1.3662, Valid loss: 1.3592\n",
            "Saving model with loss 1.359...\n"
          ]
        },
        {
          "output_type": "stream",
          "name": "stderr",
          "text": [
            "Epoch [22/10000]: 100%|██████████| 14/14 [00:00<00:00, 83.72it/s, loss=1.17]\n"
          ]
        },
        {
          "output_type": "stream",
          "name": "stdout",
          "text": [
            "Epoch [22/10000]: Train loss: 1.3674, Valid loss: 1.3828\n"
          ]
        },
        {
          "output_type": "stream",
          "name": "stderr",
          "text": [
            "Epoch [23/10000]: 100%|██████████| 14/14 [00:00<00:00, 79.73it/s, loss=1.47]\n"
          ]
        },
        {
          "output_type": "stream",
          "name": "stdout",
          "text": [
            "Epoch [23/10000]: Train loss: 1.3336, Valid loss: 1.3383\n",
            "Saving model with loss 1.338...\n"
          ]
        },
        {
          "output_type": "stream",
          "name": "stderr",
          "text": [
            "Epoch [24/10000]: 100%|██████████| 14/14 [00:00<00:00, 82.05it/s, loss=1.27]\n"
          ]
        },
        {
          "output_type": "stream",
          "name": "stdout",
          "text": [
            "Epoch [24/10000]: Train loss: 1.2995, Valid loss: 1.5693\n"
          ]
        },
        {
          "output_type": "stream",
          "name": "stderr",
          "text": [
            "Epoch [25/10000]: 100%|██████████| 14/14 [00:00<00:00, 86.53it/s, loss=1.03]\n"
          ]
        },
        {
          "output_type": "stream",
          "name": "stdout",
          "text": [
            "Epoch [25/10000]: Train loss: 1.3058, Valid loss: 1.3132\n",
            "Saving model with loss 1.313...\n"
          ]
        },
        {
          "output_type": "stream",
          "name": "stderr",
          "text": [
            "Epoch [26/10000]: 100%|██████████| 14/14 [00:00<00:00, 83.28it/s, loss=2.16]\n"
          ]
        },
        {
          "output_type": "stream",
          "name": "stdout",
          "text": [
            "Epoch [26/10000]: Train loss: 1.3820, Valid loss: 1.2523\n",
            "Saving model with loss 1.252...\n"
          ]
        },
        {
          "output_type": "stream",
          "name": "stderr",
          "text": [
            "Epoch [27/10000]: 100%|██████████| 14/14 [00:00<00:00, 86.09it/s, loss=0.762]\n"
          ]
        },
        {
          "output_type": "stream",
          "name": "stdout",
          "text": [
            "Epoch [27/10000]: Train loss: 1.2682, Valid loss: 1.2459\n",
            "Saving model with loss 1.246...\n"
          ]
        },
        {
          "output_type": "stream",
          "name": "stderr",
          "text": [
            "Epoch [28/10000]: 100%|██████████| 14/14 [00:00<00:00, 78.72it/s, loss=1.08]\n"
          ]
        },
        {
          "output_type": "stream",
          "name": "stdout",
          "text": [
            "Epoch [28/10000]: Train loss: 1.2831, Valid loss: 1.2016\n",
            "Saving model with loss 1.202...\n"
          ]
        },
        {
          "output_type": "stream",
          "name": "stderr",
          "text": [
            "Epoch [29/10000]: 100%|██████████| 14/14 [00:00<00:00, 78.59it/s, loss=1.79]\n"
          ]
        },
        {
          "output_type": "stream",
          "name": "stdout",
          "text": [
            "Epoch [29/10000]: Train loss: 1.3013, Valid loss: 1.3916\n"
          ]
        },
        {
          "output_type": "stream",
          "name": "stderr",
          "text": [
            "Epoch [30/10000]: 100%|██████████| 14/14 [00:00<00:00, 82.45it/s, loss=0.968]\n"
          ]
        },
        {
          "output_type": "stream",
          "name": "stdout",
          "text": [
            "Epoch [30/10000]: Train loss: 1.2521, Valid loss: 1.2326\n"
          ]
        },
        {
          "output_type": "stream",
          "name": "stderr",
          "text": [
            "Epoch [31/10000]: 100%|██████████| 14/14 [00:00<00:00, 86.31it/s, loss=1.31]\n"
          ]
        },
        {
          "output_type": "stream",
          "name": "stdout",
          "text": [
            "Epoch [31/10000]: Train loss: 1.2264, Valid loss: 1.2783\n"
          ]
        },
        {
          "output_type": "stream",
          "name": "stderr",
          "text": [
            "Epoch [32/10000]: 100%|██████████| 14/14 [00:00<00:00, 80.20it/s, loss=0.759]\n"
          ]
        },
        {
          "output_type": "stream",
          "name": "stdout",
          "text": [
            "Epoch [32/10000]: Train loss: 1.2050, Valid loss: 1.3020\n"
          ]
        },
        {
          "output_type": "stream",
          "name": "stderr",
          "text": [
            "Epoch [33/10000]: 100%|██████████| 14/14 [00:00<00:00, 77.33it/s, loss=1.06]\n"
          ]
        },
        {
          "output_type": "stream",
          "name": "stdout",
          "text": [
            "Epoch [33/10000]: Train loss: 1.2007, Valid loss: 1.2191\n"
          ]
        },
        {
          "output_type": "stream",
          "name": "stderr",
          "text": [
            "Epoch [34/10000]: 100%|██████████| 14/14 [00:00<00:00, 77.65it/s, loss=1.11]\n"
          ]
        },
        {
          "output_type": "stream",
          "name": "stdout",
          "text": [
            "Epoch [34/10000]: Train loss: 1.2114, Valid loss: 1.2108\n"
          ]
        },
        {
          "output_type": "stream",
          "name": "stderr",
          "text": [
            "Epoch [35/10000]: 100%|██████████| 14/14 [00:00<00:00, 86.00it/s, loss=1.42]\n"
          ]
        },
        {
          "output_type": "stream",
          "name": "stdout",
          "text": [
            "Epoch [35/10000]: Train loss: 1.2541, Valid loss: 1.2011\n",
            "Saving model with loss 1.201...\n"
          ]
        },
        {
          "output_type": "stream",
          "name": "stderr",
          "text": [
            "Epoch [36/10000]: 100%|██████████| 14/14 [00:00<00:00, 87.06it/s, loss=1.34]\n"
          ]
        },
        {
          "output_type": "stream",
          "name": "stdout",
          "text": [
            "Epoch [36/10000]: Train loss: 1.2089, Valid loss: 1.2023\n"
          ]
        },
        {
          "output_type": "stream",
          "name": "stderr",
          "text": [
            "Epoch [37/10000]: 100%|██████████| 14/14 [00:00<00:00, 80.49it/s, loss=1.33]\n"
          ]
        },
        {
          "output_type": "stream",
          "name": "stdout",
          "text": [
            "Epoch [37/10000]: Train loss: 1.1907, Valid loss: 1.2416\n"
          ]
        },
        {
          "output_type": "stream",
          "name": "stderr",
          "text": [
            "Epoch [38/10000]: 100%|██████████| 14/14 [00:00<00:00, 80.78it/s, loss=0.938]"
          ]
        },
        {
          "output_type": "stream",
          "name": "stdout",
          "text": [
            "Epoch [38/10000]: Train loss: 1.1780, Valid loss: 1.1862\n"
          ]
        },
        {
          "output_type": "stream",
          "name": "stderr",
          "text": [
            "\n"
          ]
        },
        {
          "output_type": "stream",
          "name": "stdout",
          "text": [
            "Saving model with loss 1.186...\n"
          ]
        },
        {
          "output_type": "stream",
          "name": "stderr",
          "text": [
            "Epoch [39/10000]: 100%|██████████| 14/14 [00:00<00:00, 86.44it/s, loss=0.953]\n"
          ]
        },
        {
          "output_type": "stream",
          "name": "stdout",
          "text": [
            "Epoch [39/10000]: Train loss: 1.2434, Valid loss: 1.3320\n"
          ]
        },
        {
          "output_type": "stream",
          "name": "stderr",
          "text": [
            "Epoch [40/10000]: 100%|██████████| 14/14 [00:00<00:00, 83.16it/s, loss=0.806]\n"
          ]
        },
        {
          "output_type": "stream",
          "name": "stdout",
          "text": [
            "Epoch [40/10000]: Train loss: 1.2389, Valid loss: 1.2591\n"
          ]
        },
        {
          "output_type": "stream",
          "name": "stderr",
          "text": [
            "Epoch [41/10000]: 100%|██████████| 14/14 [00:00<00:00, 78.39it/s, loss=1.64]\n"
          ]
        },
        {
          "output_type": "stream",
          "name": "stdout",
          "text": [
            "Epoch [41/10000]: Train loss: 1.2789, Valid loss: 1.1845\n",
            "Saving model with loss 1.185...\n"
          ]
        },
        {
          "output_type": "stream",
          "name": "stderr",
          "text": [
            "Epoch [42/10000]: 100%|██████████| 14/14 [00:00<00:00, 83.40it/s, loss=0.987]\n"
          ]
        },
        {
          "output_type": "stream",
          "name": "stdout",
          "text": [
            "Epoch [42/10000]: Train loss: 1.1763, Valid loss: 1.1526\n",
            "Saving model with loss 1.153...\n"
          ]
        },
        {
          "output_type": "stream",
          "name": "stderr",
          "text": [
            "Epoch [43/10000]: 100%|██████████| 14/14 [00:00<00:00, 76.24it/s, loss=0.987]\n"
          ]
        },
        {
          "output_type": "stream",
          "name": "stdout",
          "text": [
            "Epoch [43/10000]: Train loss: 1.1900, Valid loss: 1.2011\n"
          ]
        },
        {
          "output_type": "stream",
          "name": "stderr",
          "text": [
            "Epoch [44/10000]: 100%|██████████| 14/14 [00:00<00:00, 78.98it/s, loss=1.13]"
          ]
        },
        {
          "output_type": "stream",
          "name": "stdout",
          "text": [
            "Epoch [44/10000]: Train loss: 1.1838, Valid loss: 1.1312\n"
          ]
        },
        {
          "output_type": "stream",
          "name": "stderr",
          "text": [
            "\n"
          ]
        },
        {
          "output_type": "stream",
          "name": "stdout",
          "text": [
            "Saving model with loss 1.131...\n"
          ]
        },
        {
          "output_type": "stream",
          "name": "stderr",
          "text": [
            "Epoch [45/10000]: 100%|██████████| 14/14 [00:00<00:00, 79.75it/s, loss=1.37]\n"
          ]
        },
        {
          "output_type": "stream",
          "name": "stdout",
          "text": [
            "Epoch [45/10000]: Train loss: 1.1916, Valid loss: 1.2862\n"
          ]
        },
        {
          "output_type": "stream",
          "name": "stderr",
          "text": [
            "Epoch [46/10000]: 100%|██████████| 14/14 [00:00<00:00, 74.52it/s, loss=0.658]\n"
          ]
        },
        {
          "output_type": "stream",
          "name": "stdout",
          "text": [
            "Epoch [46/10000]: Train loss: 1.1941, Valid loss: 1.1684\n"
          ]
        },
        {
          "output_type": "stream",
          "name": "stderr",
          "text": [
            "Epoch [47/10000]: 100%|██████████| 14/14 [00:00<00:00, 80.64it/s, loss=1.05]\n"
          ]
        },
        {
          "output_type": "stream",
          "name": "stdout",
          "text": [
            "Epoch [47/10000]: Train loss: 1.1662, Valid loss: 1.1493\n"
          ]
        },
        {
          "output_type": "stream",
          "name": "stderr",
          "text": [
            "Epoch [48/10000]: 100%|██████████| 14/14 [00:00<00:00, 77.20it/s, loss=1.55]"
          ]
        },
        {
          "output_type": "stream",
          "name": "stdout",
          "text": [
            "Epoch [48/10000]: Train loss: 1.2275, Valid loss: 1.1235\n"
          ]
        },
        {
          "output_type": "stream",
          "name": "stderr",
          "text": [
            "\n"
          ]
        },
        {
          "output_type": "stream",
          "name": "stdout",
          "text": [
            "Saving model with loss 1.124...\n"
          ]
        },
        {
          "output_type": "stream",
          "name": "stderr",
          "text": [
            "Epoch [49/10000]: 100%|██████████| 14/14 [00:00<00:00, 70.86it/s, loss=1.36]\n"
          ]
        },
        {
          "output_type": "stream",
          "name": "stdout",
          "text": [
            "Epoch [49/10000]: Train loss: 1.2238, Valid loss: 1.2192\n"
          ]
        },
        {
          "output_type": "stream",
          "name": "stderr",
          "text": [
            "Epoch [50/10000]: 100%|██████████| 14/14 [00:00<00:00, 80.89it/s, loss=0.868]\n"
          ]
        },
        {
          "output_type": "stream",
          "name": "stdout",
          "text": [
            "Epoch [50/10000]: Train loss: 1.1579, Valid loss: 1.1568\n"
          ]
        },
        {
          "output_type": "stream",
          "name": "stderr",
          "text": [
            "Epoch [51/10000]: 100%|██████████| 14/14 [00:00<00:00, 79.02it/s, loss=1.21]\n"
          ]
        },
        {
          "output_type": "stream",
          "name": "stdout",
          "text": [
            "Epoch [51/10000]: Train loss: 1.1677, Valid loss: 1.1492\n"
          ]
        },
        {
          "output_type": "stream",
          "name": "stderr",
          "text": [
            "Epoch [52/10000]: 100%|██████████| 14/14 [00:00<00:00, 77.70it/s, loss=1.04]\n"
          ]
        },
        {
          "output_type": "stream",
          "name": "stdout",
          "text": [
            "Epoch [52/10000]: Train loss: 1.1846, Valid loss: 1.1859\n"
          ]
        },
        {
          "output_type": "stream",
          "name": "stderr",
          "text": [
            "Epoch [53/10000]: 100%|██████████| 14/14 [00:00<00:00, 83.04it/s, loss=1.37]\n"
          ]
        },
        {
          "output_type": "stream",
          "name": "stdout",
          "text": [
            "Epoch [53/10000]: Train loss: 1.2283, Valid loss: 1.1946\n"
          ]
        },
        {
          "output_type": "stream",
          "name": "stderr",
          "text": [
            "Epoch [54/10000]: 100%|██████████| 14/14 [00:00<00:00, 83.78it/s, loss=1.21]\n"
          ]
        },
        {
          "output_type": "stream",
          "name": "stdout",
          "text": [
            "Epoch [54/10000]: Train loss: 1.2442, Valid loss: 1.1376\n"
          ]
        },
        {
          "output_type": "stream",
          "name": "stderr",
          "text": [
            "Epoch [55/10000]: 100%|██████████| 14/14 [00:00<00:00, 80.70it/s, loss=1.23]\n"
          ]
        },
        {
          "output_type": "stream",
          "name": "stdout",
          "text": [
            "Epoch [55/10000]: Train loss: 1.2161, Valid loss: 1.1291\n"
          ]
        },
        {
          "output_type": "stream",
          "name": "stderr",
          "text": [
            "Epoch [56/10000]: 100%|██████████| 14/14 [00:00<00:00, 83.43it/s, loss=1.1]\n"
          ]
        },
        {
          "output_type": "stream",
          "name": "stdout",
          "text": [
            "Epoch [56/10000]: Train loss: 1.2366, Valid loss: 1.1713\n"
          ]
        },
        {
          "output_type": "stream",
          "name": "stderr",
          "text": [
            "Epoch [57/10000]: 100%|██████████| 14/14 [00:00<00:00, 79.44it/s, loss=1.24]\n"
          ]
        },
        {
          "output_type": "stream",
          "name": "stdout",
          "text": [
            "Epoch [57/10000]: Train loss: 1.2271, Valid loss: 1.1656\n"
          ]
        },
        {
          "output_type": "stream",
          "name": "stderr",
          "text": [
            "Epoch [58/10000]: 100%|██████████| 14/14 [00:00<00:00, 74.46it/s, loss=1.89]\n"
          ]
        },
        {
          "output_type": "stream",
          "name": "stdout",
          "text": [
            "Epoch [58/10000]: Train loss: 1.1808, Valid loss: 1.1531\n"
          ]
        },
        {
          "output_type": "stream",
          "name": "stderr",
          "text": [
            "Epoch [59/10000]: 100%|██████████| 14/14 [00:00<00:00, 81.34it/s, loss=1.28]\n"
          ]
        },
        {
          "output_type": "stream",
          "name": "stdout",
          "text": [
            "Epoch [59/10000]: Train loss: 1.1693, Valid loss: 1.2177\n"
          ]
        },
        {
          "output_type": "stream",
          "name": "stderr",
          "text": [
            "Epoch [60/10000]: 100%|██████████| 14/14 [00:00<00:00, 83.63it/s, loss=0.632]\n"
          ]
        },
        {
          "output_type": "stream",
          "name": "stdout",
          "text": [
            "Epoch [60/10000]: Train loss: 1.1704, Valid loss: 1.1387\n"
          ]
        },
        {
          "output_type": "stream",
          "name": "stderr",
          "text": [
            "Epoch [61/10000]: 100%|██████████| 14/14 [00:00<00:00, 82.60it/s, loss=1.15]\n"
          ]
        },
        {
          "output_type": "stream",
          "name": "stdout",
          "text": [
            "Epoch [61/10000]: Train loss: 1.1831, Valid loss: 1.1889\n"
          ]
        },
        {
          "output_type": "stream",
          "name": "stderr",
          "text": [
            "Epoch [62/10000]: 100%|██████████| 14/14 [00:00<00:00, 76.87it/s, loss=0.792]\n"
          ]
        },
        {
          "output_type": "stream",
          "name": "stdout",
          "text": [
            "Epoch [62/10000]: Train loss: 1.2659, Valid loss: 1.3063\n"
          ]
        },
        {
          "output_type": "stream",
          "name": "stderr",
          "text": [
            "Epoch [63/10000]: 100%|██████████| 14/14 [00:00<00:00, 87.17it/s, loss=1.36]\n"
          ]
        },
        {
          "output_type": "stream",
          "name": "stdout",
          "text": [
            "Epoch [63/10000]: Train loss: 1.2533, Valid loss: 1.1095\n",
            "Saving model with loss 1.110...\n"
          ]
        },
        {
          "output_type": "stream",
          "name": "stderr",
          "text": [
            "Epoch [64/10000]: 100%|██████████| 14/14 [00:00<00:00, 86.93it/s, loss=0.957]\n"
          ]
        },
        {
          "output_type": "stream",
          "name": "stdout",
          "text": [
            "Epoch [64/10000]: Train loss: 1.1613, Valid loss: 1.1576\n"
          ]
        },
        {
          "output_type": "stream",
          "name": "stderr",
          "text": [
            "Epoch [65/10000]: 100%|██████████| 14/14 [00:00<00:00, 84.16it/s, loss=1.64]\n"
          ]
        },
        {
          "output_type": "stream",
          "name": "stdout",
          "text": [
            "Epoch [65/10000]: Train loss: 1.2166, Valid loss: 1.1343\n"
          ]
        },
        {
          "output_type": "stream",
          "name": "stderr",
          "text": [
            "Epoch [66/10000]: 100%|██████████| 14/14 [00:00<00:00, 84.86it/s, loss=1.41]\n"
          ]
        },
        {
          "output_type": "stream",
          "name": "stdout",
          "text": [
            "Epoch [66/10000]: Train loss: 1.1617, Valid loss: 1.2524\n"
          ]
        },
        {
          "output_type": "stream",
          "name": "stderr",
          "text": [
            "Epoch [67/10000]: 100%|██████████| 14/14 [00:00<00:00, 87.39it/s, loss=1.38]\n"
          ]
        },
        {
          "output_type": "stream",
          "name": "stdout",
          "text": [
            "Epoch [67/10000]: Train loss: 1.2582, Valid loss: 1.3241\n"
          ]
        },
        {
          "output_type": "stream",
          "name": "stderr",
          "text": [
            "Epoch [68/10000]: 100%|██████████| 14/14 [00:00<00:00, 87.42it/s, loss=1.43]\n"
          ]
        },
        {
          "output_type": "stream",
          "name": "stdout",
          "text": [
            "Epoch [68/10000]: Train loss: 1.2258, Valid loss: 1.1533\n"
          ]
        },
        {
          "output_type": "stream",
          "name": "stderr",
          "text": [
            "Epoch [69/10000]: 100%|██████████| 14/14 [00:00<00:00, 84.54it/s, loss=1.13]\n"
          ]
        },
        {
          "output_type": "stream",
          "name": "stdout",
          "text": [
            "Epoch [69/10000]: Train loss: 1.1795, Valid loss: 1.1703\n"
          ]
        },
        {
          "output_type": "stream",
          "name": "stderr",
          "text": [
            "Epoch [70/10000]: 100%|██████████| 14/14 [00:00<00:00, 85.28it/s, loss=1.72]\n"
          ]
        },
        {
          "output_type": "stream",
          "name": "stdout",
          "text": [
            "Epoch [70/10000]: Train loss: 1.2191, Valid loss: 1.1510\n"
          ]
        },
        {
          "output_type": "stream",
          "name": "stderr",
          "text": [
            "Epoch [71/10000]: 100%|██████████| 14/14 [00:00<00:00, 81.74it/s, loss=1.04]\n"
          ]
        },
        {
          "output_type": "stream",
          "name": "stdout",
          "text": [
            "Epoch [71/10000]: Train loss: 1.1946, Valid loss: 1.2528\n"
          ]
        },
        {
          "output_type": "stream",
          "name": "stderr",
          "text": [
            "Epoch [72/10000]: 100%|██████████| 14/14 [00:00<00:00, 79.27it/s, loss=0.883]\n"
          ]
        },
        {
          "output_type": "stream",
          "name": "stdout",
          "text": [
            "Epoch [72/10000]: Train loss: 1.1943, Valid loss: 1.1620\n"
          ]
        },
        {
          "output_type": "stream",
          "name": "stderr",
          "text": [
            "Epoch [73/10000]: 100%|██████████| 14/14 [00:00<00:00, 75.32it/s, loss=2]\n"
          ]
        },
        {
          "output_type": "stream",
          "name": "stdout",
          "text": [
            "Epoch [73/10000]: Train loss: 1.2307, Valid loss: 1.1149\n"
          ]
        },
        {
          "output_type": "stream",
          "name": "stderr",
          "text": [
            "Epoch [74/10000]: 100%|██████████| 14/14 [00:00<00:00, 71.33it/s, loss=1.39]\n"
          ]
        },
        {
          "output_type": "stream",
          "name": "stdout",
          "text": [
            "Epoch [74/10000]: Train loss: 1.1915, Valid loss: 1.1910\n"
          ]
        },
        {
          "output_type": "stream",
          "name": "stderr",
          "text": [
            "Epoch [75/10000]: 100%|██████████| 14/14 [00:00<00:00, 80.00it/s, loss=1.23]\n"
          ]
        },
        {
          "output_type": "stream",
          "name": "stdout",
          "text": [
            "Epoch [75/10000]: Train loss: 1.2146, Valid loss: 1.2156\n"
          ]
        },
        {
          "output_type": "stream",
          "name": "stderr",
          "text": [
            "Epoch [76/10000]: 100%|██████████| 14/14 [00:00<00:00, 78.41it/s, loss=1.13]\n"
          ]
        },
        {
          "output_type": "stream",
          "name": "stdout",
          "text": [
            "Epoch [76/10000]: Train loss: 1.1841, Valid loss: 1.1347\n"
          ]
        },
        {
          "output_type": "stream",
          "name": "stderr",
          "text": [
            "Epoch [77/10000]: 100%|██████████| 14/14 [00:00<00:00, 82.23it/s, loss=1.05]\n"
          ]
        },
        {
          "output_type": "stream",
          "name": "stdout",
          "text": [
            "Epoch [77/10000]: Train loss: 1.1524, Valid loss: 1.1499\n"
          ]
        },
        {
          "output_type": "stream",
          "name": "stderr",
          "text": [
            "Epoch [78/10000]: 100%|██████████| 14/14 [00:00<00:00, 74.74it/s, loss=1.26]\n"
          ]
        },
        {
          "output_type": "stream",
          "name": "stdout",
          "text": [
            "Epoch [78/10000]: Train loss: 1.1706, Valid loss: 1.2232\n"
          ]
        },
        {
          "output_type": "stream",
          "name": "stderr",
          "text": [
            "Epoch [79/10000]: 100%|██████████| 14/14 [00:00<00:00, 82.23it/s, loss=1.31]\n"
          ]
        },
        {
          "output_type": "stream",
          "name": "stdout",
          "text": [
            "Epoch [79/10000]: Train loss: 1.1933, Valid loss: 1.2657\n"
          ]
        },
        {
          "output_type": "stream",
          "name": "stderr",
          "text": [
            "Epoch [80/10000]: 100%|██████████| 14/14 [00:00<00:00, 81.30it/s, loss=0.933]\n"
          ]
        },
        {
          "output_type": "stream",
          "name": "stdout",
          "text": [
            "Epoch [80/10000]: Train loss: 1.1652, Valid loss: 1.2003\n"
          ]
        },
        {
          "output_type": "stream",
          "name": "stderr",
          "text": [
            "Epoch [81/10000]: 100%|██████████| 14/14 [00:00<00:00, 93.24it/s, loss=1.04]\n"
          ]
        },
        {
          "output_type": "stream",
          "name": "stdout",
          "text": [
            "Epoch [81/10000]: Train loss: 1.1822, Valid loss: 1.1619\n"
          ]
        },
        {
          "output_type": "stream",
          "name": "stderr",
          "text": [
            "Epoch [82/10000]: 100%|██████████| 14/14 [00:00<00:00, 94.36it/s, loss=1.24]\n"
          ]
        },
        {
          "output_type": "stream",
          "name": "stdout",
          "text": [
            "Epoch [82/10000]: Train loss: 1.2071, Valid loss: 1.1377\n"
          ]
        },
        {
          "output_type": "stream",
          "name": "stderr",
          "text": [
            "Epoch [83/10000]: 100%|██████████| 14/14 [00:00<00:00, 90.93it/s, loss=1.86]\n"
          ]
        },
        {
          "output_type": "stream",
          "name": "stdout",
          "text": [
            "Epoch [83/10000]: Train loss: 1.1715, Valid loss: 1.1893\n"
          ]
        },
        {
          "output_type": "stream",
          "name": "stderr",
          "text": [
            "Epoch [84/10000]: 100%|██████████| 14/14 [00:00<00:00, 89.98it/s, loss=1.33]\n"
          ]
        },
        {
          "output_type": "stream",
          "name": "stdout",
          "text": [
            "Epoch [84/10000]: Train loss: 1.1421, Valid loss: 1.1416\n"
          ]
        },
        {
          "output_type": "stream",
          "name": "stderr",
          "text": [
            "Epoch [85/10000]: 100%|██████████| 14/14 [00:00<00:00, 92.40it/s, loss=1.25]\n"
          ]
        },
        {
          "output_type": "stream",
          "name": "stdout",
          "text": [
            "Epoch [85/10000]: Train loss: 1.1480, Valid loss: 1.1880\n"
          ]
        },
        {
          "output_type": "stream",
          "name": "stderr",
          "text": [
            "Epoch [86/10000]: 100%|██████████| 14/14 [00:00<00:00, 89.06it/s, loss=1.55]\n"
          ]
        },
        {
          "output_type": "stream",
          "name": "stdout",
          "text": [
            "Epoch [86/10000]: Train loss: 1.1818, Valid loss: 1.1172\n"
          ]
        },
        {
          "output_type": "stream",
          "name": "stderr",
          "text": [
            "Epoch [87/10000]: 100%|██████████| 14/14 [00:00<00:00, 91.01it/s, loss=1.09]\n"
          ]
        },
        {
          "output_type": "stream",
          "name": "stdout",
          "text": [
            "Epoch [87/10000]: Train loss: 1.1344, Valid loss: 1.1827\n"
          ]
        },
        {
          "output_type": "stream",
          "name": "stderr",
          "text": [
            "Epoch [88/10000]: 100%|██████████| 14/14 [00:00<00:00, 78.60it/s, loss=1.4]\n"
          ]
        },
        {
          "output_type": "stream",
          "name": "stdout",
          "text": [
            "Epoch [88/10000]: Train loss: 1.1694, Valid loss: 1.1189\n"
          ]
        },
        {
          "output_type": "stream",
          "name": "stderr",
          "text": [
            "Epoch [89/10000]: 100%|██████████| 14/14 [00:00<00:00, 79.41it/s, loss=1.35]\n"
          ]
        },
        {
          "output_type": "stream",
          "name": "stdout",
          "text": [
            "Epoch [89/10000]: Train loss: 1.1655, Valid loss: 1.1505\n"
          ]
        },
        {
          "output_type": "stream",
          "name": "stderr",
          "text": [
            "Epoch [90/10000]: 100%|██████████| 14/14 [00:00<00:00, 81.44it/s, loss=1.64]\n"
          ]
        },
        {
          "output_type": "stream",
          "name": "stdout",
          "text": [
            "Epoch [90/10000]: Train loss: 1.2022, Valid loss: 1.2042\n"
          ]
        },
        {
          "output_type": "stream",
          "name": "stderr",
          "text": [
            "Epoch [91/10000]: 100%|██████████| 14/14 [00:00<00:00, 79.24it/s, loss=1.63]\n"
          ]
        },
        {
          "output_type": "stream",
          "name": "stdout",
          "text": [
            "Epoch [91/10000]: Train loss: 1.1572, Valid loss: 1.1084\n",
            "Saving model with loss 1.108...\n"
          ]
        },
        {
          "output_type": "stream",
          "name": "stderr",
          "text": [
            "Epoch [92/10000]: 100%|██████████| 14/14 [00:00<00:00, 81.33it/s, loss=0.927]\n"
          ]
        },
        {
          "output_type": "stream",
          "name": "stdout",
          "text": [
            "Epoch [92/10000]: Train loss: 1.1258, Valid loss: 1.1576\n"
          ]
        },
        {
          "output_type": "stream",
          "name": "stderr",
          "text": [
            "Epoch [93/10000]: 100%|██████████| 14/14 [00:00<00:00, 80.52it/s, loss=0.859]\n"
          ]
        },
        {
          "output_type": "stream",
          "name": "stdout",
          "text": [
            "Epoch [93/10000]: Train loss: 1.1301, Valid loss: 1.2454\n"
          ]
        },
        {
          "output_type": "stream",
          "name": "stderr",
          "text": [
            "Epoch [94/10000]: 100%|██████████| 14/14 [00:00<00:00, 76.11it/s, loss=1.5]\n"
          ]
        },
        {
          "output_type": "stream",
          "name": "stdout",
          "text": [
            "Epoch [94/10000]: Train loss: 1.2443, Valid loss: 1.4493\n"
          ]
        },
        {
          "output_type": "stream",
          "name": "stderr",
          "text": [
            "Epoch [95/10000]: 100%|██████████| 14/14 [00:00<00:00, 87.01it/s, loss=0.719]\n"
          ]
        },
        {
          "output_type": "stream",
          "name": "stdout",
          "text": [
            "Epoch [95/10000]: Train loss: 1.2341, Valid loss: 1.1905\n"
          ]
        },
        {
          "output_type": "stream",
          "name": "stderr",
          "text": [
            "Epoch [96/10000]: 100%|██████████| 14/14 [00:00<00:00, 92.97it/s, loss=1.49]\n"
          ]
        },
        {
          "output_type": "stream",
          "name": "stdout",
          "text": [
            "Epoch [96/10000]: Train loss: 1.1735, Valid loss: 1.1295\n"
          ]
        },
        {
          "output_type": "stream",
          "name": "stderr",
          "text": [
            "Epoch [97/10000]: 100%|██████████| 14/14 [00:00<00:00, 88.99it/s, loss=1.12]\n"
          ]
        },
        {
          "output_type": "stream",
          "name": "stdout",
          "text": [
            "Epoch [97/10000]: Train loss: 1.1261, Valid loss: 1.0952\n",
            "Saving model with loss 1.095...\n"
          ]
        },
        {
          "output_type": "stream",
          "name": "stderr",
          "text": [
            "Epoch [98/10000]: 100%|██████████| 14/14 [00:00<00:00, 89.61it/s, loss=1.25]\n"
          ]
        },
        {
          "output_type": "stream",
          "name": "stdout",
          "text": [
            "Epoch [98/10000]: Train loss: 1.1720, Valid loss: 1.2204\n"
          ]
        },
        {
          "output_type": "stream",
          "name": "stderr",
          "text": [
            "Epoch [99/10000]: 100%|██████████| 14/14 [00:00<00:00, 96.61it/s, loss=1.5]\n"
          ]
        },
        {
          "output_type": "stream",
          "name": "stdout",
          "text": [
            "Epoch [99/10000]: Train loss: 1.1871, Valid loss: 1.1587\n"
          ]
        },
        {
          "output_type": "stream",
          "name": "stderr",
          "text": [
            "Epoch [100/10000]: 100%|██████████| 14/14 [00:00<00:00, 94.12it/s, loss=0.761]\n"
          ]
        },
        {
          "output_type": "stream",
          "name": "stdout",
          "text": [
            "Epoch [100/10000]: Train loss: 1.1401, Valid loss: 1.1391\n"
          ]
        },
        {
          "output_type": "stream",
          "name": "stderr",
          "text": [
            "Epoch [101/10000]: 100%|██████████| 14/14 [00:00<00:00, 83.38it/s, loss=1.19]\n"
          ]
        },
        {
          "output_type": "stream",
          "name": "stdout",
          "text": [
            "Epoch [101/10000]: Train loss: 1.1859, Valid loss: 1.2070\n"
          ]
        },
        {
          "output_type": "stream",
          "name": "stderr",
          "text": [
            "Epoch [102/10000]: 100%|██████████| 14/14 [00:00<00:00, 79.81it/s, loss=1.17]"
          ]
        },
        {
          "output_type": "stream",
          "name": "stdout",
          "text": [
            "Epoch [102/10000]: Train loss: 1.1589, Valid loss: 1.2222"
          ]
        },
        {
          "output_type": "stream",
          "name": "stderr",
          "text": [
            "\n"
          ]
        },
        {
          "output_type": "stream",
          "name": "stdout",
          "text": [
            "\n"
          ]
        },
        {
          "output_type": "stream",
          "name": "stderr",
          "text": [
            "Epoch [103/10000]: 100%|██████████| 14/14 [00:00<00:00, 79.51it/s, loss=1.13]"
          ]
        },
        {
          "output_type": "stream",
          "name": "stdout",
          "text": [
            "Epoch [103/10000]: Train loss: 1.1652, Valid loss: 1.1331"
          ]
        },
        {
          "output_type": "stream",
          "name": "stderr",
          "text": [
            "\n"
          ]
        },
        {
          "output_type": "stream",
          "name": "stdout",
          "text": [
            "\n"
          ]
        },
        {
          "output_type": "stream",
          "name": "stderr",
          "text": [
            "Epoch [104/10000]: 100%|██████████| 14/14 [00:00<00:00, 89.89it/s, loss=0.988]\n"
          ]
        },
        {
          "output_type": "stream",
          "name": "stdout",
          "text": [
            "Epoch [104/10000]: Train loss: 1.1552, Valid loss: 1.1164\n"
          ]
        },
        {
          "output_type": "stream",
          "name": "stderr",
          "text": [
            "Epoch [105/10000]: 100%|██████████| 14/14 [00:00<00:00, 74.41it/s, loss=0.903]\n"
          ]
        },
        {
          "output_type": "stream",
          "name": "stdout",
          "text": [
            "Epoch [105/10000]: Train loss: 1.1243, Valid loss: 1.0722\n",
            "Saving model with loss 1.072...\n"
          ]
        },
        {
          "output_type": "stream",
          "name": "stderr",
          "text": [
            "Epoch [106/10000]: 100%|██████████| 14/14 [00:00<00:00, 80.33it/s, loss=1.16]\n"
          ]
        },
        {
          "output_type": "stream",
          "name": "stdout",
          "text": [
            "Epoch [106/10000]: Train loss: 1.1590, Valid loss: 1.1222\n"
          ]
        },
        {
          "output_type": "stream",
          "name": "stderr",
          "text": [
            "Epoch [107/10000]: 100%|██████████| 14/14 [00:00<00:00, 88.05it/s, loss=1.26]\n"
          ]
        },
        {
          "output_type": "stream",
          "name": "stdout",
          "text": [
            "Epoch [107/10000]: Train loss: 1.2516, Valid loss: 1.1571\n"
          ]
        },
        {
          "output_type": "stream",
          "name": "stderr",
          "text": [
            "Epoch [108/10000]: 100%|██████████| 14/14 [00:00<00:00, 76.58it/s, loss=0.694]\n"
          ]
        },
        {
          "output_type": "stream",
          "name": "stdout",
          "text": [
            "Epoch [108/10000]: Train loss: 1.1158, Valid loss: 1.1381\n"
          ]
        },
        {
          "output_type": "stream",
          "name": "stderr",
          "text": [
            "Epoch [109/10000]: 100%|██████████| 14/14 [00:00<00:00, 78.87it/s, loss=1.35]\n"
          ]
        },
        {
          "output_type": "stream",
          "name": "stdout",
          "text": [
            "Epoch [109/10000]: Train loss: 1.1443, Valid loss: 1.1028\n"
          ]
        },
        {
          "output_type": "stream",
          "name": "stderr",
          "text": [
            "Epoch [110/10000]: 100%|██████████| 14/14 [00:00<00:00, 77.12it/s, loss=2.03]\n"
          ]
        },
        {
          "output_type": "stream",
          "name": "stdout",
          "text": [
            "Epoch [110/10000]: Train loss: 1.1609, Valid loss: 1.1198\n"
          ]
        },
        {
          "output_type": "stream",
          "name": "stderr",
          "text": [
            "Epoch [111/10000]: 100%|██████████| 14/14 [00:00<00:00, 82.29it/s, loss=1.05]\n"
          ]
        },
        {
          "output_type": "stream",
          "name": "stdout",
          "text": [
            "Epoch [111/10000]: Train loss: 1.1709, Valid loss: 1.3333\n"
          ]
        },
        {
          "output_type": "stream",
          "name": "stderr",
          "text": [
            "Epoch [112/10000]: 100%|██████████| 14/14 [00:00<00:00, 80.10it/s, loss=0.946]\n"
          ]
        },
        {
          "output_type": "stream",
          "name": "stdout",
          "text": [
            "Epoch [112/10000]: Train loss: 1.1865, Valid loss: 1.2232\n"
          ]
        },
        {
          "output_type": "stream",
          "name": "stderr",
          "text": [
            "Epoch [113/10000]: 100%|██████████| 14/14 [00:00<00:00, 89.25it/s, loss=1.2]\n"
          ]
        },
        {
          "output_type": "stream",
          "name": "stdout",
          "text": [
            "Epoch [113/10000]: Train loss: 1.1484, Valid loss: 1.0969\n"
          ]
        },
        {
          "output_type": "stream",
          "name": "stderr",
          "text": [
            "Epoch [114/10000]: 100%|██████████| 14/14 [00:00<00:00, 70.07it/s, loss=1.03]\n"
          ]
        },
        {
          "output_type": "stream",
          "name": "stdout",
          "text": [
            "Epoch [114/10000]: Train loss: 1.1436, Valid loss: 1.2089\n"
          ]
        },
        {
          "output_type": "stream",
          "name": "stderr",
          "text": [
            "Epoch [115/10000]: 100%|██████████| 14/14 [00:00<00:00, 73.25it/s, loss=1.19]\n"
          ]
        },
        {
          "output_type": "stream",
          "name": "stdout",
          "text": [
            "Epoch [115/10000]: Train loss: 1.1380, Valid loss: 1.1455\n"
          ]
        },
        {
          "output_type": "stream",
          "name": "stderr",
          "text": [
            "Epoch [116/10000]: 100%|██████████| 14/14 [00:00<00:00, 82.77it/s, loss=0.901]\n"
          ]
        },
        {
          "output_type": "stream",
          "name": "stdout",
          "text": [
            "Epoch [116/10000]: Train loss: 1.1480, Valid loss: 1.0930\n"
          ]
        },
        {
          "output_type": "stream",
          "name": "stderr",
          "text": [
            "Epoch [117/10000]: 100%|██████████| 14/14 [00:00<00:00, 80.36it/s, loss=1.14]\n"
          ]
        },
        {
          "output_type": "stream",
          "name": "stdout",
          "text": [
            "Epoch [117/10000]: Train loss: 1.2462, Valid loss: 1.1393\n"
          ]
        },
        {
          "output_type": "stream",
          "name": "stderr",
          "text": [
            "Epoch [118/10000]: 100%|██████████| 14/14 [00:00<00:00, 78.36it/s, loss=1.21]\n"
          ]
        },
        {
          "output_type": "stream",
          "name": "stdout",
          "text": [
            "Epoch [118/10000]: Train loss: 1.2027, Valid loss: 1.1194\n"
          ]
        },
        {
          "output_type": "stream",
          "name": "stderr",
          "text": [
            "Epoch [119/10000]: 100%|██████████| 14/14 [00:00<00:00, 80.09it/s, loss=1.09]\n"
          ]
        },
        {
          "output_type": "stream",
          "name": "stdout",
          "text": [
            "Epoch [119/10000]: Train loss: 1.1461, Valid loss: 1.1291\n"
          ]
        },
        {
          "output_type": "stream",
          "name": "stderr",
          "text": [
            "Epoch [120/10000]: 100%|██████████| 14/14 [00:00<00:00, 82.94it/s, loss=1.63]\n"
          ]
        },
        {
          "output_type": "stream",
          "name": "stdout",
          "text": [
            "Epoch [120/10000]: Train loss: 1.1792, Valid loss: 1.1231\n"
          ]
        },
        {
          "output_type": "stream",
          "name": "stderr",
          "text": [
            "Epoch [121/10000]: 100%|██████████| 14/14 [00:00<00:00, 86.90it/s, loss=1.32]\n"
          ]
        },
        {
          "output_type": "stream",
          "name": "stdout",
          "text": [
            "Epoch [121/10000]: Train loss: 1.1238, Valid loss: 1.1249\n"
          ]
        },
        {
          "output_type": "stream",
          "name": "stderr",
          "text": [
            "Epoch [122/10000]: 100%|██████████| 14/14 [00:00<00:00, 71.06it/s, loss=1.16]\n"
          ]
        },
        {
          "output_type": "stream",
          "name": "stdout",
          "text": [
            "Epoch [122/10000]: Train loss: 1.1182, Valid loss: 1.1115\n"
          ]
        },
        {
          "output_type": "stream",
          "name": "stderr",
          "text": [
            "Epoch [123/10000]: 100%|██████████| 14/14 [00:00<00:00, 82.76it/s, loss=1.28]\n"
          ]
        },
        {
          "output_type": "stream",
          "name": "stdout",
          "text": [
            "Epoch [123/10000]: Train loss: 1.1225, Valid loss: 1.1093\n"
          ]
        },
        {
          "output_type": "stream",
          "name": "stderr",
          "text": [
            "Epoch [124/10000]: 100%|██████████| 14/14 [00:00<00:00, 76.33it/s, loss=0.855]\n"
          ]
        },
        {
          "output_type": "stream",
          "name": "stdout",
          "text": [
            "Epoch [124/10000]: Train loss: 1.1197, Valid loss: 1.2746\n"
          ]
        },
        {
          "output_type": "stream",
          "name": "stderr",
          "text": [
            "Epoch [125/10000]: 100%|██████████| 14/14 [00:00<00:00, 79.27it/s, loss=1.25]\n"
          ]
        },
        {
          "output_type": "stream",
          "name": "stdout",
          "text": [
            "Epoch [125/10000]: Train loss: 1.1652, Valid loss: 1.1571\n"
          ]
        },
        {
          "output_type": "stream",
          "name": "stderr",
          "text": [
            "Epoch [126/10000]: 100%|██████████| 14/14 [00:00<00:00, 75.99it/s, loss=1.59]\n"
          ]
        },
        {
          "output_type": "stream",
          "name": "stdout",
          "text": [
            "Epoch [126/10000]: Train loss: 1.1721, Valid loss: 1.1267\n"
          ]
        },
        {
          "output_type": "stream",
          "name": "stderr",
          "text": [
            "Epoch [127/10000]: 100%|██████████| 14/14 [00:00<00:00, 74.23it/s, loss=0.943]\n"
          ]
        },
        {
          "output_type": "stream",
          "name": "stdout",
          "text": [
            "Epoch [127/10000]: Train loss: 1.1747, Valid loss: 1.2211\n"
          ]
        },
        {
          "output_type": "stream",
          "name": "stderr",
          "text": [
            "Epoch [128/10000]: 100%|██████████| 14/14 [00:00<00:00, 78.13it/s, loss=0.976]\n"
          ]
        },
        {
          "output_type": "stream",
          "name": "stdout",
          "text": [
            "Epoch [128/10000]: Train loss: 1.1469, Valid loss: 1.1310\n"
          ]
        },
        {
          "output_type": "stream",
          "name": "stderr",
          "text": [
            "Epoch [129/10000]: 100%|██████████| 14/14 [00:00<00:00, 78.05it/s, loss=1.52]\n"
          ]
        },
        {
          "output_type": "stream",
          "name": "stdout",
          "text": [
            "Epoch [129/10000]: Train loss: 1.1481, Valid loss: 1.1046\n"
          ]
        },
        {
          "output_type": "stream",
          "name": "stderr",
          "text": [
            "Epoch [130/10000]: 100%|██████████| 14/14 [00:00<00:00, 88.90it/s, loss=0.891]\n"
          ]
        },
        {
          "output_type": "stream",
          "name": "stdout",
          "text": [
            "Epoch [130/10000]: Train loss: 1.1237, Valid loss: 1.2610\n"
          ]
        },
        {
          "output_type": "stream",
          "name": "stderr",
          "text": [
            "Epoch [131/10000]: 100%|██████████| 14/14 [00:00<00:00, 88.76it/s, loss=1.28]\n"
          ]
        },
        {
          "output_type": "stream",
          "name": "stdout",
          "text": [
            "Epoch [131/10000]: Train loss: 1.1915, Valid loss: 1.2175\n"
          ]
        },
        {
          "output_type": "stream",
          "name": "stderr",
          "text": [
            "Epoch [132/10000]: 100%|██████████| 14/14 [00:00<00:00, 86.18it/s, loss=1.72]\n"
          ]
        },
        {
          "output_type": "stream",
          "name": "stdout",
          "text": [
            "Epoch [132/10000]: Train loss: 1.1751, Valid loss: 1.1768\n"
          ]
        },
        {
          "output_type": "stream",
          "name": "stderr",
          "text": [
            "Epoch [133/10000]: 100%|██████████| 14/14 [00:00<00:00, 80.31it/s, loss=1.04]\n"
          ]
        },
        {
          "output_type": "stream",
          "name": "stdout",
          "text": [
            "Epoch [133/10000]: Train loss: 1.1600, Valid loss: 1.1327\n"
          ]
        },
        {
          "output_type": "stream",
          "name": "stderr",
          "text": [
            "Epoch [134/10000]: 100%|██████████| 14/14 [00:00<00:00, 74.18it/s, loss=1.18]\n"
          ]
        },
        {
          "output_type": "stream",
          "name": "stdout",
          "text": [
            "Epoch [134/10000]: Train loss: 1.2272, Valid loss: 1.3202\n"
          ]
        },
        {
          "output_type": "stream",
          "name": "stderr",
          "text": [
            "Epoch [135/10000]: 100%|██████████| 14/14 [00:00<00:00, 75.60it/s, loss=0.83]\n"
          ]
        },
        {
          "output_type": "stream",
          "name": "stdout",
          "text": [
            "Epoch [135/10000]: Train loss: 1.2002, Valid loss: 1.3710\n"
          ]
        },
        {
          "output_type": "stream",
          "name": "stderr",
          "text": [
            "Epoch [136/10000]: 100%|██████████| 14/14 [00:00<00:00, 78.37it/s, loss=0.973]\n"
          ]
        },
        {
          "output_type": "stream",
          "name": "stdout",
          "text": [
            "Epoch [136/10000]: Train loss: 1.1587, Valid loss: 1.1154\n"
          ]
        },
        {
          "output_type": "stream",
          "name": "stderr",
          "text": [
            "Epoch [137/10000]: 100%|██████████| 14/14 [00:00<00:00, 73.12it/s, loss=0.671]\n"
          ]
        },
        {
          "output_type": "stream",
          "name": "stdout",
          "text": [
            "Epoch [137/10000]: Train loss: 1.1666, Valid loss: 1.1292\n"
          ]
        },
        {
          "output_type": "stream",
          "name": "stderr",
          "text": [
            "Epoch [138/10000]: 100%|██████████| 14/14 [00:00<00:00, 75.14it/s, loss=0.851]\n"
          ]
        },
        {
          "output_type": "stream",
          "name": "stdout",
          "text": [
            "Epoch [138/10000]: Train loss: 1.1178, Valid loss: 1.0744\n"
          ]
        },
        {
          "output_type": "stream",
          "name": "stderr",
          "text": [
            "Epoch [139/10000]: 100%|██████████| 14/14 [00:00<00:00, 68.75it/s, loss=0.652]\n"
          ]
        },
        {
          "output_type": "stream",
          "name": "stdout",
          "text": [
            "Epoch [139/10000]: Train loss: 1.1093, Valid loss: 1.1471\n"
          ]
        },
        {
          "output_type": "stream",
          "name": "stderr",
          "text": [
            "Epoch [140/10000]: 100%|██████████| 14/14 [00:00<00:00, 85.63it/s, loss=0.946]\n"
          ]
        },
        {
          "output_type": "stream",
          "name": "stdout",
          "text": [
            "Epoch [140/10000]: Train loss: 1.1336, Valid loss: 1.1069\n"
          ]
        },
        {
          "output_type": "stream",
          "name": "stderr",
          "text": [
            "Epoch [141/10000]: 100%|██████████| 14/14 [00:00<00:00, 94.50it/s, loss=1.04]\n"
          ]
        },
        {
          "output_type": "stream",
          "name": "stdout",
          "text": [
            "Epoch [141/10000]: Train loss: 1.1255, Valid loss: 1.0912\n"
          ]
        },
        {
          "output_type": "stream",
          "name": "stderr",
          "text": [
            "Epoch [142/10000]: 100%|██████████| 14/14 [00:00<00:00, 87.21it/s, loss=0.945]\n"
          ]
        },
        {
          "output_type": "stream",
          "name": "stdout",
          "text": [
            "Epoch [142/10000]: Train loss: 1.1640, Valid loss: 1.2833\n"
          ]
        },
        {
          "output_type": "stream",
          "name": "stderr",
          "text": [
            "Epoch [143/10000]: 100%|██████████| 14/14 [00:00<00:00, 81.67it/s, loss=0.963]\n"
          ]
        },
        {
          "output_type": "stream",
          "name": "stdout",
          "text": [
            "Epoch [143/10000]: Train loss: 1.2170, Valid loss: 1.1653\n"
          ]
        },
        {
          "output_type": "stream",
          "name": "stderr",
          "text": [
            "Epoch [144/10000]: 100%|██████████| 14/14 [00:00<00:00, 88.47it/s, loss=0.955]\n"
          ]
        },
        {
          "output_type": "stream",
          "name": "stdout",
          "text": [
            "Epoch [144/10000]: Train loss: 1.1845, Valid loss: 1.1280\n"
          ]
        },
        {
          "output_type": "stream",
          "name": "stderr",
          "text": [
            "Epoch [145/10000]: 100%|██████████| 14/14 [00:00<00:00, 76.07it/s, loss=0.757]\n"
          ]
        },
        {
          "output_type": "stream",
          "name": "stdout",
          "text": [
            "Epoch [145/10000]: Train loss: 1.1241, Valid loss: 1.1917\n"
          ]
        },
        {
          "output_type": "stream",
          "name": "stderr",
          "text": [
            "Epoch [146/10000]: 100%|██████████| 14/14 [00:00<00:00, 82.12it/s, loss=1.24]\n"
          ]
        },
        {
          "output_type": "stream",
          "name": "stdout",
          "text": [
            "Epoch [146/10000]: Train loss: 1.1270, Valid loss: 1.1348\n"
          ]
        },
        {
          "output_type": "stream",
          "name": "stderr",
          "text": [
            "Epoch [147/10000]: 100%|██████████| 14/14 [00:00<00:00, 98.55it/s, loss=1.35] \n"
          ]
        },
        {
          "output_type": "stream",
          "name": "stdout",
          "text": [
            "Epoch [147/10000]: Train loss: 1.1366, Valid loss: 1.0935\n"
          ]
        },
        {
          "output_type": "stream",
          "name": "stderr",
          "text": [
            "Epoch [148/10000]: 100%|██████████| 14/14 [00:00<00:00, 90.44it/s, loss=1.56]\n"
          ]
        },
        {
          "output_type": "stream",
          "name": "stdout",
          "text": [
            "Epoch [148/10000]: Train loss: 1.2016, Valid loss: 1.1361\n"
          ]
        },
        {
          "output_type": "stream",
          "name": "stderr",
          "text": [
            "Epoch [149/10000]: 100%|██████████| 14/14 [00:00<00:00, 93.98it/s, loss=1.77]\n"
          ]
        },
        {
          "output_type": "stream",
          "name": "stdout",
          "text": [
            "Epoch [149/10000]: Train loss: 1.1602, Valid loss: 1.1751\n"
          ]
        },
        {
          "output_type": "stream",
          "name": "stderr",
          "text": [
            "Epoch [150/10000]: 100%|██████████| 14/14 [00:00<00:00, 83.13it/s, loss=1.88]\n"
          ]
        },
        {
          "output_type": "stream",
          "name": "stdout",
          "text": [
            "Epoch [150/10000]: Train loss: 1.1747, Valid loss: 1.0728\n"
          ]
        },
        {
          "output_type": "stream",
          "name": "stderr",
          "text": [
            "Epoch [151/10000]: 100%|██████████| 14/14 [00:00<00:00, 91.68it/s, loss=2.16]\n"
          ]
        },
        {
          "output_type": "stream",
          "name": "stdout",
          "text": [
            "Epoch [151/10000]: Train loss: 1.1585, Valid loss: 1.1576\n"
          ]
        },
        {
          "output_type": "stream",
          "name": "stderr",
          "text": [
            "Epoch [152/10000]: 100%|██████████| 14/14 [00:00<00:00, 84.83it/s, loss=1.46]\n"
          ]
        },
        {
          "output_type": "stream",
          "name": "stdout",
          "text": [
            "Epoch [152/10000]: Train loss: 1.1723, Valid loss: 1.1801\n"
          ]
        },
        {
          "output_type": "stream",
          "name": "stderr",
          "text": [
            "Epoch [153/10000]: 100%|██████████| 14/14 [00:00<00:00, 80.12it/s, loss=0.644]\n"
          ]
        },
        {
          "output_type": "stream",
          "name": "stdout",
          "text": [
            "Epoch [153/10000]: Train loss: 1.0996, Valid loss: 1.1762\n"
          ]
        },
        {
          "output_type": "stream",
          "name": "stderr",
          "text": [
            "Epoch [154/10000]: 100%|██████████| 14/14 [00:00<00:00, 86.08it/s, loss=1.31]\n"
          ]
        },
        {
          "output_type": "stream",
          "name": "stdout",
          "text": [
            "Epoch [154/10000]: Train loss: 1.1544, Valid loss: 1.1107\n"
          ]
        },
        {
          "output_type": "stream",
          "name": "stderr",
          "text": [
            "Epoch [155/10000]: 100%|██████████| 14/14 [00:00<00:00, 83.15it/s, loss=0.779]\n"
          ]
        },
        {
          "output_type": "stream",
          "name": "stdout",
          "text": [
            "Epoch [155/10000]: Train loss: 1.1195, Valid loss: 1.1543\n"
          ]
        },
        {
          "output_type": "stream",
          "name": "stderr",
          "text": [
            "Epoch [156/10000]: 100%|██████████| 14/14 [00:00<00:00, 83.82it/s, loss=0.834]\n"
          ]
        },
        {
          "output_type": "stream",
          "name": "stdout",
          "text": [
            "Epoch [156/10000]: Train loss: 1.1798, Valid loss: 1.1818\n"
          ]
        },
        {
          "output_type": "stream",
          "name": "stderr",
          "text": [
            "Epoch [157/10000]: 100%|██████████| 14/14 [00:00<00:00, 76.15it/s, loss=2.41]\n"
          ]
        },
        {
          "output_type": "stream",
          "name": "stdout",
          "text": [
            "Epoch [157/10000]: Train loss: 1.2732, Valid loss: 1.1011\n"
          ]
        },
        {
          "output_type": "stream",
          "name": "stderr",
          "text": [
            "Epoch [158/10000]: 100%|██████████| 14/14 [00:00<00:00, 78.45it/s, loss=0.929]\n"
          ]
        },
        {
          "output_type": "stream",
          "name": "stdout",
          "text": [
            "Epoch [158/10000]: Train loss: 1.1396, Valid loss: 1.0872\n"
          ]
        },
        {
          "output_type": "stream",
          "name": "stderr",
          "text": [
            "Epoch [159/10000]: 100%|██████████| 14/14 [00:00<00:00, 83.25it/s, loss=1.12]\n"
          ]
        },
        {
          "output_type": "stream",
          "name": "stdout",
          "text": [
            "Epoch [159/10000]: Train loss: 1.1378, Valid loss: 1.0690\n",
            "Saving model with loss 1.069...\n"
          ]
        },
        {
          "output_type": "stream",
          "name": "stderr",
          "text": [
            "Epoch [160/10000]: 100%|██████████| 14/14 [00:00<00:00, 84.52it/s, loss=1.46]\n"
          ]
        },
        {
          "output_type": "stream",
          "name": "stdout",
          "text": [
            "Epoch [160/10000]: Train loss: 1.1483, Valid loss: 1.0978\n"
          ]
        },
        {
          "output_type": "stream",
          "name": "stderr",
          "text": [
            "Epoch [161/10000]: 100%|██████████| 14/14 [00:00<00:00, 89.53it/s, loss=0.774]\n"
          ]
        },
        {
          "output_type": "stream",
          "name": "stdout",
          "text": [
            "Epoch [161/10000]: Train loss: 1.1229, Valid loss: 1.1564\n"
          ]
        },
        {
          "output_type": "stream",
          "name": "stderr",
          "text": [
            "Epoch [162/10000]: 100%|██████████| 14/14 [00:00<00:00, 88.51it/s, loss=1.56]\n"
          ]
        },
        {
          "output_type": "stream",
          "name": "stdout",
          "text": [
            "Epoch [162/10000]: Train loss: 1.1356, Valid loss: 1.1155\n"
          ]
        },
        {
          "output_type": "stream",
          "name": "stderr",
          "text": [
            "Epoch [163/10000]: 100%|██████████| 14/14 [00:00<00:00, 85.86it/s, loss=1.07]\n"
          ]
        },
        {
          "output_type": "stream",
          "name": "stdout",
          "text": [
            "Epoch [163/10000]: Train loss: 1.1102, Valid loss: 1.1165\n"
          ]
        },
        {
          "output_type": "stream",
          "name": "stderr",
          "text": [
            "Epoch [164/10000]: 100%|██████████| 14/14 [00:00<00:00, 79.62it/s, loss=1.13]\n"
          ]
        },
        {
          "output_type": "stream",
          "name": "stdout",
          "text": [
            "Epoch [164/10000]: Train loss: 1.1310, Valid loss: 1.0930\n"
          ]
        },
        {
          "output_type": "stream",
          "name": "stderr",
          "text": [
            "Epoch [165/10000]: 100%|██████████| 14/14 [00:00<00:00, 94.41it/s, loss=1.12]\n"
          ]
        },
        {
          "output_type": "stream",
          "name": "stdout",
          "text": [
            "Epoch [165/10000]: Train loss: 1.1418, Valid loss: 1.1393\n"
          ]
        },
        {
          "output_type": "stream",
          "name": "stderr",
          "text": [
            "Epoch [166/10000]: 100%|██████████| 14/14 [00:00<00:00, 93.58it/s, loss=1.28]\n"
          ]
        },
        {
          "output_type": "stream",
          "name": "stdout",
          "text": [
            "Epoch [166/10000]: Train loss: 1.1472, Valid loss: 1.0770\n"
          ]
        },
        {
          "output_type": "stream",
          "name": "stderr",
          "text": [
            "Epoch [167/10000]: 100%|██████████| 14/14 [00:00<00:00, 78.23it/s, loss=0.977]\n"
          ]
        },
        {
          "output_type": "stream",
          "name": "stdout",
          "text": [
            "Epoch [167/10000]: Train loss: 1.1033, Valid loss: 1.0977\n"
          ]
        },
        {
          "output_type": "stream",
          "name": "stderr",
          "text": [
            "Epoch [168/10000]: 100%|██████████| 14/14 [00:00<00:00, 86.16it/s, loss=1.19]\n"
          ]
        },
        {
          "output_type": "stream",
          "name": "stdout",
          "text": [
            "Epoch [168/10000]: Train loss: 1.1687, Valid loss: 1.0902\n"
          ]
        },
        {
          "output_type": "stream",
          "name": "stderr",
          "text": [
            "Epoch [169/10000]: 100%|██████████| 14/14 [00:00<00:00, 82.64it/s, loss=1.25]\n"
          ]
        },
        {
          "output_type": "stream",
          "name": "stdout",
          "text": [
            "Epoch [169/10000]: Train loss: 1.1364, Valid loss: 1.0746\n"
          ]
        },
        {
          "output_type": "stream",
          "name": "stderr",
          "text": [
            "Epoch [170/10000]: 100%|██████████| 14/14 [00:00<00:00, 82.87it/s, loss=0.989]\n"
          ]
        },
        {
          "output_type": "stream",
          "name": "stdout",
          "text": [
            "Epoch [170/10000]: Train loss: 1.1236, Valid loss: 1.1883\n"
          ]
        },
        {
          "output_type": "stream",
          "name": "stderr",
          "text": [
            "Epoch [171/10000]: 100%|██████████| 14/14 [00:00<00:00, 81.09it/s, loss=1.03]\n"
          ]
        },
        {
          "output_type": "stream",
          "name": "stdout",
          "text": [
            "Epoch [171/10000]: Train loss: 1.1382, Valid loss: 1.1252\n"
          ]
        },
        {
          "output_type": "stream",
          "name": "stderr",
          "text": [
            "Epoch [172/10000]: 100%|██████████| 14/14 [00:00<00:00, 87.41it/s, loss=1.11]\n"
          ]
        },
        {
          "output_type": "stream",
          "name": "stdout",
          "text": [
            "Epoch [172/10000]: Train loss: 1.1282, Valid loss: 1.1421\n"
          ]
        },
        {
          "output_type": "stream",
          "name": "stderr",
          "text": [
            "Epoch [173/10000]: 100%|██████████| 14/14 [00:00<00:00, 84.11it/s, loss=2.14]\n"
          ]
        },
        {
          "output_type": "stream",
          "name": "stdout",
          "text": [
            "Epoch [173/10000]: Train loss: 1.1581, Valid loss: 1.1180\n"
          ]
        },
        {
          "output_type": "stream",
          "name": "stderr",
          "text": [
            "Epoch [174/10000]: 100%|██████████| 14/14 [00:00<00:00, 84.88it/s, loss=1.32]\n"
          ]
        },
        {
          "output_type": "stream",
          "name": "stdout",
          "text": [
            "Epoch [174/10000]: Train loss: 1.1157, Valid loss: 1.1647\n"
          ]
        },
        {
          "output_type": "stream",
          "name": "stderr",
          "text": [
            "Epoch [175/10000]: 100%|██████████| 14/14 [00:00<00:00, 83.97it/s, loss=1.49]\n"
          ]
        },
        {
          "output_type": "stream",
          "name": "stdout",
          "text": [
            "Epoch [175/10000]: Train loss: 1.2560, Valid loss: 1.1832\n"
          ]
        },
        {
          "output_type": "stream",
          "name": "stderr",
          "text": [
            "Epoch [176/10000]: 100%|██████████| 14/14 [00:00<00:00, 75.97it/s, loss=0.92]\n"
          ]
        },
        {
          "output_type": "stream",
          "name": "stdout",
          "text": [
            "Epoch [176/10000]: Train loss: 1.1251, Valid loss: 1.0898\n"
          ]
        },
        {
          "output_type": "stream",
          "name": "stderr",
          "text": [
            "Epoch [177/10000]: 100%|██████████| 14/14 [00:00<00:00, 77.46it/s, loss=1.38]\n"
          ]
        },
        {
          "output_type": "stream",
          "name": "stdout",
          "text": [
            "Epoch [177/10000]: Train loss: 1.1577, Valid loss: 1.1368\n"
          ]
        },
        {
          "output_type": "stream",
          "name": "stderr",
          "text": [
            "Epoch [178/10000]: 100%|██████████| 14/14 [00:00<00:00, 76.15it/s, loss=0.798]\n"
          ]
        },
        {
          "output_type": "stream",
          "name": "stdout",
          "text": [
            "Epoch [178/10000]: Train loss: 1.1216, Valid loss: 1.0922\n"
          ]
        },
        {
          "output_type": "stream",
          "name": "stderr",
          "text": [
            "Epoch [179/10000]: 100%|██████████| 14/14 [00:00<00:00, 90.49it/s, loss=0.981]\n"
          ]
        },
        {
          "output_type": "stream",
          "name": "stdout",
          "text": [
            "Epoch [179/10000]: Train loss: 1.1109, Valid loss: 1.0866\n"
          ]
        },
        {
          "output_type": "stream",
          "name": "stderr",
          "text": [
            "Epoch [180/10000]: 100%|██████████| 14/14 [00:00<00:00, 88.62it/s, loss=0.904]\n"
          ]
        },
        {
          "output_type": "stream",
          "name": "stdout",
          "text": [
            "Epoch [180/10000]: Train loss: 1.1233, Valid loss: 1.1033\n"
          ]
        },
        {
          "output_type": "stream",
          "name": "stderr",
          "text": [
            "Epoch [181/10000]: 100%|██████████| 14/14 [00:00<00:00, 92.39it/s, loss=1.19]\n"
          ]
        },
        {
          "output_type": "stream",
          "name": "stdout",
          "text": [
            "Epoch [181/10000]: Train loss: 1.1326, Valid loss: 1.3412\n"
          ]
        },
        {
          "output_type": "stream",
          "name": "stderr",
          "text": [
            "Epoch [182/10000]: 100%|██████████| 14/14 [00:00<00:00, 80.80it/s, loss=0.9]\n"
          ]
        },
        {
          "output_type": "stream",
          "name": "stdout",
          "text": [
            "Epoch [182/10000]: Train loss: 1.2341, Valid loss: 1.1403\n"
          ]
        },
        {
          "output_type": "stream",
          "name": "stderr",
          "text": [
            "Epoch [183/10000]: 100%|██████████| 14/14 [00:00<00:00, 74.00it/s, loss=1.02]\n"
          ]
        },
        {
          "output_type": "stream",
          "name": "stdout",
          "text": [
            "Epoch [183/10000]: Train loss: 1.1555, Valid loss: 1.2184\n"
          ]
        },
        {
          "output_type": "stream",
          "name": "stderr",
          "text": [
            "Epoch [184/10000]: 100%|██████████| 14/14 [00:00<00:00, 94.23it/s, loss=1.04]\n"
          ]
        },
        {
          "output_type": "stream",
          "name": "stdout",
          "text": [
            "Epoch [184/10000]: Train loss: 1.2073, Valid loss: 1.1478\n"
          ]
        },
        {
          "output_type": "stream",
          "name": "stderr",
          "text": [
            "Epoch [185/10000]: 100%|██████████| 14/14 [00:00<00:00, 83.61it/s, loss=0.95]\n"
          ]
        },
        {
          "output_type": "stream",
          "name": "stdout",
          "text": [
            "Epoch [185/10000]: Train loss: 1.1288, Valid loss: 1.1348\n"
          ]
        },
        {
          "output_type": "stream",
          "name": "stderr",
          "text": [
            "Epoch [186/10000]: 100%|██████████| 14/14 [00:00<00:00, 79.63it/s, loss=1.11]\n"
          ]
        },
        {
          "output_type": "stream",
          "name": "stdout",
          "text": [
            "Epoch [186/10000]: Train loss: 1.1423, Valid loss: 1.1185\n"
          ]
        },
        {
          "output_type": "stream",
          "name": "stderr",
          "text": [
            "Epoch [187/10000]: 100%|██████████| 14/14 [00:00<00:00, 77.47it/s, loss=0.565]\n"
          ]
        },
        {
          "output_type": "stream",
          "name": "stdout",
          "text": [
            "Epoch [187/10000]: Train loss: 1.0910, Valid loss: 1.2149\n"
          ]
        },
        {
          "output_type": "stream",
          "name": "stderr",
          "text": [
            "Epoch [188/10000]: 100%|██████████| 14/14 [00:00<00:00, 73.86it/s, loss=0.865]\n"
          ]
        },
        {
          "output_type": "stream",
          "name": "stdout",
          "text": [
            "Epoch [188/10000]: Train loss: 1.1206, Valid loss: 1.1588\n"
          ]
        },
        {
          "output_type": "stream",
          "name": "stderr",
          "text": [
            "Epoch [189/10000]: 100%|██████████| 14/14 [00:00<00:00, 77.17it/s, loss=0.952]\n"
          ]
        },
        {
          "output_type": "stream",
          "name": "stdout",
          "text": [
            "Epoch [189/10000]: Train loss: 1.1069, Valid loss: 1.0851\n"
          ]
        },
        {
          "output_type": "stream",
          "name": "stderr",
          "text": [
            "Epoch [190/10000]: 100%|██████████| 14/14 [00:00<00:00, 65.41it/s, loss=0.976]\n"
          ]
        },
        {
          "output_type": "stream",
          "name": "stdout",
          "text": [
            "Epoch [190/10000]: Train loss: 1.1355, Valid loss: 1.1331\n"
          ]
        },
        {
          "output_type": "stream",
          "name": "stderr",
          "text": [
            "Epoch [191/10000]: 100%|██████████| 14/14 [00:00<00:00, 77.36it/s, loss=1.6]\n"
          ]
        },
        {
          "output_type": "stream",
          "name": "stdout",
          "text": [
            "Epoch [191/10000]: Train loss: 1.1295, Valid loss: 1.3581\n"
          ]
        },
        {
          "output_type": "stream",
          "name": "stderr",
          "text": [
            "Epoch [192/10000]: 100%|██████████| 14/14 [00:00<00:00, 84.56it/s, loss=1.01]\n"
          ]
        },
        {
          "output_type": "stream",
          "name": "stdout",
          "text": [
            "Epoch [192/10000]: Train loss: 1.2258, Valid loss: 1.0998\n"
          ]
        },
        {
          "output_type": "stream",
          "name": "stderr",
          "text": [
            "Epoch [193/10000]: 100%|██████████| 14/14 [00:00<00:00, 90.05it/s, loss=1.09]\n"
          ]
        },
        {
          "output_type": "stream",
          "name": "stdout",
          "text": [
            "Epoch [193/10000]: Train loss: 1.1401, Valid loss: 1.1190\n"
          ]
        },
        {
          "output_type": "stream",
          "name": "stderr",
          "text": [
            "Epoch [194/10000]: 100%|██████████| 14/14 [00:00<00:00, 84.30it/s, loss=1.03]\n"
          ]
        },
        {
          "output_type": "stream",
          "name": "stdout",
          "text": [
            "Epoch [194/10000]: Train loss: 1.2055, Valid loss: 1.1639\n"
          ]
        },
        {
          "output_type": "stream",
          "name": "stderr",
          "text": [
            "Epoch [195/10000]: 100%|██████████| 14/14 [00:00<00:00, 90.80it/s, loss=0.753]\n"
          ]
        },
        {
          "output_type": "stream",
          "name": "stdout",
          "text": [
            "Epoch [195/10000]: Train loss: 1.1701, Valid loss: 1.0873\n"
          ]
        },
        {
          "output_type": "stream",
          "name": "stderr",
          "text": [
            "Epoch [196/10000]: 100%|██████████| 14/14 [00:00<00:00, 76.03it/s, loss=1.03]\n"
          ]
        },
        {
          "output_type": "stream",
          "name": "stdout",
          "text": [
            "Epoch [196/10000]: Train loss: 1.1352, Valid loss: 1.1237\n"
          ]
        },
        {
          "output_type": "stream",
          "name": "stderr",
          "text": [
            "Epoch [197/10000]: 100%|██████████| 14/14 [00:00<00:00, 79.68it/s, loss=0.799]\n"
          ]
        },
        {
          "output_type": "stream",
          "name": "stdout",
          "text": [
            "Epoch [197/10000]: Train loss: 1.1758, Valid loss: 1.2552\n"
          ]
        },
        {
          "output_type": "stream",
          "name": "stderr",
          "text": [
            "Epoch [198/10000]: 100%|██████████| 14/14 [00:00<00:00, 84.86it/s, loss=1.2]\n"
          ]
        },
        {
          "output_type": "stream",
          "name": "stdout",
          "text": [
            "Epoch [198/10000]: Train loss: 1.1573, Valid loss: 1.1055\n"
          ]
        },
        {
          "output_type": "stream",
          "name": "stderr",
          "text": [
            "Epoch [199/10000]: 100%|██████████| 14/14 [00:00<00:00, 88.66it/s, loss=1.23]\n"
          ]
        },
        {
          "output_type": "stream",
          "name": "stdout",
          "text": [
            "Epoch [199/10000]: Train loss: 1.1487, Valid loss: 1.1015\n"
          ]
        },
        {
          "output_type": "stream",
          "name": "stderr",
          "text": [
            "Epoch [200/10000]: 100%|██████████| 14/14 [00:00<00:00, 82.12it/s, loss=0.64]\n"
          ]
        },
        {
          "output_type": "stream",
          "name": "stdout",
          "text": [
            "Epoch [200/10000]: Train loss: 1.1201, Valid loss: 1.1287\n"
          ]
        },
        {
          "output_type": "stream",
          "name": "stderr",
          "text": [
            "Epoch [201/10000]: 100%|██████████| 14/14 [00:00<00:00, 86.38it/s, loss=1.24]\n"
          ]
        },
        {
          "output_type": "stream",
          "name": "stdout",
          "text": [
            "Epoch [201/10000]: Train loss: 1.1186, Valid loss: 1.1261\n"
          ]
        },
        {
          "output_type": "stream",
          "name": "stderr",
          "text": [
            "Epoch [202/10000]: 100%|██████████| 14/14 [00:00<00:00, 89.46it/s, loss=0.915]\n"
          ]
        },
        {
          "output_type": "stream",
          "name": "stdout",
          "text": [
            "Epoch [202/10000]: Train loss: 1.1180, Valid loss: 1.0873\n"
          ]
        },
        {
          "output_type": "stream",
          "name": "stderr",
          "text": [
            "Epoch [203/10000]: 100%|██████████| 14/14 [00:00<00:00, 80.49it/s, loss=1.03]\n"
          ]
        },
        {
          "output_type": "stream",
          "name": "stdout",
          "text": [
            "Epoch [203/10000]: Train loss: 1.1186, Valid loss: 1.0671\n",
            "Saving model with loss 1.067...\n"
          ]
        },
        {
          "output_type": "stream",
          "name": "stderr",
          "text": [
            "Epoch [204/10000]: 100%|██████████| 14/14 [00:00<00:00, 92.96it/s, loss=1.25]\n"
          ]
        },
        {
          "output_type": "stream",
          "name": "stdout",
          "text": [
            "Epoch [204/10000]: Train loss: 1.1193, Valid loss: 1.0978\n"
          ]
        },
        {
          "output_type": "stream",
          "name": "stderr",
          "text": [
            "Epoch [205/10000]: 100%|██████████| 14/14 [00:00<00:00, 89.34it/s, loss=0.729]\n"
          ]
        },
        {
          "output_type": "stream",
          "name": "stdout",
          "text": [
            "Epoch [205/10000]: Train loss: 1.1241, Valid loss: 1.2360\n"
          ]
        },
        {
          "output_type": "stream",
          "name": "stderr",
          "text": [
            "Epoch [206/10000]: 100%|██████████| 14/14 [00:00<00:00, 91.37it/s, loss=1.02]\n"
          ]
        },
        {
          "output_type": "stream",
          "name": "stdout",
          "text": [
            "Epoch [206/10000]: Train loss: 1.1764, Valid loss: 1.2676\n"
          ]
        },
        {
          "output_type": "stream",
          "name": "stderr",
          "text": [
            "Epoch [207/10000]: 100%|██████████| 14/14 [00:00<00:00, 83.96it/s, loss=1.09]\n"
          ]
        },
        {
          "output_type": "stream",
          "name": "stdout",
          "text": [
            "Epoch [207/10000]: Train loss: 1.2217, Valid loss: 1.1472\n"
          ]
        },
        {
          "output_type": "stream",
          "name": "stderr",
          "text": [
            "Epoch [208/10000]: 100%|██████████| 14/14 [00:00<00:00, 91.08it/s, loss=1.07]\n"
          ]
        },
        {
          "output_type": "stream",
          "name": "stdout",
          "text": [
            "Epoch [208/10000]: Train loss: 1.1293, Valid loss: 1.0775\n"
          ]
        },
        {
          "output_type": "stream",
          "name": "stderr",
          "text": [
            "Epoch [209/10000]: 100%|██████████| 14/14 [00:00<00:00, 73.44it/s, loss=1.51]\n"
          ]
        },
        {
          "output_type": "stream",
          "name": "stdout",
          "text": [
            "Epoch [209/10000]: Train loss: 1.1489, Valid loss: 1.2252\n"
          ]
        },
        {
          "output_type": "stream",
          "name": "stderr",
          "text": [
            "Epoch [210/10000]: 100%|██████████| 14/14 [00:00<00:00, 81.82it/s, loss=1.05]\n"
          ]
        },
        {
          "output_type": "stream",
          "name": "stdout",
          "text": [
            "Epoch [210/10000]: Train loss: 1.1385, Valid loss: 1.0894\n"
          ]
        },
        {
          "output_type": "stream",
          "name": "stderr",
          "text": [
            "Epoch [211/10000]: 100%|██████████| 14/14 [00:00<00:00, 91.33it/s, loss=1.19]\n"
          ]
        },
        {
          "output_type": "stream",
          "name": "stdout",
          "text": [
            "Epoch [211/10000]: Train loss: 1.1054, Valid loss: 1.1312\n"
          ]
        },
        {
          "output_type": "stream",
          "name": "stderr",
          "text": [
            "Epoch [212/10000]: 100%|██████████| 14/14 [00:00<00:00, 85.28it/s, loss=1.55]\n"
          ]
        },
        {
          "output_type": "stream",
          "name": "stdout",
          "text": [
            "Epoch [212/10000]: Train loss: 1.1384, Valid loss: 1.1688\n"
          ]
        },
        {
          "output_type": "stream",
          "name": "stderr",
          "text": [
            "Epoch [213/10000]: 100%|██████████| 14/14 [00:00<00:00, 89.15it/s, loss=1.07]\n"
          ]
        },
        {
          "output_type": "stream",
          "name": "stdout",
          "text": [
            "Epoch [213/10000]: Train loss: 1.1206, Valid loss: 1.1404\n"
          ]
        },
        {
          "output_type": "stream",
          "name": "stderr",
          "text": [
            "Epoch [214/10000]: 100%|██████████| 14/14 [00:00<00:00, 92.03it/s, loss=1.28]\n"
          ]
        },
        {
          "output_type": "stream",
          "name": "stdout",
          "text": [
            "Epoch [214/10000]: Train loss: 1.1385, Valid loss: 1.0862\n"
          ]
        },
        {
          "output_type": "stream",
          "name": "stderr",
          "text": [
            "Epoch [215/10000]: 100%|██████████| 14/14 [00:00<00:00, 86.98it/s, loss=0.739]\n"
          ]
        },
        {
          "output_type": "stream",
          "name": "stdout",
          "text": [
            "Epoch [215/10000]: Train loss: 1.1210, Valid loss: 1.1169\n"
          ]
        },
        {
          "output_type": "stream",
          "name": "stderr",
          "text": [
            "Epoch [216/10000]: 100%|██████████| 14/14 [00:00<00:00, 68.98it/s, loss=1.01]\n"
          ]
        },
        {
          "output_type": "stream",
          "name": "stdout",
          "text": [
            "Epoch [216/10000]: Train loss: 1.1286, Valid loss: 1.0659\n",
            "Saving model with loss 1.066...\n"
          ]
        },
        {
          "output_type": "stream",
          "name": "stderr",
          "text": [
            "Epoch [217/10000]: 100%|██████████| 14/14 [00:00<00:00, 84.05it/s, loss=1.31]\n"
          ]
        },
        {
          "output_type": "stream",
          "name": "stdout",
          "text": [
            "Epoch [217/10000]: Train loss: 1.1157, Valid loss: 1.1093\n"
          ]
        },
        {
          "output_type": "stream",
          "name": "stderr",
          "text": [
            "Epoch [218/10000]: 100%|██████████| 14/14 [00:00<00:00, 74.95it/s, loss=1.6]\n"
          ]
        },
        {
          "output_type": "stream",
          "name": "stdout",
          "text": [
            "Epoch [218/10000]: Train loss: 1.1205, Valid loss: 1.0927\n"
          ]
        },
        {
          "output_type": "stream",
          "name": "stderr",
          "text": [
            "Epoch [219/10000]: 100%|██████████| 14/14 [00:00<00:00, 85.88it/s, loss=1.54]\n"
          ]
        },
        {
          "output_type": "stream",
          "name": "stdout",
          "text": [
            "Epoch [219/10000]: Train loss: 1.1209, Valid loss: 1.1013\n"
          ]
        },
        {
          "output_type": "stream",
          "name": "stderr",
          "text": [
            "Epoch [220/10000]: 100%|██████████| 14/14 [00:00<00:00, 73.69it/s, loss=0.942]\n"
          ]
        },
        {
          "output_type": "stream",
          "name": "stdout",
          "text": [
            "Epoch [220/10000]: Train loss: 1.1084, Valid loss: 1.0981\n"
          ]
        },
        {
          "output_type": "stream",
          "name": "stderr",
          "text": [
            "Epoch [221/10000]: 100%|██████████| 14/14 [00:00<00:00, 82.60it/s, loss=1.22]\n"
          ]
        },
        {
          "output_type": "stream",
          "name": "stdout",
          "text": [
            "Epoch [221/10000]: Train loss: 1.1112, Valid loss: 1.1233\n"
          ]
        },
        {
          "output_type": "stream",
          "name": "stderr",
          "text": [
            "Epoch [222/10000]: 100%|██████████| 14/14 [00:00<00:00, 88.08it/s, loss=1.36]\n"
          ]
        },
        {
          "output_type": "stream",
          "name": "stdout",
          "text": [
            "Epoch [222/10000]: Train loss: 1.1141, Valid loss: 1.1848\n"
          ]
        },
        {
          "output_type": "stream",
          "name": "stderr",
          "text": [
            "Epoch [223/10000]: 100%|██████████| 14/14 [00:00<00:00, 82.88it/s, loss=1.41]\n"
          ]
        },
        {
          "output_type": "stream",
          "name": "stdout",
          "text": [
            "Epoch [223/10000]: Train loss: 1.1578, Valid loss: 1.1951\n"
          ]
        },
        {
          "output_type": "stream",
          "name": "stderr",
          "text": [
            "Epoch [224/10000]: 100%|██████████| 14/14 [00:00<00:00, 81.16it/s, loss=1.02]\n"
          ]
        },
        {
          "output_type": "stream",
          "name": "stdout",
          "text": [
            "Epoch [224/10000]: Train loss: 1.1287, Valid loss: 1.2615\n"
          ]
        },
        {
          "output_type": "stream",
          "name": "stderr",
          "text": [
            "Epoch [225/10000]: 100%|██████████| 14/14 [00:00<00:00, 70.34it/s, loss=1.02]\n"
          ]
        },
        {
          "output_type": "stream",
          "name": "stdout",
          "text": [
            "Epoch [225/10000]: Train loss: 1.1329, Valid loss: 1.1137\n"
          ]
        },
        {
          "output_type": "stream",
          "name": "stderr",
          "text": [
            "Epoch [226/10000]: 100%|██████████| 14/14 [00:00<00:00, 69.19it/s, loss=1.35]\n"
          ]
        },
        {
          "output_type": "stream",
          "name": "stdout",
          "text": [
            "Epoch [226/10000]: Train loss: 1.1502, Valid loss: 1.0603\n",
            "Saving model with loss 1.060...\n"
          ]
        },
        {
          "output_type": "stream",
          "name": "stderr",
          "text": [
            "Epoch [227/10000]: 100%|██████████| 14/14 [00:00<00:00, 71.52it/s, loss=0.946]\n"
          ]
        },
        {
          "output_type": "stream",
          "name": "stdout",
          "text": [
            "Epoch [227/10000]: Train loss: 1.1207, Valid loss: 1.0598\n",
            "Saving model with loss 1.060...\n"
          ]
        },
        {
          "output_type": "stream",
          "name": "stderr",
          "text": [
            "Epoch [228/10000]: 100%|██████████| 14/14 [00:00<00:00, 83.19it/s, loss=0.718]\n"
          ]
        },
        {
          "output_type": "stream",
          "name": "stdout",
          "text": [
            "Epoch [228/10000]: Train loss: 1.1275, Valid loss: 1.4965\n"
          ]
        },
        {
          "output_type": "stream",
          "name": "stderr",
          "text": [
            "Epoch [229/10000]: 100%|██████████| 14/14 [00:00<00:00, 90.20it/s, loss=1.51]\n"
          ]
        },
        {
          "output_type": "stream",
          "name": "stdout",
          "text": [
            "Epoch [229/10000]: Train loss: 1.3007, Valid loss: 1.1714\n"
          ]
        },
        {
          "output_type": "stream",
          "name": "stderr",
          "text": [
            "Epoch [230/10000]: 100%|██████████| 14/14 [00:00<00:00, 91.21it/s, loss=1.19]\n"
          ]
        },
        {
          "output_type": "stream",
          "name": "stdout",
          "text": [
            "Epoch [230/10000]: Train loss: 1.1809, Valid loss: 1.0913\n"
          ]
        },
        {
          "output_type": "stream",
          "name": "stderr",
          "text": [
            "Epoch [231/10000]: 100%|██████████| 14/14 [00:00<00:00, 76.59it/s, loss=0.868]\n"
          ]
        },
        {
          "output_type": "stream",
          "name": "stdout",
          "text": [
            "Epoch [231/10000]: Train loss: 1.1263, Valid loss: 1.0775\n"
          ]
        },
        {
          "output_type": "stream",
          "name": "stderr",
          "text": [
            "Epoch [232/10000]: 100%|██████████| 14/14 [00:00<00:00, 75.78it/s, loss=1.32]\n"
          ]
        },
        {
          "output_type": "stream",
          "name": "stdout",
          "text": [
            "Epoch [232/10000]: Train loss: 1.1230, Valid loss: 1.0745\n"
          ]
        },
        {
          "output_type": "stream",
          "name": "stderr",
          "text": [
            "Epoch [233/10000]: 100%|██████████| 14/14 [00:00<00:00, 82.93it/s, loss=1.15]\n"
          ]
        },
        {
          "output_type": "stream",
          "name": "stdout",
          "text": [
            "Epoch [233/10000]: Train loss: 1.1126, Valid loss: 1.0811\n"
          ]
        },
        {
          "output_type": "stream",
          "name": "stderr",
          "text": [
            "Epoch [234/10000]: 100%|██████████| 14/14 [00:00<00:00, 85.24it/s, loss=1.02]\n"
          ]
        },
        {
          "output_type": "stream",
          "name": "stdout",
          "text": [
            "Epoch [234/10000]: Train loss: 1.1208, Valid loss: 1.2682\n"
          ]
        },
        {
          "output_type": "stream",
          "name": "stderr",
          "text": [
            "Epoch [235/10000]: 100%|██████████| 14/14 [00:00<00:00, 77.66it/s, loss=1.01]\n"
          ]
        },
        {
          "output_type": "stream",
          "name": "stdout",
          "text": [
            "Epoch [235/10000]: Train loss: 1.1482, Valid loss: 1.0721\n"
          ]
        },
        {
          "output_type": "stream",
          "name": "stderr",
          "text": [
            "Epoch [236/10000]: 100%|██████████| 14/14 [00:00<00:00, 83.36it/s, loss=1.31]\n"
          ]
        },
        {
          "output_type": "stream",
          "name": "stdout",
          "text": [
            "Epoch [236/10000]: Train loss: 1.1312, Valid loss: 1.0936\n"
          ]
        },
        {
          "output_type": "stream",
          "name": "stderr",
          "text": [
            "Epoch [237/10000]: 100%|██████████| 14/14 [00:00<00:00, 84.32it/s, loss=1.06]\n"
          ]
        },
        {
          "output_type": "stream",
          "name": "stdout",
          "text": [
            "Epoch [237/10000]: Train loss: 1.1146, Valid loss: 1.1463\n"
          ]
        },
        {
          "output_type": "stream",
          "name": "stderr",
          "text": [
            "Epoch [238/10000]: 100%|██████████| 14/14 [00:00<00:00, 81.33it/s, loss=0.69]\n"
          ]
        },
        {
          "output_type": "stream",
          "name": "stdout",
          "text": [
            "Epoch [238/10000]: Train loss: 1.1065, Valid loss: 1.2018\n"
          ]
        },
        {
          "output_type": "stream",
          "name": "stderr",
          "text": [
            "Epoch [239/10000]: 100%|██████████| 14/14 [00:00<00:00, 78.67it/s, loss=1.35]\n"
          ]
        },
        {
          "output_type": "stream",
          "name": "stdout",
          "text": [
            "Epoch [239/10000]: Train loss: 1.1576, Valid loss: 1.0781\n"
          ]
        },
        {
          "output_type": "stream",
          "name": "stderr",
          "text": [
            "Epoch [240/10000]: 100%|██████████| 14/14 [00:00<00:00, 78.99it/s, loss=0.565]\n"
          ]
        },
        {
          "output_type": "stream",
          "name": "stdout",
          "text": [
            "Epoch [240/10000]: Train loss: 1.1402, Valid loss: 1.1145\n"
          ]
        },
        {
          "output_type": "stream",
          "name": "stderr",
          "text": [
            "Epoch [241/10000]: 100%|██████████| 14/14 [00:00<00:00, 70.80it/s, loss=1.03]\n"
          ]
        },
        {
          "output_type": "stream",
          "name": "stdout",
          "text": [
            "Epoch [241/10000]: Train loss: 1.1329, Valid loss: 1.1335\n"
          ]
        },
        {
          "output_type": "stream",
          "name": "stderr",
          "text": [
            "Epoch [242/10000]: 100%|██████████| 14/14 [00:00<00:00, 74.31it/s, loss=1.09]\n"
          ]
        },
        {
          "output_type": "stream",
          "name": "stdout",
          "text": [
            "Epoch [242/10000]: Train loss: 1.1443, Valid loss: 1.1141\n"
          ]
        },
        {
          "output_type": "stream",
          "name": "stderr",
          "text": [
            "Epoch [243/10000]: 100%|██████████| 14/14 [00:00<00:00, 85.54it/s, loss=1.25]\n"
          ]
        },
        {
          "output_type": "stream",
          "name": "stdout",
          "text": [
            "Epoch [243/10000]: Train loss: 1.1749, Valid loss: 1.1652\n"
          ]
        },
        {
          "output_type": "stream",
          "name": "stderr",
          "text": [
            "Epoch [244/10000]: 100%|██████████| 14/14 [00:00<00:00, 84.45it/s, loss=1.14]\n"
          ]
        },
        {
          "output_type": "stream",
          "name": "stdout",
          "text": [
            "Epoch [244/10000]: Train loss: 1.1813, Valid loss: 1.1388\n"
          ]
        },
        {
          "output_type": "stream",
          "name": "stderr",
          "text": [
            "Epoch [245/10000]: 100%|██████████| 14/14 [00:00<00:00, 72.31it/s, loss=1.12]\n"
          ]
        },
        {
          "output_type": "stream",
          "name": "stdout",
          "text": [
            "Epoch [245/10000]: Train loss: 1.1706, Valid loss: 1.1235\n"
          ]
        },
        {
          "output_type": "stream",
          "name": "stderr",
          "text": [
            "Epoch [246/10000]: 100%|██████████| 14/14 [00:00<00:00, 91.85it/s, loss=1.18]\n"
          ]
        },
        {
          "output_type": "stream",
          "name": "stdout",
          "text": [
            "Epoch [246/10000]: Train loss: 1.1314, Valid loss: 1.1113\n"
          ]
        },
        {
          "output_type": "stream",
          "name": "stderr",
          "text": [
            "Epoch [247/10000]: 100%|██████████| 14/14 [00:00<00:00, 95.24it/s, loss=1.75]\n"
          ]
        },
        {
          "output_type": "stream",
          "name": "stdout",
          "text": [
            "Epoch [247/10000]: Train loss: 1.1358, Valid loss: 1.1833\n"
          ]
        },
        {
          "output_type": "stream",
          "name": "stderr",
          "text": [
            "Epoch [248/10000]: 100%|██████████| 14/14 [00:00<00:00, 91.75it/s, loss=1.12]\n"
          ]
        },
        {
          "output_type": "stream",
          "name": "stdout",
          "text": [
            "Epoch [248/10000]: Train loss: 1.1389, Valid loss: 1.0911\n"
          ]
        },
        {
          "output_type": "stream",
          "name": "stderr",
          "text": [
            "Epoch [249/10000]: 100%|██████████| 14/14 [00:00<00:00, 92.12it/s, loss=0.992]\n"
          ]
        },
        {
          "output_type": "stream",
          "name": "stdout",
          "text": [
            "Epoch [249/10000]: Train loss: 1.1172, Valid loss: 1.2987\n"
          ]
        },
        {
          "output_type": "stream",
          "name": "stderr",
          "text": [
            "Epoch [250/10000]: 100%|██████████| 14/14 [00:00<00:00, 86.91it/s, loss=0.899]\n"
          ]
        },
        {
          "output_type": "stream",
          "name": "stdout",
          "text": [
            "Epoch [250/10000]: Train loss: 1.1744, Valid loss: 1.1664\n"
          ]
        },
        {
          "output_type": "stream",
          "name": "stderr",
          "text": [
            "Epoch [251/10000]: 100%|██████████| 14/14 [00:00<00:00, 78.89it/s, loss=0.981]\n"
          ]
        },
        {
          "output_type": "stream",
          "name": "stdout",
          "text": [
            "Epoch [251/10000]: Train loss: 1.1207, Valid loss: 1.2425\n"
          ]
        },
        {
          "output_type": "stream",
          "name": "stderr",
          "text": [
            "Epoch [252/10000]: 100%|██████████| 14/14 [00:00<00:00, 83.33it/s, loss=1.21]\n"
          ]
        },
        {
          "output_type": "stream",
          "name": "stdout",
          "text": [
            "Epoch [252/10000]: Train loss: 1.1891, Valid loss: 1.1220\n"
          ]
        },
        {
          "output_type": "stream",
          "name": "stderr",
          "text": [
            "Epoch [253/10000]: 100%|██████████| 14/14 [00:00<00:00, 88.19it/s, loss=1.38]\n"
          ]
        },
        {
          "output_type": "stream",
          "name": "stdout",
          "text": [
            "Epoch [253/10000]: Train loss: 1.1614, Valid loss: 1.0758\n"
          ]
        },
        {
          "output_type": "stream",
          "name": "stderr",
          "text": [
            "Epoch [254/10000]: 100%|██████████| 14/14 [00:00<00:00, 82.31it/s, loss=1.35]\n"
          ]
        },
        {
          "output_type": "stream",
          "name": "stdout",
          "text": [
            "Epoch [254/10000]: Train loss: 1.1068, Valid loss: 1.0980\n"
          ]
        },
        {
          "output_type": "stream",
          "name": "stderr",
          "text": [
            "Epoch [255/10000]: 100%|██████████| 14/14 [00:00<00:00, 82.09it/s, loss=1.19]\n"
          ]
        },
        {
          "output_type": "stream",
          "name": "stdout",
          "text": [
            "Epoch [255/10000]: Train loss: 1.1470, Valid loss: 1.1868\n"
          ]
        },
        {
          "output_type": "stream",
          "name": "stderr",
          "text": [
            "Epoch [256/10000]: 100%|██████████| 14/14 [00:00<00:00, 83.25it/s, loss=0.863]\n"
          ]
        },
        {
          "output_type": "stream",
          "name": "stdout",
          "text": [
            "Epoch [256/10000]: Train loss: 1.1174, Valid loss: 1.1928\n"
          ]
        },
        {
          "output_type": "stream",
          "name": "stderr",
          "text": [
            "Epoch [257/10000]: 100%|██████████| 14/14 [00:00<00:00, 78.89it/s, loss=1.5]\n"
          ]
        },
        {
          "output_type": "stream",
          "name": "stdout",
          "text": [
            "Epoch [257/10000]: Train loss: 1.1451, Valid loss: 1.1854\n"
          ]
        },
        {
          "output_type": "stream",
          "name": "stderr",
          "text": [
            "Epoch [258/10000]: 100%|██████████| 14/14 [00:00<00:00, 74.11it/s, loss=1.52]\n"
          ]
        },
        {
          "output_type": "stream",
          "name": "stdout",
          "text": [
            "Epoch [258/10000]: Train loss: 1.1926, Valid loss: 1.1150\n"
          ]
        },
        {
          "output_type": "stream",
          "name": "stderr",
          "text": [
            "Epoch [259/10000]: 100%|██████████| 14/14 [00:00<00:00, 86.71it/s, loss=1.35]\n"
          ]
        },
        {
          "output_type": "stream",
          "name": "stdout",
          "text": [
            "Epoch [259/10000]: Train loss: 1.1313, Valid loss: 1.0829\n"
          ]
        },
        {
          "output_type": "stream",
          "name": "stderr",
          "text": [
            "Epoch [260/10000]: 100%|██████████| 14/14 [00:00<00:00, 80.35it/s, loss=0.817]\n"
          ]
        },
        {
          "output_type": "stream",
          "name": "stdout",
          "text": [
            "Epoch [260/10000]: Train loss: 1.1085, Valid loss: 1.0792\n"
          ]
        },
        {
          "output_type": "stream",
          "name": "stderr",
          "text": [
            "Epoch [261/10000]: 100%|██████████| 14/14 [00:00<00:00, 86.19it/s, loss=1.34]\n"
          ]
        },
        {
          "output_type": "stream",
          "name": "stdout",
          "text": [
            "Epoch [261/10000]: Train loss: 1.1355, Valid loss: 1.1200\n"
          ]
        },
        {
          "output_type": "stream",
          "name": "stderr",
          "text": [
            "Epoch [262/10000]: 100%|██████████| 14/14 [00:00<00:00, 72.14it/s, loss=1.31]\n"
          ]
        },
        {
          "output_type": "stream",
          "name": "stdout",
          "text": [
            "Epoch [262/10000]: Train loss: 1.1178, Valid loss: 1.0933\n"
          ]
        },
        {
          "output_type": "stream",
          "name": "stderr",
          "text": [
            "Epoch [263/10000]: 100%|██████████| 14/14 [00:00<00:00, 86.18it/s, loss=1.06]\n"
          ]
        },
        {
          "output_type": "stream",
          "name": "stdout",
          "text": [
            "Epoch [263/10000]: Train loss: 1.1041, Valid loss: 1.0746\n"
          ]
        },
        {
          "output_type": "stream",
          "name": "stderr",
          "text": [
            "Epoch [264/10000]: 100%|██████████| 14/14 [00:00<00:00, 84.11it/s, loss=1.44]\n"
          ]
        },
        {
          "output_type": "stream",
          "name": "stdout",
          "text": [
            "Epoch [264/10000]: Train loss: 1.1198, Valid loss: 1.2603\n"
          ]
        },
        {
          "output_type": "stream",
          "name": "stderr",
          "text": [
            "Epoch [265/10000]: 100%|██████████| 14/14 [00:00<00:00, 98.45it/s, loss=1.1] \n"
          ]
        },
        {
          "output_type": "stream",
          "name": "stdout",
          "text": [
            "Epoch [265/10000]: Train loss: 1.1311, Valid loss: 1.1021\n"
          ]
        },
        {
          "output_type": "stream",
          "name": "stderr",
          "text": [
            "Epoch [266/10000]: 100%|██████████| 14/14 [00:00<00:00, 75.28it/s, loss=1.3]\n"
          ]
        },
        {
          "output_type": "stream",
          "name": "stdout",
          "text": [
            "Epoch [266/10000]: Train loss: 1.1835, Valid loss: 1.1438\n"
          ]
        },
        {
          "output_type": "stream",
          "name": "stderr",
          "text": [
            "Epoch [267/10000]: 100%|██████████| 14/14 [00:00<00:00, 76.40it/s, loss=1.26]\n"
          ]
        },
        {
          "output_type": "stream",
          "name": "stdout",
          "text": [
            "Epoch [267/10000]: Train loss: 1.1215, Valid loss: 1.0712\n"
          ]
        },
        {
          "output_type": "stream",
          "name": "stderr",
          "text": [
            "Epoch [268/10000]: 100%|██████████| 14/14 [00:00<00:00, 64.40it/s, loss=1.73]\n"
          ]
        },
        {
          "output_type": "stream",
          "name": "stdout",
          "text": [
            "Epoch [268/10000]: Train loss: 1.1677, Valid loss: 1.1541\n"
          ]
        },
        {
          "output_type": "stream",
          "name": "stderr",
          "text": [
            "Epoch [269/10000]: 100%|██████████| 14/14 [00:00<00:00, 71.63it/s, loss=1.1]\n"
          ]
        },
        {
          "output_type": "stream",
          "name": "stdout",
          "text": [
            "Epoch [269/10000]: Train loss: 1.1212, Valid loss: 1.0654\n"
          ]
        },
        {
          "output_type": "stream",
          "name": "stderr",
          "text": [
            "Epoch [270/10000]: 100%|██████████| 14/14 [00:00<00:00, 81.79it/s, loss=0.855]\n"
          ]
        },
        {
          "output_type": "stream",
          "name": "stdout",
          "text": [
            "Epoch [270/10000]: Train loss: 1.1233, Valid loss: 1.0995\n"
          ]
        },
        {
          "output_type": "stream",
          "name": "stderr",
          "text": [
            "Epoch [271/10000]: 100%|██████████| 14/14 [00:00<00:00, 88.87it/s, loss=1.22]\n"
          ]
        },
        {
          "output_type": "stream",
          "name": "stdout",
          "text": [
            "Epoch [271/10000]: Train loss: 1.1112, Valid loss: 1.0949\n"
          ]
        },
        {
          "output_type": "stream",
          "name": "stderr",
          "text": [
            "Epoch [272/10000]: 100%|██████████| 14/14 [00:00<00:00, 89.41it/s, loss=0.937]\n"
          ]
        },
        {
          "output_type": "stream",
          "name": "stdout",
          "text": [
            "Epoch [272/10000]: Train loss: 1.0989, Valid loss: 1.0735\n"
          ]
        },
        {
          "output_type": "stream",
          "name": "stderr",
          "text": [
            "Epoch [273/10000]: 100%|██████████| 14/14 [00:00<00:00, 85.56it/s, loss=1.52]\n"
          ]
        },
        {
          "output_type": "stream",
          "name": "stdout",
          "text": [
            "Epoch [273/10000]: Train loss: 1.1450, Valid loss: 1.2215\n"
          ]
        },
        {
          "output_type": "stream",
          "name": "stderr",
          "text": [
            "Epoch [274/10000]: 100%|██████████| 14/14 [00:00<00:00, 79.93it/s, loss=1.08]\n"
          ]
        },
        {
          "output_type": "stream",
          "name": "stdout",
          "text": [
            "Epoch [274/10000]: Train loss: 1.1255, Valid loss: 1.0908\n"
          ]
        },
        {
          "output_type": "stream",
          "name": "stderr",
          "text": [
            "Epoch [275/10000]: 100%|██████████| 14/14 [00:00<00:00, 81.27it/s, loss=1.32]\n"
          ]
        },
        {
          "output_type": "stream",
          "name": "stdout",
          "text": [
            "Epoch [275/10000]: Train loss: 1.1167, Valid loss: 1.0902\n"
          ]
        },
        {
          "output_type": "stream",
          "name": "stderr",
          "text": [
            "Epoch [276/10000]: 100%|██████████| 14/14 [00:00<00:00, 80.01it/s, loss=1.07]\n"
          ]
        },
        {
          "output_type": "stream",
          "name": "stdout",
          "text": [
            "Epoch [276/10000]: Train loss: 1.1039, Valid loss: 1.0913\n"
          ]
        },
        {
          "output_type": "stream",
          "name": "stderr",
          "text": [
            "Epoch [277/10000]: 100%|██████████| 14/14 [00:00<00:00, 83.13it/s, loss=1.04]\n"
          ]
        },
        {
          "output_type": "stream",
          "name": "stdout",
          "text": [
            "Epoch [277/10000]: Train loss: 1.0986, Valid loss: 1.0954\n"
          ]
        },
        {
          "output_type": "stream",
          "name": "stderr",
          "text": [
            "Epoch [278/10000]: 100%|██████████| 14/14 [00:00<00:00, 82.55it/s, loss=0.906]\n"
          ]
        },
        {
          "output_type": "stream",
          "name": "stdout",
          "text": [
            "Epoch [278/10000]: Train loss: 1.1523, Valid loss: 1.1615\n"
          ]
        },
        {
          "output_type": "stream",
          "name": "stderr",
          "text": [
            "Epoch [279/10000]: 100%|██████████| 14/14 [00:00<00:00, 91.88it/s, loss=1.07]\n"
          ]
        },
        {
          "output_type": "stream",
          "name": "stdout",
          "text": [
            "Epoch [279/10000]: Train loss: 1.2883, Valid loss: 1.5030\n"
          ]
        },
        {
          "output_type": "stream",
          "name": "stderr",
          "text": [
            "Epoch [280/10000]: 100%|██████████| 14/14 [00:00<00:00, 103.13it/s, loss=1.84]\n"
          ]
        },
        {
          "output_type": "stream",
          "name": "stdout",
          "text": [
            "Epoch [280/10000]: Train loss: 1.2349, Valid loss: 1.2089\n"
          ]
        },
        {
          "output_type": "stream",
          "name": "stderr",
          "text": [
            "Epoch [281/10000]: 100%|██████████| 14/14 [00:00<00:00, 75.39it/s, loss=0.948]\n"
          ]
        },
        {
          "output_type": "stream",
          "name": "stdout",
          "text": [
            "Epoch [281/10000]: Train loss: 1.1856, Valid loss: 1.1042\n"
          ]
        },
        {
          "output_type": "stream",
          "name": "stderr",
          "text": [
            "Epoch [282/10000]: 100%|██████████| 14/14 [00:00<00:00, 82.32it/s, loss=1.65]\n"
          ]
        },
        {
          "output_type": "stream",
          "name": "stdout",
          "text": [
            "Epoch [282/10000]: Train loss: 1.1434, Valid loss: 1.1261\n"
          ]
        },
        {
          "output_type": "stream",
          "name": "stderr",
          "text": [
            "Epoch [283/10000]: 100%|██████████| 14/14 [00:00<00:00, 88.66it/s, loss=1.08]\n"
          ]
        },
        {
          "output_type": "stream",
          "name": "stdout",
          "text": [
            "Epoch [283/10000]: Train loss: 1.1535, Valid loss: 1.2320\n"
          ]
        },
        {
          "output_type": "stream",
          "name": "stderr",
          "text": [
            "Epoch [284/10000]: 100%|██████████| 14/14 [00:00<00:00, 85.03it/s, loss=1.53]\n"
          ]
        },
        {
          "output_type": "stream",
          "name": "stdout",
          "text": [
            "Epoch [284/10000]: Train loss: 1.1878, Valid loss: 1.1767\n"
          ]
        },
        {
          "output_type": "stream",
          "name": "stderr",
          "text": [
            "Epoch [285/10000]: 100%|██████████| 14/14 [00:00<00:00, 70.03it/s, loss=0.975]\n"
          ]
        },
        {
          "output_type": "stream",
          "name": "stdout",
          "text": [
            "Epoch [285/10000]: Train loss: 1.1699, Valid loss: 1.1210\n"
          ]
        },
        {
          "output_type": "stream",
          "name": "stderr",
          "text": [
            "Epoch [286/10000]: 100%|██████████| 14/14 [00:00<00:00, 82.33it/s, loss=1.12]\n"
          ]
        },
        {
          "output_type": "stream",
          "name": "stdout",
          "text": [
            "Epoch [286/10000]: Train loss: 1.1874, Valid loss: 1.3508\n"
          ]
        },
        {
          "output_type": "stream",
          "name": "stderr",
          "text": [
            "Epoch [287/10000]: 100%|██████████| 14/14 [00:00<00:00, 80.63it/s, loss=1.02]\n"
          ]
        },
        {
          "output_type": "stream",
          "name": "stdout",
          "text": [
            "Epoch [287/10000]: Train loss: 1.1813, Valid loss: 1.0903\n"
          ]
        },
        {
          "output_type": "stream",
          "name": "stderr",
          "text": [
            "Epoch [288/10000]: 100%|██████████| 14/14 [00:00<00:00, 73.89it/s, loss=1.35]\n"
          ]
        },
        {
          "output_type": "stream",
          "name": "stdout",
          "text": [
            "Epoch [288/10000]: Train loss: 1.1164, Valid loss: 1.1002\n"
          ]
        },
        {
          "output_type": "stream",
          "name": "stderr",
          "text": [
            "Epoch [289/10000]: 100%|██████████| 14/14 [00:00<00:00, 83.44it/s, loss=1.66]\n"
          ]
        },
        {
          "output_type": "stream",
          "name": "stdout",
          "text": [
            "Epoch [289/10000]: Train loss: 1.1606, Valid loss: 1.1114\n"
          ]
        },
        {
          "output_type": "stream",
          "name": "stderr",
          "text": [
            "Epoch [290/10000]: 100%|██████████| 14/14 [00:00<00:00, 85.42it/s, loss=0.882]\n"
          ]
        },
        {
          "output_type": "stream",
          "name": "stdout",
          "text": [
            "Epoch [290/10000]: Train loss: 1.1290, Valid loss: 1.1875\n"
          ]
        },
        {
          "output_type": "stream",
          "name": "stderr",
          "text": [
            "Epoch [291/10000]: 100%|██████████| 14/14 [00:00<00:00, 78.41it/s, loss=1.04]\n"
          ]
        },
        {
          "output_type": "stream",
          "name": "stdout",
          "text": [
            "Epoch [291/10000]: Train loss: 1.1669, Valid loss: 1.0791\n"
          ]
        },
        {
          "output_type": "stream",
          "name": "stderr",
          "text": [
            "Epoch [292/10000]: 100%|██████████| 14/14 [00:00<00:00, 78.13it/s, loss=1.31]\n"
          ]
        },
        {
          "output_type": "stream",
          "name": "stdout",
          "text": [
            "Epoch [292/10000]: Train loss: 1.1093, Valid loss: 1.1614\n"
          ]
        },
        {
          "output_type": "stream",
          "name": "stderr",
          "text": [
            "Epoch [293/10000]: 100%|██████████| 14/14 [00:00<00:00, 82.58it/s, loss=0.953]\n"
          ]
        },
        {
          "output_type": "stream",
          "name": "stdout",
          "text": [
            "Epoch [293/10000]: Train loss: 1.1228, Valid loss: 1.0734\n"
          ]
        },
        {
          "output_type": "stream",
          "name": "stderr",
          "text": [
            "Epoch [294/10000]: 100%|██████████| 14/14 [00:00<00:00, 77.63it/s, loss=0.633]\n"
          ]
        },
        {
          "output_type": "stream",
          "name": "stdout",
          "text": [
            "Epoch [294/10000]: Train loss: 1.0965, Valid loss: 1.0717\n"
          ]
        },
        {
          "output_type": "stream",
          "name": "stderr",
          "text": [
            "Epoch [295/10000]: 100%|██████████| 14/14 [00:00<00:00, 81.44it/s, loss=1.41]\n"
          ]
        },
        {
          "output_type": "stream",
          "name": "stdout",
          "text": [
            "Epoch [295/10000]: Train loss: 1.1172, Valid loss: 1.0644\n"
          ]
        },
        {
          "output_type": "stream",
          "name": "stderr",
          "text": [
            "Epoch [296/10000]: 100%|██████████| 14/14 [00:00<00:00, 78.86it/s, loss=1.01]\n"
          ]
        },
        {
          "output_type": "stream",
          "name": "stdout",
          "text": [
            "Epoch [296/10000]: Train loss: 1.1055, Valid loss: 1.0698\n"
          ]
        },
        {
          "output_type": "stream",
          "name": "stderr",
          "text": [
            "Epoch [297/10000]: 100%|██████████| 14/14 [00:00<00:00, 83.95it/s, loss=0.913]\n"
          ]
        },
        {
          "output_type": "stream",
          "name": "stdout",
          "text": [
            "Epoch [297/10000]: Train loss: 1.1007, Valid loss: 1.0912\n"
          ]
        },
        {
          "output_type": "stream",
          "name": "stderr",
          "text": [
            "Epoch [298/10000]: 100%|██████████| 14/14 [00:00<00:00, 78.08it/s, loss=1.23]\n"
          ]
        },
        {
          "output_type": "stream",
          "name": "stdout",
          "text": [
            "Epoch [298/10000]: Train loss: 1.1127, Valid loss: 1.1214\n"
          ]
        },
        {
          "output_type": "stream",
          "name": "stderr",
          "text": [
            "Epoch [299/10000]: 100%|██████████| 14/14 [00:00<00:00, 79.54it/s, loss=0.939]\n"
          ]
        },
        {
          "output_type": "stream",
          "name": "stdout",
          "text": [
            "Epoch [299/10000]: Train loss: 1.1074, Valid loss: 1.1325\n"
          ]
        },
        {
          "output_type": "stream",
          "name": "stderr",
          "text": [
            "Epoch [300/10000]: 100%|██████████| 14/14 [00:00<00:00, 88.06it/s, loss=1.31]\n"
          ]
        },
        {
          "output_type": "stream",
          "name": "stdout",
          "text": [
            "Epoch [300/10000]: Train loss: 1.1818, Valid loss: 1.2393\n"
          ]
        },
        {
          "output_type": "stream",
          "name": "stderr",
          "text": [
            "Epoch [301/10000]: 100%|██████████| 14/14 [00:00<00:00, 84.18it/s, loss=1.25]\n"
          ]
        },
        {
          "output_type": "stream",
          "name": "stdout",
          "text": [
            "Epoch [301/10000]: Train loss: 1.1284, Valid loss: 1.0934\n"
          ]
        },
        {
          "output_type": "stream",
          "name": "stderr",
          "text": [
            "Epoch [302/10000]: 100%|██████████| 14/14 [00:00<00:00, 70.75it/s, loss=1.33]\n"
          ]
        },
        {
          "output_type": "stream",
          "name": "stdout",
          "text": [
            "Epoch [302/10000]: Train loss: 1.1240, Valid loss: 1.0742\n"
          ]
        },
        {
          "output_type": "stream",
          "name": "stderr",
          "text": [
            "Epoch [303/10000]: 100%|██████████| 14/14 [00:00<00:00, 78.52it/s, loss=1.07]\n"
          ]
        },
        {
          "output_type": "stream",
          "name": "stdout",
          "text": [
            "Epoch [303/10000]: Train loss: 1.1065, Valid loss: 1.1299\n"
          ]
        },
        {
          "output_type": "stream",
          "name": "stderr",
          "text": [
            "Epoch [304/10000]: 100%|██████████| 14/14 [00:00<00:00, 87.86it/s, loss=1.21]\n"
          ]
        },
        {
          "output_type": "stream",
          "name": "stdout",
          "text": [
            "Epoch [304/10000]: Train loss: 1.2137, Valid loss: 1.0607\n"
          ]
        },
        {
          "output_type": "stream",
          "name": "stderr",
          "text": [
            "Epoch [305/10000]: 100%|██████████| 14/14 [00:00<00:00, 71.79it/s, loss=0.965]\n"
          ]
        },
        {
          "output_type": "stream",
          "name": "stdout",
          "text": [
            "Epoch [305/10000]: Train loss: 1.1295, Valid loss: 1.0943\n"
          ]
        },
        {
          "output_type": "stream",
          "name": "stderr",
          "text": [
            "Epoch [306/10000]: 100%|██████████| 14/14 [00:00<00:00, 85.87it/s, loss=0.966]\n"
          ]
        },
        {
          "output_type": "stream",
          "name": "stdout",
          "text": [
            "Epoch [306/10000]: Train loss: 1.1274, Valid loss: 1.0882\n"
          ]
        },
        {
          "output_type": "stream",
          "name": "stderr",
          "text": [
            "Epoch [307/10000]: 100%|██████████| 14/14 [00:00<00:00, 77.95it/s, loss=0.92]\n"
          ]
        },
        {
          "output_type": "stream",
          "name": "stdout",
          "text": [
            "Epoch [307/10000]: Train loss: 1.1036, Valid loss: 1.1221\n"
          ]
        },
        {
          "output_type": "stream",
          "name": "stderr",
          "text": [
            "Epoch [308/10000]: 100%|██████████| 14/14 [00:00<00:00, 72.47it/s, loss=1.19]\n"
          ]
        },
        {
          "output_type": "stream",
          "name": "stdout",
          "text": [
            "Epoch [308/10000]: Train loss: 1.1123, Valid loss: 1.0694\n"
          ]
        },
        {
          "output_type": "stream",
          "name": "stderr",
          "text": [
            "Epoch [309/10000]: 100%|██████████| 14/14 [00:00<00:00, 81.86it/s, loss=0.994]\n"
          ]
        },
        {
          "output_type": "stream",
          "name": "stdout",
          "text": [
            "Epoch [309/10000]: Train loss: 1.1068, Valid loss: 1.1064\n"
          ]
        },
        {
          "output_type": "stream",
          "name": "stderr",
          "text": [
            "Epoch [310/10000]: 100%|██████████| 14/14 [00:00<00:00, 82.53it/s, loss=0.689]\n"
          ]
        },
        {
          "output_type": "stream",
          "name": "stdout",
          "text": [
            "Epoch [310/10000]: Train loss: 1.0948, Valid loss: 1.0763\n"
          ]
        },
        {
          "output_type": "stream",
          "name": "stderr",
          "text": [
            "Epoch [311/10000]: 100%|██████████| 14/14 [00:00<00:00, 80.01it/s, loss=0.7]\n"
          ]
        },
        {
          "output_type": "stream",
          "name": "stdout",
          "text": [
            "Epoch [311/10000]: Train loss: 1.0873, Valid loss: 1.1205\n"
          ]
        },
        {
          "output_type": "stream",
          "name": "stderr",
          "text": [
            "Epoch [312/10000]: 100%|██████████| 14/14 [00:00<00:00, 88.86it/s, loss=0.978]\n"
          ]
        },
        {
          "output_type": "stream",
          "name": "stdout",
          "text": [
            "Epoch [312/10000]: Train loss: 1.1222, Valid loss: 1.1138\n"
          ]
        },
        {
          "output_type": "stream",
          "name": "stderr",
          "text": [
            "Epoch [313/10000]: 100%|██████████| 14/14 [00:00<00:00, 80.14it/s, loss=1.56]\n"
          ]
        },
        {
          "output_type": "stream",
          "name": "stdout",
          "text": [
            "Epoch [313/10000]: Train loss: 1.2227, Valid loss: 1.3288\n"
          ]
        },
        {
          "output_type": "stream",
          "name": "stderr",
          "text": [
            "Epoch [314/10000]: 100%|██████████| 14/14 [00:00<00:00, 87.02it/s, loss=1.4]\n"
          ]
        },
        {
          "output_type": "stream",
          "name": "stdout",
          "text": [
            "Epoch [314/10000]: Train loss: 1.1761, Valid loss: 1.1553\n"
          ]
        },
        {
          "output_type": "stream",
          "name": "stderr",
          "text": [
            "Epoch [315/10000]: 100%|██████████| 14/14 [00:00<00:00, 77.99it/s, loss=0.902]\n"
          ]
        },
        {
          "output_type": "stream",
          "name": "stdout",
          "text": [
            "Epoch [315/10000]: Train loss: 1.1316, Valid loss: 1.0993\n"
          ]
        },
        {
          "output_type": "stream",
          "name": "stderr",
          "text": [
            "Epoch [316/10000]: 100%|██████████| 14/14 [00:00<00:00, 75.37it/s, loss=1.33]\n"
          ]
        },
        {
          "output_type": "stream",
          "name": "stdout",
          "text": [
            "Epoch [316/10000]: Train loss: 1.1149, Valid loss: 1.0979\n"
          ]
        },
        {
          "output_type": "stream",
          "name": "stderr",
          "text": [
            "Epoch [317/10000]: 100%|██████████| 14/14 [00:00<00:00, 76.78it/s, loss=1.27]\n"
          ]
        },
        {
          "output_type": "stream",
          "name": "stdout",
          "text": [
            "Epoch [317/10000]: Train loss: 1.1254, Valid loss: 1.0844\n"
          ]
        },
        {
          "output_type": "stream",
          "name": "stderr",
          "text": [
            "Epoch [318/10000]: 100%|██████████| 14/14 [00:00<00:00, 83.98it/s, loss=1.12]\n"
          ]
        },
        {
          "output_type": "stream",
          "name": "stdout",
          "text": [
            "Epoch [318/10000]: Train loss: 1.1173, Valid loss: 1.1958\n"
          ]
        },
        {
          "output_type": "stream",
          "name": "stderr",
          "text": [
            "Epoch [319/10000]: 100%|██████████| 14/14 [00:00<00:00, 84.86it/s, loss=0.778]\n"
          ]
        },
        {
          "output_type": "stream",
          "name": "stdout",
          "text": [
            "Epoch [319/10000]: Train loss: 1.1063, Valid loss: 1.1561\n"
          ]
        },
        {
          "output_type": "stream",
          "name": "stderr",
          "text": [
            "Epoch [320/10000]: 100%|██████████| 14/14 [00:00<00:00, 79.59it/s, loss=0.802]\n"
          ]
        },
        {
          "output_type": "stream",
          "name": "stdout",
          "text": [
            "Epoch [320/10000]: Train loss: 1.1300, Valid loss: 1.0813\n"
          ]
        },
        {
          "output_type": "stream",
          "name": "stderr",
          "text": [
            "Epoch [321/10000]: 100%|██████████| 14/14 [00:00<00:00, 77.06it/s, loss=1.01]\n"
          ]
        },
        {
          "output_type": "stream",
          "name": "stdout",
          "text": [
            "Epoch [321/10000]: Train loss: 1.1729, Valid loss: 1.2028\n"
          ]
        },
        {
          "output_type": "stream",
          "name": "stderr",
          "text": [
            "Epoch [322/10000]: 100%|██████████| 14/14 [00:00<00:00, 74.26it/s, loss=0.868]\n"
          ]
        },
        {
          "output_type": "stream",
          "name": "stdout",
          "text": [
            "Epoch [322/10000]: Train loss: 1.1590, Valid loss: 1.0839\n"
          ]
        },
        {
          "output_type": "stream",
          "name": "stderr",
          "text": [
            "Epoch [323/10000]: 100%|██████████| 14/14 [00:00<00:00, 77.93it/s, loss=1.18]\n"
          ]
        },
        {
          "output_type": "stream",
          "name": "stdout",
          "text": [
            "Epoch [323/10000]: Train loss: 1.1176, Valid loss: 1.0683\n"
          ]
        },
        {
          "output_type": "stream",
          "name": "stderr",
          "text": [
            "Epoch [324/10000]: 100%|██████████| 14/14 [00:00<00:00, 85.62it/s, loss=1.12]\n"
          ]
        },
        {
          "output_type": "stream",
          "name": "stdout",
          "text": [
            "Epoch [324/10000]: Train loss: 1.1226, Valid loss: 1.1237\n"
          ]
        },
        {
          "output_type": "stream",
          "name": "stderr",
          "text": [
            "Epoch [325/10000]: 100%|██████████| 14/14 [00:00<00:00, 86.15it/s, loss=1.3]\n"
          ]
        },
        {
          "output_type": "stream",
          "name": "stdout",
          "text": [
            "Epoch [325/10000]: Train loss: 1.1263, Valid loss: 1.0635\n"
          ]
        },
        {
          "output_type": "stream",
          "name": "stderr",
          "text": [
            "Epoch [326/10000]: 100%|██████████| 14/14 [00:00<00:00, 85.05it/s, loss=1.3]\n"
          ]
        },
        {
          "output_type": "stream",
          "name": "stdout",
          "text": [
            "Epoch [326/10000]: Train loss: 1.1156, Valid loss: 1.0745\n"
          ]
        },
        {
          "output_type": "stream",
          "name": "stderr",
          "text": [
            "Epoch [327/10000]: 100%|██████████| 14/14 [00:00<00:00, 84.55it/s, loss=0.838]\n"
          ]
        },
        {
          "output_type": "stream",
          "name": "stdout",
          "text": [
            "Epoch [327/10000]: Train loss: 1.1083, Valid loss: 1.0932\n"
          ]
        },
        {
          "output_type": "stream",
          "name": "stderr",
          "text": [
            "Epoch [328/10000]: 100%|██████████| 14/14 [00:00<00:00, 73.00it/s, loss=0.924]\n"
          ]
        },
        {
          "output_type": "stream",
          "name": "stdout",
          "text": [
            "Epoch [328/10000]: Train loss: 1.0995, Valid loss: 1.0848\n"
          ]
        },
        {
          "output_type": "stream",
          "name": "stderr",
          "text": [
            "Epoch [329/10000]: 100%|██████████| 14/14 [00:00<00:00, 79.37it/s, loss=0.931]\n"
          ]
        },
        {
          "output_type": "stream",
          "name": "stdout",
          "text": [
            "Epoch [329/10000]: Train loss: 1.1204, Valid loss: 1.1253\n"
          ]
        },
        {
          "output_type": "stream",
          "name": "stderr",
          "text": [
            "Epoch [330/10000]: 100%|██████████| 14/14 [00:00<00:00, 76.85it/s, loss=1.01]\n"
          ]
        },
        {
          "output_type": "stream",
          "name": "stdout",
          "text": [
            "Epoch [330/10000]: Train loss: 1.1485, Valid loss: 1.1338\n"
          ]
        },
        {
          "output_type": "stream",
          "name": "stderr",
          "text": [
            "Epoch [331/10000]: 100%|██████████| 14/14 [00:00<00:00, 77.75it/s, loss=1.12]\n"
          ]
        },
        {
          "output_type": "stream",
          "name": "stdout",
          "text": [
            "Epoch [331/10000]: Train loss: 1.2650, Valid loss: 1.0728\n"
          ]
        },
        {
          "output_type": "stream",
          "name": "stderr",
          "text": [
            "Epoch [332/10000]: 100%|██████████| 14/14 [00:00<00:00, 84.68it/s, loss=0.986]\n"
          ]
        },
        {
          "output_type": "stream",
          "name": "stdout",
          "text": [
            "Epoch [332/10000]: Train loss: 1.1380, Valid loss: 1.0756\n"
          ]
        },
        {
          "output_type": "stream",
          "name": "stderr",
          "text": [
            "Epoch [333/10000]: 100%|██████████| 14/14 [00:00<00:00, 83.85it/s, loss=1.26]\n"
          ]
        },
        {
          "output_type": "stream",
          "name": "stdout",
          "text": [
            "Epoch [333/10000]: Train loss: 1.2017, Valid loss: 1.0936\n"
          ]
        },
        {
          "output_type": "stream",
          "name": "stderr",
          "text": [
            "Epoch [334/10000]: 100%|██████████| 14/14 [00:00<00:00, 76.45it/s, loss=1.05]\n"
          ]
        },
        {
          "output_type": "stream",
          "name": "stdout",
          "text": [
            "Epoch [334/10000]: Train loss: 1.1754, Valid loss: 1.0662\n"
          ]
        },
        {
          "output_type": "stream",
          "name": "stderr",
          "text": [
            "Epoch [335/10000]: 100%|██████████| 14/14 [00:00<00:00, 76.89it/s, loss=1.06]\n"
          ]
        },
        {
          "output_type": "stream",
          "name": "stdout",
          "text": [
            "Epoch [335/10000]: Train loss: 1.1023, Valid loss: 1.1276\n"
          ]
        },
        {
          "output_type": "stream",
          "name": "stderr",
          "text": [
            "Epoch [336/10000]: 100%|██████████| 14/14 [00:00<00:00, 72.29it/s, loss=1.42]\n"
          ]
        },
        {
          "output_type": "stream",
          "name": "stdout",
          "text": [
            "Epoch [336/10000]: Train loss: 1.1548, Valid loss: 1.1439\n"
          ]
        },
        {
          "output_type": "stream",
          "name": "stderr",
          "text": [
            "Epoch [337/10000]: 100%|██████████| 14/14 [00:00<00:00, 91.23it/s, loss=0.941]\n"
          ]
        },
        {
          "output_type": "stream",
          "name": "stdout",
          "text": [
            "Epoch [337/10000]: Train loss: 1.1152, Valid loss: 1.1239\n"
          ]
        },
        {
          "output_type": "stream",
          "name": "stderr",
          "text": [
            "Epoch [338/10000]: 100%|██████████| 14/14 [00:00<00:00, 89.44it/s, loss=0.661]\n"
          ]
        },
        {
          "output_type": "stream",
          "name": "stdout",
          "text": [
            "Epoch [338/10000]: Train loss: 1.1056, Valid loss: 1.1644\n"
          ]
        },
        {
          "output_type": "stream",
          "name": "stderr",
          "text": [
            "Epoch [339/10000]: 100%|██████████| 14/14 [00:00<00:00, 92.73it/s, loss=0.78]\n"
          ]
        },
        {
          "output_type": "stream",
          "name": "stdout",
          "text": [
            "Epoch [339/10000]: Train loss: 1.1363, Valid loss: 1.0813\n"
          ]
        },
        {
          "output_type": "stream",
          "name": "stderr",
          "text": [
            "Epoch [340/10000]: 100%|██████████| 14/14 [00:00<00:00, 88.18it/s, loss=1.02]\n"
          ]
        },
        {
          "output_type": "stream",
          "name": "stdout",
          "text": [
            "Epoch [340/10000]: Train loss: 1.0964, Valid loss: 1.0891\n"
          ]
        },
        {
          "output_type": "stream",
          "name": "stderr",
          "text": [
            "Epoch [341/10000]: 100%|██████████| 14/14 [00:00<00:00, 77.51it/s, loss=1.03]\n"
          ]
        },
        {
          "output_type": "stream",
          "name": "stdout",
          "text": [
            "Epoch [341/10000]: Train loss: 1.1058, Valid loss: 1.0577\n",
            "Saving model with loss 1.058...\n"
          ]
        },
        {
          "output_type": "stream",
          "name": "stderr",
          "text": [
            "Epoch [342/10000]: 100%|██████████| 14/14 [00:00<00:00, 74.02it/s, loss=1]\n"
          ]
        },
        {
          "output_type": "stream",
          "name": "stdout",
          "text": [
            "Epoch [342/10000]: Train loss: 1.0973, Valid loss: 1.1085\n"
          ]
        },
        {
          "output_type": "stream",
          "name": "stderr",
          "text": [
            "Epoch [343/10000]: 100%|██████████| 14/14 [00:00<00:00, 89.48it/s, loss=1.56]\n"
          ]
        },
        {
          "output_type": "stream",
          "name": "stdout",
          "text": [
            "Epoch [343/10000]: Train loss: 1.1107, Valid loss: 1.0768\n"
          ]
        },
        {
          "output_type": "stream",
          "name": "stderr",
          "text": [
            "Epoch [344/10000]: 100%|██████████| 14/14 [00:00<00:00, 75.14it/s, loss=1.66]\n"
          ]
        },
        {
          "output_type": "stream",
          "name": "stdout",
          "text": [
            "Epoch [344/10000]: Train loss: 1.1228, Valid loss: 1.0404\n",
            "Saving model with loss 1.040...\n"
          ]
        },
        {
          "output_type": "stream",
          "name": "stderr",
          "text": [
            "Epoch [345/10000]: 100%|██████████| 14/14 [00:00<00:00, 83.38it/s, loss=1.4]\n"
          ]
        },
        {
          "output_type": "stream",
          "name": "stdout",
          "text": [
            "Epoch [345/10000]: Train loss: 1.1520, Valid loss: 1.1591\n"
          ]
        },
        {
          "output_type": "stream",
          "name": "stderr",
          "text": [
            "Epoch [346/10000]: 100%|██████████| 14/14 [00:00<00:00, 82.84it/s, loss=1.11]\n"
          ]
        },
        {
          "output_type": "stream",
          "name": "stdout",
          "text": [
            "Epoch [346/10000]: Train loss: 1.1427, Valid loss: 1.0486\n"
          ]
        },
        {
          "output_type": "stream",
          "name": "stderr",
          "text": [
            "Epoch [347/10000]: 100%|██████████| 14/14 [00:00<00:00, 77.62it/s, loss=0.672]\n"
          ]
        },
        {
          "output_type": "stream",
          "name": "stdout",
          "text": [
            "Epoch [347/10000]: Train loss: 1.1801, Valid loss: 1.2159\n"
          ]
        },
        {
          "output_type": "stream",
          "name": "stderr",
          "text": [
            "Epoch [348/10000]: 100%|██████████| 14/14 [00:00<00:00, 83.88it/s, loss=0.658]\n"
          ]
        },
        {
          "output_type": "stream",
          "name": "stdout",
          "text": [
            "Epoch [348/10000]: Train loss: 1.1068, Valid loss: 1.1028\n"
          ]
        },
        {
          "output_type": "stream",
          "name": "stderr",
          "text": [
            "Epoch [349/10000]: 100%|██████████| 14/14 [00:00<00:00, 79.90it/s, loss=0.869]\n"
          ]
        },
        {
          "output_type": "stream",
          "name": "stdout",
          "text": [
            "Epoch [349/10000]: Train loss: 1.0858, Valid loss: 1.1280\n"
          ]
        },
        {
          "output_type": "stream",
          "name": "stderr",
          "text": [
            "Epoch [350/10000]: 100%|██████████| 14/14 [00:00<00:00, 76.66it/s, loss=1.13]\n"
          ]
        },
        {
          "output_type": "stream",
          "name": "stdout",
          "text": [
            "Epoch [350/10000]: Train loss: 1.1111, Valid loss: 1.1680\n"
          ]
        },
        {
          "output_type": "stream",
          "name": "stderr",
          "text": [
            "Epoch [351/10000]: 100%|██████████| 14/14 [00:00<00:00, 81.27it/s, loss=1.48]\n"
          ]
        },
        {
          "output_type": "stream",
          "name": "stdout",
          "text": [
            "Epoch [351/10000]: Train loss: 1.1872, Valid loss: 1.2238\n"
          ]
        },
        {
          "output_type": "stream",
          "name": "stderr",
          "text": [
            "Epoch [352/10000]: 100%|██████████| 14/14 [00:00<00:00, 81.83it/s, loss=0.759]\n"
          ]
        },
        {
          "output_type": "stream",
          "name": "stdout",
          "text": [
            "Epoch [352/10000]: Train loss: 1.1038, Valid loss: 1.1111\n"
          ]
        },
        {
          "output_type": "stream",
          "name": "stderr",
          "text": [
            "Epoch [353/10000]: 100%|██████████| 14/14 [00:00<00:00, 94.37it/s, loss=0.89]\n"
          ]
        },
        {
          "output_type": "stream",
          "name": "stdout",
          "text": [
            "Epoch [353/10000]: Train loss: 1.1070, Valid loss: 1.1230\n"
          ]
        },
        {
          "output_type": "stream",
          "name": "stderr",
          "text": [
            "Epoch [354/10000]: 100%|██████████| 14/14 [00:00<00:00, 94.80it/s, loss=1.04]\n"
          ]
        },
        {
          "output_type": "stream",
          "name": "stdout",
          "text": [
            "Epoch [354/10000]: Train loss: 1.1296, Valid loss: 1.0992\n"
          ]
        },
        {
          "output_type": "stream",
          "name": "stderr",
          "text": [
            "Epoch [355/10000]: 100%|██████████| 14/14 [00:00<00:00, 89.27it/s, loss=1.37]\n"
          ]
        },
        {
          "output_type": "stream",
          "name": "stdout",
          "text": [
            "Epoch [355/10000]: Train loss: 1.1289, Valid loss: 1.1266\n"
          ]
        },
        {
          "output_type": "stream",
          "name": "stderr",
          "text": [
            "Epoch [356/10000]: 100%|██████████| 14/14 [00:00<00:00, 72.14it/s, loss=1.27]\n"
          ]
        },
        {
          "output_type": "stream",
          "name": "stdout",
          "text": [
            "Epoch [356/10000]: Train loss: 1.1581, Valid loss: 1.1513\n"
          ]
        },
        {
          "output_type": "stream",
          "name": "stderr",
          "text": [
            "Epoch [357/10000]: 100%|██████████| 14/14 [00:00<00:00, 88.75it/s, loss=1.23]\n"
          ]
        },
        {
          "output_type": "stream",
          "name": "stdout",
          "text": [
            "Epoch [357/10000]: Train loss: 1.1275, Valid loss: 1.1486\n"
          ]
        },
        {
          "output_type": "stream",
          "name": "stderr",
          "text": [
            "Epoch [358/10000]: 100%|██████████| 14/14 [00:00<00:00, 81.30it/s, loss=0.936]\n"
          ]
        },
        {
          "output_type": "stream",
          "name": "stdout",
          "text": [
            "Epoch [358/10000]: Train loss: 1.1010, Valid loss: 1.0873\n"
          ]
        },
        {
          "output_type": "stream",
          "name": "stderr",
          "text": [
            "Epoch [359/10000]: 100%|██████████| 14/14 [00:00<00:00, 86.69it/s, loss=1.03]\n"
          ]
        },
        {
          "output_type": "stream",
          "name": "stdout",
          "text": [
            "Epoch [359/10000]: Train loss: 1.0948, Valid loss: 1.0787\n"
          ]
        },
        {
          "output_type": "stream",
          "name": "stderr",
          "text": [
            "Epoch [360/10000]: 100%|██████████| 14/14 [00:00<00:00, 86.05it/s, loss=0.853]\n"
          ]
        },
        {
          "output_type": "stream",
          "name": "stdout",
          "text": [
            "Epoch [360/10000]: Train loss: 1.0927, Valid loss: 1.1200\n"
          ]
        },
        {
          "output_type": "stream",
          "name": "stderr",
          "text": [
            "Epoch [361/10000]: 100%|██████████| 14/14 [00:00<00:00, 77.57it/s, loss=1.03]\n"
          ]
        },
        {
          "output_type": "stream",
          "name": "stdout",
          "text": [
            "Epoch [361/10000]: Train loss: 1.0984, Valid loss: 1.1328\n"
          ]
        },
        {
          "output_type": "stream",
          "name": "stderr",
          "text": [
            "Epoch [362/10000]: 100%|██████████| 14/14 [00:00<00:00, 85.28it/s, loss=0.779]\n"
          ]
        },
        {
          "output_type": "stream",
          "name": "stdout",
          "text": [
            "Epoch [362/10000]: Train loss: 1.0913, Valid loss: 1.0785\n"
          ]
        },
        {
          "output_type": "stream",
          "name": "stderr",
          "text": [
            "Epoch [363/10000]: 100%|██████████| 14/14 [00:00<00:00, 73.57it/s, loss=0.97]\n"
          ]
        },
        {
          "output_type": "stream",
          "name": "stdout",
          "text": [
            "Epoch [363/10000]: Train loss: 1.1138, Valid loss: 1.0798\n"
          ]
        },
        {
          "output_type": "stream",
          "name": "stderr",
          "text": [
            "Epoch [364/10000]: 100%|██████████| 14/14 [00:00<00:00, 85.06it/s, loss=1.01]\n"
          ]
        },
        {
          "output_type": "stream",
          "name": "stdout",
          "text": [
            "Epoch [364/10000]: Train loss: 1.0926, Valid loss: 1.1018\n"
          ]
        },
        {
          "output_type": "stream",
          "name": "stderr",
          "text": [
            "Epoch [365/10000]: 100%|██████████| 14/14 [00:00<00:00, 92.15it/s, loss=1.22]\n"
          ]
        },
        {
          "output_type": "stream",
          "name": "stdout",
          "text": [
            "Epoch [365/10000]: Train loss: 1.1092, Valid loss: 1.1425\n"
          ]
        },
        {
          "output_type": "stream",
          "name": "stderr",
          "text": [
            "Epoch [366/10000]: 100%|██████████| 14/14 [00:00<00:00, 81.53it/s, loss=0.983]\n"
          ]
        },
        {
          "output_type": "stream",
          "name": "stdout",
          "text": [
            "Epoch [366/10000]: Train loss: 1.1190, Valid loss: 1.1395\n"
          ]
        },
        {
          "output_type": "stream",
          "name": "stderr",
          "text": [
            "Epoch [367/10000]: 100%|██████████| 14/14 [00:00<00:00, 81.93it/s, loss=0.669]\n"
          ]
        },
        {
          "output_type": "stream",
          "name": "stdout",
          "text": [
            "Epoch [367/10000]: Train loss: 1.0926, Valid loss: 1.1131\n"
          ]
        },
        {
          "output_type": "stream",
          "name": "stderr",
          "text": [
            "Epoch [368/10000]: 100%|██████████| 14/14 [00:00<00:00, 82.57it/s, loss=0.887]\n"
          ]
        },
        {
          "output_type": "stream",
          "name": "stdout",
          "text": [
            "Epoch [368/10000]: Train loss: 1.1086, Valid loss: 1.0639\n"
          ]
        },
        {
          "output_type": "stream",
          "name": "stderr",
          "text": [
            "Epoch [369/10000]: 100%|██████████| 14/14 [00:00<00:00, 75.77it/s, loss=0.972]\n"
          ]
        },
        {
          "output_type": "stream",
          "name": "stdout",
          "text": [
            "Epoch [369/10000]: Train loss: 1.1096, Valid loss: 1.1591\n"
          ]
        },
        {
          "output_type": "stream",
          "name": "stderr",
          "text": [
            "Epoch [370/10000]: 100%|██████████| 14/14 [00:00<00:00, 91.42it/s, loss=0.746]\n"
          ]
        },
        {
          "output_type": "stream",
          "name": "stdout",
          "text": [
            "Epoch [370/10000]: Train loss: 1.0862, Valid loss: 1.0801\n"
          ]
        },
        {
          "output_type": "stream",
          "name": "stderr",
          "text": [
            "Epoch [371/10000]: 100%|██████████| 14/14 [00:00<00:00, 95.66it/s, loss=1.02]\n"
          ]
        },
        {
          "output_type": "stream",
          "name": "stdout",
          "text": [
            "Epoch [371/10000]: Train loss: 1.1280, Valid loss: 1.1657\n"
          ]
        },
        {
          "output_type": "stream",
          "name": "stderr",
          "text": [
            "Epoch [372/10000]: 100%|██████████| 14/14 [00:00<00:00, 95.76it/s, loss=1.04]\n"
          ]
        },
        {
          "output_type": "stream",
          "name": "stdout",
          "text": [
            "Epoch [372/10000]: Train loss: 1.2683, Valid loss: 1.1347\n"
          ]
        },
        {
          "output_type": "stream",
          "name": "stderr",
          "text": [
            "Epoch [373/10000]: 100%|██████████| 14/14 [00:00<00:00, 88.78it/s, loss=1.64]\n"
          ]
        },
        {
          "output_type": "stream",
          "name": "stdout",
          "text": [
            "Epoch [373/10000]: Train loss: 1.1371, Valid loss: 1.1692\n"
          ]
        },
        {
          "output_type": "stream",
          "name": "stderr",
          "text": [
            "Epoch [374/10000]: 100%|██████████| 14/14 [00:00<00:00, 94.86it/s, loss=0.977]\n"
          ]
        },
        {
          "output_type": "stream",
          "name": "stdout",
          "text": [
            "Epoch [374/10000]: Train loss: 1.1603, Valid loss: 1.0740\n"
          ]
        },
        {
          "output_type": "stream",
          "name": "stderr",
          "text": [
            "Epoch [375/10000]: 100%|██████████| 14/14 [00:00<00:00, 96.39it/s, loss=0.714]\n"
          ]
        },
        {
          "output_type": "stream",
          "name": "stdout",
          "text": [
            "Epoch [375/10000]: Train loss: 1.1082, Valid loss: 1.0859\n"
          ]
        },
        {
          "output_type": "stream",
          "name": "stderr",
          "text": [
            "Epoch [376/10000]: 100%|██████████| 14/14 [00:00<00:00, 100.02it/s, loss=1.75]\n"
          ]
        },
        {
          "output_type": "stream",
          "name": "stdout",
          "text": [
            "Epoch [376/10000]: Train loss: 1.1556, Valid loss: 1.1608\n"
          ]
        },
        {
          "output_type": "stream",
          "name": "stderr",
          "text": [
            "Epoch [377/10000]: 100%|██████████| 14/14 [00:00<00:00, 94.26it/s, loss=0.953]\n"
          ]
        },
        {
          "output_type": "stream",
          "name": "stdout",
          "text": [
            "Epoch [377/10000]: Train loss: 1.1351, Valid loss: 1.1392\n"
          ]
        },
        {
          "output_type": "stream",
          "name": "stderr",
          "text": [
            "Epoch [378/10000]: 100%|██████████| 14/14 [00:00<00:00, 84.95it/s, loss=1.37]\n"
          ]
        },
        {
          "output_type": "stream",
          "name": "stdout",
          "text": [
            "Epoch [378/10000]: Train loss: 1.1081, Valid loss: 1.1000\n"
          ]
        },
        {
          "output_type": "stream",
          "name": "stderr",
          "text": [
            "Epoch [379/10000]: 100%|██████████| 14/14 [00:00<00:00, 83.44it/s, loss=0.982]\n"
          ]
        },
        {
          "output_type": "stream",
          "name": "stdout",
          "text": [
            "Epoch [379/10000]: Train loss: 1.0899, Valid loss: 1.0710\n"
          ]
        },
        {
          "output_type": "stream",
          "name": "stderr",
          "text": [
            "Epoch [380/10000]: 100%|██████████| 14/14 [00:00<00:00, 78.62it/s, loss=1.25]\n"
          ]
        },
        {
          "output_type": "stream",
          "name": "stdout",
          "text": [
            "Epoch [380/10000]: Train loss: 1.1322, Valid loss: 1.1940\n"
          ]
        },
        {
          "output_type": "stream",
          "name": "stderr",
          "text": [
            "Epoch [381/10000]: 100%|██████████| 14/14 [00:00<00:00, 93.39it/s, loss=1.06]\n"
          ]
        },
        {
          "output_type": "stream",
          "name": "stdout",
          "text": [
            "Epoch [381/10000]: Train loss: 1.2265, Valid loss: 1.2328\n"
          ]
        },
        {
          "output_type": "stream",
          "name": "stderr",
          "text": [
            "Epoch [382/10000]: 100%|██████████| 14/14 [00:00<00:00, 92.99it/s, loss=0.937]\n"
          ]
        },
        {
          "output_type": "stream",
          "name": "stdout",
          "text": [
            "Epoch [382/10000]: Train loss: 1.1161, Valid loss: 1.2155\n"
          ]
        },
        {
          "output_type": "stream",
          "name": "stderr",
          "text": [
            "Epoch [383/10000]: 100%|██████████| 14/14 [00:00<00:00, 78.81it/s, loss=1.34]\n"
          ]
        },
        {
          "output_type": "stream",
          "name": "stdout",
          "text": [
            "Epoch [383/10000]: Train loss: 1.1233, Valid loss: 1.0632\n"
          ]
        },
        {
          "output_type": "stream",
          "name": "stderr",
          "text": [
            "Epoch [384/10000]: 100%|██████████| 14/14 [00:00<00:00, 87.88it/s, loss=1.52]\n"
          ]
        },
        {
          "output_type": "stream",
          "name": "stdout",
          "text": [
            "Epoch [384/10000]: Train loss: 1.1283, Valid loss: 1.0749\n"
          ]
        },
        {
          "output_type": "stream",
          "name": "stderr",
          "text": [
            "Epoch [385/10000]: 100%|██████████| 14/14 [00:00<00:00, 79.85it/s, loss=1.16]\n"
          ]
        },
        {
          "output_type": "stream",
          "name": "stdout",
          "text": [
            "Epoch [385/10000]: Train loss: 1.1468, Valid loss: 1.1324\n"
          ]
        },
        {
          "output_type": "stream",
          "name": "stderr",
          "text": [
            "Epoch [386/10000]: 100%|██████████| 14/14 [00:00<00:00, 76.34it/s, loss=1.42]\n"
          ]
        },
        {
          "output_type": "stream",
          "name": "stdout",
          "text": [
            "Epoch [386/10000]: Train loss: 1.1174, Valid loss: 1.0777\n"
          ]
        },
        {
          "output_type": "stream",
          "name": "stderr",
          "text": [
            "Epoch [387/10000]: 100%|██████████| 14/14 [00:00<00:00, 79.73it/s, loss=1.17]\n"
          ]
        },
        {
          "output_type": "stream",
          "name": "stdout",
          "text": [
            "Epoch [387/10000]: Train loss: 1.1196, Valid loss: 1.1422\n"
          ]
        },
        {
          "output_type": "stream",
          "name": "stderr",
          "text": [
            "Epoch [388/10000]: 100%|██████████| 14/14 [00:00<00:00, 90.95it/s, loss=1.34]\n"
          ]
        },
        {
          "output_type": "stream",
          "name": "stdout",
          "text": [
            "Epoch [388/10000]: Train loss: 1.1205, Valid loss: 1.2313\n"
          ]
        },
        {
          "output_type": "stream",
          "name": "stderr",
          "text": [
            "Epoch [389/10000]: 100%|██████████| 14/14 [00:00<00:00, 91.97it/s, loss=0.919]\n"
          ]
        },
        {
          "output_type": "stream",
          "name": "stdout",
          "text": [
            "Epoch [389/10000]: Train loss: 1.1995, Valid loss: 1.0869\n"
          ]
        },
        {
          "output_type": "stream",
          "name": "stderr",
          "text": [
            "Epoch [390/10000]: 100%|██████████| 14/14 [00:00<00:00, 80.73it/s, loss=1.16]\n"
          ]
        },
        {
          "output_type": "stream",
          "name": "stdout",
          "text": [
            "Epoch [390/10000]: Train loss: 1.1798, Valid loss: 1.1705\n"
          ]
        },
        {
          "output_type": "stream",
          "name": "stderr",
          "text": [
            "Epoch [391/10000]: 100%|██████████| 14/14 [00:00<00:00, 87.98it/s, loss=0.974]\n"
          ]
        },
        {
          "output_type": "stream",
          "name": "stdout",
          "text": [
            "Epoch [391/10000]: Train loss: 1.0987, Valid loss: 1.0986\n"
          ]
        },
        {
          "output_type": "stream",
          "name": "stderr",
          "text": [
            "Epoch [392/10000]: 100%|██████████| 14/14 [00:00<00:00, 74.56it/s, loss=1.61]\n"
          ]
        },
        {
          "output_type": "stream",
          "name": "stdout",
          "text": [
            "Epoch [392/10000]: Train loss: 1.1217, Valid loss: 1.0767\n"
          ]
        },
        {
          "output_type": "stream",
          "name": "stderr",
          "text": [
            "Epoch [393/10000]: 100%|██████████| 14/14 [00:00<00:00, 86.14it/s, loss=1.11]\n"
          ]
        },
        {
          "output_type": "stream",
          "name": "stdout",
          "text": [
            "Epoch [393/10000]: Train loss: 1.1308, Valid loss: 1.1105\n"
          ]
        },
        {
          "output_type": "stream",
          "name": "stderr",
          "text": [
            "Epoch [394/10000]: 100%|██████████| 14/14 [00:00<00:00, 87.29it/s, loss=0.744]\n"
          ]
        },
        {
          "output_type": "stream",
          "name": "stdout",
          "text": [
            "Epoch [394/10000]: Train loss: 1.0985, Valid loss: 1.0885\n"
          ]
        },
        {
          "output_type": "stream",
          "name": "stderr",
          "text": [
            "Epoch [395/10000]: 100%|██████████| 14/14 [00:00<00:00, 82.88it/s, loss=1.43]\n"
          ]
        },
        {
          "output_type": "stream",
          "name": "stdout",
          "text": [
            "Epoch [395/10000]: Train loss: 1.1089, Valid loss: 1.2788\n"
          ]
        },
        {
          "output_type": "stream",
          "name": "stderr",
          "text": [
            "Epoch [396/10000]: 100%|██████████| 14/14 [00:00<00:00, 76.56it/s, loss=1.34]\n"
          ]
        },
        {
          "output_type": "stream",
          "name": "stdout",
          "text": [
            "Epoch [396/10000]: Train loss: 1.2149, Valid loss: 1.1948\n"
          ]
        },
        {
          "output_type": "stream",
          "name": "stderr",
          "text": [
            "Epoch [397/10000]: 100%|██████████| 14/14 [00:00<00:00, 95.06it/s, loss=1.24]\n"
          ]
        },
        {
          "output_type": "stream",
          "name": "stdout",
          "text": [
            "Epoch [397/10000]: Train loss: 1.1566, Valid loss: 1.0728\n"
          ]
        },
        {
          "output_type": "stream",
          "name": "stderr",
          "text": [
            "Epoch [398/10000]: 100%|██████████| 14/14 [00:00<00:00, 68.16it/s, loss=1.2]\n"
          ]
        },
        {
          "output_type": "stream",
          "name": "stdout",
          "text": [
            "Epoch [398/10000]: Train loss: 1.1289, Valid loss: 1.1177\n"
          ]
        },
        {
          "output_type": "stream",
          "name": "stderr",
          "text": [
            "Epoch [399/10000]: 100%|██████████| 14/14 [00:00<00:00, 81.59it/s, loss=0.697]\n"
          ]
        },
        {
          "output_type": "stream",
          "name": "stdout",
          "text": [
            "Epoch [399/10000]: Train loss: 1.1447, Valid loss: 1.0907\n"
          ]
        },
        {
          "output_type": "stream",
          "name": "stderr",
          "text": [
            "Epoch [400/10000]: 100%|██████████| 14/14 [00:00<00:00, 82.44it/s, loss=0.987]\n"
          ]
        },
        {
          "output_type": "stream",
          "name": "stdout",
          "text": [
            "Epoch [400/10000]: Train loss: 1.0907, Valid loss: 1.0677\n"
          ]
        },
        {
          "output_type": "stream",
          "name": "stderr",
          "text": [
            "Epoch [401/10000]: 100%|██████████| 14/14 [00:00<00:00, 85.17it/s, loss=0.742]\n"
          ]
        },
        {
          "output_type": "stream",
          "name": "stdout",
          "text": [
            "Epoch [401/10000]: Train loss: 1.0903, Valid loss: 1.1119\n"
          ]
        },
        {
          "output_type": "stream",
          "name": "stderr",
          "text": [
            "Epoch [402/10000]: 100%|██████████| 14/14 [00:00<00:00, 88.22it/s, loss=1.03]\n"
          ]
        },
        {
          "output_type": "stream",
          "name": "stdout",
          "text": [
            "Epoch [402/10000]: Train loss: 1.1130, Valid loss: 1.0662\n"
          ]
        },
        {
          "output_type": "stream",
          "name": "stderr",
          "text": [
            "Epoch [403/10000]: 100%|██████████| 14/14 [00:00<00:00, 89.77it/s, loss=1.06]\n"
          ]
        },
        {
          "output_type": "stream",
          "name": "stdout",
          "text": [
            "Epoch [403/10000]: Train loss: 1.1239, Valid loss: 1.1643\n"
          ]
        },
        {
          "output_type": "stream",
          "name": "stderr",
          "text": [
            "Epoch [404/10000]: 100%|██████████| 14/14 [00:00<00:00, 96.24it/s, loss=0.922]\n"
          ]
        },
        {
          "output_type": "stream",
          "name": "stdout",
          "text": [
            "Epoch [404/10000]: Train loss: 1.1145, Valid loss: 1.0787\n"
          ]
        },
        {
          "output_type": "stream",
          "name": "stderr",
          "text": [
            "Epoch [405/10000]: 100%|██████████| 14/14 [00:00<00:00, 83.87it/s, loss=1.28]\n"
          ]
        },
        {
          "output_type": "stream",
          "name": "stdout",
          "text": [
            "Epoch [405/10000]: Train loss: 1.1143, Valid loss: 1.1214\n"
          ]
        },
        {
          "output_type": "stream",
          "name": "stderr",
          "text": [
            "Epoch [406/10000]: 100%|██████████| 14/14 [00:00<00:00, 78.50it/s, loss=0.879]\n"
          ]
        },
        {
          "output_type": "stream",
          "name": "stdout",
          "text": [
            "Epoch [406/10000]: Train loss: 1.1332, Valid loss: 1.0613\n"
          ]
        },
        {
          "output_type": "stream",
          "name": "stderr",
          "text": [
            "Epoch [407/10000]: 100%|██████████| 14/14 [00:00<00:00, 86.28it/s, loss=0.751]\n"
          ]
        },
        {
          "output_type": "stream",
          "name": "stdout",
          "text": [
            "Epoch [407/10000]: Train loss: 1.0898, Valid loss: 1.0473\n"
          ]
        },
        {
          "output_type": "stream",
          "name": "stderr",
          "text": [
            "Epoch [408/10000]: 100%|██████████| 14/14 [00:00<00:00, 74.76it/s, loss=1.25]\n"
          ]
        },
        {
          "output_type": "stream",
          "name": "stdout",
          "text": [
            "Epoch [408/10000]: Train loss: 1.1145, Valid loss: 1.0869\n"
          ]
        },
        {
          "output_type": "stream",
          "name": "stderr",
          "text": [
            "Epoch [409/10000]: 100%|██████████| 14/14 [00:00<00:00, 79.63it/s, loss=0.986]\n"
          ]
        },
        {
          "output_type": "stream",
          "name": "stdout",
          "text": [
            "Epoch [409/10000]: Train loss: 1.1364, Valid loss: 1.1543\n"
          ]
        },
        {
          "output_type": "stream",
          "name": "stderr",
          "text": [
            "Epoch [410/10000]: 100%|██████████| 14/14 [00:00<00:00, 32.27it/s, loss=1.01]\n"
          ]
        },
        {
          "output_type": "stream",
          "name": "stdout",
          "text": [
            "Epoch [410/10000]: Train loss: 1.1289, Valid loss: 1.1966\n"
          ]
        },
        {
          "output_type": "stream",
          "name": "stderr",
          "text": [
            "Epoch [411/10000]: 100%|██████████| 14/14 [00:00<00:00, 35.73it/s, loss=0.862]\n"
          ]
        },
        {
          "output_type": "stream",
          "name": "stdout",
          "text": [
            "Epoch [411/10000]: Train loss: 1.1035, Valid loss: 1.0723\n"
          ]
        },
        {
          "output_type": "stream",
          "name": "stderr",
          "text": [
            "Epoch [412/10000]: 100%|██████████| 14/14 [00:00<00:00, 61.63it/s, loss=1.08]\n"
          ]
        },
        {
          "output_type": "stream",
          "name": "stdout",
          "text": [
            "Epoch [412/10000]: Train loss: 1.1046, Valid loss: 1.2044\n"
          ]
        },
        {
          "output_type": "stream",
          "name": "stderr",
          "text": [
            "Epoch [413/10000]: 100%|██████████| 14/14 [00:00<00:00, 77.94it/s, loss=0.984]\n"
          ]
        },
        {
          "output_type": "stream",
          "name": "stdout",
          "text": [
            "Epoch [413/10000]: Train loss: 1.1893, Valid loss: 1.2282\n"
          ]
        },
        {
          "output_type": "stream",
          "name": "stderr",
          "text": [
            "Epoch [414/10000]: 100%|██████████| 14/14 [00:00<00:00, 35.53it/s, loss=1.02]\n"
          ]
        },
        {
          "output_type": "stream",
          "name": "stdout",
          "text": [
            "Epoch [414/10000]: Train loss: 1.1443, Valid loss: 1.2127\n"
          ]
        },
        {
          "output_type": "stream",
          "name": "stderr",
          "text": [
            "Epoch [415/10000]: 100%|██████████| 14/14 [00:00<00:00, 40.01it/s, loss=1.3]\n"
          ]
        },
        {
          "output_type": "stream",
          "name": "stdout",
          "text": [
            "Epoch [415/10000]: Train loss: 1.1613, Valid loss: 1.0865\n"
          ]
        },
        {
          "output_type": "stream",
          "name": "stderr",
          "text": [
            "Epoch [416/10000]: 100%|██████████| 14/14 [00:00<00:00, 69.66it/s, loss=0.734]\n"
          ]
        },
        {
          "output_type": "stream",
          "name": "stdout",
          "text": [
            "Epoch [416/10000]: Train loss: 1.1435, Valid loss: 1.1120\n"
          ]
        },
        {
          "output_type": "stream",
          "name": "stderr",
          "text": [
            "Epoch [417/10000]: 100%|██████████| 14/14 [00:00<00:00, 79.66it/s, loss=1.5]\n"
          ]
        },
        {
          "output_type": "stream",
          "name": "stdout",
          "text": [
            "Epoch [417/10000]: Train loss: 1.1413, Valid loss: 1.1900\n"
          ]
        },
        {
          "output_type": "stream",
          "name": "stderr",
          "text": [
            "Epoch [418/10000]: 100%|██████████| 14/14 [00:00<00:00, 79.10it/s, loss=0.882]\n"
          ]
        },
        {
          "output_type": "stream",
          "name": "stdout",
          "text": [
            "Epoch [418/10000]: Train loss: 1.1229, Valid loss: 1.0766\n"
          ]
        },
        {
          "output_type": "stream",
          "name": "stderr",
          "text": [
            "Epoch [419/10000]: 100%|██████████| 14/14 [00:00<00:00, 78.95it/s, loss=1.06]\n"
          ]
        },
        {
          "output_type": "stream",
          "name": "stdout",
          "text": [
            "Epoch [419/10000]: Train loss: 1.1244, Valid loss: 1.0917\n"
          ]
        },
        {
          "output_type": "stream",
          "name": "stderr",
          "text": [
            "Epoch [420/10000]: 100%|██████████| 14/14 [00:00<00:00, 75.87it/s, loss=0.861]\n"
          ]
        },
        {
          "output_type": "stream",
          "name": "stdout",
          "text": [
            "Epoch [420/10000]: Train loss: 1.1021, Valid loss: 1.1683\n"
          ]
        },
        {
          "output_type": "stream",
          "name": "stderr",
          "text": [
            "Epoch [421/10000]: 100%|██████████| 14/14 [00:00<00:00, 77.25it/s, loss=1.47]\n"
          ]
        },
        {
          "output_type": "stream",
          "name": "stdout",
          "text": [
            "Epoch [421/10000]: Train loss: 1.1436, Valid loss: 1.2521\n"
          ]
        },
        {
          "output_type": "stream",
          "name": "stderr",
          "text": [
            "Epoch [422/10000]: 100%|██████████| 14/14 [00:00<00:00, 77.48it/s, loss=1.22]\n"
          ]
        },
        {
          "output_type": "stream",
          "name": "stdout",
          "text": [
            "Epoch [422/10000]: Train loss: 1.1585, Valid loss: 1.1543\n"
          ]
        },
        {
          "output_type": "stream",
          "name": "stderr",
          "text": [
            "Epoch [423/10000]: 100%|██████████| 14/14 [00:00<00:00, 82.24it/s, loss=1.16]\n"
          ]
        },
        {
          "output_type": "stream",
          "name": "stdout",
          "text": [
            "Epoch [423/10000]: Train loss: 1.1193, Valid loss: 1.2033\n"
          ]
        },
        {
          "output_type": "stream",
          "name": "stderr",
          "text": [
            "Epoch [424/10000]: 100%|██████████| 14/14 [00:00<00:00, 79.65it/s, loss=0.742]\n"
          ]
        },
        {
          "output_type": "stream",
          "name": "stdout",
          "text": [
            "Epoch [424/10000]: Train loss: 1.1422, Valid loss: 1.0766\n"
          ]
        },
        {
          "output_type": "stream",
          "name": "stderr",
          "text": [
            "Epoch [425/10000]: 100%|██████████| 14/14 [00:00<00:00, 79.34it/s, loss=0.634]\n"
          ]
        },
        {
          "output_type": "stream",
          "name": "stdout",
          "text": [
            "Epoch [425/10000]: Train loss: 1.0792, Valid loss: 1.0750\n"
          ]
        },
        {
          "output_type": "stream",
          "name": "stderr",
          "text": [
            "Epoch [426/10000]: 100%|██████████| 14/14 [00:00<00:00, 86.93it/s, loss=0.922]\n"
          ]
        },
        {
          "output_type": "stream",
          "name": "stdout",
          "text": [
            "Epoch [426/10000]: Train loss: 1.1112, Valid loss: 1.1066\n"
          ]
        },
        {
          "output_type": "stream",
          "name": "stderr",
          "text": [
            "Epoch [427/10000]: 100%|██████████| 14/14 [00:00<00:00, 84.59it/s, loss=0.937]\n"
          ]
        },
        {
          "output_type": "stream",
          "name": "stdout",
          "text": [
            "Epoch [427/10000]: Train loss: 1.1033, Valid loss: 1.0941\n"
          ]
        },
        {
          "output_type": "stream",
          "name": "stderr",
          "text": [
            "Epoch [428/10000]: 100%|██████████| 14/14 [00:00<00:00, 79.16it/s, loss=1.12]\n"
          ]
        },
        {
          "output_type": "stream",
          "name": "stdout",
          "text": [
            "Epoch [428/10000]: Train loss: 1.1191, Valid loss: 1.1324\n"
          ]
        },
        {
          "output_type": "stream",
          "name": "stderr",
          "text": [
            "Epoch [429/10000]: 100%|██████████| 14/14 [00:00<00:00, 88.64it/s, loss=0.943]\n"
          ]
        },
        {
          "output_type": "stream",
          "name": "stdout",
          "text": [
            "Epoch [429/10000]: Train loss: 1.0981, Valid loss: 1.0901\n"
          ]
        },
        {
          "output_type": "stream",
          "name": "stderr",
          "text": [
            "Epoch [430/10000]: 100%|██████████| 14/14 [00:00<00:00, 85.69it/s, loss=1.19]\n"
          ]
        },
        {
          "output_type": "stream",
          "name": "stdout",
          "text": [
            "Epoch [430/10000]: Train loss: 1.1156, Valid loss: 1.0945\n"
          ]
        },
        {
          "output_type": "stream",
          "name": "stderr",
          "text": [
            "Epoch [431/10000]: 100%|██████████| 14/14 [00:00<00:00, 88.76it/s, loss=0.933]\n"
          ]
        },
        {
          "output_type": "stream",
          "name": "stdout",
          "text": [
            "Epoch [431/10000]: Train loss: 1.1304, Valid loss: 1.2463\n"
          ]
        },
        {
          "output_type": "stream",
          "name": "stderr",
          "text": [
            "Epoch [432/10000]: 100%|██████████| 14/14 [00:00<00:00, 88.65it/s, loss=1.14]\n"
          ]
        },
        {
          "output_type": "stream",
          "name": "stdout",
          "text": [
            "Epoch [432/10000]: Train loss: 1.1336, Valid loss: 1.1032\n"
          ]
        },
        {
          "output_type": "stream",
          "name": "stderr",
          "text": [
            "Epoch [433/10000]: 100%|██████████| 14/14 [00:00<00:00, 80.24it/s, loss=1.28]\n"
          ]
        },
        {
          "output_type": "stream",
          "name": "stdout",
          "text": [
            "Epoch [433/10000]: Train loss: 1.1154, Valid loss: 1.0929\n"
          ]
        },
        {
          "output_type": "stream",
          "name": "stderr",
          "text": [
            "Epoch [434/10000]: 100%|██████████| 14/14 [00:00<00:00, 81.76it/s, loss=0.718]\n"
          ]
        },
        {
          "output_type": "stream",
          "name": "stdout",
          "text": [
            "Epoch [434/10000]: Train loss: 1.1231, Valid loss: 1.1410\n"
          ]
        },
        {
          "output_type": "stream",
          "name": "stderr",
          "text": [
            "Epoch [435/10000]: 100%|██████████| 14/14 [00:00<00:00, 81.49it/s, loss=1.26]\n"
          ]
        },
        {
          "output_type": "stream",
          "name": "stdout",
          "text": [
            "Epoch [435/10000]: Train loss: 1.1228, Valid loss: 1.0928\n"
          ]
        },
        {
          "output_type": "stream",
          "name": "stderr",
          "text": [
            "Epoch [436/10000]: 100%|██████████| 14/14 [00:00<00:00, 91.88it/s, loss=1.44]\n"
          ]
        },
        {
          "output_type": "stream",
          "name": "stdout",
          "text": [
            "Epoch [436/10000]: Train loss: 1.1065, Valid loss: 1.1279\n"
          ]
        },
        {
          "output_type": "stream",
          "name": "stderr",
          "text": [
            "Epoch [437/10000]: 100%|██████████| 14/14 [00:00<00:00, 90.50it/s, loss=1.21]\n"
          ]
        },
        {
          "output_type": "stream",
          "name": "stdout",
          "text": [
            "Epoch [437/10000]: Train loss: 1.1171, Valid loss: 1.0813\n"
          ]
        },
        {
          "output_type": "stream",
          "name": "stderr",
          "text": [
            "Epoch [438/10000]: 100%|██████████| 14/14 [00:00<00:00, 93.18it/s, loss=1.64]\n"
          ]
        },
        {
          "output_type": "stream",
          "name": "stdout",
          "text": [
            "Epoch [438/10000]: Train loss: 1.1567, Valid loss: 1.0661\n"
          ]
        },
        {
          "output_type": "stream",
          "name": "stderr",
          "text": [
            "Epoch [439/10000]: 100%|██████████| 14/14 [00:00<00:00, 95.25it/s, loss=1.05]\n"
          ]
        },
        {
          "output_type": "stream",
          "name": "stdout",
          "text": [
            "Epoch [439/10000]: Train loss: 1.1172, Valid loss: 1.1031\n"
          ]
        },
        {
          "output_type": "stream",
          "name": "stderr",
          "text": [
            "Epoch [440/10000]: 100%|██████████| 14/14 [00:00<00:00, 87.41it/s, loss=1.14]\n"
          ]
        },
        {
          "output_type": "stream",
          "name": "stdout",
          "text": [
            "Epoch [440/10000]: Train loss: 1.1089, Valid loss: 1.0994\n"
          ]
        },
        {
          "output_type": "stream",
          "name": "stderr",
          "text": [
            "Epoch [441/10000]: 100%|██████████| 14/14 [00:00<00:00, 70.82it/s, loss=0.641]\n"
          ]
        },
        {
          "output_type": "stream",
          "name": "stdout",
          "text": [
            "Epoch [441/10000]: Train loss: 1.0813, Valid loss: 1.1233\n"
          ]
        },
        {
          "output_type": "stream",
          "name": "stderr",
          "text": [
            "Epoch [442/10000]: 100%|██████████| 14/14 [00:00<00:00, 79.34it/s, loss=1.14]\n"
          ]
        },
        {
          "output_type": "stream",
          "name": "stdout",
          "text": [
            "Epoch [442/10000]: Train loss: 1.1255, Valid loss: 1.0896\n"
          ]
        },
        {
          "output_type": "stream",
          "name": "stderr",
          "text": [
            "Epoch [443/10000]: 100%|██████████| 14/14 [00:00<00:00, 79.86it/s, loss=0.764]\n"
          ]
        },
        {
          "output_type": "stream",
          "name": "stdout",
          "text": [
            "Epoch [443/10000]: Train loss: 1.1950, Valid loss: 1.1841\n"
          ]
        },
        {
          "output_type": "stream",
          "name": "stderr",
          "text": [
            "Epoch [444/10000]: 100%|██████████| 14/14 [00:00<00:00, 98.20it/s, loss=1.37]\n"
          ]
        },
        {
          "output_type": "stream",
          "name": "stdout",
          "text": [
            "Epoch [444/10000]: Train loss: 1.1799, Valid loss: 1.0843\n"
          ]
        },
        {
          "output_type": "stream",
          "name": "stderr",
          "text": [
            "Epoch [445/10000]: 100%|██████████| 14/14 [00:00<00:00, 83.89it/s, loss=1.39]\n"
          ]
        },
        {
          "output_type": "stream",
          "name": "stdout",
          "text": [
            "Epoch [445/10000]: Train loss: 1.1281, Valid loss: 1.1738\n"
          ]
        },
        {
          "output_type": "stream",
          "name": "stderr",
          "text": [
            "Epoch [446/10000]: 100%|██████████| 14/14 [00:00<00:00, 84.00it/s, loss=0.883]\n"
          ]
        },
        {
          "output_type": "stream",
          "name": "stdout",
          "text": [
            "Epoch [446/10000]: Train loss: 1.1363, Valid loss: 1.0966\n"
          ]
        },
        {
          "output_type": "stream",
          "name": "stderr",
          "text": [
            "Epoch [447/10000]: 100%|██████████| 14/14 [00:00<00:00, 96.52it/s, loss=1.15]\n"
          ]
        },
        {
          "output_type": "stream",
          "name": "stdout",
          "text": [
            "Epoch [447/10000]: Train loss: 1.1226, Valid loss: 1.0429\n"
          ]
        },
        {
          "output_type": "stream",
          "name": "stderr",
          "text": [
            "Epoch [448/10000]: 100%|██████████| 14/14 [00:00<00:00, 88.33it/s, loss=0.898]\n"
          ]
        },
        {
          "output_type": "stream",
          "name": "stdout",
          "text": [
            "Epoch [448/10000]: Train loss: 1.0970, Valid loss: 1.1327\n"
          ]
        },
        {
          "output_type": "stream",
          "name": "stderr",
          "text": [
            "Epoch [449/10000]: 100%|██████████| 14/14 [00:00<00:00, 88.32it/s, loss=1.18]\n"
          ]
        },
        {
          "output_type": "stream",
          "name": "stdout",
          "text": [
            "Epoch [449/10000]: Train loss: 1.1566, Valid loss: 1.0735\n"
          ]
        },
        {
          "output_type": "stream",
          "name": "stderr",
          "text": [
            "Epoch [450/10000]: 100%|██████████| 14/14 [00:00<00:00, 91.61it/s, loss=1.04]\n"
          ]
        },
        {
          "output_type": "stream",
          "name": "stdout",
          "text": [
            "Epoch [450/10000]: Train loss: 1.1542, Valid loss: 1.1300\n"
          ]
        },
        {
          "output_type": "stream",
          "name": "stderr",
          "text": [
            "Epoch [451/10000]: 100%|██████████| 14/14 [00:00<00:00, 72.02it/s, loss=1.08]\n"
          ]
        },
        {
          "output_type": "stream",
          "name": "stdout",
          "text": [
            "Epoch [451/10000]: Train loss: 1.1249, Valid loss: 1.0795\n"
          ]
        },
        {
          "output_type": "stream",
          "name": "stderr",
          "text": [
            "Epoch [452/10000]: 100%|██████████| 14/14 [00:00<00:00, 69.60it/s, loss=0.92]\n"
          ]
        },
        {
          "output_type": "stream",
          "name": "stdout",
          "text": [
            "Epoch [452/10000]: Train loss: 1.0921, Valid loss: 1.1035\n"
          ]
        },
        {
          "output_type": "stream",
          "name": "stderr",
          "text": [
            "Epoch [453/10000]: 100%|██████████| 14/14 [00:00<00:00, 84.98it/s, loss=0.856]\n"
          ]
        },
        {
          "output_type": "stream",
          "name": "stdout",
          "text": [
            "Epoch [453/10000]: Train loss: 1.1047, Valid loss: 1.1173\n"
          ]
        },
        {
          "output_type": "stream",
          "name": "stderr",
          "text": [
            "Epoch [454/10000]: 100%|██████████| 14/14 [00:00<00:00, 78.90it/s, loss=1.28]\n"
          ]
        },
        {
          "output_type": "stream",
          "name": "stdout",
          "text": [
            "Epoch [454/10000]: Train loss: 1.1059, Valid loss: 1.0826\n"
          ]
        },
        {
          "output_type": "stream",
          "name": "stderr",
          "text": [
            "Epoch [455/10000]: 100%|██████████| 14/14 [00:00<00:00, 86.43it/s, loss=1.3]\n"
          ]
        },
        {
          "output_type": "stream",
          "name": "stdout",
          "text": [
            "Epoch [455/10000]: Train loss: 1.0988, Valid loss: 1.1199\n"
          ]
        },
        {
          "output_type": "stream",
          "name": "stderr",
          "text": [
            "Epoch [456/10000]: 100%|██████████| 14/14 [00:00<00:00, 98.06it/s, loss=0.712]\n"
          ]
        },
        {
          "output_type": "stream",
          "name": "stdout",
          "text": [
            "Epoch [456/10000]: Train loss: 1.0763, Valid loss: 1.0763\n"
          ]
        },
        {
          "output_type": "stream",
          "name": "stderr",
          "text": [
            "Epoch [457/10000]: 100%|██████████| 14/14 [00:00<00:00, 96.40it/s, loss=1.05]\n"
          ]
        },
        {
          "output_type": "stream",
          "name": "stdout",
          "text": [
            "Epoch [457/10000]: Train loss: 1.1028, Valid loss: 1.0581\n"
          ]
        },
        {
          "output_type": "stream",
          "name": "stderr",
          "text": [
            "Epoch [458/10000]: 100%|██████████| 14/14 [00:00<00:00, 86.59it/s, loss=0.74]\n"
          ]
        },
        {
          "output_type": "stream",
          "name": "stdout",
          "text": [
            "Epoch [458/10000]: Train loss: 1.0830, Valid loss: 1.0722\n"
          ]
        },
        {
          "output_type": "stream",
          "name": "stderr",
          "text": [
            "Epoch [459/10000]: 100%|██████████| 14/14 [00:00<00:00, 76.73it/s, loss=0.867]\n"
          ]
        },
        {
          "output_type": "stream",
          "name": "stdout",
          "text": [
            "Epoch [459/10000]: Train loss: 1.1165, Valid loss: 1.2453\n"
          ]
        },
        {
          "output_type": "stream",
          "name": "stderr",
          "text": [
            "Epoch [460/10000]: 100%|██████████| 14/14 [00:00<00:00, 76.89it/s, loss=1.22]\n"
          ]
        },
        {
          "output_type": "stream",
          "name": "stdout",
          "text": [
            "Epoch [460/10000]: Train loss: 1.2145, Valid loss: 1.1264\n"
          ]
        },
        {
          "output_type": "stream",
          "name": "stderr",
          "text": [
            "Epoch [461/10000]: 100%|██████████| 14/14 [00:00<00:00, 80.60it/s, loss=0.935]\n"
          ]
        },
        {
          "output_type": "stream",
          "name": "stdout",
          "text": [
            "Epoch [461/10000]: Train loss: 1.1446, Valid loss: 1.2305\n"
          ]
        },
        {
          "output_type": "stream",
          "name": "stderr",
          "text": [
            "Epoch [462/10000]: 100%|██████████| 14/14 [00:00<00:00, 94.21it/s, loss=1.35]\n"
          ]
        },
        {
          "output_type": "stream",
          "name": "stdout",
          "text": [
            "Epoch [462/10000]: Train loss: 1.1363, Valid loss: 1.0651\n"
          ]
        },
        {
          "output_type": "stream",
          "name": "stderr",
          "text": [
            "Epoch [463/10000]: 100%|██████████| 14/14 [00:00<00:00, 92.67it/s, loss=0.789]\n"
          ]
        },
        {
          "output_type": "stream",
          "name": "stdout",
          "text": [
            "Epoch [463/10000]: Train loss: 1.0855, Valid loss: 1.1123\n"
          ]
        },
        {
          "output_type": "stream",
          "name": "stderr",
          "text": [
            "Epoch [464/10000]: 100%|██████████| 14/14 [00:00<00:00, 92.91it/s, loss=0.975]\n"
          ]
        },
        {
          "output_type": "stream",
          "name": "stdout",
          "text": [
            "Epoch [464/10000]: Train loss: 1.0892, Valid loss: 1.1296\n"
          ]
        },
        {
          "output_type": "stream",
          "name": "stderr",
          "text": [
            "Epoch [465/10000]: 100%|██████████| 14/14 [00:00<00:00, 82.91it/s, loss=1.04]\n"
          ]
        },
        {
          "output_type": "stream",
          "name": "stdout",
          "text": [
            "Epoch [465/10000]: Train loss: 1.0901, Valid loss: 1.0811\n"
          ]
        },
        {
          "output_type": "stream",
          "name": "stderr",
          "text": [
            "Epoch [466/10000]: 100%|██████████| 14/14 [00:00<00:00, 81.77it/s, loss=0.99]\n"
          ]
        },
        {
          "output_type": "stream",
          "name": "stdout",
          "text": [
            "Epoch [466/10000]: Train loss: 1.0932, Valid loss: 1.1003\n"
          ]
        },
        {
          "output_type": "stream",
          "name": "stderr",
          "text": [
            "Epoch [467/10000]: 100%|██████████| 14/14 [00:00<00:00, 82.00it/s, loss=0.786]\n"
          ]
        },
        {
          "output_type": "stream",
          "name": "stdout",
          "text": [
            "Epoch [467/10000]: Train loss: 1.1250, Valid loss: 1.1418\n"
          ]
        },
        {
          "output_type": "stream",
          "name": "stderr",
          "text": [
            "Epoch [468/10000]: 100%|██████████| 14/14 [00:00<00:00, 78.77it/s, loss=0.832]\n"
          ]
        },
        {
          "output_type": "stream",
          "name": "stdout",
          "text": [
            "Epoch [468/10000]: Train loss: 1.0839, Valid loss: 1.1248\n"
          ]
        },
        {
          "output_type": "stream",
          "name": "stderr",
          "text": [
            "Epoch [469/10000]: 100%|██████████| 14/14 [00:00<00:00, 76.94it/s, loss=2.07]\n"
          ]
        },
        {
          "output_type": "stream",
          "name": "stdout",
          "text": [
            "Epoch [469/10000]: Train loss: 1.1528, Valid loss: 1.1332\n"
          ]
        },
        {
          "output_type": "stream",
          "name": "stderr",
          "text": [
            "Epoch [470/10000]: 100%|██████████| 14/14 [00:00<00:00, 81.68it/s, loss=0.978]\n"
          ]
        },
        {
          "output_type": "stream",
          "name": "stdout",
          "text": [
            "Epoch [470/10000]: Train loss: 1.1269, Valid loss: 1.1167\n"
          ]
        },
        {
          "output_type": "stream",
          "name": "stderr",
          "text": [
            "Epoch [471/10000]: 100%|██████████| 14/14 [00:00<00:00, 85.78it/s, loss=0.969]\n"
          ]
        },
        {
          "output_type": "stream",
          "name": "stdout",
          "text": [
            "Epoch [471/10000]: Train loss: 1.0888, Valid loss: 1.0708\n"
          ]
        },
        {
          "output_type": "stream",
          "name": "stderr",
          "text": [
            "Epoch [472/10000]: 100%|██████████| 14/14 [00:00<00:00, 93.57it/s, loss=1.1]\n"
          ]
        },
        {
          "output_type": "stream",
          "name": "stdout",
          "text": [
            "Epoch [472/10000]: Train loss: 1.1076, Valid loss: 1.0740\n"
          ]
        },
        {
          "output_type": "stream",
          "name": "stderr",
          "text": [
            "Epoch [473/10000]: 100%|██████████| 14/14 [00:00<00:00, 95.25it/s, loss=1.83]\n"
          ]
        },
        {
          "output_type": "stream",
          "name": "stdout",
          "text": [
            "Epoch [473/10000]: Train loss: 1.1619, Valid loss: 1.1778\n"
          ]
        },
        {
          "output_type": "stream",
          "name": "stderr",
          "text": [
            "Epoch [474/10000]: 100%|██████████| 14/14 [00:00<00:00, 81.58it/s, loss=0.79]\n"
          ]
        },
        {
          "output_type": "stream",
          "name": "stdout",
          "text": [
            "Epoch [474/10000]: Train loss: 1.0769, Valid loss: 1.1353\n"
          ]
        },
        {
          "output_type": "stream",
          "name": "stderr",
          "text": [
            "Epoch [475/10000]: 100%|██████████| 14/14 [00:00<00:00, 88.76it/s, loss=1.07]\n"
          ]
        },
        {
          "output_type": "stream",
          "name": "stdout",
          "text": [
            "Epoch [475/10000]: Train loss: 1.1278, Valid loss: 1.0778\n"
          ]
        },
        {
          "output_type": "stream",
          "name": "stderr",
          "text": [
            "Epoch [476/10000]: 100%|██████████| 14/14 [00:00<00:00, 75.66it/s, loss=0.799]\n"
          ]
        },
        {
          "output_type": "stream",
          "name": "stdout",
          "text": [
            "Epoch [476/10000]: Train loss: 1.0858, Valid loss: 1.1069\n"
          ]
        },
        {
          "output_type": "stream",
          "name": "stderr",
          "text": [
            "Epoch [477/10000]: 100%|██████████| 14/14 [00:00<00:00, 82.69it/s, loss=0.983]\n"
          ]
        },
        {
          "output_type": "stream",
          "name": "stdout",
          "text": [
            "Epoch [477/10000]: Train loss: 1.1360, Valid loss: 1.1797\n"
          ]
        },
        {
          "output_type": "stream",
          "name": "stderr",
          "text": [
            "Epoch [478/10000]: 100%|██████████| 14/14 [00:00<00:00, 90.35it/s, loss=1.25]\n"
          ]
        },
        {
          "output_type": "stream",
          "name": "stdout",
          "text": [
            "Epoch [478/10000]: Train loss: 1.1018, Valid loss: 1.0977\n"
          ]
        },
        {
          "output_type": "stream",
          "name": "stderr",
          "text": [
            "Epoch [479/10000]: 100%|██████████| 14/14 [00:00<00:00, 79.24it/s, loss=1.2]\n"
          ]
        },
        {
          "output_type": "stream",
          "name": "stdout",
          "text": [
            "Epoch [479/10000]: Train loss: 1.0942, Valid loss: 1.0798\n"
          ]
        },
        {
          "output_type": "stream",
          "name": "stderr",
          "text": [
            "Epoch [480/10000]: 100%|██████████| 14/14 [00:00<00:00, 79.08it/s, loss=1.17]\n"
          ]
        },
        {
          "output_type": "stream",
          "name": "stdout",
          "text": [
            "Epoch [480/10000]: Train loss: 1.1037, Valid loss: 1.1176\n"
          ]
        },
        {
          "output_type": "stream",
          "name": "stderr",
          "text": [
            "Epoch [481/10000]: 100%|██████████| 14/14 [00:00<00:00, 77.03it/s, loss=0.89]\n"
          ]
        },
        {
          "output_type": "stream",
          "name": "stdout",
          "text": [
            "Epoch [481/10000]: Train loss: 1.1016, Valid loss: 1.0997\n"
          ]
        },
        {
          "output_type": "stream",
          "name": "stderr",
          "text": [
            "Epoch [482/10000]: 100%|██████████| 14/14 [00:00<00:00, 87.61it/s, loss=0.737]\n"
          ]
        },
        {
          "output_type": "stream",
          "name": "stdout",
          "text": [
            "Epoch [482/10000]: Train loss: 1.0879, Valid loss: 1.1782\n"
          ]
        },
        {
          "output_type": "stream",
          "name": "stderr",
          "text": [
            "Epoch [483/10000]: 100%|██████████| 14/14 [00:00<00:00, 77.06it/s, loss=1.02]\n"
          ]
        },
        {
          "output_type": "stream",
          "name": "stdout",
          "text": [
            "Epoch [483/10000]: Train loss: 1.1154, Valid loss: 1.1301\n"
          ]
        },
        {
          "output_type": "stream",
          "name": "stderr",
          "text": [
            "Epoch [484/10000]: 100%|██████████| 14/14 [00:00<00:00, 86.96it/s, loss=1.48]\n"
          ]
        },
        {
          "output_type": "stream",
          "name": "stdout",
          "text": [
            "Epoch [484/10000]: Train loss: 1.1257, Valid loss: 1.0659\n"
          ]
        },
        {
          "output_type": "stream",
          "name": "stderr",
          "text": [
            "Epoch [485/10000]: 100%|██████████| 14/14 [00:00<00:00, 85.32it/s, loss=0.954]\n"
          ]
        },
        {
          "output_type": "stream",
          "name": "stdout",
          "text": [
            "Epoch [485/10000]: Train loss: 1.0927, Valid loss: 1.0926\n"
          ]
        },
        {
          "output_type": "stream",
          "name": "stderr",
          "text": [
            "Epoch [486/10000]: 100%|██████████| 14/14 [00:00<00:00, 85.50it/s, loss=1.18]\n"
          ]
        },
        {
          "output_type": "stream",
          "name": "stdout",
          "text": [
            "Epoch [486/10000]: Train loss: 1.1000, Valid loss: 1.0969\n"
          ]
        },
        {
          "output_type": "stream",
          "name": "stderr",
          "text": [
            "Epoch [487/10000]: 100%|██████████| 14/14 [00:00<00:00, 86.19it/s, loss=1.18]\n"
          ]
        },
        {
          "output_type": "stream",
          "name": "stdout",
          "text": [
            "Epoch [487/10000]: Train loss: 1.1040, Valid loss: 1.1811\n"
          ]
        },
        {
          "output_type": "stream",
          "name": "stderr",
          "text": [
            "Epoch [488/10000]: 100%|██████████| 14/14 [00:00<00:00, 94.33it/s, loss=1.73]\n"
          ]
        },
        {
          "output_type": "stream",
          "name": "stdout",
          "text": [
            "Epoch [488/10000]: Train loss: 1.1442, Valid loss: 1.0694\n"
          ]
        },
        {
          "output_type": "stream",
          "name": "stderr",
          "text": [
            "Epoch [489/10000]: 100%|██████████| 14/14 [00:00<00:00, 100.74it/s, loss=1.03]\n"
          ]
        },
        {
          "output_type": "stream",
          "name": "stdout",
          "text": [
            "Epoch [489/10000]: Train loss: 1.0956, Valid loss: 1.1099\n"
          ]
        },
        {
          "output_type": "stream",
          "name": "stderr",
          "text": [
            "Epoch [490/10000]: 100%|██████████| 14/14 [00:00<00:00, 85.41it/s, loss=1.22]\n"
          ]
        },
        {
          "output_type": "stream",
          "name": "stdout",
          "text": [
            "Epoch [490/10000]: Train loss: 1.0947, Valid loss: 1.0919\n"
          ]
        },
        {
          "output_type": "stream",
          "name": "stderr",
          "text": [
            "Epoch [491/10000]: 100%|██████████| 14/14 [00:00<00:00, 99.48it/s, loss=0.814] \n"
          ]
        },
        {
          "output_type": "stream",
          "name": "stdout",
          "text": [
            "Epoch [491/10000]: Train loss: 1.0841, Valid loss: 1.1217\n"
          ]
        },
        {
          "output_type": "stream",
          "name": "stderr",
          "text": [
            "Epoch [492/10000]: 100%|██████████| 14/14 [00:00<00:00, 98.67it/s, loss=0.914] \n"
          ]
        },
        {
          "output_type": "stream",
          "name": "stdout",
          "text": [
            "Epoch [492/10000]: Train loss: 1.0923, Valid loss: 1.1079\n"
          ]
        },
        {
          "output_type": "stream",
          "name": "stderr",
          "text": [
            "Epoch [493/10000]: 100%|██████████| 14/14 [00:00<00:00, 93.34it/s, loss=1.06]\n"
          ]
        },
        {
          "output_type": "stream",
          "name": "stdout",
          "text": [
            "Epoch [493/10000]: Train loss: 1.1151, Valid loss: 1.0592\n"
          ]
        },
        {
          "output_type": "stream",
          "name": "stderr",
          "text": [
            "Epoch [494/10000]: 100%|██████████| 14/14 [00:00<00:00, 89.69it/s, loss=0.797]\n"
          ]
        },
        {
          "output_type": "stream",
          "name": "stdout",
          "text": [
            "Epoch [494/10000]: Train loss: 1.0915, Valid loss: 1.0905\n"
          ]
        },
        {
          "output_type": "stream",
          "name": "stderr",
          "text": [
            "Epoch [495/10000]: 100%|██████████| 14/14 [00:00<00:00, 82.29it/s, loss=0.694]\n"
          ]
        },
        {
          "output_type": "stream",
          "name": "stdout",
          "text": [
            "Epoch [495/10000]: Train loss: 1.0811, Valid loss: 1.1012\n"
          ]
        },
        {
          "output_type": "stream",
          "name": "stderr",
          "text": [
            "Epoch [496/10000]: 100%|██████████| 14/14 [00:00<00:00, 80.74it/s, loss=0.811]\n"
          ]
        },
        {
          "output_type": "stream",
          "name": "stdout",
          "text": [
            "Epoch [496/10000]: Train loss: 1.1011, Valid loss: 1.0872\n"
          ]
        },
        {
          "output_type": "stream",
          "name": "stderr",
          "text": [
            "Epoch [497/10000]: 100%|██████████| 14/14 [00:00<00:00, 70.27it/s, loss=1.48]\n"
          ]
        },
        {
          "output_type": "stream",
          "name": "stdout",
          "text": [
            "Epoch [497/10000]: Train loss: 1.1309, Valid loss: 1.1179\n"
          ]
        },
        {
          "output_type": "stream",
          "name": "stderr",
          "text": [
            "Epoch [498/10000]: 100%|██████████| 14/14 [00:00<00:00, 94.10it/s, loss=1.75]\n"
          ]
        },
        {
          "output_type": "stream",
          "name": "stdout",
          "text": [
            "Epoch [498/10000]: Train loss: 1.1807, Valid loss: 1.1744\n"
          ]
        },
        {
          "output_type": "stream",
          "name": "stderr",
          "text": [
            "Epoch [499/10000]: 100%|██████████| 14/14 [00:00<00:00, 86.58it/s, loss=1.24]\n"
          ]
        },
        {
          "output_type": "stream",
          "name": "stdout",
          "text": [
            "Epoch [499/10000]: Train loss: 1.1744, Valid loss: 1.1106\n"
          ]
        },
        {
          "output_type": "stream",
          "name": "stderr",
          "text": [
            "Epoch [500/10000]: 100%|██████████| 14/14 [00:00<00:00, 86.68it/s, loss=1.17]\n"
          ]
        },
        {
          "output_type": "stream",
          "name": "stdout",
          "text": [
            "Epoch [500/10000]: Train loss: 1.1342, Valid loss: 1.2402\n"
          ]
        },
        {
          "output_type": "stream",
          "name": "stderr",
          "text": [
            "Epoch [501/10000]: 100%|██████████| 14/14 [00:00<00:00, 95.42it/s, loss=0.985]\n"
          ]
        },
        {
          "output_type": "stream",
          "name": "stdout",
          "text": [
            "Epoch [501/10000]: Train loss: 1.1956, Valid loss: 1.5803\n"
          ]
        },
        {
          "output_type": "stream",
          "name": "stderr",
          "text": [
            "Epoch [502/10000]: 100%|██████████| 14/14 [00:00<00:00, 87.08it/s, loss=1.1]\n"
          ]
        },
        {
          "output_type": "stream",
          "name": "stdout",
          "text": [
            "Epoch [502/10000]: Train loss: 1.2224, Valid loss: 1.0748\n"
          ]
        },
        {
          "output_type": "stream",
          "name": "stderr",
          "text": [
            "Epoch [503/10000]: 100%|██████████| 14/14 [00:00<00:00, 94.77it/s, loss=0.888]\n"
          ]
        },
        {
          "output_type": "stream",
          "name": "stdout",
          "text": [
            "Epoch [503/10000]: Train loss: 1.1183, Valid loss: 1.0967\n"
          ]
        },
        {
          "output_type": "stream",
          "name": "stderr",
          "text": [
            "Epoch [504/10000]: 100%|██████████| 14/14 [00:00<00:00, 94.32it/s, loss=1.39]\n"
          ]
        },
        {
          "output_type": "stream",
          "name": "stdout",
          "text": [
            "Epoch [504/10000]: Train loss: 1.1123, Valid loss: 1.1570\n"
          ]
        },
        {
          "output_type": "stream",
          "name": "stderr",
          "text": [
            "Epoch [505/10000]: 100%|██████████| 14/14 [00:00<00:00, 92.62it/s, loss=1.19]\n"
          ]
        },
        {
          "output_type": "stream",
          "name": "stdout",
          "text": [
            "Epoch [505/10000]: Train loss: 1.1255, Valid loss: 1.0808\n"
          ]
        },
        {
          "output_type": "stream",
          "name": "stderr",
          "text": [
            "Epoch [506/10000]: 100%|██████████| 14/14 [00:00<00:00, 87.43it/s, loss=1.4]\n"
          ]
        },
        {
          "output_type": "stream",
          "name": "stdout",
          "text": [
            "Epoch [506/10000]: Train loss: 1.1054, Valid loss: 1.1056\n"
          ]
        },
        {
          "output_type": "stream",
          "name": "stderr",
          "text": [
            "Epoch [507/10000]: 100%|██████████| 14/14 [00:00<00:00, 77.69it/s, loss=1.05]\n"
          ]
        },
        {
          "output_type": "stream",
          "name": "stdout",
          "text": [
            "Epoch [507/10000]: Train loss: 1.0970, Valid loss: 1.0800\n"
          ]
        },
        {
          "output_type": "stream",
          "name": "stderr",
          "text": [
            "Epoch [508/10000]: 100%|██████████| 14/14 [00:00<00:00, 90.66it/s, loss=1.09]\n"
          ]
        },
        {
          "output_type": "stream",
          "name": "stdout",
          "text": [
            "Epoch [508/10000]: Train loss: 1.1030, Valid loss: 1.0746\n"
          ]
        },
        {
          "output_type": "stream",
          "name": "stderr",
          "text": [
            "Epoch [509/10000]: 100%|██████████| 14/14 [00:00<00:00, 81.21it/s, loss=0.876]\n"
          ]
        },
        {
          "output_type": "stream",
          "name": "stdout",
          "text": [
            "Epoch [509/10000]: Train loss: 1.0765, Valid loss: 1.1382\n"
          ]
        },
        {
          "output_type": "stream",
          "name": "stderr",
          "text": [
            "Epoch [510/10000]: 100%|██████████| 14/14 [00:00<00:00, 83.53it/s, loss=1.31]\n"
          ]
        },
        {
          "output_type": "stream",
          "name": "stdout",
          "text": [
            "Epoch [510/10000]: Train loss: 1.1259, Valid loss: 1.0765\n"
          ]
        },
        {
          "output_type": "stream",
          "name": "stderr",
          "text": [
            "Epoch [511/10000]: 100%|██████████| 14/14 [00:00<00:00, 81.00it/s, loss=0.83]\n"
          ]
        },
        {
          "output_type": "stream",
          "name": "stdout",
          "text": [
            "Epoch [511/10000]: Train loss: 1.1175, Valid loss: 1.0733\n"
          ]
        },
        {
          "output_type": "stream",
          "name": "stderr",
          "text": [
            "Epoch [512/10000]: 100%|██████████| 14/14 [00:00<00:00, 80.84it/s, loss=1.51]\n"
          ]
        },
        {
          "output_type": "stream",
          "name": "stdout",
          "text": [
            "Epoch [512/10000]: Train loss: 1.1249, Valid loss: 1.0520\n"
          ]
        },
        {
          "output_type": "stream",
          "name": "stderr",
          "text": [
            "Epoch [513/10000]: 100%|██████████| 14/14 [00:00<00:00, 80.06it/s, loss=1.17]\n"
          ]
        },
        {
          "output_type": "stream",
          "name": "stdout",
          "text": [
            "Epoch [513/10000]: Train loss: 1.1126, Valid loss: 1.0821\n"
          ]
        },
        {
          "output_type": "stream",
          "name": "stderr",
          "text": [
            "Epoch [514/10000]: 100%|██████████| 14/14 [00:00<00:00, 89.18it/s, loss=0.698]\n"
          ]
        },
        {
          "output_type": "stream",
          "name": "stdout",
          "text": [
            "Epoch [514/10000]: Train loss: 1.1013, Valid loss: 1.1153\n"
          ]
        },
        {
          "output_type": "stream",
          "name": "stderr",
          "text": [
            "Epoch [515/10000]: 100%|██████████| 14/14 [00:00<00:00, 81.69it/s, loss=1.18]\n"
          ]
        },
        {
          "output_type": "stream",
          "name": "stdout",
          "text": [
            "Epoch [515/10000]: Train loss: 1.0925, Valid loss: 1.0999\n"
          ]
        },
        {
          "output_type": "stream",
          "name": "stderr",
          "text": [
            "Epoch [516/10000]: 100%|██████████| 14/14 [00:00<00:00, 76.24it/s, loss=2.03]\n"
          ]
        },
        {
          "output_type": "stream",
          "name": "stdout",
          "text": [
            "Epoch [516/10000]: Train loss: 1.1269, Valid loss: 1.0832\n"
          ]
        },
        {
          "output_type": "stream",
          "name": "stderr",
          "text": [
            "Epoch [517/10000]: 100%|██████████| 14/14 [00:00<00:00, 94.66it/s, loss=0.82]\n"
          ]
        },
        {
          "output_type": "stream",
          "name": "stdout",
          "text": [
            "Epoch [517/10000]: Train loss: 1.0890, Valid loss: 1.1298\n"
          ]
        },
        {
          "output_type": "stream",
          "name": "stderr",
          "text": [
            "Epoch [518/10000]: 100%|██████████| 14/14 [00:00<00:00, 88.63it/s, loss=0.703]\n"
          ]
        },
        {
          "output_type": "stream",
          "name": "stdout",
          "text": [
            "Epoch [518/10000]: Train loss: 1.0781, Valid loss: 1.0860\n"
          ]
        },
        {
          "output_type": "stream",
          "name": "stderr",
          "text": [
            "Epoch [519/10000]: 100%|██████████| 14/14 [00:00<00:00, 86.29it/s, loss=1.13]\n"
          ]
        },
        {
          "output_type": "stream",
          "name": "stdout",
          "text": [
            "Epoch [519/10000]: Train loss: 1.1020, Valid loss: 1.0903\n"
          ]
        },
        {
          "output_type": "stream",
          "name": "stderr",
          "text": [
            "Epoch [520/10000]: 100%|██████████| 14/14 [00:00<00:00, 81.78it/s, loss=1.05]\n"
          ]
        },
        {
          "output_type": "stream",
          "name": "stdout",
          "text": [
            "Epoch [520/10000]: Train loss: 1.0993, Valid loss: 1.1259\n"
          ]
        },
        {
          "output_type": "stream",
          "name": "stderr",
          "text": [
            "Epoch [521/10000]: 100%|██████████| 14/14 [00:00<00:00, 72.90it/s, loss=0.87]\n"
          ]
        },
        {
          "output_type": "stream",
          "name": "stdout",
          "text": [
            "Epoch [521/10000]: Train loss: 1.0837, Valid loss: 1.1259\n"
          ]
        },
        {
          "output_type": "stream",
          "name": "stderr",
          "text": [
            "Epoch [522/10000]: 100%|██████████| 14/14 [00:00<00:00, 79.47it/s, loss=1.7]\n"
          ]
        },
        {
          "output_type": "stream",
          "name": "stdout",
          "text": [
            "Epoch [522/10000]: Train loss: 1.1197, Valid loss: 1.1882\n"
          ]
        },
        {
          "output_type": "stream",
          "name": "stderr",
          "text": [
            "Epoch [523/10000]: 100%|██████████| 14/14 [00:00<00:00, 81.10it/s, loss=1.43]\n"
          ]
        },
        {
          "output_type": "stream",
          "name": "stdout",
          "text": [
            "Epoch [523/10000]: Train loss: 1.1420, Valid loss: 1.0989\n"
          ]
        },
        {
          "output_type": "stream",
          "name": "stderr",
          "text": [
            "Epoch [524/10000]: 100%|██████████| 14/14 [00:00<00:00, 89.97it/s, loss=1.57]\n"
          ]
        },
        {
          "output_type": "stream",
          "name": "stdout",
          "text": [
            "Epoch [524/10000]: Train loss: 1.1136, Valid loss: 1.0977\n"
          ]
        },
        {
          "output_type": "stream",
          "name": "stderr",
          "text": [
            "Epoch [525/10000]: 100%|██████████| 14/14 [00:00<00:00, 91.67it/s, loss=1.19]\n"
          ]
        },
        {
          "output_type": "stream",
          "name": "stdout",
          "text": [
            "Epoch [525/10000]: Train loss: 1.1311, Valid loss: 1.0529\n"
          ]
        },
        {
          "output_type": "stream",
          "name": "stderr",
          "text": [
            "Epoch [526/10000]: 100%|██████████| 14/14 [00:00<00:00, 78.83it/s, loss=1.59]\n"
          ]
        },
        {
          "output_type": "stream",
          "name": "stdout",
          "text": [
            "Epoch [526/10000]: Train loss: 1.1369, Valid loss: 1.0833\n"
          ]
        },
        {
          "output_type": "stream",
          "name": "stderr",
          "text": [
            "Epoch [527/10000]: 100%|██████████| 14/14 [00:00<00:00, 88.54it/s, loss=1.74]\n"
          ]
        },
        {
          "output_type": "stream",
          "name": "stdout",
          "text": [
            "Epoch [527/10000]: Train loss: 1.2075, Valid loss: 1.3013\n"
          ]
        },
        {
          "output_type": "stream",
          "name": "stderr",
          "text": [
            "Epoch [528/10000]: 100%|██████████| 14/14 [00:00<00:00, 98.28it/s, loss=0.776] \n"
          ]
        },
        {
          "output_type": "stream",
          "name": "stdout",
          "text": [
            "Epoch [528/10000]: Train loss: 1.1456, Valid loss: 1.1130\n"
          ]
        },
        {
          "output_type": "stream",
          "name": "stderr",
          "text": [
            "Epoch [529/10000]: 100%|██████████| 14/14 [00:00<00:00, 85.90it/s, loss=0.838]\n"
          ]
        },
        {
          "output_type": "stream",
          "name": "stdout",
          "text": [
            "Epoch [529/10000]: Train loss: 1.0813, Valid loss: 1.0695\n"
          ]
        },
        {
          "output_type": "stream",
          "name": "stderr",
          "text": [
            "Epoch [530/10000]: 100%|██████████| 14/14 [00:00<00:00, 98.93it/s, loss=1.15]\n"
          ]
        },
        {
          "output_type": "stream",
          "name": "stdout",
          "text": [
            "Epoch [530/10000]: Train loss: 1.0999, Valid loss: 1.1402\n"
          ]
        },
        {
          "output_type": "stream",
          "name": "stderr",
          "text": [
            "Epoch [531/10000]: 100%|██████████| 14/14 [00:00<00:00, 98.53it/s, loss=1.97]\n"
          ]
        },
        {
          "output_type": "stream",
          "name": "stdout",
          "text": [
            "Epoch [531/10000]: Train loss: 1.2072, Valid loss: 1.0665\n"
          ]
        },
        {
          "output_type": "stream",
          "name": "stderr",
          "text": [
            "Epoch [532/10000]: 100%|██████████| 14/14 [00:00<00:00, 89.07it/s, loss=0.785]\n"
          ]
        },
        {
          "output_type": "stream",
          "name": "stdout",
          "text": [
            "Epoch [532/10000]: Train loss: 1.2263, Valid loss: 1.2104\n"
          ]
        },
        {
          "output_type": "stream",
          "name": "stderr",
          "text": [
            "Epoch [533/10000]: 100%|██████████| 14/14 [00:00<00:00, 91.57it/s, loss=1.07]\n"
          ]
        },
        {
          "output_type": "stream",
          "name": "stdout",
          "text": [
            "Epoch [533/10000]: Train loss: 1.1772, Valid loss: 1.1536\n"
          ]
        },
        {
          "output_type": "stream",
          "name": "stderr",
          "text": [
            "Epoch [534/10000]: 100%|██████████| 14/14 [00:00<00:00, 95.10it/s, loss=1.67]\n"
          ]
        },
        {
          "output_type": "stream",
          "name": "stdout",
          "text": [
            "Epoch [534/10000]: Train loss: 1.1329, Valid loss: 1.1742\n"
          ]
        },
        {
          "output_type": "stream",
          "name": "stderr",
          "text": [
            "Epoch [535/10000]: 100%|██████████| 14/14 [00:00<00:00, 85.74it/s, loss=1.53]\n"
          ]
        },
        {
          "output_type": "stream",
          "name": "stdout",
          "text": [
            "Epoch [535/10000]: Train loss: 1.1113, Valid loss: 1.0426\n"
          ]
        },
        {
          "output_type": "stream",
          "name": "stderr",
          "text": [
            "Epoch [536/10000]: 100%|██████████| 14/14 [00:00<00:00, 82.21it/s, loss=1.99]\n"
          ]
        },
        {
          "output_type": "stream",
          "name": "stdout",
          "text": [
            "Epoch [536/10000]: Train loss: 1.1333, Valid loss: 1.0905\n"
          ]
        },
        {
          "output_type": "stream",
          "name": "stderr",
          "text": [
            "Epoch [537/10000]: 100%|██████████| 14/14 [00:00<00:00, 86.52it/s, loss=1.1]\n"
          ]
        },
        {
          "output_type": "stream",
          "name": "stdout",
          "text": [
            "Epoch [537/10000]: Train loss: 1.0979, Valid loss: 1.1199\n"
          ]
        },
        {
          "output_type": "stream",
          "name": "stderr",
          "text": [
            "Epoch [538/10000]: 100%|██████████| 14/14 [00:00<00:00, 71.78it/s, loss=1.12]\n"
          ]
        },
        {
          "output_type": "stream",
          "name": "stdout",
          "text": [
            "Epoch [538/10000]: Train loss: 1.1054, Valid loss: 1.0967\n"
          ]
        },
        {
          "output_type": "stream",
          "name": "stderr",
          "text": [
            "Epoch [539/10000]: 100%|██████████| 14/14 [00:00<00:00, 84.15it/s, loss=1.08]\n"
          ]
        },
        {
          "output_type": "stream",
          "name": "stdout",
          "text": [
            "Epoch [539/10000]: Train loss: 1.0880, Valid loss: 1.0700\n"
          ]
        },
        {
          "output_type": "stream",
          "name": "stderr",
          "text": [
            "Epoch [540/10000]: 100%|██████████| 14/14 [00:00<00:00, 81.12it/s, loss=0.994]\n"
          ]
        },
        {
          "output_type": "stream",
          "name": "stdout",
          "text": [
            "Epoch [540/10000]: Train loss: 1.0886, Valid loss: 1.0948\n"
          ]
        },
        {
          "output_type": "stream",
          "name": "stderr",
          "text": [
            "Epoch [541/10000]: 100%|██████████| 14/14 [00:00<00:00, 84.84it/s, loss=1.35]\n"
          ]
        },
        {
          "output_type": "stream",
          "name": "stdout",
          "text": [
            "Epoch [541/10000]: Train loss: 1.0997, Valid loss: 1.0953\n"
          ]
        },
        {
          "output_type": "stream",
          "name": "stderr",
          "text": [
            "Epoch [542/10000]: 100%|██████████| 14/14 [00:00<00:00, 75.69it/s, loss=0.85]\n"
          ]
        },
        {
          "output_type": "stream",
          "name": "stdout",
          "text": [
            "Epoch [542/10000]: Train loss: 1.0826, Valid loss: 1.0773\n"
          ]
        },
        {
          "output_type": "stream",
          "name": "stderr",
          "text": [
            "Epoch [543/10000]: 100%|██████████| 14/14 [00:00<00:00, 83.71it/s, loss=1.21]\n"
          ]
        },
        {
          "output_type": "stream",
          "name": "stdout",
          "text": [
            "Epoch [543/10000]: Train loss: 1.0965, Valid loss: 1.2058\n"
          ]
        },
        {
          "output_type": "stream",
          "name": "stderr",
          "text": [
            "Epoch [544/10000]: 100%|██████████| 14/14 [00:00<00:00, 78.45it/s, loss=1.04]\n"
          ]
        },
        {
          "output_type": "stream",
          "name": "stdout",
          "text": [
            "Epoch [544/10000]: Train loss: 1.1013, Valid loss: 1.0514\n"
          ]
        },
        {
          "output_type": "stream",
          "name": "stderr",
          "text": [
            "Epoch [545/10000]: 100%|██████████| 14/14 [00:00<00:00, 81.10it/s, loss=1.35]\n"
          ]
        },
        {
          "output_type": "stream",
          "name": "stdout",
          "text": [
            "Epoch [545/10000]: Train loss: 1.1059, Valid loss: 1.0606\n"
          ]
        },
        {
          "output_type": "stream",
          "name": "stderr",
          "text": [
            "Epoch [546/10000]: 100%|██████████| 14/14 [00:00<00:00, 77.62it/s, loss=1.51]\n"
          ]
        },
        {
          "output_type": "stream",
          "name": "stdout",
          "text": [
            "Epoch [546/10000]: Train loss: 1.1108, Valid loss: 1.0944\n"
          ]
        },
        {
          "output_type": "stream",
          "name": "stderr",
          "text": [
            "Epoch [547/10000]: 100%|██████████| 14/14 [00:00<00:00, 83.31it/s, loss=0.864]\n"
          ]
        },
        {
          "output_type": "stream",
          "name": "stdout",
          "text": [
            "Epoch [547/10000]: Train loss: 1.1584, Valid loss: 1.0574\n"
          ]
        },
        {
          "output_type": "stream",
          "name": "stderr",
          "text": [
            "Epoch [548/10000]: 100%|██████████| 14/14 [00:00<00:00, 78.72it/s, loss=1.18]\n"
          ]
        },
        {
          "output_type": "stream",
          "name": "stdout",
          "text": [
            "Epoch [548/10000]: Train loss: 1.0934, Valid loss: 1.0590\n"
          ]
        },
        {
          "output_type": "stream",
          "name": "stderr",
          "text": [
            "Epoch [549/10000]: 100%|██████████| 14/14 [00:00<00:00, 79.39it/s, loss=1.16]\n"
          ]
        },
        {
          "output_type": "stream",
          "name": "stdout",
          "text": [
            "Epoch [549/10000]: Train loss: 1.1024, Valid loss: 1.0594\n"
          ]
        },
        {
          "output_type": "stream",
          "name": "stderr",
          "text": [
            "Epoch [550/10000]: 100%|██████████| 14/14 [00:00<00:00, 77.82it/s, loss=1.48]\n"
          ]
        },
        {
          "output_type": "stream",
          "name": "stdout",
          "text": [
            "Epoch [550/10000]: Train loss: 1.1050, Valid loss: 1.0967\n"
          ]
        },
        {
          "output_type": "stream",
          "name": "stderr",
          "text": [
            "Epoch [551/10000]: 100%|██████████| 14/14 [00:00<00:00, 88.55it/s, loss=1.61]\n"
          ]
        },
        {
          "output_type": "stream",
          "name": "stdout",
          "text": [
            "Epoch [551/10000]: Train loss: 1.1142, Valid loss: 1.0824\n"
          ]
        },
        {
          "output_type": "stream",
          "name": "stderr",
          "text": [
            "Epoch [552/10000]: 100%|██████████| 14/14 [00:00<00:00, 83.17it/s, loss=1.52]\n"
          ]
        },
        {
          "output_type": "stream",
          "name": "stdout",
          "text": [
            "Epoch [552/10000]: Train loss: 1.1189, Valid loss: 1.0926\n"
          ]
        },
        {
          "output_type": "stream",
          "name": "stderr",
          "text": [
            "Epoch [553/10000]: 100%|██████████| 14/14 [00:00<00:00, 82.77it/s, loss=0.961]\n"
          ]
        },
        {
          "output_type": "stream",
          "name": "stdout",
          "text": [
            "Epoch [553/10000]: Train loss: 1.0994, Valid loss: 1.0951\n"
          ]
        },
        {
          "output_type": "stream",
          "name": "stderr",
          "text": [
            "Epoch [554/10000]: 100%|██████████| 14/14 [00:00<00:00, 83.32it/s, loss=1.04]\n"
          ]
        },
        {
          "output_type": "stream",
          "name": "stdout",
          "text": [
            "Epoch [554/10000]: Train loss: 1.0926, Valid loss: 1.0641\n"
          ]
        },
        {
          "output_type": "stream",
          "name": "stderr",
          "text": [
            "Epoch [555/10000]: 100%|██████████| 14/14 [00:00<00:00, 85.63it/s, loss=0.972]\n"
          ]
        },
        {
          "output_type": "stream",
          "name": "stdout",
          "text": [
            "Epoch [555/10000]: Train loss: 1.0824, Valid loss: 1.0794\n"
          ]
        },
        {
          "output_type": "stream",
          "name": "stderr",
          "text": [
            "Epoch [556/10000]: 100%|██████████| 14/14 [00:00<00:00, 80.89it/s, loss=0.67]\n"
          ]
        },
        {
          "output_type": "stream",
          "name": "stdout",
          "text": [
            "Epoch [556/10000]: Train loss: 1.0739, Valid loss: 1.0871\n"
          ]
        },
        {
          "output_type": "stream",
          "name": "stderr",
          "text": [
            "Epoch [557/10000]: 100%|██████████| 14/14 [00:00<00:00, 74.86it/s, loss=0.885]\n"
          ]
        },
        {
          "output_type": "stream",
          "name": "stdout",
          "text": [
            "Epoch [557/10000]: Train loss: 1.0887, Valid loss: 1.0606\n"
          ]
        },
        {
          "output_type": "stream",
          "name": "stderr",
          "text": [
            "Epoch [558/10000]: 100%|██████████| 14/14 [00:00<00:00, 65.14it/s, loss=0.913]\n"
          ]
        },
        {
          "output_type": "stream",
          "name": "stdout",
          "text": [
            "Epoch [558/10000]: Train loss: 1.1314, Valid loss: 1.1057\n"
          ]
        },
        {
          "output_type": "stream",
          "name": "stderr",
          "text": [
            "Epoch [559/10000]: 100%|██████████| 14/14 [00:00<00:00, 80.10it/s, loss=0.563]\n"
          ]
        },
        {
          "output_type": "stream",
          "name": "stdout",
          "text": [
            "Epoch [559/10000]: Train loss: 1.1277, Valid loss: 1.2533\n"
          ]
        },
        {
          "output_type": "stream",
          "name": "stderr",
          "text": [
            "Epoch [560/10000]: 100%|██████████| 14/14 [00:00<00:00, 87.84it/s, loss=1.1]\n"
          ]
        },
        {
          "output_type": "stream",
          "name": "stdout",
          "text": [
            "Epoch [560/10000]: Train loss: 1.1623, Valid loss: 1.1488\n"
          ]
        },
        {
          "output_type": "stream",
          "name": "stderr",
          "text": [
            "Epoch [561/10000]: 100%|██████████| 14/14 [00:00<00:00, 84.75it/s, loss=0.726]\n"
          ]
        },
        {
          "output_type": "stream",
          "name": "stdout",
          "text": [
            "Epoch [561/10000]: Train loss: 1.0750, Valid loss: 1.0685\n"
          ]
        },
        {
          "output_type": "stream",
          "name": "stderr",
          "text": [
            "Epoch [562/10000]: 100%|██████████| 14/14 [00:00<00:00, 82.04it/s, loss=0.888]\n"
          ]
        },
        {
          "output_type": "stream",
          "name": "stdout",
          "text": [
            "Epoch [562/10000]: Train loss: 1.0787, Valid loss: 1.1118\n"
          ]
        },
        {
          "output_type": "stream",
          "name": "stderr",
          "text": [
            "Epoch [563/10000]: 100%|██████████| 14/14 [00:00<00:00, 74.73it/s, loss=1.06]\n"
          ]
        },
        {
          "output_type": "stream",
          "name": "stdout",
          "text": [
            "Epoch [563/10000]: Train loss: 1.1151, Valid loss: 1.0757\n"
          ]
        },
        {
          "output_type": "stream",
          "name": "stderr",
          "text": [
            "Epoch [564/10000]: 100%|██████████| 14/14 [00:00<00:00, 76.04it/s, loss=0.941]\n"
          ]
        },
        {
          "output_type": "stream",
          "name": "stdout",
          "text": [
            "Epoch [564/10000]: Train loss: 1.0962, Valid loss: 1.0715\n"
          ]
        },
        {
          "output_type": "stream",
          "name": "stderr",
          "text": [
            "Epoch [565/10000]: 100%|██████████| 14/14 [00:00<00:00, 86.48it/s, loss=0.919]\n"
          ]
        },
        {
          "output_type": "stream",
          "name": "stdout",
          "text": [
            "Epoch [565/10000]: Train loss: 1.0992, Valid loss: 1.2165\n"
          ]
        },
        {
          "output_type": "stream",
          "name": "stderr",
          "text": [
            "Epoch [566/10000]: 100%|██████████| 14/14 [00:00<00:00, 65.30it/s, loss=1.42]\n"
          ]
        },
        {
          "output_type": "stream",
          "name": "stdout",
          "text": [
            "Epoch [566/10000]: Train loss: 1.1727, Valid loss: 1.0905\n"
          ]
        },
        {
          "output_type": "stream",
          "name": "stderr",
          "text": [
            "Epoch [567/10000]: 100%|██████████| 14/14 [00:00<00:00, 86.22it/s, loss=0.982]\n"
          ]
        },
        {
          "output_type": "stream",
          "name": "stdout",
          "text": [
            "Epoch [567/10000]: Train loss: 1.0895, Valid loss: 1.2378\n"
          ]
        },
        {
          "output_type": "stream",
          "name": "stderr",
          "text": [
            "Epoch [568/10000]: 100%|██████████| 14/14 [00:00<00:00, 87.24it/s, loss=1.02]\n"
          ]
        },
        {
          "output_type": "stream",
          "name": "stdout",
          "text": [
            "Epoch [568/10000]: Train loss: 1.1207, Valid loss: 1.1315\n"
          ]
        },
        {
          "output_type": "stream",
          "name": "stderr",
          "text": [
            "Epoch [569/10000]: 100%|██████████| 14/14 [00:00<00:00, 81.05it/s, loss=1.05]\n"
          ]
        },
        {
          "output_type": "stream",
          "name": "stdout",
          "text": [
            "Epoch [569/10000]: Train loss: 1.0964, Valid loss: 1.0982\n"
          ]
        },
        {
          "output_type": "stream",
          "name": "stderr",
          "text": [
            "Epoch [570/10000]: 100%|██████████| 14/14 [00:00<00:00, 77.01it/s, loss=1.3]\n"
          ]
        },
        {
          "output_type": "stream",
          "name": "stdout",
          "text": [
            "Epoch [570/10000]: Train loss: 1.0963, Valid loss: 1.0931\n"
          ]
        },
        {
          "output_type": "stream",
          "name": "stderr",
          "text": [
            "Epoch [571/10000]: 100%|██████████| 14/14 [00:00<00:00, 82.73it/s, loss=0.786]\n"
          ]
        },
        {
          "output_type": "stream",
          "name": "stdout",
          "text": [
            "Epoch [571/10000]: Train loss: 1.0829, Valid loss: 1.1144\n"
          ]
        },
        {
          "output_type": "stream",
          "name": "stderr",
          "text": [
            "Epoch [572/10000]: 100%|██████████| 14/14 [00:00<00:00, 85.44it/s, loss=0.921]\n"
          ]
        },
        {
          "output_type": "stream",
          "name": "stdout",
          "text": [
            "Epoch [572/10000]: Train loss: 1.0942, Valid loss: 1.0883\n"
          ]
        },
        {
          "output_type": "stream",
          "name": "stderr",
          "text": [
            "Epoch [573/10000]: 100%|██████████| 14/14 [00:00<00:00, 94.09it/s, loss=0.813]\n"
          ]
        },
        {
          "output_type": "stream",
          "name": "stdout",
          "text": [
            "Epoch [573/10000]: Train loss: 1.0805, Valid loss: 1.1334\n"
          ]
        },
        {
          "output_type": "stream",
          "name": "stderr",
          "text": [
            "Epoch [574/10000]: 100%|██████████| 14/14 [00:00<00:00, 71.04it/s, loss=0.91]\n"
          ]
        },
        {
          "output_type": "stream",
          "name": "stdout",
          "text": [
            "Epoch [574/10000]: Train loss: 1.0914, Valid loss: 1.1556\n"
          ]
        },
        {
          "output_type": "stream",
          "name": "stderr",
          "text": [
            "Epoch [575/10000]: 100%|██████████| 14/14 [00:00<00:00, 85.90it/s, loss=0.948]\n"
          ]
        },
        {
          "output_type": "stream",
          "name": "stdout",
          "text": [
            "Epoch [575/10000]: Train loss: 1.0900, Valid loss: 1.1137\n"
          ]
        },
        {
          "output_type": "stream",
          "name": "stderr",
          "text": [
            "Epoch [576/10000]: 100%|██████████| 14/14 [00:00<00:00, 77.03it/s, loss=1.66]\n"
          ]
        },
        {
          "output_type": "stream",
          "name": "stdout",
          "text": [
            "Epoch [576/10000]: Train loss: 1.1267, Valid loss: 1.1218\n"
          ]
        },
        {
          "output_type": "stream",
          "name": "stderr",
          "text": [
            "Epoch [577/10000]: 100%|██████████| 14/14 [00:00<00:00, 79.56it/s, loss=1.05]\n"
          ]
        },
        {
          "output_type": "stream",
          "name": "stdout",
          "text": [
            "Epoch [577/10000]: Train loss: 1.1408, Valid loss: 1.0717\n"
          ]
        },
        {
          "output_type": "stream",
          "name": "stderr",
          "text": [
            "Epoch [578/10000]: 100%|██████████| 14/14 [00:00<00:00, 94.00it/s, loss=0.879]\n"
          ]
        },
        {
          "output_type": "stream",
          "name": "stdout",
          "text": [
            "Epoch [578/10000]: Train loss: 1.0815, Valid loss: 1.0831\n"
          ]
        },
        {
          "output_type": "stream",
          "name": "stderr",
          "text": [
            "Epoch [579/10000]: 100%|██████████| 14/14 [00:00<00:00, 91.49it/s, loss=0.877]\n"
          ]
        },
        {
          "output_type": "stream",
          "name": "stdout",
          "text": [
            "Epoch [579/10000]: Train loss: 1.0800, Valid loss: 1.0773\n"
          ]
        },
        {
          "output_type": "stream",
          "name": "stderr",
          "text": [
            "Epoch [580/10000]: 100%|██████████| 14/14 [00:00<00:00, 87.34it/s, loss=1.65]\n"
          ]
        },
        {
          "output_type": "stream",
          "name": "stdout",
          "text": [
            "Epoch [580/10000]: Train loss: 1.1214, Valid loss: 1.1170\n"
          ]
        },
        {
          "output_type": "stream",
          "name": "stderr",
          "text": [
            "Epoch [581/10000]: 100%|██████████| 14/14 [00:00<00:00, 81.86it/s, loss=1.29]\n"
          ]
        },
        {
          "output_type": "stream",
          "name": "stdout",
          "text": [
            "Epoch [581/10000]: Train loss: 1.1426, Valid loss: 1.0946\n"
          ]
        },
        {
          "output_type": "stream",
          "name": "stderr",
          "text": [
            "Epoch [582/10000]: 100%|██████████| 14/14 [00:00<00:00, 84.89it/s, loss=0.697]\n"
          ]
        },
        {
          "output_type": "stream",
          "name": "stdout",
          "text": [
            "Epoch [582/10000]: Train loss: 1.0969, Valid loss: 1.0866\n"
          ]
        },
        {
          "output_type": "stream",
          "name": "stderr",
          "text": [
            "Epoch [583/10000]: 100%|██████████| 14/14 [00:00<00:00, 85.78it/s, loss=1.54]\n"
          ]
        },
        {
          "output_type": "stream",
          "name": "stdout",
          "text": [
            "Epoch [583/10000]: Train loss: 1.1242, Valid loss: 1.1274\n"
          ]
        },
        {
          "output_type": "stream",
          "name": "stderr",
          "text": [
            "Epoch [584/10000]: 100%|██████████| 14/14 [00:00<00:00, 90.21it/s, loss=1.31]\n"
          ]
        },
        {
          "output_type": "stream",
          "name": "stdout",
          "text": [
            "Epoch [584/10000]: Train loss: 1.1385, Valid loss: 1.1057\n"
          ]
        },
        {
          "output_type": "stream",
          "name": "stderr",
          "text": [
            "Epoch [585/10000]: 100%|██████████| 14/14 [00:00<00:00, 70.21it/s, loss=0.886]\n"
          ]
        },
        {
          "output_type": "stream",
          "name": "stdout",
          "text": [
            "Epoch [585/10000]: Train loss: 1.1017, Valid loss: 1.0868\n"
          ]
        },
        {
          "output_type": "stream",
          "name": "stderr",
          "text": [
            "Epoch [586/10000]: 100%|██████████| 14/14 [00:00<00:00, 93.33it/s, loss=1.61]\n"
          ]
        },
        {
          "output_type": "stream",
          "name": "stdout",
          "text": [
            "Epoch [586/10000]: Train loss: 1.1444, Valid loss: 1.0773\n"
          ]
        },
        {
          "output_type": "stream",
          "name": "stderr",
          "text": [
            "Epoch [587/10000]: 100%|██████████| 14/14 [00:00<00:00, 99.05it/s, loss=0.64] \n"
          ]
        },
        {
          "output_type": "stream",
          "name": "stdout",
          "text": [
            "Epoch [587/10000]: Train loss: 1.0775, Valid loss: 1.0951\n"
          ]
        },
        {
          "output_type": "stream",
          "name": "stderr",
          "text": [
            "Epoch [588/10000]: 100%|██████████| 14/14 [00:00<00:00, 77.88it/s, loss=1.9]\n"
          ]
        },
        {
          "output_type": "stream",
          "name": "stdout",
          "text": [
            "Epoch [588/10000]: Train loss: 1.1280, Valid loss: 1.0985\n"
          ]
        },
        {
          "output_type": "stream",
          "name": "stderr",
          "text": [
            "Epoch [589/10000]: 100%|██████████| 14/14 [00:00<00:00, 75.01it/s, loss=1.19]\n"
          ]
        },
        {
          "output_type": "stream",
          "name": "stdout",
          "text": [
            "Epoch [589/10000]: Train loss: 1.1321, Valid loss: 1.1183\n"
          ]
        },
        {
          "output_type": "stream",
          "name": "stderr",
          "text": [
            "Epoch [590/10000]: 100%|██████████| 14/14 [00:00<00:00, 78.91it/s, loss=1.14]\n"
          ]
        },
        {
          "output_type": "stream",
          "name": "stdout",
          "text": [
            "Epoch [590/10000]: Train loss: 1.1480, Valid loss: 1.1031\n"
          ]
        },
        {
          "output_type": "stream",
          "name": "stderr",
          "text": [
            "Epoch [591/10000]: 100%|██████████| 14/14 [00:00<00:00, 83.88it/s, loss=0.997]\n"
          ]
        },
        {
          "output_type": "stream",
          "name": "stdout",
          "text": [
            "Epoch [591/10000]: Train loss: 1.1074, Valid loss: 1.1122\n"
          ]
        },
        {
          "output_type": "stream",
          "name": "stderr",
          "text": [
            "Epoch [592/10000]: 100%|██████████| 14/14 [00:00<00:00, 82.50it/s, loss=1.26]\n"
          ]
        },
        {
          "output_type": "stream",
          "name": "stdout",
          "text": [
            "Epoch [592/10000]: Train loss: 1.0924, Valid loss: 1.0908\n"
          ]
        },
        {
          "output_type": "stream",
          "name": "stderr",
          "text": [
            "Epoch [593/10000]: 100%|██████████| 14/14 [00:00<00:00, 68.53it/s, loss=1.17]\n"
          ]
        },
        {
          "output_type": "stream",
          "name": "stdout",
          "text": [
            "Epoch [593/10000]: Train loss: 1.0979, Valid loss: 1.1040\n"
          ]
        },
        {
          "output_type": "stream",
          "name": "stderr",
          "text": [
            "Epoch [594/10000]: 100%|██████████| 14/14 [00:00<00:00, 92.06it/s, loss=1.59]\n"
          ]
        },
        {
          "output_type": "stream",
          "name": "stdout",
          "text": [
            "Epoch [594/10000]: Train loss: 1.1281, Valid loss: 1.0716\n"
          ]
        },
        {
          "output_type": "stream",
          "name": "stderr",
          "text": [
            "Epoch [595/10000]: 100%|██████████| 14/14 [00:00<00:00, 78.81it/s, loss=1.84]\n"
          ]
        },
        {
          "output_type": "stream",
          "name": "stdout",
          "text": [
            "Epoch [595/10000]: Train loss: 1.1589, Valid loss: 1.1734\n"
          ]
        },
        {
          "output_type": "stream",
          "name": "stderr",
          "text": [
            "Epoch [596/10000]: 100%|██████████| 14/14 [00:00<00:00, 79.43it/s, loss=0.974]\n"
          ]
        },
        {
          "output_type": "stream",
          "name": "stdout",
          "text": [
            "Epoch [596/10000]: Train loss: 1.1334, Valid loss: 1.2789\n"
          ]
        },
        {
          "output_type": "stream",
          "name": "stderr",
          "text": [
            "Epoch [597/10000]: 100%|██████████| 14/14 [00:00<00:00, 73.49it/s, loss=0.625]\n"
          ]
        },
        {
          "output_type": "stream",
          "name": "stdout",
          "text": [
            "Epoch [597/10000]: Train loss: 1.1043, Valid loss: 1.1209\n"
          ]
        },
        {
          "output_type": "stream",
          "name": "stderr",
          "text": [
            "Epoch [598/10000]: 100%|██████████| 14/14 [00:00<00:00, 92.34it/s, loss=0.91]\n"
          ]
        },
        {
          "output_type": "stream",
          "name": "stdout",
          "text": [
            "Epoch [598/10000]: Train loss: 1.0842, Valid loss: 1.2430\n"
          ]
        },
        {
          "output_type": "stream",
          "name": "stderr",
          "text": [
            "Epoch [599/10000]: 100%|██████████| 14/14 [00:00<00:00, 76.65it/s, loss=1.28]\n"
          ]
        },
        {
          "output_type": "stream",
          "name": "stdout",
          "text": [
            "Epoch [599/10000]: Train loss: 1.1625, Valid loss: 1.0866\n"
          ]
        },
        {
          "output_type": "stream",
          "name": "stderr",
          "text": [
            "Epoch [600/10000]: 100%|██████████| 14/14 [00:00<00:00, 94.07it/s, loss=1.15]\n"
          ]
        },
        {
          "output_type": "stream",
          "name": "stdout",
          "text": [
            "Epoch [600/10000]: Train loss: 1.1628, Valid loss: 1.0663\n"
          ]
        },
        {
          "output_type": "stream",
          "name": "stderr",
          "text": [
            "Epoch [601/10000]: 100%|██████████| 14/14 [00:00<00:00, 91.98it/s, loss=1.37]\n"
          ]
        },
        {
          "output_type": "stream",
          "name": "stdout",
          "text": [
            "Epoch [601/10000]: Train loss: 1.1119, Valid loss: 1.3111\n"
          ]
        },
        {
          "output_type": "stream",
          "name": "stderr",
          "text": [
            "Epoch [602/10000]: 100%|██████████| 14/14 [00:00<00:00, 83.38it/s, loss=1.32]\n"
          ]
        },
        {
          "output_type": "stream",
          "name": "stdout",
          "text": [
            "Epoch [602/10000]: Train loss: 1.1862, Valid loss: 1.0839\n"
          ]
        },
        {
          "output_type": "stream",
          "name": "stderr",
          "text": [
            "Epoch [603/10000]: 100%|██████████| 14/14 [00:00<00:00, 83.59it/s, loss=0.933]\n"
          ]
        },
        {
          "output_type": "stream",
          "name": "stdout",
          "text": [
            "Epoch [603/10000]: Train loss: 1.1453, Valid loss: 1.0666\n"
          ]
        },
        {
          "output_type": "stream",
          "name": "stderr",
          "text": [
            "Epoch [604/10000]: 100%|██████████| 14/14 [00:00<00:00, 71.90it/s, loss=0.852]\n"
          ]
        },
        {
          "output_type": "stream",
          "name": "stdout",
          "text": [
            "Epoch [604/10000]: Train loss: 1.0761, Valid loss: 1.1287\n"
          ]
        },
        {
          "output_type": "stream",
          "name": "stderr",
          "text": [
            "Epoch [605/10000]: 100%|██████████| 14/14 [00:00<00:00, 79.35it/s, loss=1.14]\n"
          ]
        },
        {
          "output_type": "stream",
          "name": "stdout",
          "text": [
            "Epoch [605/10000]: Train loss: 1.1332, Valid loss: 1.1336\n"
          ]
        },
        {
          "output_type": "stream",
          "name": "stderr",
          "text": [
            "Epoch [606/10000]: 100%|██████████| 14/14 [00:00<00:00, 85.25it/s, loss=0.99]\n"
          ]
        },
        {
          "output_type": "stream",
          "name": "stdout",
          "text": [
            "Epoch [606/10000]: Train loss: 1.0904, Valid loss: 1.1777\n"
          ]
        },
        {
          "output_type": "stream",
          "name": "stderr",
          "text": [
            "Epoch [607/10000]: 100%|██████████| 14/14 [00:00<00:00, 81.29it/s, loss=1.23]\n"
          ]
        },
        {
          "output_type": "stream",
          "name": "stdout",
          "text": [
            "Epoch [607/10000]: Train loss: 1.1342, Valid loss: 1.1198\n"
          ]
        },
        {
          "output_type": "stream",
          "name": "stderr",
          "text": [
            "Epoch [608/10000]: 100%|██████████| 14/14 [00:00<00:00, 73.25it/s, loss=2.15]\n"
          ]
        },
        {
          "output_type": "stream",
          "name": "stdout",
          "text": [
            "Epoch [608/10000]: Train loss: 1.1546, Valid loss: 1.0439\n"
          ]
        },
        {
          "output_type": "stream",
          "name": "stderr",
          "text": [
            "Epoch [609/10000]: 100%|██████████| 14/14 [00:00<00:00, 90.42it/s, loss=1.57]\n"
          ]
        },
        {
          "output_type": "stream",
          "name": "stdout",
          "text": [
            "Epoch [609/10000]: Train loss: 1.0978, Valid loss: 1.0716\n"
          ]
        },
        {
          "output_type": "stream",
          "name": "stderr",
          "text": [
            "Epoch [610/10000]: 100%|██████████| 14/14 [00:00<00:00, 83.06it/s, loss=1.3]\n"
          ]
        },
        {
          "output_type": "stream",
          "name": "stdout",
          "text": [
            "Epoch [610/10000]: Train loss: 1.1002, Valid loss: 1.0765\n"
          ]
        },
        {
          "output_type": "stream",
          "name": "stderr",
          "text": [
            "Epoch [611/10000]: 100%|██████████| 14/14 [00:00<00:00, 85.01it/s, loss=0.958]\n"
          ]
        },
        {
          "output_type": "stream",
          "name": "stdout",
          "text": [
            "Epoch [611/10000]: Train loss: 1.0828, Valid loss: 1.0989\n"
          ]
        },
        {
          "output_type": "stream",
          "name": "stderr",
          "text": [
            "Epoch [612/10000]: 100%|██████████| 14/14 [00:00<00:00, 80.99it/s, loss=1.09]\n"
          ]
        },
        {
          "output_type": "stream",
          "name": "stdout",
          "text": [
            "Epoch [612/10000]: Train loss: 1.1178, Valid loss: 1.1533\n"
          ]
        },
        {
          "output_type": "stream",
          "name": "stderr",
          "text": [
            "Epoch [613/10000]: 100%|██████████| 14/14 [00:00<00:00, 79.97it/s, loss=1.2]\n"
          ]
        },
        {
          "output_type": "stream",
          "name": "stdout",
          "text": [
            "Epoch [613/10000]: Train loss: 1.1349, Valid loss: 1.1209\n"
          ]
        },
        {
          "output_type": "stream",
          "name": "stderr",
          "text": [
            "Epoch [614/10000]: 100%|██████████| 14/14 [00:00<00:00, 78.71it/s, loss=1.22]\n"
          ]
        },
        {
          "output_type": "stream",
          "name": "stdout",
          "text": [
            "Epoch [614/10000]: Train loss: 1.1296, Valid loss: 1.1103\n"
          ]
        },
        {
          "output_type": "stream",
          "name": "stderr",
          "text": [
            "Epoch [615/10000]: 100%|██████████| 14/14 [00:00<00:00, 72.28it/s, loss=1.73]\n"
          ]
        },
        {
          "output_type": "stream",
          "name": "stdout",
          "text": [
            "Epoch [615/10000]: Train loss: 1.1124, Valid loss: 1.0667\n"
          ]
        },
        {
          "output_type": "stream",
          "name": "stderr",
          "text": [
            "Epoch [616/10000]: 100%|██████████| 14/14 [00:00<00:00, 76.06it/s, loss=0.747]\n"
          ]
        },
        {
          "output_type": "stream",
          "name": "stdout",
          "text": [
            "Epoch [616/10000]: Train loss: 1.0779, Valid loss: 1.0758\n"
          ]
        },
        {
          "output_type": "stream",
          "name": "stderr",
          "text": [
            "Epoch [617/10000]: 100%|██████████| 14/14 [00:00<00:00, 71.32it/s, loss=0.83]\n"
          ]
        },
        {
          "output_type": "stream",
          "name": "stdout",
          "text": [
            "Epoch [617/10000]: Train loss: 1.1051, Valid loss: 1.0700\n"
          ]
        },
        {
          "output_type": "stream",
          "name": "stderr",
          "text": [
            "Epoch [618/10000]: 100%|██████████| 14/14 [00:00<00:00, 71.31it/s, loss=0.721]\n"
          ]
        },
        {
          "output_type": "stream",
          "name": "stdout",
          "text": [
            "Epoch [618/10000]: Train loss: 1.1094, Valid loss: 1.2915\n"
          ]
        },
        {
          "output_type": "stream",
          "name": "stderr",
          "text": [
            "Epoch [619/10000]: 100%|██████████| 14/14 [00:00<00:00, 78.54it/s, loss=1.44]\n"
          ]
        },
        {
          "output_type": "stream",
          "name": "stdout",
          "text": [
            "Epoch [619/10000]: Train loss: 1.1551, Valid loss: 1.1807\n"
          ]
        },
        {
          "output_type": "stream",
          "name": "stderr",
          "text": [
            "Epoch [620/10000]: 100%|██████████| 14/14 [00:00<00:00, 78.14it/s, loss=0.946]\n"
          ]
        },
        {
          "output_type": "stream",
          "name": "stdout",
          "text": [
            "Epoch [620/10000]: Train loss: 1.1128, Valid loss: 1.0791\n"
          ]
        },
        {
          "output_type": "stream",
          "name": "stderr",
          "text": [
            "Epoch [621/10000]: 100%|██████████| 14/14 [00:00<00:00, 72.26it/s, loss=1.51]\n"
          ]
        },
        {
          "output_type": "stream",
          "name": "stdout",
          "text": [
            "Epoch [621/10000]: Train loss: 1.1129, Valid loss: 1.1190\n"
          ]
        },
        {
          "output_type": "stream",
          "name": "stderr",
          "text": [
            "Epoch [622/10000]: 100%|██████████| 14/14 [00:00<00:00, 70.78it/s, loss=1.25]\n"
          ]
        },
        {
          "output_type": "stream",
          "name": "stdout",
          "text": [
            "Epoch [622/10000]: Train loss: 1.1034, Valid loss: 1.0874\n"
          ]
        },
        {
          "output_type": "stream",
          "name": "stderr",
          "text": [
            "Epoch [623/10000]: 100%|██████████| 14/14 [00:00<00:00, 82.61it/s, loss=0.726]\n"
          ]
        },
        {
          "output_type": "stream",
          "name": "stdout",
          "text": [
            "Epoch [623/10000]: Train loss: 1.0856, Valid loss: 1.2338\n"
          ]
        },
        {
          "output_type": "stream",
          "name": "stderr",
          "text": [
            "Epoch [624/10000]: 100%|██████████| 14/14 [00:00<00:00, 77.02it/s, loss=0.901]\n"
          ]
        },
        {
          "output_type": "stream",
          "name": "stdout",
          "text": [
            "Epoch [624/10000]: Train loss: 1.1252, Valid loss: 1.1716\n"
          ]
        },
        {
          "output_type": "stream",
          "name": "stderr",
          "text": [
            "Epoch [625/10000]: 100%|██████████| 14/14 [00:00<00:00, 70.65it/s, loss=0.979]\n"
          ]
        },
        {
          "output_type": "stream",
          "name": "stdout",
          "text": [
            "Epoch [625/10000]: Train loss: 1.1223, Valid loss: 1.0860\n"
          ]
        },
        {
          "output_type": "stream",
          "name": "stderr",
          "text": [
            "Epoch [626/10000]: 100%|██████████| 14/14 [00:00<00:00, 88.32it/s, loss=0.802]\n"
          ]
        },
        {
          "output_type": "stream",
          "name": "stdout",
          "text": [
            "Epoch [626/10000]: Train loss: 1.1048, Valid loss: 1.0813\n"
          ]
        },
        {
          "output_type": "stream",
          "name": "stderr",
          "text": [
            "Epoch [627/10000]: 100%|██████████| 14/14 [00:00<00:00, 70.96it/s, loss=1.01]\n"
          ]
        },
        {
          "output_type": "stream",
          "name": "stdout",
          "text": [
            "Epoch [627/10000]: Train loss: 1.0951, Valid loss: 1.0770\n"
          ]
        },
        {
          "output_type": "stream",
          "name": "stderr",
          "text": [
            "Epoch [628/10000]: 100%|██████████| 14/14 [00:00<00:00, 79.53it/s, loss=1.01]\n"
          ]
        },
        {
          "output_type": "stream",
          "name": "stdout",
          "text": [
            "Epoch [628/10000]: Train loss: 1.0903, Valid loss: 1.0735\n"
          ]
        },
        {
          "output_type": "stream",
          "name": "stderr",
          "text": [
            "Epoch [629/10000]: 100%|██████████| 14/14 [00:00<00:00, 75.89it/s, loss=1.06]\n"
          ]
        },
        {
          "output_type": "stream",
          "name": "stdout",
          "text": [
            "Epoch [629/10000]: Train loss: 1.0816, Valid loss: 1.1827\n"
          ]
        },
        {
          "output_type": "stream",
          "name": "stderr",
          "text": [
            "Epoch [630/10000]: 100%|██████████| 14/14 [00:00<00:00, 84.44it/s, loss=1.11]\n"
          ]
        },
        {
          "output_type": "stream",
          "name": "stdout",
          "text": [
            "Epoch [630/10000]: Train loss: 1.1463, Valid loss: 1.1996\n"
          ]
        },
        {
          "output_type": "stream",
          "name": "stderr",
          "text": [
            "Epoch [631/10000]: 100%|██████████| 14/14 [00:00<00:00, 73.96it/s, loss=0.992]\n"
          ]
        },
        {
          "output_type": "stream",
          "name": "stdout",
          "text": [
            "Epoch [631/10000]: Train loss: 1.1090, Valid loss: 1.0864\n"
          ]
        },
        {
          "output_type": "stream",
          "name": "stderr",
          "text": [
            "Epoch [632/10000]: 100%|██████████| 14/14 [00:00<00:00, 87.70it/s, loss=0.744]\n"
          ]
        },
        {
          "output_type": "stream",
          "name": "stdout",
          "text": [
            "Epoch [632/10000]: Train loss: 1.0781, Valid loss: 1.2014\n"
          ]
        },
        {
          "output_type": "stream",
          "name": "stderr",
          "text": [
            "Epoch [633/10000]: 100%|██████████| 14/14 [00:00<00:00, 78.97it/s, loss=1.89]\n"
          ]
        },
        {
          "output_type": "stream",
          "name": "stdout",
          "text": [
            "Epoch [633/10000]: Train loss: 1.1677, Valid loss: 1.0475\n"
          ]
        },
        {
          "output_type": "stream",
          "name": "stderr",
          "text": [
            "Epoch [634/10000]: 100%|██████████| 14/14 [00:00<00:00, 83.27it/s, loss=1.27]\n"
          ]
        },
        {
          "output_type": "stream",
          "name": "stdout",
          "text": [
            "Epoch [634/10000]: Train loss: 1.1367, Valid loss: 1.0909\n"
          ]
        },
        {
          "output_type": "stream",
          "name": "stderr",
          "text": [
            "Epoch [635/10000]: 100%|██████████| 14/14 [00:00<00:00, 79.95it/s, loss=0.663]\n"
          ]
        },
        {
          "output_type": "stream",
          "name": "stdout",
          "text": [
            "Epoch [635/10000]: Train loss: 1.0841, Valid loss: 1.0916\n"
          ]
        },
        {
          "output_type": "stream",
          "name": "stderr",
          "text": [
            "Epoch [636/10000]: 100%|██████████| 14/14 [00:00<00:00, 75.85it/s, loss=0.92]\n"
          ]
        },
        {
          "output_type": "stream",
          "name": "stdout",
          "text": [
            "Epoch [636/10000]: Train loss: 1.0955, Valid loss: 1.3285\n"
          ]
        },
        {
          "output_type": "stream",
          "name": "stderr",
          "text": [
            "Epoch [637/10000]: 100%|██████████| 14/14 [00:00<00:00, 81.91it/s, loss=1.16]\n"
          ]
        },
        {
          "output_type": "stream",
          "name": "stdout",
          "text": [
            "Epoch [637/10000]: Train loss: 1.2233, Valid loss: 1.1537\n"
          ]
        },
        {
          "output_type": "stream",
          "name": "stderr",
          "text": [
            "Epoch [638/10000]: 100%|██████████| 14/14 [00:00<00:00, 76.18it/s, loss=1.39]\n"
          ]
        },
        {
          "output_type": "stream",
          "name": "stdout",
          "text": [
            "Epoch [638/10000]: Train loss: 1.1183, Valid loss: 1.1212\n"
          ]
        },
        {
          "output_type": "stream",
          "name": "stderr",
          "text": [
            "Epoch [639/10000]: 100%|██████████| 14/14 [00:00<00:00, 86.45it/s, loss=0.856]\n"
          ]
        },
        {
          "output_type": "stream",
          "name": "stdout",
          "text": [
            "Epoch [639/10000]: Train loss: 1.1245, Valid loss: 1.0922\n"
          ]
        },
        {
          "output_type": "stream",
          "name": "stderr",
          "text": [
            "Epoch [640/10000]: 100%|██████████| 14/14 [00:00<00:00, 80.15it/s, loss=0.679]\n"
          ]
        },
        {
          "output_type": "stream",
          "name": "stdout",
          "text": [
            "Epoch [640/10000]: Train loss: 1.0838, Valid loss: 1.0513\n"
          ]
        },
        {
          "output_type": "stream",
          "name": "stderr",
          "text": [
            "Epoch [641/10000]: 100%|██████████| 14/14 [00:00<00:00, 90.51it/s, loss=0.796]\n"
          ]
        },
        {
          "output_type": "stream",
          "name": "stdout",
          "text": [
            "Epoch [641/10000]: Train loss: 1.0706, Valid loss: 1.1219\n"
          ]
        },
        {
          "output_type": "stream",
          "name": "stderr",
          "text": [
            "Epoch [642/10000]: 100%|██████████| 14/14 [00:00<00:00, 79.91it/s, loss=1.11]\n"
          ]
        },
        {
          "output_type": "stream",
          "name": "stdout",
          "text": [
            "Epoch [642/10000]: Train loss: 1.1037, Valid loss: 1.1115\n"
          ]
        },
        {
          "output_type": "stream",
          "name": "stderr",
          "text": [
            "Epoch [643/10000]: 100%|██████████| 14/14 [00:00<00:00, 81.45it/s, loss=1.29]\n"
          ]
        },
        {
          "output_type": "stream",
          "name": "stdout",
          "text": [
            "Epoch [643/10000]: Train loss: 1.1138, Valid loss: 1.1158\n"
          ]
        },
        {
          "output_type": "stream",
          "name": "stderr",
          "text": [
            "Epoch [644/10000]: 100%|██████████| 14/14 [00:00<00:00, 78.55it/s, loss=1.15]"
          ]
        },
        {
          "output_type": "stream",
          "name": "stdout",
          "text": [
            "Epoch [644/10000]: Train loss: 1.1251, Valid loss: 1.0885\n"
          ]
        },
        {
          "output_type": "stream",
          "name": "stderr",
          "text": [
            "\n",
            "Epoch [645/10000]: 100%|██████████| 14/14 [00:00<00:00, 87.20it/s, loss=1.16]\n"
          ]
        },
        {
          "output_type": "stream",
          "name": "stdout",
          "text": [
            "Epoch [645/10000]: Train loss: 1.1525, Valid loss: 1.2702\n"
          ]
        },
        {
          "output_type": "stream",
          "name": "stderr",
          "text": [
            "Epoch [646/10000]: 100%|██████████| 14/14 [00:00<00:00, 90.64it/s, loss=1.48]\n"
          ]
        },
        {
          "output_type": "stream",
          "name": "stdout",
          "text": [
            "Epoch [646/10000]: Train loss: 1.1771, Valid loss: 1.1565\n"
          ]
        },
        {
          "output_type": "stream",
          "name": "stderr",
          "text": [
            "Epoch [647/10000]: 100%|██████████| 14/14 [00:00<00:00, 94.13it/s, loss=0.853]\n"
          ]
        },
        {
          "output_type": "stream",
          "name": "stdout",
          "text": [
            "Epoch [647/10000]: Train loss: 1.0875, Valid loss: 1.2413\n"
          ]
        },
        {
          "output_type": "stream",
          "name": "stderr",
          "text": [
            "Epoch [648/10000]: 100%|██████████| 14/14 [00:00<00:00, 82.84it/s, loss=0.906]\n"
          ]
        },
        {
          "output_type": "stream",
          "name": "stdout",
          "text": [
            "Epoch [648/10000]: Train loss: 1.1006, Valid loss: 1.0708\n"
          ]
        },
        {
          "output_type": "stream",
          "name": "stderr",
          "text": [
            "Epoch [649/10000]: 100%|██████████| 14/14 [00:00<00:00, 81.35it/s, loss=1.33]\n"
          ]
        },
        {
          "output_type": "stream",
          "name": "stdout",
          "text": [
            "Epoch [649/10000]: Train loss: 1.0992, Valid loss: 1.0995\n"
          ]
        },
        {
          "output_type": "stream",
          "name": "stderr",
          "text": [
            "Epoch [650/10000]: 100%|██████████| 14/14 [00:00<00:00, 93.29it/s, loss=0.936]\n"
          ]
        },
        {
          "output_type": "stream",
          "name": "stdout",
          "text": [
            "Epoch [650/10000]: Train loss: 1.0736, Valid loss: 1.0893\n"
          ]
        },
        {
          "output_type": "stream",
          "name": "stderr",
          "text": [
            "Epoch [651/10000]: 100%|██████████| 14/14 [00:00<00:00, 94.99it/s, loss=1.14]\n"
          ]
        },
        {
          "output_type": "stream",
          "name": "stdout",
          "text": [
            "Epoch [651/10000]: Train loss: 1.0892, Valid loss: 1.1099\n"
          ]
        },
        {
          "output_type": "stream",
          "name": "stderr",
          "text": [
            "Epoch [652/10000]: 100%|██████████| 14/14 [00:00<00:00, 91.05it/s, loss=1.21]\n"
          ]
        },
        {
          "output_type": "stream",
          "name": "stdout",
          "text": [
            "Epoch [652/10000]: Train loss: 1.1323, Valid loss: 1.4099\n"
          ]
        },
        {
          "output_type": "stream",
          "name": "stderr",
          "text": [
            "Epoch [653/10000]: 100%|██████████| 14/14 [00:00<00:00, 84.67it/s, loss=1.15]\n"
          ]
        },
        {
          "output_type": "stream",
          "name": "stdout",
          "text": [
            "Epoch [653/10000]: Train loss: 1.1456, Valid loss: 1.1047\n"
          ]
        },
        {
          "output_type": "stream",
          "name": "stderr",
          "text": [
            "Epoch [654/10000]: 100%|██████████| 14/14 [00:00<00:00, 82.48it/s, loss=1.05]\n"
          ]
        },
        {
          "output_type": "stream",
          "name": "stdout",
          "text": [
            "Epoch [654/10000]: Train loss: 1.1081, Valid loss: 1.0702\n"
          ]
        },
        {
          "output_type": "stream",
          "name": "stderr",
          "text": [
            "Epoch [655/10000]: 100%|██████████| 14/14 [00:00<00:00, 75.37it/s, loss=0.669]\n"
          ]
        },
        {
          "output_type": "stream",
          "name": "stdout",
          "text": [
            "Epoch [655/10000]: Train loss: 1.1089, Valid loss: 1.0777\n"
          ]
        },
        {
          "output_type": "stream",
          "name": "stderr",
          "text": [
            "Epoch [656/10000]: 100%|██████████| 14/14 [00:00<00:00, 91.16it/s, loss=1.04]\n"
          ]
        },
        {
          "output_type": "stream",
          "name": "stdout",
          "text": [
            "Epoch [656/10000]: Train loss: 1.0864, Valid loss: 1.0745\n"
          ]
        },
        {
          "output_type": "stream",
          "name": "stderr",
          "text": [
            "Epoch [657/10000]: 100%|██████████| 14/14 [00:00<00:00, 91.48it/s, loss=0.871]\n"
          ]
        },
        {
          "output_type": "stream",
          "name": "stdout",
          "text": [
            "Epoch [657/10000]: Train loss: 1.0777, Valid loss: 1.0701\n"
          ]
        },
        {
          "output_type": "stream",
          "name": "stderr",
          "text": [
            "Epoch [658/10000]: 100%|██████████| 14/14 [00:00<00:00, 83.59it/s, loss=0.867]\n"
          ]
        },
        {
          "output_type": "stream",
          "name": "stdout",
          "text": [
            "Epoch [658/10000]: Train loss: 1.1371, Valid loss: 1.1671\n"
          ]
        },
        {
          "output_type": "stream",
          "name": "stderr",
          "text": [
            "Epoch [659/10000]: 100%|██████████| 14/14 [00:00<00:00, 81.91it/s, loss=1.63]\n"
          ]
        },
        {
          "output_type": "stream",
          "name": "stdout",
          "text": [
            "Epoch [659/10000]: Train loss: 1.1827, Valid loss: 1.1052\n"
          ]
        },
        {
          "output_type": "stream",
          "name": "stderr",
          "text": [
            "Epoch [660/10000]: 100%|██████████| 14/14 [00:00<00:00, 84.79it/s, loss=1.2]\n"
          ]
        },
        {
          "output_type": "stream",
          "name": "stdout",
          "text": [
            "Epoch [660/10000]: Train loss: 1.1314, Valid loss: 1.1048\n"
          ]
        },
        {
          "output_type": "stream",
          "name": "stderr",
          "text": [
            "Epoch [661/10000]: 100%|██████████| 14/14 [00:00<00:00, 88.82it/s, loss=0.898]\n"
          ]
        },
        {
          "output_type": "stream",
          "name": "stdout",
          "text": [
            "Epoch [661/10000]: Train loss: 1.1523, Valid loss: 1.1992\n"
          ]
        },
        {
          "output_type": "stream",
          "name": "stderr",
          "text": [
            "Epoch [662/10000]: 100%|██████████| 14/14 [00:00<00:00, 84.17it/s, loss=1.17]\n"
          ]
        },
        {
          "output_type": "stream",
          "name": "stdout",
          "text": [
            "Epoch [662/10000]: Train loss: 1.1162, Valid loss: 1.0965\n"
          ]
        },
        {
          "output_type": "stream",
          "name": "stderr",
          "text": [
            "Epoch [663/10000]: 100%|██████████| 14/14 [00:00<00:00, 92.60it/s, loss=0.951]\n"
          ]
        },
        {
          "output_type": "stream",
          "name": "stdout",
          "text": [
            "Epoch [663/10000]: Train loss: 1.1083, Valid loss: 1.1756\n"
          ]
        },
        {
          "output_type": "stream",
          "name": "stderr",
          "text": [
            "Epoch [664/10000]: 100%|██████████| 14/14 [00:00<00:00, 81.74it/s, loss=0.788]\n"
          ]
        },
        {
          "output_type": "stream",
          "name": "stdout",
          "text": [
            "Epoch [664/10000]: Train loss: 1.1041, Valid loss: 1.0637\n"
          ]
        },
        {
          "output_type": "stream",
          "name": "stderr",
          "text": [
            "Epoch [665/10000]: 100%|██████████| 14/14 [00:00<00:00, 80.21it/s, loss=1.46]\n"
          ]
        },
        {
          "output_type": "stream",
          "name": "stdout",
          "text": [
            "Epoch [665/10000]: Train loss: 1.1062, Valid loss: 1.0972\n"
          ]
        },
        {
          "output_type": "stream",
          "name": "stderr",
          "text": [
            "Epoch [666/10000]: 100%|██████████| 14/14 [00:00<00:00, 93.00it/s, loss=0.921]\n"
          ]
        },
        {
          "output_type": "stream",
          "name": "stdout",
          "text": [
            "Epoch [666/10000]: Train loss: 1.0853, Valid loss: 1.1138\n"
          ]
        },
        {
          "output_type": "stream",
          "name": "stderr",
          "text": [
            "Epoch [667/10000]: 100%|██████████| 14/14 [00:00<00:00, 80.17it/s, loss=1.03]\n"
          ]
        },
        {
          "output_type": "stream",
          "name": "stdout",
          "text": [
            "Epoch [667/10000]: Train loss: 1.0888, Valid loss: 1.0419\n"
          ]
        },
        {
          "output_type": "stream",
          "name": "stderr",
          "text": [
            "Epoch [668/10000]: 100%|██████████| 14/14 [00:00<00:00, 78.52it/s, loss=1.11]\n"
          ]
        },
        {
          "output_type": "stream",
          "name": "stdout",
          "text": [
            "Epoch [668/10000]: Train loss: 1.0914, Valid loss: 1.1058\n"
          ]
        },
        {
          "output_type": "stream",
          "name": "stderr",
          "text": [
            "Epoch [669/10000]: 100%|██████████| 14/14 [00:00<00:00, 72.72it/s, loss=0.909]\n"
          ]
        },
        {
          "output_type": "stream",
          "name": "stdout",
          "text": [
            "Epoch [669/10000]: Train loss: 1.0879, Valid loss: 1.0853\n"
          ]
        },
        {
          "output_type": "stream",
          "name": "stderr",
          "text": [
            "Epoch [670/10000]: 100%|██████████| 14/14 [00:00<00:00, 74.68it/s, loss=0.747]\n"
          ]
        },
        {
          "output_type": "stream",
          "name": "stdout",
          "text": [
            "Epoch [670/10000]: Train loss: 1.1333, Valid loss: 1.1498\n"
          ]
        },
        {
          "output_type": "stream",
          "name": "stderr",
          "text": [
            "Epoch [671/10000]: 100%|██████████| 14/14 [00:00<00:00, 85.57it/s, loss=0.922]\n"
          ]
        },
        {
          "output_type": "stream",
          "name": "stdout",
          "text": [
            "Epoch [671/10000]: Train loss: 1.1417, Valid loss: 1.2011\n"
          ]
        },
        {
          "output_type": "stream",
          "name": "stderr",
          "text": [
            "Epoch [672/10000]: 100%|██████████| 14/14 [00:00<00:00, 89.60it/s, loss=1.17]\n"
          ]
        },
        {
          "output_type": "stream",
          "name": "stdout",
          "text": [
            "Epoch [672/10000]: Train loss: 1.1092, Valid loss: 1.0748\n"
          ]
        },
        {
          "output_type": "stream",
          "name": "stderr",
          "text": [
            "Epoch [673/10000]: 100%|██████████| 14/14 [00:00<00:00, 87.79it/s, loss=1.13]\n"
          ]
        },
        {
          "output_type": "stream",
          "name": "stdout",
          "text": [
            "Epoch [673/10000]: Train loss: 1.1126, Valid loss: 1.1244\n"
          ]
        },
        {
          "output_type": "stream",
          "name": "stderr",
          "text": [
            "Epoch [674/10000]: 100%|██████████| 14/14 [00:00<00:00, 88.64it/s, loss=1.27]\n"
          ]
        },
        {
          "output_type": "stream",
          "name": "stdout",
          "text": [
            "Epoch [674/10000]: Train loss: 1.1823, Valid loss: 1.1093\n"
          ]
        },
        {
          "output_type": "stream",
          "name": "stderr",
          "text": [
            "Epoch [675/10000]: 100%|██████████| 14/14 [00:00<00:00, 82.21it/s, loss=0.795]\n"
          ]
        },
        {
          "output_type": "stream",
          "name": "stdout",
          "text": [
            "Epoch [675/10000]: Train loss: 1.1694, Valid loss: 1.2856\n"
          ]
        },
        {
          "output_type": "stream",
          "name": "stderr",
          "text": [
            "Epoch [676/10000]: 100%|██████████| 14/14 [00:00<00:00, 84.98it/s, loss=0.796]\n"
          ]
        },
        {
          "output_type": "stream",
          "name": "stdout",
          "text": [
            "Epoch [676/10000]: Train loss: 1.1528, Valid loss: 1.0712\n"
          ]
        },
        {
          "output_type": "stream",
          "name": "stderr",
          "text": [
            "Epoch [677/10000]: 100%|██████████| 14/14 [00:00<00:00, 80.65it/s, loss=0.923]\n"
          ]
        },
        {
          "output_type": "stream",
          "name": "stdout",
          "text": [
            "Epoch [677/10000]: Train loss: 1.0986, Valid loss: 1.1259\n"
          ]
        },
        {
          "output_type": "stream",
          "name": "stderr",
          "text": [
            "Epoch [678/10000]: 100%|██████████| 14/14 [00:00<00:00, 78.71it/s, loss=0.802]\n"
          ]
        },
        {
          "output_type": "stream",
          "name": "stdout",
          "text": [
            "Epoch [678/10000]: Train loss: 1.0755, Valid loss: 1.1341\n"
          ]
        },
        {
          "output_type": "stream",
          "name": "stderr",
          "text": [
            "Epoch [679/10000]: 100%|██████████| 14/14 [00:00<00:00, 82.70it/s, loss=0.943]\n"
          ]
        },
        {
          "output_type": "stream",
          "name": "stdout",
          "text": [
            "Epoch [679/10000]: Train loss: 1.1024, Valid loss: 1.1382\n"
          ]
        },
        {
          "output_type": "stream",
          "name": "stderr",
          "text": [
            "Epoch [680/10000]: 100%|██████████| 14/14 [00:00<00:00, 66.78it/s, loss=1.07]\n"
          ]
        },
        {
          "output_type": "stream",
          "name": "stdout",
          "text": [
            "Epoch [680/10000]: Train loss: 1.0877, Valid loss: 1.0683\n"
          ]
        },
        {
          "output_type": "stream",
          "name": "stderr",
          "text": [
            "Epoch [681/10000]: 100%|██████████| 14/14 [00:00<00:00, 96.22it/s, loss=0.807]\n"
          ]
        },
        {
          "output_type": "stream",
          "name": "stdout",
          "text": [
            "Epoch [681/10000]: Train loss: 1.0707, Valid loss: 1.0827\n"
          ]
        },
        {
          "output_type": "stream",
          "name": "stderr",
          "text": [
            "Epoch [682/10000]: 100%|██████████| 14/14 [00:00<00:00, 70.70it/s, loss=0.97]\n"
          ]
        },
        {
          "output_type": "stream",
          "name": "stdout",
          "text": [
            "Epoch [682/10000]: Train loss: 1.0832, Valid loss: 1.0732\n"
          ]
        },
        {
          "output_type": "stream",
          "name": "stderr",
          "text": [
            "Epoch [683/10000]: 100%|██████████| 14/14 [00:00<00:00, 95.11it/s, loss=0.948]\n"
          ]
        },
        {
          "output_type": "stream",
          "name": "stdout",
          "text": [
            "Epoch [683/10000]: Train loss: 1.0840, Valid loss: 1.0879\n"
          ]
        },
        {
          "output_type": "stream",
          "name": "stderr",
          "text": [
            "Epoch [684/10000]: 100%|██████████| 14/14 [00:00<00:00, 95.39it/s, loss=1.4]\n"
          ]
        },
        {
          "output_type": "stream",
          "name": "stdout",
          "text": [
            "Epoch [684/10000]: Train loss: 1.1064, Valid loss: 1.1084\n"
          ]
        },
        {
          "output_type": "stream",
          "name": "stderr",
          "text": [
            "Epoch [685/10000]: 100%|██████████| 14/14 [00:00<00:00, 91.11it/s, loss=1.12]\n"
          ]
        },
        {
          "output_type": "stream",
          "name": "stdout",
          "text": [
            "Epoch [685/10000]: Train loss: 1.0953, Valid loss: 1.0922\n"
          ]
        },
        {
          "output_type": "stream",
          "name": "stderr",
          "text": [
            "Epoch [686/10000]: 100%|██████████| 14/14 [00:00<00:00, 78.75it/s, loss=1.26]\n"
          ]
        },
        {
          "output_type": "stream",
          "name": "stdout",
          "text": [
            "Epoch [686/10000]: Train loss: 1.0938, Valid loss: 1.0951\n"
          ]
        },
        {
          "output_type": "stream",
          "name": "stderr",
          "text": [
            "Epoch [687/10000]: 100%|██████████| 14/14 [00:00<00:00, 73.41it/s, loss=0.767]\n"
          ]
        },
        {
          "output_type": "stream",
          "name": "stdout",
          "text": [
            "Epoch [687/10000]: Train loss: 1.0701, Valid loss: 1.1003\n"
          ]
        },
        {
          "output_type": "stream",
          "name": "stderr",
          "text": [
            "Epoch [688/10000]: 100%|██████████| 14/14 [00:00<00:00, 81.07it/s, loss=0.845]\n"
          ]
        },
        {
          "output_type": "stream",
          "name": "stdout",
          "text": [
            "Epoch [688/10000]: Train loss: 1.0724, Valid loss: 1.0883\n"
          ]
        },
        {
          "output_type": "stream",
          "name": "stderr",
          "text": [
            "Epoch [689/10000]: 100%|██████████| 14/14 [00:00<00:00, 80.23it/s, loss=0.922]\n"
          ]
        },
        {
          "output_type": "stream",
          "name": "stdout",
          "text": [
            "Epoch [689/10000]: Train loss: 1.0793, Valid loss: 1.1313\n"
          ]
        },
        {
          "output_type": "stream",
          "name": "stderr",
          "text": [
            "Epoch [690/10000]: 100%|██████████| 14/14 [00:00<00:00, 88.36it/s, loss=1.22]\n"
          ]
        },
        {
          "output_type": "stream",
          "name": "stdout",
          "text": [
            "Epoch [690/10000]: Train loss: 1.1147, Valid loss: 1.0792\n"
          ]
        },
        {
          "output_type": "stream",
          "name": "stderr",
          "text": [
            "Epoch [691/10000]: 100%|██████████| 14/14 [00:00<00:00, 74.47it/s, loss=1.37]\n"
          ]
        },
        {
          "output_type": "stream",
          "name": "stdout",
          "text": [
            "Epoch [691/10000]: Train loss: 1.1338, Valid loss: 1.0661\n"
          ]
        },
        {
          "output_type": "stream",
          "name": "stderr",
          "text": [
            "Epoch [692/10000]: 100%|██████████| 14/14 [00:00<00:00, 75.43it/s, loss=0.811]\n"
          ]
        },
        {
          "output_type": "stream",
          "name": "stdout",
          "text": [
            "Epoch [692/10000]: Train loss: 1.1375, Valid loss: 1.2871\n"
          ]
        },
        {
          "output_type": "stream",
          "name": "stderr",
          "text": [
            "Epoch [693/10000]: 100%|██████████| 14/14 [00:00<00:00, 79.79it/s, loss=0.921]\n"
          ]
        },
        {
          "output_type": "stream",
          "name": "stdout",
          "text": [
            "Epoch [693/10000]: Train loss: 1.1180, Valid loss: 1.0711\n"
          ]
        },
        {
          "output_type": "stream",
          "name": "stderr",
          "text": [
            "Epoch [694/10000]: 100%|██████████| 14/14 [00:00<00:00, 72.05it/s, loss=1.29]\n"
          ]
        },
        {
          "output_type": "stream",
          "name": "stdout",
          "text": [
            "Epoch [694/10000]: Train loss: 1.1398, Valid loss: 1.0855\n"
          ]
        },
        {
          "output_type": "stream",
          "name": "stderr",
          "text": [
            "Epoch [695/10000]: 100%|██████████| 14/14 [00:00<00:00, 84.95it/s, loss=0.78]\n"
          ]
        },
        {
          "output_type": "stream",
          "name": "stdout",
          "text": [
            "Epoch [695/10000]: Train loss: 1.0810, Valid loss: 1.0695\n"
          ]
        },
        {
          "output_type": "stream",
          "name": "stderr",
          "text": [
            "Epoch [696/10000]: 100%|██████████| 14/14 [00:00<00:00, 79.34it/s, loss=1.15]\n"
          ]
        },
        {
          "output_type": "stream",
          "name": "stdout",
          "text": [
            "Epoch [696/10000]: Train loss: 1.1075, Valid loss: 1.0912\n"
          ]
        },
        {
          "output_type": "stream",
          "name": "stderr",
          "text": [
            "Epoch [697/10000]: 100%|██████████| 14/14 [00:00<00:00, 83.96it/s, loss=0.964]\n"
          ]
        },
        {
          "output_type": "stream",
          "name": "stdout",
          "text": [
            "Epoch [697/10000]: Train loss: 1.1043, Valid loss: 1.0633\n"
          ]
        },
        {
          "output_type": "stream",
          "name": "stderr",
          "text": [
            "Epoch [698/10000]: 100%|██████████| 14/14 [00:00<00:00, 91.10it/s, loss=1.46]\n"
          ]
        },
        {
          "output_type": "stream",
          "name": "stdout",
          "text": [
            "Epoch [698/10000]: Train loss: 1.1084, Valid loss: 1.0780\n"
          ]
        },
        {
          "output_type": "stream",
          "name": "stderr",
          "text": [
            "Epoch [699/10000]: 100%|██████████| 14/14 [00:00<00:00, 83.39it/s, loss=1.49]\n"
          ]
        },
        {
          "output_type": "stream",
          "name": "stdout",
          "text": [
            "Epoch [699/10000]: Train loss: 1.0946, Valid loss: 1.1478\n"
          ]
        },
        {
          "output_type": "stream",
          "name": "stderr",
          "text": [
            "Epoch [700/10000]: 100%|██████████| 14/14 [00:00<00:00, 87.18it/s, loss=0.597]\n"
          ]
        },
        {
          "output_type": "stream",
          "name": "stdout",
          "text": [
            "Epoch [700/10000]: Train loss: 1.0769, Valid loss: 1.2073\n"
          ]
        },
        {
          "output_type": "stream",
          "name": "stderr",
          "text": [
            "Epoch [701/10000]: 100%|██████████| 14/14 [00:00<00:00, 76.48it/s, loss=1.39]\n"
          ]
        },
        {
          "output_type": "stream",
          "name": "stdout",
          "text": [
            "Epoch [701/10000]: Train loss: 1.1283, Valid loss: 1.1730\n"
          ]
        },
        {
          "output_type": "stream",
          "name": "stderr",
          "text": [
            "Epoch [702/10000]: 100%|██████████| 14/14 [00:00<00:00, 75.16it/s, loss=1.29]\n"
          ]
        },
        {
          "output_type": "stream",
          "name": "stdout",
          "text": [
            "Epoch [702/10000]: Train loss: 1.1555, Valid loss: 1.0850\n"
          ]
        },
        {
          "output_type": "stream",
          "name": "stderr",
          "text": [
            "Epoch [703/10000]: 100%|██████████| 14/14 [00:00<00:00, 77.84it/s, loss=1.22]\n"
          ]
        },
        {
          "output_type": "stream",
          "name": "stdout",
          "text": [
            "Epoch [703/10000]: Train loss: 1.1216, Valid loss: 1.1134\n"
          ]
        },
        {
          "output_type": "stream",
          "name": "stderr",
          "text": [
            "Epoch [704/10000]: 100%|██████████| 14/14 [00:00<00:00, 94.42it/s, loss=0.881]\n"
          ]
        },
        {
          "output_type": "stream",
          "name": "stdout",
          "text": [
            "Epoch [704/10000]: Train loss: 1.1262, Valid loss: 1.1897\n"
          ]
        },
        {
          "output_type": "stream",
          "name": "stderr",
          "text": [
            "Epoch [705/10000]: 100%|██████████| 14/14 [00:00<00:00, 87.12it/s, loss=0.993]\n"
          ]
        },
        {
          "output_type": "stream",
          "name": "stdout",
          "text": [
            "Epoch [705/10000]: Train loss: 1.1049, Valid loss: 1.0703\n"
          ]
        },
        {
          "output_type": "stream",
          "name": "stderr",
          "text": [
            "Epoch [706/10000]: 100%|██████████| 14/14 [00:00<00:00, 78.38it/s, loss=1.19]\n"
          ]
        },
        {
          "output_type": "stream",
          "name": "stdout",
          "text": [
            "Epoch [706/10000]: Train loss: 1.0837, Valid loss: 1.1099\n"
          ]
        },
        {
          "output_type": "stream",
          "name": "stderr",
          "text": [
            "Epoch [707/10000]: 100%|██████████| 14/14 [00:00<00:00, 79.29it/s, loss=1.2]\n"
          ]
        },
        {
          "output_type": "stream",
          "name": "stdout",
          "text": [
            "Epoch [707/10000]: Train loss: 1.1040, Valid loss: 1.1285\n"
          ]
        },
        {
          "output_type": "stream",
          "name": "stderr",
          "text": [
            "Epoch [708/10000]: 100%|██████████| 14/14 [00:00<00:00, 75.42it/s, loss=0.848]\n"
          ]
        },
        {
          "output_type": "stream",
          "name": "stdout",
          "text": [
            "Epoch [708/10000]: Train loss: 1.1260, Valid loss: 1.2384\n"
          ]
        },
        {
          "output_type": "stream",
          "name": "stderr",
          "text": [
            "Epoch [709/10000]: 100%|██████████| 14/14 [00:00<00:00, 77.71it/s, loss=1.02]\n"
          ]
        },
        {
          "output_type": "stream",
          "name": "stdout",
          "text": [
            "Epoch [709/10000]: Train loss: 1.1599, Valid loss: 1.1079\n"
          ]
        },
        {
          "output_type": "stream",
          "name": "stderr",
          "text": [
            "Epoch [710/10000]: 100%|██████████| 14/14 [00:00<00:00, 93.71it/s, loss=1.17]\n"
          ]
        },
        {
          "output_type": "stream",
          "name": "stdout",
          "text": [
            "Epoch [710/10000]: Train loss: 1.1089, Valid loss: 1.0900\n"
          ]
        },
        {
          "output_type": "stream",
          "name": "stderr",
          "text": [
            "Epoch [711/10000]: 100%|██████████| 14/14 [00:00<00:00, 84.08it/s, loss=1.32]\n"
          ]
        },
        {
          "output_type": "stream",
          "name": "stdout",
          "text": [
            "Epoch [711/10000]: Train loss: 1.1014, Valid loss: 1.0763\n"
          ]
        },
        {
          "output_type": "stream",
          "name": "stderr",
          "text": [
            "Epoch [712/10000]: 100%|██████████| 14/14 [00:00<00:00, 74.38it/s, loss=0.838]\n"
          ]
        },
        {
          "output_type": "stream",
          "name": "stdout",
          "text": [
            "Epoch [712/10000]: Train loss: 1.1087, Valid loss: 1.0666\n"
          ]
        },
        {
          "output_type": "stream",
          "name": "stderr",
          "text": [
            "Epoch [713/10000]: 100%|██████████| 14/14 [00:00<00:00, 75.20it/s, loss=1.16]\n"
          ]
        },
        {
          "output_type": "stream",
          "name": "stdout",
          "text": [
            "Epoch [713/10000]: Train loss: 1.1117, Valid loss: 1.1340\n"
          ]
        },
        {
          "output_type": "stream",
          "name": "stderr",
          "text": [
            "Epoch [714/10000]: 100%|██████████| 14/14 [00:00<00:00, 81.72it/s, loss=0.828]\n"
          ]
        },
        {
          "output_type": "stream",
          "name": "stdout",
          "text": [
            "Epoch [714/10000]: Train loss: 1.0902, Valid loss: 1.2642\n"
          ]
        },
        {
          "output_type": "stream",
          "name": "stderr",
          "text": [
            "Epoch [715/10000]: 100%|██████████| 14/14 [00:00<00:00, 70.12it/s, loss=1.53]\n"
          ]
        },
        {
          "output_type": "stream",
          "name": "stdout",
          "text": [
            "Epoch [715/10000]: Train loss: 1.1621, Valid loss: 1.1098\n"
          ]
        },
        {
          "output_type": "stream",
          "name": "stderr",
          "text": [
            "Epoch [716/10000]: 100%|██████████| 14/14 [00:00<00:00, 77.82it/s, loss=0.876]\n"
          ]
        },
        {
          "output_type": "stream",
          "name": "stdout",
          "text": [
            "Epoch [716/10000]: Train loss: 1.0951, Valid loss: 1.1440\n"
          ]
        },
        {
          "output_type": "stream",
          "name": "stderr",
          "text": [
            "Epoch [717/10000]: 100%|██████████| 14/14 [00:00<00:00, 95.54it/s, loss=1.39]\n"
          ]
        },
        {
          "output_type": "stream",
          "name": "stdout",
          "text": [
            "Epoch [717/10000]: Train loss: 1.0995, Valid loss: 1.0723\n"
          ]
        },
        {
          "output_type": "stream",
          "name": "stderr",
          "text": [
            "Epoch [718/10000]: 100%|██████████| 14/14 [00:00<00:00, 97.19it/s, loss=1.26]\n"
          ]
        },
        {
          "output_type": "stream",
          "name": "stdout",
          "text": [
            "Epoch [718/10000]: Train loss: 1.0935, Valid loss: 1.0618\n"
          ]
        },
        {
          "output_type": "stream",
          "name": "stderr",
          "text": [
            "Epoch [719/10000]: 100%|██████████| 14/14 [00:00<00:00, 80.84it/s, loss=1.18]\n"
          ]
        },
        {
          "output_type": "stream",
          "name": "stdout",
          "text": [
            "Epoch [719/10000]: Train loss: 1.0987, Valid loss: 1.0500\n"
          ]
        },
        {
          "output_type": "stream",
          "name": "stderr",
          "text": [
            "Epoch [720/10000]: 100%|██████████| 14/14 [00:00<00:00, 94.68it/s, loss=0.706]\n"
          ]
        },
        {
          "output_type": "stream",
          "name": "stdout",
          "text": [
            "Epoch [720/10000]: Train loss: 1.0807, Valid loss: 1.1270\n"
          ]
        },
        {
          "output_type": "stream",
          "name": "stderr",
          "text": [
            "Epoch [721/10000]: 100%|██████████| 14/14 [00:00<00:00, 85.71it/s, loss=0.649]\n"
          ]
        },
        {
          "output_type": "stream",
          "name": "stdout",
          "text": [
            "Epoch [721/10000]: Train loss: 1.0849, Valid loss: 1.0986\n"
          ]
        },
        {
          "output_type": "stream",
          "name": "stderr",
          "text": [
            "Epoch [722/10000]: 100%|██████████| 14/14 [00:00<00:00, 81.82it/s, loss=1.16]\n"
          ]
        },
        {
          "output_type": "stream",
          "name": "stdout",
          "text": [
            "Epoch [722/10000]: Train loss: 1.0994, Valid loss: 1.1598\n"
          ]
        },
        {
          "output_type": "stream",
          "name": "stderr",
          "text": [
            "Epoch [723/10000]: 100%|██████████| 14/14 [00:00<00:00, 77.03it/s, loss=1.01]\n"
          ]
        },
        {
          "output_type": "stream",
          "name": "stdout",
          "text": [
            "Epoch [723/10000]: Train loss: 1.0817, Valid loss: 1.0581\n"
          ]
        },
        {
          "output_type": "stream",
          "name": "stderr",
          "text": [
            "Epoch [724/10000]: 100%|██████████| 14/14 [00:00<00:00, 74.19it/s, loss=1.11]\n"
          ]
        },
        {
          "output_type": "stream",
          "name": "stdout",
          "text": [
            "Epoch [724/10000]: Train loss: 1.0829, Valid loss: 1.0639\n"
          ]
        },
        {
          "output_type": "stream",
          "name": "stderr",
          "text": [
            "Epoch [725/10000]: 100%|██████████| 14/14 [00:00<00:00, 78.72it/s, loss=0.927]\n"
          ]
        },
        {
          "output_type": "stream",
          "name": "stdout",
          "text": [
            "Epoch [725/10000]: Train loss: 1.0773, Valid loss: 1.0695\n"
          ]
        },
        {
          "output_type": "stream",
          "name": "stderr",
          "text": [
            "Epoch [726/10000]: 100%|██████████| 14/14 [00:00<00:00, 77.65it/s, loss=0.942]\n"
          ]
        },
        {
          "output_type": "stream",
          "name": "stdout",
          "text": [
            "Epoch [726/10000]: Train loss: 1.0828, Valid loss: 1.1766\n"
          ]
        },
        {
          "output_type": "stream",
          "name": "stderr",
          "text": [
            "Epoch [727/10000]: 100%|██████████| 14/14 [00:00<00:00, 70.82it/s, loss=1.11]\n"
          ]
        },
        {
          "output_type": "stream",
          "name": "stdout",
          "text": [
            "Epoch [727/10000]: Train loss: 1.1715, Valid loss: 1.0906\n"
          ]
        },
        {
          "output_type": "stream",
          "name": "stderr",
          "text": [
            "Epoch [728/10000]: 100%|██████████| 14/14 [00:00<00:00, 72.75it/s, loss=1.06]\n"
          ]
        },
        {
          "output_type": "stream",
          "name": "stdout",
          "text": [
            "Epoch [728/10000]: Train loss: 1.0832, Valid loss: 1.0947\n"
          ]
        },
        {
          "output_type": "stream",
          "name": "stderr",
          "text": [
            "Epoch [729/10000]: 100%|██████████| 14/14 [00:00<00:00, 82.27it/s, loss=1.21]\n"
          ]
        },
        {
          "output_type": "stream",
          "name": "stdout",
          "text": [
            "Epoch [729/10000]: Train loss: 1.0895, Valid loss: 1.0665\n"
          ]
        },
        {
          "output_type": "stream",
          "name": "stderr",
          "text": [
            "Epoch [730/10000]: 100%|██████████| 14/14 [00:00<00:00, 84.99it/s, loss=0.663]\n"
          ]
        },
        {
          "output_type": "stream",
          "name": "stdout",
          "text": [
            "Epoch [730/10000]: Train loss: 1.0775, Valid loss: 1.0532\n"
          ]
        },
        {
          "output_type": "stream",
          "name": "stderr",
          "text": [
            "Epoch [731/10000]: 100%|██████████| 14/14 [00:00<00:00, 71.03it/s, loss=1.27]\n"
          ]
        },
        {
          "output_type": "stream",
          "name": "stdout",
          "text": [
            "Epoch [731/10000]: Train loss: 1.1037, Valid loss: 1.0851\n"
          ]
        },
        {
          "output_type": "stream",
          "name": "stderr",
          "text": [
            "Epoch [732/10000]: 100%|██████████| 14/14 [00:00<00:00, 86.33it/s, loss=1.07]\n"
          ]
        },
        {
          "output_type": "stream",
          "name": "stdout",
          "text": [
            "Epoch [732/10000]: Train loss: 1.0841, Valid loss: 1.1497\n"
          ]
        },
        {
          "output_type": "stream",
          "name": "stderr",
          "text": [
            "Epoch [733/10000]: 100%|██████████| 14/14 [00:00<00:00, 77.02it/s, loss=0.742]\n"
          ]
        },
        {
          "output_type": "stream",
          "name": "stdout",
          "text": [
            "Epoch [733/10000]: Train loss: 1.0852, Valid loss: 1.1043\n"
          ]
        },
        {
          "output_type": "stream",
          "name": "stderr",
          "text": [
            "Epoch [734/10000]: 100%|██████████| 14/14 [00:00<00:00, 74.28it/s, loss=1.44]\n"
          ]
        },
        {
          "output_type": "stream",
          "name": "stdout",
          "text": [
            "Epoch [734/10000]: Train loss: 1.0963, Valid loss: 1.0822\n"
          ]
        },
        {
          "output_type": "stream",
          "name": "stderr",
          "text": [
            "Epoch [735/10000]: 100%|██████████| 14/14 [00:00<00:00, 78.52it/s, loss=0.771]\n"
          ]
        },
        {
          "output_type": "stream",
          "name": "stdout",
          "text": [
            "Epoch [735/10000]: Train loss: 1.0716, Valid loss: 1.1121\n"
          ]
        },
        {
          "output_type": "stream",
          "name": "stderr",
          "text": [
            "Epoch [736/10000]: 100%|██████████| 14/14 [00:00<00:00, 77.21it/s, loss=0.641]\n"
          ]
        },
        {
          "output_type": "stream",
          "name": "stdout",
          "text": [
            "Epoch [736/10000]: Train loss: 1.0617, Valid loss: 1.0998\n"
          ]
        },
        {
          "output_type": "stream",
          "name": "stderr",
          "text": [
            "Epoch [737/10000]: 100%|██████████| 14/14 [00:00<00:00, 73.89it/s, loss=1.18]\n"
          ]
        },
        {
          "output_type": "stream",
          "name": "stdout",
          "text": [
            "Epoch [737/10000]: Train loss: 1.0978, Valid loss: 1.1133\n"
          ]
        },
        {
          "output_type": "stream",
          "name": "stderr",
          "text": [
            "Epoch [738/10000]: 100%|██████████| 14/14 [00:00<00:00, 84.72it/s, loss=1.39]\n"
          ]
        },
        {
          "output_type": "stream",
          "name": "stdout",
          "text": [
            "Epoch [738/10000]: Train loss: 1.1061, Valid loss: 1.1031\n"
          ]
        },
        {
          "output_type": "stream",
          "name": "stderr",
          "text": [
            "Epoch [739/10000]: 100%|██████████| 14/14 [00:00<00:00, 86.86it/s, loss=1.31]\n"
          ]
        },
        {
          "output_type": "stream",
          "name": "stdout",
          "text": [
            "Epoch [739/10000]: Train loss: 1.0875, Valid loss: 1.1012\n"
          ]
        },
        {
          "output_type": "stream",
          "name": "stderr",
          "text": [
            "Epoch [740/10000]: 100%|██████████| 14/14 [00:00<00:00, 85.60it/s, loss=1.57]\n"
          ]
        },
        {
          "output_type": "stream",
          "name": "stdout",
          "text": [
            "Epoch [740/10000]: Train loss: 1.1033, Valid loss: 1.0873\n"
          ]
        },
        {
          "output_type": "stream",
          "name": "stderr",
          "text": [
            "Epoch [741/10000]: 100%|██████████| 14/14 [00:00<00:00, 82.96it/s, loss=0.865]\n"
          ]
        },
        {
          "output_type": "stream",
          "name": "stdout",
          "text": [
            "Epoch [741/10000]: Train loss: 1.0956, Valid loss: 1.1587\n"
          ]
        },
        {
          "output_type": "stream",
          "name": "stderr",
          "text": [
            "Epoch [742/10000]: 100%|██████████| 14/14 [00:00<00:00, 93.46it/s, loss=0.587]\n"
          ]
        },
        {
          "output_type": "stream",
          "name": "stdout",
          "text": [
            "Epoch [742/10000]: Train loss: 1.1576, Valid loss: 1.1823\n"
          ]
        },
        {
          "output_type": "stream",
          "name": "stderr",
          "text": [
            "Epoch [743/10000]: 100%|██████████| 14/14 [00:00<00:00, 96.36it/s, loss=1.68]\n"
          ]
        },
        {
          "output_type": "stream",
          "name": "stdout",
          "text": [
            "Epoch [743/10000]: Train loss: 1.1455, Valid loss: 1.0920\n"
          ]
        },
        {
          "output_type": "stream",
          "name": "stderr",
          "text": [
            "Epoch [744/10000]: 100%|██████████| 14/14 [00:00<00:00, 89.19it/s, loss=1.05]\n"
          ]
        },
        {
          "output_type": "stream",
          "name": "stdout",
          "text": [
            "Epoch [744/10000]: Train loss: 1.0786, Valid loss: 1.0902\n"
          ]
        },
        {
          "output_type": "stream",
          "name": "stderr",
          "text": [
            "Epoch [745/10000]: 100%|██████████| 14/14 [00:00<00:00, 75.56it/s, loss=1.1]\n"
          ]
        },
        {
          "output_type": "stream",
          "name": "stdout",
          "text": [
            "Epoch [745/10000]: Train loss: 1.0842, Valid loss: 1.0677\n"
          ]
        },
        {
          "output_type": "stream",
          "name": "stderr",
          "text": [
            "Epoch [746/10000]: 100%|██████████| 14/14 [00:00<00:00, 90.67it/s, loss=0.832]\n"
          ]
        },
        {
          "output_type": "stream",
          "name": "stdout",
          "text": [
            "Epoch [746/10000]: Train loss: 1.0726, Valid loss: 1.0509\n"
          ]
        },
        {
          "output_type": "stream",
          "name": "stderr",
          "text": [
            "Epoch [747/10000]: 100%|██████████| 14/14 [00:00<00:00, 90.58it/s, loss=1.3]\n"
          ]
        },
        {
          "output_type": "stream",
          "name": "stdout",
          "text": [
            "Epoch [747/10000]: Train loss: 1.1101, Valid loss: 1.0895\n"
          ]
        },
        {
          "output_type": "stream",
          "name": "stderr",
          "text": [
            "Epoch [748/10000]: 100%|██████████| 14/14 [00:00<00:00, 86.85it/s, loss=1.06]\n"
          ]
        },
        {
          "output_type": "stream",
          "name": "stdout",
          "text": [
            "Epoch [748/10000]: Train loss: 1.0815, Valid loss: 1.0741\n"
          ]
        },
        {
          "output_type": "stream",
          "name": "stderr",
          "text": [
            "Epoch [749/10000]: 100%|██████████| 14/14 [00:00<00:00, 85.12it/s, loss=0.628]\n"
          ]
        },
        {
          "output_type": "stream",
          "name": "stdout",
          "text": [
            "Epoch [749/10000]: Train loss: 1.0623, Valid loss: 1.1418\n"
          ]
        },
        {
          "output_type": "stream",
          "name": "stderr",
          "text": [
            "Epoch [750/10000]: 100%|██████████| 14/14 [00:00<00:00, 89.67it/s, loss=0.819]\n"
          ]
        },
        {
          "output_type": "stream",
          "name": "stdout",
          "text": [
            "Epoch [750/10000]: Train loss: 1.0848, Valid loss: 1.1259\n"
          ]
        },
        {
          "output_type": "stream",
          "name": "stderr",
          "text": [
            "Epoch [751/10000]: 100%|██████████| 14/14 [00:00<00:00, 82.41it/s, loss=1.65]\n"
          ]
        },
        {
          "output_type": "stream",
          "name": "stdout",
          "text": [
            "Epoch [751/10000]: Train loss: 1.1620, Valid loss: 1.1069\n"
          ]
        },
        {
          "output_type": "stream",
          "name": "stderr",
          "text": [
            "Epoch [752/10000]: 100%|██████████| 14/14 [00:00<00:00, 79.50it/s, loss=1.11]"
          ]
        },
        {
          "output_type": "stream",
          "name": "stdout",
          "text": [
            "Epoch [752/10000]: Train loss: 1.0860, Valid loss: 1.0828"
          ]
        },
        {
          "output_type": "stream",
          "name": "stderr",
          "text": [
            "\n"
          ]
        },
        {
          "output_type": "stream",
          "name": "stdout",
          "text": [
            "\n"
          ]
        },
        {
          "output_type": "stream",
          "name": "stderr",
          "text": [
            "Epoch [753/10000]: 100%|██████████| 14/14 [00:00<00:00, 91.43it/s, loss=0.792]\n"
          ]
        },
        {
          "output_type": "stream",
          "name": "stdout",
          "text": [
            "Epoch [753/10000]: Train loss: 1.0769, Valid loss: 1.0837\n"
          ]
        },
        {
          "output_type": "stream",
          "name": "stderr",
          "text": [
            "Epoch [754/10000]: 100%|██████████| 14/14 [00:00<00:00, 78.90it/s, loss=1.02]\n"
          ]
        },
        {
          "output_type": "stream",
          "name": "stdout",
          "text": [
            "Epoch [754/10000]: Train loss: 1.0816, Valid loss: 1.0897\n"
          ]
        },
        {
          "output_type": "stream",
          "name": "stderr",
          "text": [
            "Epoch [755/10000]: 100%|██████████| 14/14 [00:00<00:00, 74.62it/s, loss=1.11]\n"
          ]
        },
        {
          "output_type": "stream",
          "name": "stdout",
          "text": [
            "Epoch [755/10000]: Train loss: 1.0816, Valid loss: 1.0927\n"
          ]
        },
        {
          "output_type": "stream",
          "name": "stderr",
          "text": [
            "Epoch [756/10000]: 100%|██████████| 14/14 [00:00<00:00, 80.46it/s, loss=0.962]\n"
          ]
        },
        {
          "output_type": "stream",
          "name": "stdout",
          "text": [
            "Epoch [756/10000]: Train loss: 1.0869, Valid loss: 1.0894\n"
          ]
        },
        {
          "output_type": "stream",
          "name": "stderr",
          "text": [
            "Epoch [757/10000]: 100%|██████████| 14/14 [00:00<00:00, 65.64it/s, loss=1.21]\n"
          ]
        },
        {
          "output_type": "stream",
          "name": "stdout",
          "text": [
            "Epoch [757/10000]: Train loss: 1.0957, Valid loss: 1.0844\n"
          ]
        },
        {
          "output_type": "stream",
          "name": "stderr",
          "text": [
            "Epoch [758/10000]: 100%|██████████| 14/14 [00:00<00:00, 74.83it/s, loss=1.24]\n"
          ]
        },
        {
          "output_type": "stream",
          "name": "stdout",
          "text": [
            "Epoch [758/10000]: Train loss: 1.0938, Valid loss: 1.0736\n"
          ]
        },
        {
          "output_type": "stream",
          "name": "stderr",
          "text": [
            "Epoch [759/10000]: 100%|██████████| 14/14 [00:00<00:00, 90.71it/s, loss=0.879]\n"
          ]
        },
        {
          "output_type": "stream",
          "name": "stdout",
          "text": [
            "Epoch [759/10000]: Train loss: 1.0952, Valid loss: 1.0799\n"
          ]
        },
        {
          "output_type": "stream",
          "name": "stderr",
          "text": [
            "Epoch [760/10000]: 100%|██████████| 14/14 [00:00<00:00, 91.86it/s, loss=0.762]\n"
          ]
        },
        {
          "output_type": "stream",
          "name": "stdout",
          "text": [
            "Epoch [760/10000]: Train loss: 1.0749, Valid loss: 1.0340\n",
            "Saving model with loss 1.034...\n"
          ]
        },
        {
          "output_type": "stream",
          "name": "stderr",
          "text": [
            "Epoch [761/10000]: 100%|██████████| 14/14 [00:00<00:00, 88.13it/s, loss=0.813]\n"
          ]
        },
        {
          "output_type": "stream",
          "name": "stdout",
          "text": [
            "Epoch [761/10000]: Train loss: 1.0716, Valid loss: 1.0465\n"
          ]
        },
        {
          "output_type": "stream",
          "name": "stderr",
          "text": [
            "Epoch [762/10000]: 100%|██████████| 14/14 [00:00<00:00, 84.68it/s, loss=1.39]\n"
          ]
        },
        {
          "output_type": "stream",
          "name": "stdout",
          "text": [
            "Epoch [762/10000]: Train loss: 1.0927, Valid loss: 1.1102\n"
          ]
        },
        {
          "output_type": "stream",
          "name": "stderr",
          "text": [
            "Epoch [763/10000]: 100%|██████████| 14/14 [00:00<00:00, 92.58it/s, loss=1.06]\n"
          ]
        },
        {
          "output_type": "stream",
          "name": "stdout",
          "text": [
            "Epoch [763/10000]: Train loss: 1.1095, Valid loss: 1.1120\n"
          ]
        },
        {
          "output_type": "stream",
          "name": "stderr",
          "text": [
            "Epoch [764/10000]: 100%|██████████| 14/14 [00:00<00:00, 85.68it/s, loss=1.12]\n"
          ]
        },
        {
          "output_type": "stream",
          "name": "stdout",
          "text": [
            "Epoch [764/10000]: Train loss: 1.1057, Valid loss: 1.1006\n"
          ]
        },
        {
          "output_type": "stream",
          "name": "stderr",
          "text": [
            "Epoch [765/10000]: 100%|██████████| 14/14 [00:00<00:00, 77.81it/s, loss=0.775]\n"
          ]
        },
        {
          "output_type": "stream",
          "name": "stdout",
          "text": [
            "Epoch [765/10000]: Train loss: 1.0977, Valid loss: 1.0550\n"
          ]
        },
        {
          "output_type": "stream",
          "name": "stderr",
          "text": [
            "Epoch [766/10000]: 100%|██████████| 14/14 [00:00<00:00, 76.90it/s, loss=0.664]\n"
          ]
        },
        {
          "output_type": "stream",
          "name": "stdout",
          "text": [
            "Epoch [766/10000]: Train loss: 1.0718, Valid loss: 1.1384\n"
          ]
        },
        {
          "output_type": "stream",
          "name": "stderr",
          "text": [
            "Epoch [767/10000]: 100%|██████████| 14/14 [00:00<00:00, 86.77it/s, loss=1.07]\n"
          ]
        },
        {
          "output_type": "stream",
          "name": "stdout",
          "text": [
            "Epoch [767/10000]: Train loss: 1.0963, Valid loss: 1.1390\n"
          ]
        },
        {
          "output_type": "stream",
          "name": "stderr",
          "text": [
            "Epoch [768/10000]: 100%|██████████| 14/14 [00:00<00:00, 67.91it/s, loss=0.883]\n"
          ]
        },
        {
          "output_type": "stream",
          "name": "stdout",
          "text": [
            "Epoch [768/10000]: Train loss: 1.0978, Valid loss: 1.0511\n"
          ]
        },
        {
          "output_type": "stream",
          "name": "stderr",
          "text": [
            "Epoch [769/10000]: 100%|██████████| 14/14 [00:00<00:00, 71.15it/s, loss=0.847]\n"
          ]
        },
        {
          "output_type": "stream",
          "name": "stdout",
          "text": [
            "Epoch [769/10000]: Train loss: 1.0745, Valid loss: 1.1791\n"
          ]
        },
        {
          "output_type": "stream",
          "name": "stderr",
          "text": [
            "Epoch [770/10000]: 100%|██████████| 14/14 [00:00<00:00, 70.35it/s, loss=0.829]\n"
          ]
        },
        {
          "output_type": "stream",
          "name": "stdout",
          "text": [
            "Epoch [770/10000]: Train loss: 1.1275, Valid loss: 1.0757\n"
          ]
        },
        {
          "output_type": "stream",
          "name": "stderr",
          "text": [
            "Epoch [771/10000]: 100%|██████████| 14/14 [00:00<00:00, 72.91it/s, loss=0.781]\n"
          ]
        },
        {
          "output_type": "stream",
          "name": "stdout",
          "text": [
            "Epoch [771/10000]: Train loss: 1.0933, Valid loss: 1.0632\n"
          ]
        },
        {
          "output_type": "stream",
          "name": "stderr",
          "text": [
            "Epoch [772/10000]: 100%|██████████| 14/14 [00:00<00:00, 77.63it/s, loss=1.1]\n"
          ]
        },
        {
          "output_type": "stream",
          "name": "stdout",
          "text": [
            "Epoch [772/10000]: Train loss: 1.0833, Valid loss: 1.0999\n"
          ]
        },
        {
          "output_type": "stream",
          "name": "stderr",
          "text": [
            "Epoch [773/10000]: 100%|██████████| 14/14 [00:00<00:00, 83.52it/s, loss=1.14]\n"
          ]
        },
        {
          "output_type": "stream",
          "name": "stdout",
          "text": [
            "Epoch [773/10000]: Train loss: 1.1061, Valid loss: 1.2080\n"
          ]
        },
        {
          "output_type": "stream",
          "name": "stderr",
          "text": [
            "Epoch [774/10000]: 100%|██████████| 14/14 [00:00<00:00, 93.28it/s, loss=1.88]\n"
          ]
        },
        {
          "output_type": "stream",
          "name": "stdout",
          "text": [
            "Epoch [774/10000]: Train loss: 1.1821, Valid loss: 1.1720\n"
          ]
        },
        {
          "output_type": "stream",
          "name": "stderr",
          "text": [
            "Epoch [775/10000]: 100%|██████████| 14/14 [00:00<00:00, 91.93it/s, loss=0.946]\n"
          ]
        },
        {
          "output_type": "stream",
          "name": "stdout",
          "text": [
            "Epoch [775/10000]: Train loss: 1.1204, Valid loss: 1.0999\n"
          ]
        },
        {
          "output_type": "stream",
          "name": "stderr",
          "text": [
            "Epoch [776/10000]: 100%|██████████| 14/14 [00:00<00:00, 92.56it/s, loss=0.96]\n"
          ]
        },
        {
          "output_type": "stream",
          "name": "stdout",
          "text": [
            "Epoch [776/10000]: Train loss: 1.1057, Valid loss: 1.1407\n"
          ]
        },
        {
          "output_type": "stream",
          "name": "stderr",
          "text": [
            "Epoch [777/10000]: 100%|██████████| 14/14 [00:00<00:00, 87.55it/s, loss=0.788]\n"
          ]
        },
        {
          "output_type": "stream",
          "name": "stdout",
          "text": [
            "Epoch [777/10000]: Train loss: 1.1019, Valid loss: 1.0613\n"
          ]
        },
        {
          "output_type": "stream",
          "name": "stderr",
          "text": [
            "Epoch [778/10000]: 100%|██████████| 14/14 [00:00<00:00, 82.42it/s, loss=1.09]\n"
          ]
        },
        {
          "output_type": "stream",
          "name": "stdout",
          "text": [
            "Epoch [778/10000]: Train loss: 1.0867, Valid loss: 1.1269\n"
          ]
        },
        {
          "output_type": "stream",
          "name": "stderr",
          "text": [
            "Epoch [779/10000]: 100%|██████████| 14/14 [00:00<00:00, 75.56it/s, loss=1.13]\n"
          ]
        },
        {
          "output_type": "stream",
          "name": "stdout",
          "text": [
            "Epoch [779/10000]: Train loss: 1.1446, Valid loss: 1.0931\n"
          ]
        },
        {
          "output_type": "stream",
          "name": "stderr",
          "text": [
            "Epoch [780/10000]: 100%|██████████| 14/14 [00:00<00:00, 79.23it/s, loss=0.776]\n"
          ]
        },
        {
          "output_type": "stream",
          "name": "stdout",
          "text": [
            "Epoch [780/10000]: Train loss: 1.1292, Valid loss: 1.0674\n"
          ]
        },
        {
          "output_type": "stream",
          "name": "stderr",
          "text": [
            "Epoch [781/10000]: 100%|██████████| 14/14 [00:00<00:00, 78.54it/s, loss=0.576]\n"
          ]
        },
        {
          "output_type": "stream",
          "name": "stdout",
          "text": [
            "Epoch [781/10000]: Train loss: 1.0725, Valid loss: 1.0753\n"
          ]
        },
        {
          "output_type": "stream",
          "name": "stderr",
          "text": [
            "Epoch [782/10000]: 100%|██████████| 14/14 [00:00<00:00, 82.33it/s, loss=1.52]\n"
          ]
        },
        {
          "output_type": "stream",
          "name": "stdout",
          "text": [
            "Epoch [782/10000]: Train loss: 1.0980, Valid loss: 1.0983\n"
          ]
        },
        {
          "output_type": "stream",
          "name": "stderr",
          "text": [
            "Epoch [783/10000]: 100%|██████████| 14/14 [00:00<00:00, 88.31it/s, loss=0.997]\n"
          ]
        },
        {
          "output_type": "stream",
          "name": "stdout",
          "text": [
            "Epoch [783/10000]: Train loss: 1.0719, Valid loss: 1.1318\n"
          ]
        },
        {
          "output_type": "stream",
          "name": "stderr",
          "text": [
            "Epoch [784/10000]: 100%|██████████| 14/14 [00:00<00:00, 82.39it/s, loss=0.897]\n"
          ]
        },
        {
          "output_type": "stream",
          "name": "stdout",
          "text": [
            "Epoch [784/10000]: Train loss: 1.1088, Valid loss: 1.1095\n"
          ]
        },
        {
          "output_type": "stream",
          "name": "stderr",
          "text": [
            "Epoch [785/10000]: 100%|██████████| 14/14 [00:00<00:00, 86.54it/s, loss=1.3]\n"
          ]
        },
        {
          "output_type": "stream",
          "name": "stdout",
          "text": [
            "Epoch [785/10000]: Train loss: 1.1788, Valid loss: 1.0638\n"
          ]
        },
        {
          "output_type": "stream",
          "name": "stderr",
          "text": [
            "Epoch [786/10000]: 100%|██████████| 14/14 [00:00<00:00, 84.29it/s, loss=0.801]\n"
          ]
        },
        {
          "output_type": "stream",
          "name": "stdout",
          "text": [
            "Epoch [786/10000]: Train loss: 1.1444, Valid loss: 1.0756\n"
          ]
        },
        {
          "output_type": "stream",
          "name": "stderr",
          "text": [
            "Epoch [787/10000]: 100%|██████████| 14/14 [00:00<00:00, 74.72it/s, loss=1.67]\n"
          ]
        },
        {
          "output_type": "stream",
          "name": "stdout",
          "text": [
            "Epoch [787/10000]: Train loss: 1.1022, Valid loss: 1.1712\n"
          ]
        },
        {
          "output_type": "stream",
          "name": "stderr",
          "text": [
            "Epoch [788/10000]: 100%|██████████| 14/14 [00:00<00:00, 72.32it/s, loss=1.03]\n"
          ]
        },
        {
          "output_type": "stream",
          "name": "stdout",
          "text": [
            "Epoch [788/10000]: Train loss: 1.1522, Valid loss: 1.1274\n"
          ]
        },
        {
          "output_type": "stream",
          "name": "stderr",
          "text": [
            "Epoch [789/10000]: 100%|██████████| 14/14 [00:00<00:00, 84.88it/s, loss=1]\n"
          ]
        },
        {
          "output_type": "stream",
          "name": "stdout",
          "text": [
            "Epoch [789/10000]: Train loss: 1.0981, Valid loss: 1.1636\n"
          ]
        },
        {
          "output_type": "stream",
          "name": "stderr",
          "text": [
            "Epoch [790/10000]: 100%|██████████| 14/14 [00:00<00:00, 84.13it/s, loss=0.988]\n"
          ]
        },
        {
          "output_type": "stream",
          "name": "stdout",
          "text": [
            "Epoch [790/10000]: Train loss: 1.1194, Valid loss: 1.1162\n"
          ]
        },
        {
          "output_type": "stream",
          "name": "stderr",
          "text": [
            "Epoch [791/10000]: 100%|██████████| 14/14 [00:00<00:00, 69.98it/s, loss=1.48]\n"
          ]
        },
        {
          "output_type": "stream",
          "name": "stdout",
          "text": [
            "Epoch [791/10000]: Train loss: 1.1268, Valid loss: 1.1240\n"
          ]
        },
        {
          "output_type": "stream",
          "name": "stderr",
          "text": [
            "Epoch [792/10000]: 100%|██████████| 14/14 [00:00<00:00, 81.30it/s, loss=1]\n"
          ]
        },
        {
          "output_type": "stream",
          "name": "stdout",
          "text": [
            "Epoch [792/10000]: Train loss: 1.0860, Valid loss: 1.0882\n"
          ]
        },
        {
          "output_type": "stream",
          "name": "stderr",
          "text": [
            "Epoch [793/10000]: 100%|██████████| 14/14 [00:00<00:00, 88.95it/s, loss=1.35]\n"
          ]
        },
        {
          "output_type": "stream",
          "name": "stdout",
          "text": [
            "Epoch [793/10000]: Train loss: 1.1072, Valid loss: 1.2906\n"
          ]
        },
        {
          "output_type": "stream",
          "name": "stderr",
          "text": [
            "Epoch [794/10000]: 100%|██████████| 14/14 [00:00<00:00, 77.28it/s, loss=0.712]\n"
          ]
        },
        {
          "output_type": "stream",
          "name": "stdout",
          "text": [
            "Epoch [794/10000]: Train loss: 1.1245, Valid loss: 1.1228\n"
          ]
        },
        {
          "output_type": "stream",
          "name": "stderr",
          "text": [
            "Epoch [795/10000]: 100%|██████████| 14/14 [00:00<00:00, 75.43it/s, loss=0.888]\n"
          ]
        },
        {
          "output_type": "stream",
          "name": "stdout",
          "text": [
            "Epoch [795/10000]: Train loss: 1.0842, Valid loss: 1.0392\n"
          ]
        },
        {
          "output_type": "stream",
          "name": "stderr",
          "text": [
            "Epoch [796/10000]: 100%|██████████| 14/14 [00:00<00:00, 83.12it/s, loss=1.44]\n"
          ]
        },
        {
          "output_type": "stream",
          "name": "stdout",
          "text": [
            "Epoch [796/10000]: Train loss: 1.0858, Valid loss: 1.0901\n"
          ]
        },
        {
          "output_type": "stream",
          "name": "stderr",
          "text": [
            "Epoch [797/10000]: 100%|██████████| 14/14 [00:00<00:00, 89.26it/s, loss=0.907]\n"
          ]
        },
        {
          "output_type": "stream",
          "name": "stdout",
          "text": [
            "Epoch [797/10000]: Train loss: 1.0692, Valid loss: 1.1079\n"
          ]
        },
        {
          "output_type": "stream",
          "name": "stderr",
          "text": [
            "Epoch [798/10000]: 100%|██████████| 14/14 [00:00<00:00, 83.92it/s, loss=0.928]\n"
          ]
        },
        {
          "output_type": "stream",
          "name": "stdout",
          "text": [
            "Epoch [798/10000]: Train loss: 1.0887, Valid loss: 1.1197\n"
          ]
        },
        {
          "output_type": "stream",
          "name": "stderr",
          "text": [
            "Epoch [799/10000]: 100%|██████████| 14/14 [00:00<00:00, 71.76it/s, loss=0.928]\n"
          ]
        },
        {
          "output_type": "stream",
          "name": "stdout",
          "text": [
            "Epoch [799/10000]: Train loss: 1.0722, Valid loss: 1.0677\n"
          ]
        },
        {
          "output_type": "stream",
          "name": "stderr",
          "text": [
            "Epoch [800/10000]: 100%|██████████| 14/14 [00:00<00:00, 97.97it/s, loss=1.04] \n"
          ]
        },
        {
          "output_type": "stream",
          "name": "stdout",
          "text": [
            "Epoch [800/10000]: Train loss: 1.0803, Valid loss: 1.1011\n"
          ]
        },
        {
          "output_type": "stream",
          "name": "stderr",
          "text": [
            "Epoch [801/10000]: 100%|██████████| 14/14 [00:00<00:00, 75.32it/s, loss=1.2]\n"
          ]
        },
        {
          "output_type": "stream",
          "name": "stdout",
          "text": [
            "Epoch [801/10000]: Train loss: 1.1255, Valid loss: 1.1006\n"
          ]
        },
        {
          "output_type": "stream",
          "name": "stderr",
          "text": [
            "Epoch [802/10000]: 100%|██████████| 14/14 [00:00<00:00, 85.67it/s, loss=1.3]\n"
          ]
        },
        {
          "output_type": "stream",
          "name": "stdout",
          "text": [
            "Epoch [802/10000]: Train loss: 1.1129, Valid loss: 1.1530\n"
          ]
        },
        {
          "output_type": "stream",
          "name": "stderr",
          "text": [
            "Epoch [803/10000]: 100%|██████████| 14/14 [00:00<00:00, 98.40it/s, loss=1.29] \n"
          ]
        },
        {
          "output_type": "stream",
          "name": "stdout",
          "text": [
            "Epoch [803/10000]: Train loss: 1.0877, Valid loss: 1.0851\n"
          ]
        },
        {
          "output_type": "stream",
          "name": "stderr",
          "text": [
            "Epoch [804/10000]: 100%|██████████| 14/14 [00:00<00:00, 77.78it/s, loss=0.987]\n"
          ]
        },
        {
          "output_type": "stream",
          "name": "stdout",
          "text": [
            "Epoch [804/10000]: Train loss: 1.0743, Valid loss: 1.0683\n"
          ]
        },
        {
          "output_type": "stream",
          "name": "stderr",
          "text": [
            "Epoch [805/10000]: 100%|██████████| 14/14 [00:00<00:00, 81.87it/s, loss=1.07]\n"
          ]
        },
        {
          "output_type": "stream",
          "name": "stdout",
          "text": [
            "Epoch [805/10000]: Train loss: 1.0756, Valid loss: 1.1224\n"
          ]
        },
        {
          "output_type": "stream",
          "name": "stderr",
          "text": [
            "Epoch [806/10000]: 100%|██████████| 14/14 [00:00<00:00, 68.35it/s, loss=1.08]\n"
          ]
        },
        {
          "output_type": "stream",
          "name": "stdout",
          "text": [
            "Epoch [806/10000]: Train loss: 1.1445, Valid loss: 1.0601\n"
          ]
        },
        {
          "output_type": "stream",
          "name": "stderr",
          "text": [
            "Epoch [807/10000]: 100%|██████████| 14/14 [00:00<00:00, 87.87it/s, loss=0.964]\n"
          ]
        },
        {
          "output_type": "stream",
          "name": "stdout",
          "text": [
            "Epoch [807/10000]: Train loss: 1.1712, Valid loss: 1.0661\n"
          ]
        },
        {
          "output_type": "stream",
          "name": "stderr",
          "text": [
            "Epoch [808/10000]: 100%|██████████| 14/14 [00:00<00:00, 89.55it/s, loss=1.5]\n"
          ]
        },
        {
          "output_type": "stream",
          "name": "stdout",
          "text": [
            "Epoch [808/10000]: Train loss: 1.1235, Valid loss: 1.0823\n"
          ]
        },
        {
          "output_type": "stream",
          "name": "stderr",
          "text": [
            "Epoch [809/10000]: 100%|██████████| 14/14 [00:00<00:00, 90.14it/s, loss=1.52]\n"
          ]
        },
        {
          "output_type": "stream",
          "name": "stdout",
          "text": [
            "Epoch [809/10000]: Train loss: 1.1052, Valid loss: 1.0765\n"
          ]
        },
        {
          "output_type": "stream",
          "name": "stderr",
          "text": [
            "Epoch [810/10000]: 100%|██████████| 14/14 [00:00<00:00, 85.95it/s, loss=1.46]\n"
          ]
        },
        {
          "output_type": "stream",
          "name": "stdout",
          "text": [
            "Epoch [810/10000]: Train loss: 1.1132, Valid loss: 1.0353\n"
          ]
        },
        {
          "output_type": "stream",
          "name": "stderr",
          "text": [
            "Epoch [811/10000]: 100%|██████████| 14/14 [00:00<00:00, 71.01it/s, loss=1.25]\n"
          ]
        },
        {
          "output_type": "stream",
          "name": "stdout",
          "text": [
            "Epoch [811/10000]: Train loss: 1.0848, Valid loss: 1.1188\n"
          ]
        },
        {
          "output_type": "stream",
          "name": "stderr",
          "text": [
            "Epoch [812/10000]: 100%|██████████| 14/14 [00:00<00:00, 92.48it/s, loss=1.67]\n"
          ]
        },
        {
          "output_type": "stream",
          "name": "stdout",
          "text": [
            "Epoch [812/10000]: Train loss: 1.1278, Valid loss: 1.0715\n"
          ]
        },
        {
          "output_type": "stream",
          "name": "stderr",
          "text": [
            "Epoch [813/10000]: 100%|██████████| 14/14 [00:00<00:00, 86.27it/s, loss=0.929]\n"
          ]
        },
        {
          "output_type": "stream",
          "name": "stdout",
          "text": [
            "Epoch [813/10000]: Train loss: 1.0926, Valid loss: 1.0686\n"
          ]
        },
        {
          "output_type": "stream",
          "name": "stderr",
          "text": [
            "Epoch [814/10000]: 100%|██████████| 14/14 [00:00<00:00, 79.58it/s, loss=1.75]\n"
          ]
        },
        {
          "output_type": "stream",
          "name": "stdout",
          "text": [
            "Epoch [814/10000]: Train loss: 1.1037, Valid loss: 1.0531\n"
          ]
        },
        {
          "output_type": "stream",
          "name": "stderr",
          "text": [
            "Epoch [815/10000]: 100%|██████████| 14/14 [00:00<00:00, 81.02it/s, loss=0.815]\n"
          ]
        },
        {
          "output_type": "stream",
          "name": "stdout",
          "text": [
            "Epoch [815/10000]: Train loss: 1.0602, Valid loss: 1.1294\n"
          ]
        },
        {
          "output_type": "stream",
          "name": "stderr",
          "text": [
            "Epoch [816/10000]: 100%|██████████| 14/14 [00:00<00:00, 83.08it/s, loss=1.05]\n"
          ]
        },
        {
          "output_type": "stream",
          "name": "stdout",
          "text": [
            "Epoch [816/10000]: Train loss: 1.0952, Valid loss: 1.1720\n"
          ]
        },
        {
          "output_type": "stream",
          "name": "stderr",
          "text": [
            "Epoch [817/10000]: 100%|██████████| 14/14 [00:00<00:00, 77.24it/s, loss=0.627]\n"
          ]
        },
        {
          "output_type": "stream",
          "name": "stdout",
          "text": [
            "Epoch [817/10000]: Train loss: 1.1024, Valid loss: 1.1531\n"
          ]
        },
        {
          "output_type": "stream",
          "name": "stderr",
          "text": [
            "Epoch [818/10000]: 100%|██████████| 14/14 [00:00<00:00, 67.57it/s, loss=1.14]\n"
          ]
        },
        {
          "output_type": "stream",
          "name": "stdout",
          "text": [
            "Epoch [818/10000]: Train loss: 1.0846, Valid loss: 1.1145\n"
          ]
        },
        {
          "output_type": "stream",
          "name": "stderr",
          "text": [
            "Epoch [819/10000]: 100%|██████████| 14/14 [00:00<00:00, 67.77it/s, loss=0.906]\n"
          ]
        },
        {
          "output_type": "stream",
          "name": "stdout",
          "text": [
            "Epoch [819/10000]: Train loss: 1.0776, Valid loss: 1.0536\n"
          ]
        },
        {
          "output_type": "stream",
          "name": "stderr",
          "text": [
            "Epoch [820/10000]: 100%|██████████| 14/14 [00:00<00:00, 73.36it/s, loss=0.901]\n"
          ]
        },
        {
          "output_type": "stream",
          "name": "stdout",
          "text": [
            "Epoch [820/10000]: Train loss: 1.0735, Valid loss: 1.0673\n"
          ]
        },
        {
          "output_type": "stream",
          "name": "stderr",
          "text": [
            "Epoch [821/10000]: 100%|██████████| 14/14 [00:00<00:00, 76.88it/s, loss=0.719]\n"
          ]
        },
        {
          "output_type": "stream",
          "name": "stdout",
          "text": [
            "Epoch [821/10000]: Train loss: 1.0703, Valid loss: 1.0537\n"
          ]
        },
        {
          "output_type": "stream",
          "name": "stderr",
          "text": [
            "Epoch [822/10000]: 100%|██████████| 14/14 [00:00<00:00, 72.94it/s, loss=0.837]\n"
          ]
        },
        {
          "output_type": "stream",
          "name": "stdout",
          "text": [
            "Epoch [822/10000]: Train loss: 1.0667, Valid loss: 1.0764\n"
          ]
        },
        {
          "output_type": "stream",
          "name": "stderr",
          "text": [
            "Epoch [823/10000]: 100%|██████████| 14/14 [00:00<00:00, 89.64it/s, loss=1.59]\n"
          ]
        },
        {
          "output_type": "stream",
          "name": "stdout",
          "text": [
            "Epoch [823/10000]: Train loss: 1.1004, Valid loss: 1.0470\n"
          ]
        },
        {
          "output_type": "stream",
          "name": "stderr",
          "text": [
            "Epoch [824/10000]: 100%|██████████| 14/14 [00:00<00:00, 89.62it/s, loss=1.31]\n"
          ]
        },
        {
          "output_type": "stream",
          "name": "stdout",
          "text": [
            "Epoch [824/10000]: Train loss: 1.0876, Valid loss: 1.0544\n"
          ]
        },
        {
          "output_type": "stream",
          "name": "stderr",
          "text": [
            "Epoch [825/10000]: 100%|██████████| 14/14 [00:00<00:00, 80.61it/s, loss=0.856]\n"
          ]
        },
        {
          "output_type": "stream",
          "name": "stdout",
          "text": [
            "Epoch [825/10000]: Train loss: 1.0774, Valid loss: 1.1099\n"
          ]
        },
        {
          "output_type": "stream",
          "name": "stderr",
          "text": [
            "Epoch [826/10000]: 100%|██████████| 14/14 [00:00<00:00, 96.23it/s, loss=1.31]\n"
          ]
        },
        {
          "output_type": "stream",
          "name": "stdout",
          "text": [
            "Epoch [826/10000]: Train loss: 1.1444, Valid loss: 1.3305\n"
          ]
        },
        {
          "output_type": "stream",
          "name": "stderr",
          "text": [
            "Epoch [827/10000]: 100%|██████████| 14/14 [00:00<00:00, 95.30it/s, loss=1.18]\n"
          ]
        },
        {
          "output_type": "stream",
          "name": "stdout",
          "text": [
            "Epoch [827/10000]: Train loss: 1.1634, Valid loss: 1.3015\n"
          ]
        },
        {
          "output_type": "stream",
          "name": "stderr",
          "text": [
            "Epoch [828/10000]: 100%|██████████| 14/14 [00:00<00:00, 94.64it/s, loss=1]\n"
          ]
        },
        {
          "output_type": "stream",
          "name": "stdout",
          "text": [
            "Epoch [828/10000]: Train loss: 1.1337, Valid loss: 1.1567\n"
          ]
        },
        {
          "output_type": "stream",
          "name": "stderr",
          "text": [
            "Epoch [829/10000]: 100%|██████████| 14/14 [00:00<00:00, 72.95it/s, loss=1.08]\n"
          ]
        },
        {
          "output_type": "stream",
          "name": "stdout",
          "text": [
            "Epoch [829/10000]: Train loss: 1.1234, Valid loss: 1.1165\n"
          ]
        },
        {
          "output_type": "stream",
          "name": "stderr",
          "text": [
            "Epoch [830/10000]: 100%|██████████| 14/14 [00:00<00:00, 86.30it/s, loss=1.58]\n"
          ]
        },
        {
          "output_type": "stream",
          "name": "stdout",
          "text": [
            "Epoch [830/10000]: Train loss: 1.1119, Valid loss: 1.1106\n"
          ]
        },
        {
          "output_type": "stream",
          "name": "stderr",
          "text": [
            "Epoch [831/10000]: 100%|██████████| 14/14 [00:00<00:00, 85.32it/s, loss=1.19]\n"
          ]
        },
        {
          "output_type": "stream",
          "name": "stdout",
          "text": [
            "Epoch [831/10000]: Train loss: 1.0803, Valid loss: 1.1584\n"
          ]
        },
        {
          "output_type": "stream",
          "name": "stderr",
          "text": [
            "Epoch [832/10000]: 100%|██████████| 14/14 [00:00<00:00, 85.66it/s, loss=1.14]\n"
          ]
        },
        {
          "output_type": "stream",
          "name": "stdout",
          "text": [
            "Epoch [832/10000]: Train loss: 1.1056, Valid loss: 1.0940\n"
          ]
        },
        {
          "output_type": "stream",
          "name": "stderr",
          "text": [
            "Epoch [833/10000]: 100%|██████████| 14/14 [00:00<00:00, 91.19it/s, loss=1.38]\n"
          ]
        },
        {
          "output_type": "stream",
          "name": "stdout",
          "text": [
            "Epoch [833/10000]: Train loss: 1.1083, Valid loss: 1.0916\n"
          ]
        },
        {
          "output_type": "stream",
          "name": "stderr",
          "text": [
            "Epoch [834/10000]: 100%|██████████| 14/14 [00:00<00:00, 91.04it/s, loss=0.906]\n"
          ]
        },
        {
          "output_type": "stream",
          "name": "stdout",
          "text": [
            "Epoch [834/10000]: Train loss: 1.0802, Valid loss: 1.0912\n"
          ]
        },
        {
          "output_type": "stream",
          "name": "stderr",
          "text": [
            "Epoch [835/10000]: 100%|██████████| 14/14 [00:00<00:00, 83.28it/s, loss=0.689]\n"
          ]
        },
        {
          "output_type": "stream",
          "name": "stdout",
          "text": [
            "Epoch [835/10000]: Train loss: 1.0843, Valid loss: 1.1017\n"
          ]
        },
        {
          "output_type": "stream",
          "name": "stderr",
          "text": [
            "Epoch [836/10000]: 100%|██████████| 14/14 [00:00<00:00, 76.75it/s, loss=0.639]\n"
          ]
        },
        {
          "output_type": "stream",
          "name": "stdout",
          "text": [
            "Epoch [836/10000]: Train loss: 1.0743, Valid loss: 1.1158\n"
          ]
        },
        {
          "output_type": "stream",
          "name": "stderr",
          "text": [
            "Epoch [837/10000]: 100%|██████████| 14/14 [00:00<00:00, 81.48it/s, loss=2.22]\n"
          ]
        },
        {
          "output_type": "stream",
          "name": "stdout",
          "text": [
            "Epoch [837/10000]: Train loss: 1.1436, Valid loss: 1.0694\n"
          ]
        },
        {
          "output_type": "stream",
          "name": "stderr",
          "text": [
            "Epoch [838/10000]: 100%|██████████| 14/14 [00:00<00:00, 71.64it/s, loss=1.23]\n"
          ]
        },
        {
          "output_type": "stream",
          "name": "stdout",
          "text": [
            "Epoch [838/10000]: Train loss: 1.0998, Valid loss: 1.0817\n"
          ]
        },
        {
          "output_type": "stream",
          "name": "stderr",
          "text": [
            "Epoch [839/10000]: 100%|██████████| 14/14 [00:00<00:00, 86.75it/s, loss=1.17]\n"
          ]
        },
        {
          "output_type": "stream",
          "name": "stdout",
          "text": [
            "Epoch [839/10000]: Train loss: 1.0761, Valid loss: 1.0903\n"
          ]
        },
        {
          "output_type": "stream",
          "name": "stderr",
          "text": [
            "Epoch [840/10000]: 100%|██████████| 14/14 [00:00<00:00, 73.69it/s, loss=0.702]\n"
          ]
        },
        {
          "output_type": "stream",
          "name": "stdout",
          "text": [
            "Epoch [840/10000]: Train loss: 1.0725, Valid loss: 1.0637\n"
          ]
        },
        {
          "output_type": "stream",
          "name": "stderr",
          "text": [
            "Epoch [841/10000]: 100%|██████████| 14/14 [00:00<00:00, 85.24it/s, loss=1.1]\n"
          ]
        },
        {
          "output_type": "stream",
          "name": "stdout",
          "text": [
            "Epoch [841/10000]: Train loss: 1.0723, Valid loss: 1.0681\n"
          ]
        },
        {
          "output_type": "stream",
          "name": "stderr",
          "text": [
            "Epoch [842/10000]: 100%|██████████| 14/14 [00:00<00:00, 77.28it/s, loss=1.13]\n"
          ]
        },
        {
          "output_type": "stream",
          "name": "stdout",
          "text": [
            "Epoch [842/10000]: Train loss: 1.0838, Valid loss: 1.1031\n"
          ]
        },
        {
          "output_type": "stream",
          "name": "stderr",
          "text": [
            "Epoch [843/10000]: 100%|██████████| 14/14 [00:00<00:00, 85.33it/s, loss=0.744]\n"
          ]
        },
        {
          "output_type": "stream",
          "name": "stdout",
          "text": [
            "Epoch [843/10000]: Train loss: 1.1587, Valid loss: 1.1891\n"
          ]
        },
        {
          "output_type": "stream",
          "name": "stderr",
          "text": [
            "Epoch [844/10000]: 100%|██████████| 14/14 [00:00<00:00, 68.07it/s, loss=1.12]\n"
          ]
        },
        {
          "output_type": "stream",
          "name": "stdout",
          "text": [
            "Epoch [844/10000]: Train loss: 1.1543, Valid loss: 1.2643\n"
          ]
        },
        {
          "output_type": "stream",
          "name": "stderr",
          "text": [
            "Epoch [845/10000]: 100%|██████████| 14/14 [00:00<00:00, 81.10it/s, loss=1.02]\n"
          ]
        },
        {
          "output_type": "stream",
          "name": "stdout",
          "text": [
            "Epoch [845/10000]: Train loss: 1.1885, Valid loss: 1.0839\n"
          ]
        },
        {
          "output_type": "stream",
          "name": "stderr",
          "text": [
            "Epoch [846/10000]: 100%|██████████| 14/14 [00:00<00:00, 81.97it/s, loss=1.09]\n"
          ]
        },
        {
          "output_type": "stream",
          "name": "stdout",
          "text": [
            "Epoch [846/10000]: Train loss: 1.1252, Valid loss: 1.0761\n"
          ]
        },
        {
          "output_type": "stream",
          "name": "stderr",
          "text": [
            "Epoch [847/10000]: 100%|██████████| 14/14 [00:00<00:00, 76.49it/s, loss=1.93]\n"
          ]
        },
        {
          "output_type": "stream",
          "name": "stdout",
          "text": [
            "Epoch [847/10000]: Train loss: 1.1293, Valid loss: 1.1728\n"
          ]
        },
        {
          "output_type": "stream",
          "name": "stderr",
          "text": [
            "Epoch [848/10000]: 100%|██████████| 14/14 [00:00<00:00, 85.52it/s, loss=0.792]\n"
          ]
        },
        {
          "output_type": "stream",
          "name": "stdout",
          "text": [
            "Epoch [848/10000]: Train loss: 1.0877, Valid loss: 1.1054\n"
          ]
        },
        {
          "output_type": "stream",
          "name": "stderr",
          "text": [
            "Epoch [849/10000]: 100%|██████████| 14/14 [00:00<00:00, 66.91it/s, loss=1.32]\n"
          ]
        },
        {
          "output_type": "stream",
          "name": "stdout",
          "text": [
            "Epoch [849/10000]: Train loss: 1.0872, Valid loss: 1.0702\n"
          ]
        },
        {
          "output_type": "stream",
          "name": "stderr",
          "text": [
            "Epoch [850/10000]: 100%|██████████| 14/14 [00:00<00:00, 92.60it/s, loss=1.02]\n"
          ]
        },
        {
          "output_type": "stream",
          "name": "stdout",
          "text": [
            "Epoch [850/10000]: Train loss: 1.0738, Valid loss: 1.1548\n"
          ]
        },
        {
          "output_type": "stream",
          "name": "stderr",
          "text": [
            "Epoch [851/10000]: 100%|██████████| 14/14 [00:00<00:00, 90.87it/s, loss=1.66]\n"
          ]
        },
        {
          "output_type": "stream",
          "name": "stdout",
          "text": [
            "Epoch [851/10000]: Train loss: 1.1119, Valid loss: 1.0824\n"
          ]
        },
        {
          "output_type": "stream",
          "name": "stderr",
          "text": [
            "Epoch [852/10000]: 100%|██████████| 14/14 [00:00<00:00, 88.48it/s, loss=0.85]\n"
          ]
        },
        {
          "output_type": "stream",
          "name": "stdout",
          "text": [
            "Epoch [852/10000]: Train loss: 1.0780, Valid loss: 1.1418\n"
          ]
        },
        {
          "output_type": "stream",
          "name": "stderr",
          "text": [
            "Epoch [853/10000]: 100%|██████████| 14/14 [00:00<00:00, 88.77it/s, loss=1.02]\n"
          ]
        },
        {
          "output_type": "stream",
          "name": "stdout",
          "text": [
            "Epoch [853/10000]: Train loss: 1.0933, Valid loss: 1.0872\n"
          ]
        },
        {
          "output_type": "stream",
          "name": "stderr",
          "text": [
            "Epoch [854/10000]: 100%|██████████| 14/14 [00:00<00:00, 79.62it/s, loss=1.06]\n"
          ]
        },
        {
          "output_type": "stream",
          "name": "stdout",
          "text": [
            "Epoch [854/10000]: Train loss: 1.0828, Valid loss: 1.0813\n"
          ]
        },
        {
          "output_type": "stream",
          "name": "stderr",
          "text": [
            "Epoch [855/10000]: 100%|██████████| 14/14 [00:00<00:00, 71.55it/s, loss=1.05]\n"
          ]
        },
        {
          "output_type": "stream",
          "name": "stdout",
          "text": [
            "Epoch [855/10000]: Train loss: 1.0707, Valid loss: 1.0668\n"
          ]
        },
        {
          "output_type": "stream",
          "name": "stderr",
          "text": [
            "Epoch [856/10000]: 100%|██████████| 14/14 [00:00<00:00, 67.26it/s, loss=1.61]\n"
          ]
        },
        {
          "output_type": "stream",
          "name": "stdout",
          "text": [
            "Epoch [856/10000]: Train loss: 1.0948, Valid loss: 1.1079\n"
          ]
        },
        {
          "output_type": "stream",
          "name": "stderr",
          "text": [
            "Epoch [857/10000]: 100%|██████████| 14/14 [00:00<00:00, 71.21it/s, loss=1.01]\n"
          ]
        },
        {
          "output_type": "stream",
          "name": "stdout",
          "text": [
            "Epoch [857/10000]: Train loss: 1.0929, Valid loss: 1.0860\n"
          ]
        },
        {
          "output_type": "stream",
          "name": "stderr",
          "text": [
            "Epoch [858/10000]: 100%|██████████| 14/14 [00:00<00:00, 76.15it/s, loss=1.02]\n"
          ]
        },
        {
          "output_type": "stream",
          "name": "stdout",
          "text": [
            "Epoch [858/10000]: Train loss: 1.1207, Valid loss: 1.1470\n"
          ]
        },
        {
          "output_type": "stream",
          "name": "stderr",
          "text": [
            "Epoch [859/10000]: 100%|██████████| 14/14 [00:00<00:00, 83.77it/s, loss=2.18]\n"
          ]
        },
        {
          "output_type": "stream",
          "name": "stdout",
          "text": [
            "Epoch [859/10000]: Train loss: 1.1549, Valid loss: 1.1264\n"
          ]
        },
        {
          "output_type": "stream",
          "name": "stderr",
          "text": [
            "Epoch [860/10000]: 100%|██████████| 14/14 [00:00<00:00, 96.21it/s, loss=0.997]\n"
          ]
        },
        {
          "output_type": "stream",
          "name": "stdout",
          "text": [
            "Epoch [860/10000]: Train loss: 1.1527, Valid loss: 1.2333\n"
          ]
        },
        {
          "output_type": "stream",
          "name": "stderr",
          "text": [
            "Epoch [861/10000]: 100%|██████████| 14/14 [00:00<00:00, 94.28it/s, loss=1.55]\n"
          ]
        },
        {
          "output_type": "stream",
          "name": "stdout",
          "text": [
            "Epoch [861/10000]: Train loss: 1.1608, Valid loss: 1.0937\n"
          ]
        },
        {
          "output_type": "stream",
          "name": "stderr",
          "text": [
            "Epoch [862/10000]: 100%|██████████| 14/14 [00:00<00:00, 72.63it/s, loss=0.996]\n"
          ]
        },
        {
          "output_type": "stream",
          "name": "stdout",
          "text": [
            "Epoch [862/10000]: Train loss: 1.1110, Valid loss: 1.0560\n"
          ]
        },
        {
          "output_type": "stream",
          "name": "stderr",
          "text": [
            "Epoch [863/10000]: 100%|██████████| 14/14 [00:00<00:00, 78.53it/s, loss=0.638]\n"
          ]
        },
        {
          "output_type": "stream",
          "name": "stdout",
          "text": [
            "Epoch [863/10000]: Train loss: 1.0775, Valid loss: 1.1110\n"
          ]
        },
        {
          "output_type": "stream",
          "name": "stderr",
          "text": [
            "Epoch [864/10000]: 100%|██████████| 14/14 [00:00<00:00, 82.60it/s, loss=1.42]\n"
          ]
        },
        {
          "output_type": "stream",
          "name": "stdout",
          "text": [
            "Epoch [864/10000]: Train loss: 1.0931, Valid loss: 1.0602\n"
          ]
        },
        {
          "output_type": "stream",
          "name": "stderr",
          "text": [
            "Epoch [865/10000]: 100%|██████████| 14/14 [00:00<00:00, 88.33it/s, loss=0.961]\n"
          ]
        },
        {
          "output_type": "stream",
          "name": "stdout",
          "text": [
            "Epoch [865/10000]: Train loss: 1.0829, Valid loss: 1.0711\n"
          ]
        },
        {
          "output_type": "stream",
          "name": "stderr",
          "text": [
            "Epoch [866/10000]: 100%|██████████| 14/14 [00:00<00:00, 92.43it/s, loss=1.11]\n"
          ]
        },
        {
          "output_type": "stream",
          "name": "stdout",
          "text": [
            "Epoch [866/10000]: Train loss: 1.0899, Valid loss: 1.1287\n"
          ]
        },
        {
          "output_type": "stream",
          "name": "stderr",
          "text": [
            "Epoch [867/10000]: 100%|██████████| 14/14 [00:00<00:00, 75.05it/s, loss=1.47]\n"
          ]
        },
        {
          "output_type": "stream",
          "name": "stdout",
          "text": [
            "Epoch [867/10000]: Train loss: 1.0840, Valid loss: 1.1111\n"
          ]
        },
        {
          "output_type": "stream",
          "name": "stderr",
          "text": [
            "Epoch [868/10000]: 100%|██████████| 14/14 [00:00<00:00, 79.76it/s, loss=0.996]\n"
          ]
        },
        {
          "output_type": "stream",
          "name": "stdout",
          "text": [
            "Epoch [868/10000]: Train loss: 1.0743, Valid loss: 1.0757\n"
          ]
        },
        {
          "output_type": "stream",
          "name": "stderr",
          "text": [
            "Epoch [869/10000]: 100%|██████████| 14/14 [00:00<00:00, 82.29it/s, loss=1.79]\n"
          ]
        },
        {
          "output_type": "stream",
          "name": "stdout",
          "text": [
            "Epoch [869/10000]: Train loss: 1.1067, Valid loss: 1.1174\n"
          ]
        },
        {
          "output_type": "stream",
          "name": "stderr",
          "text": [
            "Epoch [870/10000]: 100%|██████████| 14/14 [00:00<00:00, 90.62it/s, loss=1.13]\n"
          ]
        },
        {
          "output_type": "stream",
          "name": "stdout",
          "text": [
            "Epoch [870/10000]: Train loss: 1.0917, Valid loss: 1.0960\n"
          ]
        },
        {
          "output_type": "stream",
          "name": "stderr",
          "text": [
            "Epoch [871/10000]: 100%|██████████| 14/14 [00:00<00:00, 87.09it/s, loss=1.37]\n"
          ]
        },
        {
          "output_type": "stream",
          "name": "stdout",
          "text": [
            "Epoch [871/10000]: Train loss: 1.0862, Valid loss: 1.0957\n"
          ]
        },
        {
          "output_type": "stream",
          "name": "stderr",
          "text": [
            "Epoch [872/10000]: 100%|██████████| 14/14 [00:00<00:00, 69.95it/s, loss=1.02]\n"
          ]
        },
        {
          "output_type": "stream",
          "name": "stdout",
          "text": [
            "Epoch [872/10000]: Train loss: 1.0856, Valid loss: 1.0888\n"
          ]
        },
        {
          "output_type": "stream",
          "name": "stderr",
          "text": [
            "Epoch [873/10000]: 100%|██████████| 14/14 [00:00<00:00, 82.60it/s, loss=0.975]\n"
          ]
        },
        {
          "output_type": "stream",
          "name": "stdout",
          "text": [
            "Epoch [873/10000]: Train loss: 1.0860, Valid loss: 1.0884\n"
          ]
        },
        {
          "output_type": "stream",
          "name": "stderr",
          "text": [
            "Epoch [874/10000]: 100%|██████████| 14/14 [00:00<00:00, 81.21it/s, loss=0.675]\n"
          ]
        },
        {
          "output_type": "stream",
          "name": "stdout",
          "text": [
            "Epoch [874/10000]: Train loss: 1.0627, Valid loss: 1.0629\n"
          ]
        },
        {
          "output_type": "stream",
          "name": "stderr",
          "text": [
            "Epoch [875/10000]: 100%|██████████| 14/14 [00:00<00:00, 82.28it/s, loss=0.978]\n"
          ]
        },
        {
          "output_type": "stream",
          "name": "stdout",
          "text": [
            "Epoch [875/10000]: Train loss: 1.0692, Valid loss: 1.0945\n"
          ]
        },
        {
          "output_type": "stream",
          "name": "stderr",
          "text": [
            "Epoch [876/10000]: 100%|██████████| 14/14 [00:00<00:00, 88.67it/s, loss=1.28]\n"
          ]
        },
        {
          "output_type": "stream",
          "name": "stdout",
          "text": [
            "Epoch [876/10000]: Train loss: 1.1151, Valid loss: 1.1066\n"
          ]
        },
        {
          "output_type": "stream",
          "name": "stderr",
          "text": [
            "Epoch [877/10000]: 100%|██████████| 14/14 [00:00<00:00, 98.39it/s, loss=1.12] \n"
          ]
        },
        {
          "output_type": "stream",
          "name": "stdout",
          "text": [
            "Epoch [877/10000]: Train loss: 1.1414, Valid loss: 1.1135\n"
          ]
        },
        {
          "output_type": "stream",
          "name": "stderr",
          "text": [
            "Epoch [878/10000]: 100%|██████████| 14/14 [00:00<00:00, 99.98it/s, loss=1.02] \n"
          ]
        },
        {
          "output_type": "stream",
          "name": "stdout",
          "text": [
            "Epoch [878/10000]: Train loss: 1.1843, Valid loss: 1.1478\n"
          ]
        },
        {
          "output_type": "stream",
          "name": "stderr",
          "text": [
            "Epoch [879/10000]: 100%|██████████| 14/14 [00:00<00:00, 94.92it/s, loss=0.717] \n"
          ]
        },
        {
          "output_type": "stream",
          "name": "stdout",
          "text": [
            "Epoch [879/10000]: Train loss: 1.0845, Valid loss: 1.0498\n"
          ]
        },
        {
          "output_type": "stream",
          "name": "stderr",
          "text": [
            "Epoch [880/10000]: 100%|██████████| 14/14 [00:00<00:00, 86.39it/s, loss=1.1]\n"
          ]
        },
        {
          "output_type": "stream",
          "name": "stdout",
          "text": [
            "Epoch [880/10000]: Train loss: 1.0866, Valid loss: 1.0861\n"
          ]
        },
        {
          "output_type": "stream",
          "name": "stderr",
          "text": [
            "Epoch [881/10000]: 100%|██████████| 14/14 [00:00<00:00, 85.59it/s, loss=1.01]\n"
          ]
        },
        {
          "output_type": "stream",
          "name": "stdout",
          "text": [
            "Epoch [881/10000]: Train loss: 1.0897, Valid loss: 1.1027\n"
          ]
        },
        {
          "output_type": "stream",
          "name": "stderr",
          "text": [
            "Epoch [882/10000]: 100%|██████████| 14/14 [00:00<00:00, 88.60it/s, loss=1.11]\n"
          ]
        },
        {
          "output_type": "stream",
          "name": "stdout",
          "text": [
            "Epoch [882/10000]: Train loss: 1.0794, Valid loss: 1.0783\n"
          ]
        },
        {
          "output_type": "stream",
          "name": "stderr",
          "text": [
            "Epoch [883/10000]: 100%|██████████| 14/14 [00:00<00:00, 94.30it/s, loss=0.918]\n"
          ]
        },
        {
          "output_type": "stream",
          "name": "stdout",
          "text": [
            "Epoch [883/10000]: Train loss: 1.0981, Valid loss: 1.0632\n"
          ]
        },
        {
          "output_type": "stream",
          "name": "stderr",
          "text": [
            "Epoch [884/10000]: 100%|██████████| 14/14 [00:00<00:00, 98.39it/s, loss=0.992]\n"
          ]
        },
        {
          "output_type": "stream",
          "name": "stdout",
          "text": [
            "Epoch [884/10000]: Train loss: 1.1049, Valid loss: 1.0926\n"
          ]
        },
        {
          "output_type": "stream",
          "name": "stderr",
          "text": [
            "Epoch [885/10000]: 100%|██████████| 14/14 [00:00<00:00, 85.28it/s, loss=1.18]\n"
          ]
        },
        {
          "output_type": "stream",
          "name": "stdout",
          "text": [
            "Epoch [885/10000]: Train loss: 1.1109, Valid loss: 1.1611\n"
          ]
        },
        {
          "output_type": "stream",
          "name": "stderr",
          "text": [
            "Epoch [886/10000]: 100%|██████████| 14/14 [00:00<00:00, 94.96it/s, loss=0.827]\n"
          ]
        },
        {
          "output_type": "stream",
          "name": "stdout",
          "text": [
            "Epoch [886/10000]: Train loss: 1.0885, Valid loss: 1.1091\n"
          ]
        },
        {
          "output_type": "stream",
          "name": "stderr",
          "text": [
            "Epoch [887/10000]: 100%|██████████| 14/14 [00:00<00:00, 92.70it/s, loss=1.44]\n"
          ]
        },
        {
          "output_type": "stream",
          "name": "stdout",
          "text": [
            "Epoch [887/10000]: Train loss: 1.0974, Valid loss: 1.0562\n"
          ]
        },
        {
          "output_type": "stream",
          "name": "stderr",
          "text": [
            "Epoch [888/10000]: 100%|██████████| 14/14 [00:00<00:00, 99.09it/s, loss=2.31] \n"
          ]
        },
        {
          "output_type": "stream",
          "name": "stdout",
          "text": [
            "Epoch [888/10000]: Train loss: 1.1381, Valid loss: 1.1088\n"
          ]
        },
        {
          "output_type": "stream",
          "name": "stderr",
          "text": [
            "Epoch [889/10000]: 100%|██████████| 14/14 [00:00<00:00, 88.40it/s, loss=0.768]\n"
          ]
        },
        {
          "output_type": "stream",
          "name": "stdout",
          "text": [
            "Epoch [889/10000]: Train loss: 1.0925, Valid loss: 1.0823\n"
          ]
        },
        {
          "output_type": "stream",
          "name": "stderr",
          "text": [
            "Epoch [890/10000]: 100%|██████████| 14/14 [00:00<00:00, 71.87it/s, loss=1.71]\n"
          ]
        },
        {
          "output_type": "stream",
          "name": "stdout",
          "text": [
            "Epoch [890/10000]: Train loss: 1.1232, Valid loss: 1.0797\n"
          ]
        },
        {
          "output_type": "stream",
          "name": "stderr",
          "text": [
            "Epoch [891/10000]: 100%|██████████| 14/14 [00:00<00:00, 68.12it/s, loss=0.821]\n"
          ]
        },
        {
          "output_type": "stream",
          "name": "stdout",
          "text": [
            "Epoch [891/10000]: Train loss: 1.0780, Valid loss: 1.1139\n"
          ]
        },
        {
          "output_type": "stream",
          "name": "stderr",
          "text": [
            "Epoch [892/10000]: 100%|██████████| 14/14 [00:00<00:00, 86.02it/s, loss=1.55]\n"
          ]
        },
        {
          "output_type": "stream",
          "name": "stdout",
          "text": [
            "Epoch [892/10000]: Train loss: 1.0905, Valid loss: 1.0700\n"
          ]
        },
        {
          "output_type": "stream",
          "name": "stderr",
          "text": [
            "Epoch [893/10000]: 100%|██████████| 14/14 [00:00<00:00, 81.49it/s, loss=1.31]\n"
          ]
        },
        {
          "output_type": "stream",
          "name": "stdout",
          "text": [
            "Epoch [893/10000]: Train loss: 1.1163, Valid loss: 1.0829\n"
          ]
        },
        {
          "output_type": "stream",
          "name": "stderr",
          "text": [
            "Epoch [894/10000]: 100%|██████████| 14/14 [00:00<00:00, 89.17it/s, loss=0.551]\n"
          ]
        },
        {
          "output_type": "stream",
          "name": "stdout",
          "text": [
            "Epoch [894/10000]: Train loss: 1.0853, Valid loss: 1.1297\n"
          ]
        },
        {
          "output_type": "stream",
          "name": "stderr",
          "text": [
            "Epoch [895/10000]: 100%|██████████| 14/14 [00:00<00:00, 86.17it/s, loss=0.735]\n"
          ]
        },
        {
          "output_type": "stream",
          "name": "stdout",
          "text": [
            "Epoch [895/10000]: Train loss: 1.1349, Valid loss: 1.1466\n"
          ]
        },
        {
          "output_type": "stream",
          "name": "stderr",
          "text": [
            "Epoch [896/10000]: 100%|██████████| 14/14 [00:00<00:00, 80.94it/s, loss=1.81]\n"
          ]
        },
        {
          "output_type": "stream",
          "name": "stdout",
          "text": [
            "Epoch [896/10000]: Train loss: 1.1038, Valid loss: 1.1025\n"
          ]
        },
        {
          "output_type": "stream",
          "name": "stderr",
          "text": [
            "Epoch [897/10000]: 100%|██████████| 14/14 [00:00<00:00, 74.48it/s, loss=1.02]\n"
          ]
        },
        {
          "output_type": "stream",
          "name": "stdout",
          "text": [
            "Epoch [897/10000]: Train loss: 1.0844, Valid loss: 1.0948\n"
          ]
        },
        {
          "output_type": "stream",
          "name": "stderr",
          "text": [
            "Epoch [898/10000]: 100%|██████████| 14/14 [00:00<00:00, 94.67it/s, loss=1.17]\n"
          ]
        },
        {
          "output_type": "stream",
          "name": "stdout",
          "text": [
            "Epoch [898/10000]: Train loss: 1.0846, Valid loss: 1.0815\n"
          ]
        },
        {
          "output_type": "stream",
          "name": "stderr",
          "text": [
            "Epoch [899/10000]: 100%|██████████| 14/14 [00:00<00:00, 80.41it/s, loss=1.23]\n"
          ]
        },
        {
          "output_type": "stream",
          "name": "stdout",
          "text": [
            "Epoch [899/10000]: Train loss: 1.0847, Valid loss: 1.1291\n"
          ]
        },
        {
          "output_type": "stream",
          "name": "stderr",
          "text": [
            "Epoch [900/10000]: 100%|██████████| 14/14 [00:00<00:00, 80.44it/s, loss=1.28]\n"
          ]
        },
        {
          "output_type": "stream",
          "name": "stdout",
          "text": [
            "Epoch [900/10000]: Train loss: 1.0977, Valid loss: 1.0657\n"
          ]
        },
        {
          "output_type": "stream",
          "name": "stderr",
          "text": [
            "Epoch [901/10000]: 100%|██████████| 14/14 [00:00<00:00, 86.82it/s, loss=1.3]\n"
          ]
        },
        {
          "output_type": "stream",
          "name": "stdout",
          "text": [
            "Epoch [901/10000]: Train loss: 1.0881, Valid loss: 1.0885\n"
          ]
        },
        {
          "output_type": "stream",
          "name": "stderr",
          "text": [
            "Epoch [902/10000]: 100%|██████████| 14/14 [00:00<00:00, 70.71it/s, loss=1.09]\n"
          ]
        },
        {
          "output_type": "stream",
          "name": "stdout",
          "text": [
            "Epoch [902/10000]: Train loss: 1.1215, Valid loss: 1.0593\n"
          ]
        },
        {
          "output_type": "stream",
          "name": "stderr",
          "text": [
            "Epoch [903/10000]: 100%|██████████| 14/14 [00:00<00:00, 90.50it/s, loss=0.941]\n"
          ]
        },
        {
          "output_type": "stream",
          "name": "stdout",
          "text": [
            "Epoch [903/10000]: Train loss: 1.0729, Valid loss: 1.1590\n"
          ]
        },
        {
          "output_type": "stream",
          "name": "stderr",
          "text": [
            "Epoch [904/10000]: 100%|██████████| 14/14 [00:00<00:00, 91.91it/s, loss=0.949]\n"
          ]
        },
        {
          "output_type": "stream",
          "name": "stdout",
          "text": [
            "Epoch [904/10000]: Train loss: 1.1027, Valid loss: 1.1505\n"
          ]
        },
        {
          "output_type": "stream",
          "name": "stderr",
          "text": [
            "Epoch [905/10000]: 100%|██████████| 14/14 [00:00<00:00, 90.94it/s, loss=0.803]\n"
          ]
        },
        {
          "output_type": "stream",
          "name": "stdout",
          "text": [
            "Epoch [905/10000]: Train loss: 1.0719, Valid loss: 1.0659\n"
          ]
        },
        {
          "output_type": "stream",
          "name": "stderr",
          "text": [
            "Epoch [906/10000]: 100%|██████████| 14/14 [00:00<00:00, 89.15it/s, loss=1.48]\n"
          ]
        },
        {
          "output_type": "stream",
          "name": "stdout",
          "text": [
            "Epoch [906/10000]: Train loss: 1.0950, Valid loss: 1.1221\n"
          ]
        },
        {
          "output_type": "stream",
          "name": "stderr",
          "text": [
            "Epoch [907/10000]: 100%|██████████| 14/14 [00:00<00:00, 73.06it/s, loss=0.825]\n"
          ]
        },
        {
          "output_type": "stream",
          "name": "stdout",
          "text": [
            "Epoch [907/10000]: Train loss: 1.0641, Valid loss: 1.1033\n"
          ]
        },
        {
          "output_type": "stream",
          "name": "stderr",
          "text": [
            "Epoch [908/10000]: 100%|██████████| 14/14 [00:00<00:00, 72.77it/s, loss=1.41]\n"
          ]
        },
        {
          "output_type": "stream",
          "name": "stdout",
          "text": [
            "Epoch [908/10000]: Train loss: 1.1435, Valid loss: 1.2529\n"
          ]
        },
        {
          "output_type": "stream",
          "name": "stderr",
          "text": [
            "Epoch [909/10000]: 100%|██████████| 14/14 [00:00<00:00, 81.35it/s, loss=0.612]\n"
          ]
        },
        {
          "output_type": "stream",
          "name": "stdout",
          "text": [
            "Epoch [909/10000]: Train loss: 1.1229, Valid loss: 1.1833\n"
          ]
        },
        {
          "output_type": "stream",
          "name": "stderr",
          "text": [
            "Epoch [910/10000]: 100%|██████████| 14/14 [00:00<00:00, 74.29it/s, loss=1.55]\n"
          ]
        },
        {
          "output_type": "stream",
          "name": "stdout",
          "text": [
            "Epoch [910/10000]: Train loss: 1.1220, Valid loss: 1.0811\n"
          ]
        },
        {
          "output_type": "stream",
          "name": "stderr",
          "text": [
            "Epoch [911/10000]: 100%|██████████| 14/14 [00:00<00:00, 75.60it/s, loss=1.48]\n"
          ]
        },
        {
          "output_type": "stream",
          "name": "stdout",
          "text": [
            "Epoch [911/10000]: Train loss: 1.0831, Valid loss: 1.0829\n"
          ]
        },
        {
          "output_type": "stream",
          "name": "stderr",
          "text": [
            "Epoch [912/10000]: 100%|██████████| 14/14 [00:00<00:00, 78.27it/s, loss=1.64]\n"
          ]
        },
        {
          "output_type": "stream",
          "name": "stdout",
          "text": [
            "Epoch [912/10000]: Train loss: 1.1162, Valid loss: 1.0620\n"
          ]
        },
        {
          "output_type": "stream",
          "name": "stderr",
          "text": [
            "Epoch [913/10000]: 100%|██████████| 14/14 [00:00<00:00, 75.17it/s, loss=1.47]\n"
          ]
        },
        {
          "output_type": "stream",
          "name": "stdout",
          "text": [
            "Epoch [913/10000]: Train loss: 1.0965, Valid loss: 1.1174\n"
          ]
        },
        {
          "output_type": "stream",
          "name": "stderr",
          "text": [
            "Epoch [914/10000]: 100%|██████████| 14/14 [00:00<00:00, 82.96it/s, loss=0.771]\n"
          ]
        },
        {
          "output_type": "stream",
          "name": "stdout",
          "text": [
            "Epoch [914/10000]: Train loss: 1.0792, Valid loss: 1.1645\n"
          ]
        },
        {
          "output_type": "stream",
          "name": "stderr",
          "text": [
            "Epoch [915/10000]: 100%|██████████| 14/14 [00:00<00:00, 74.69it/s, loss=1.1]\n"
          ]
        },
        {
          "output_type": "stream",
          "name": "stdout",
          "text": [
            "Epoch [915/10000]: Train loss: 1.1105, Valid loss: 1.1268\n"
          ]
        },
        {
          "output_type": "stream",
          "name": "stderr",
          "text": [
            "Epoch [916/10000]: 100%|██████████| 14/14 [00:00<00:00, 86.66it/s, loss=1.04]\n"
          ]
        },
        {
          "output_type": "stream",
          "name": "stdout",
          "text": [
            "Epoch [916/10000]: Train loss: 1.1001, Valid loss: 1.0844\n"
          ]
        },
        {
          "output_type": "stream",
          "name": "stderr",
          "text": [
            "Epoch [917/10000]: 100%|██████████| 14/14 [00:00<00:00, 86.63it/s, loss=1.79]\n"
          ]
        },
        {
          "output_type": "stream",
          "name": "stdout",
          "text": [
            "Epoch [917/10000]: Train loss: 1.1287, Valid loss: 1.0592\n"
          ]
        },
        {
          "output_type": "stream",
          "name": "stderr",
          "text": [
            "Epoch [918/10000]: 100%|██████████| 14/14 [00:00<00:00, 83.29it/s, loss=1.02]\n"
          ]
        },
        {
          "output_type": "stream",
          "name": "stdout",
          "text": [
            "Epoch [918/10000]: Train loss: 1.0697, Valid loss: 1.1142\n"
          ]
        },
        {
          "output_type": "stream",
          "name": "stderr",
          "text": [
            "Epoch [919/10000]: 100%|██████████| 14/14 [00:00<00:00, 79.04it/s, loss=1.45]\n"
          ]
        },
        {
          "output_type": "stream",
          "name": "stdout",
          "text": [
            "Epoch [919/10000]: Train loss: 1.0949, Valid loss: 1.0669\n"
          ]
        },
        {
          "output_type": "stream",
          "name": "stderr",
          "text": [
            "Epoch [920/10000]: 100%|██████████| 14/14 [00:00<00:00, 64.97it/s, loss=1.09]\n"
          ]
        },
        {
          "output_type": "stream",
          "name": "stdout",
          "text": [
            "Epoch [920/10000]: Train loss: 1.0948, Valid loss: 1.1657\n"
          ]
        },
        {
          "output_type": "stream",
          "name": "stderr",
          "text": [
            "Epoch [921/10000]: 100%|██████████| 14/14 [00:00<00:00, 78.61it/s, loss=1.13]\n"
          ]
        },
        {
          "output_type": "stream",
          "name": "stdout",
          "text": [
            "Epoch [921/10000]: Train loss: 1.1671, Valid loss: 1.0676\n"
          ]
        },
        {
          "output_type": "stream",
          "name": "stderr",
          "text": [
            "Epoch [922/10000]: 100%|██████████| 14/14 [00:00<00:00, 77.32it/s, loss=0.998]\n"
          ]
        },
        {
          "output_type": "stream",
          "name": "stdout",
          "text": [
            "Epoch [922/10000]: Train loss: 1.1083, Valid loss: 1.0895\n"
          ]
        },
        {
          "output_type": "stream",
          "name": "stderr",
          "text": [
            "Epoch [923/10000]: 100%|██████████| 14/14 [00:00<00:00, 89.47it/s, loss=1.06]\n"
          ]
        },
        {
          "output_type": "stream",
          "name": "stdout",
          "text": [
            "Epoch [923/10000]: Train loss: 1.0810, Valid loss: 1.1520\n"
          ]
        },
        {
          "output_type": "stream",
          "name": "stderr",
          "text": [
            "Epoch [924/10000]: 100%|██████████| 14/14 [00:00<00:00, 96.82it/s, loss=1.6] \n"
          ]
        },
        {
          "output_type": "stream",
          "name": "stdout",
          "text": [
            "Epoch [924/10000]: Train loss: 1.1263, Valid loss: 1.1753\n"
          ]
        },
        {
          "output_type": "stream",
          "name": "stderr",
          "text": [
            "Epoch [925/10000]: 100%|██████████| 14/14 [00:00<00:00, 92.56it/s, loss=1.43]\n"
          ]
        },
        {
          "output_type": "stream",
          "name": "stdout",
          "text": [
            "Epoch [925/10000]: Train loss: 1.0946, Valid loss: 1.1137\n"
          ]
        },
        {
          "output_type": "stream",
          "name": "stderr",
          "text": [
            "Epoch [926/10000]: 100%|██████████| 14/14 [00:00<00:00, 91.57it/s, loss=1.67]\n"
          ]
        },
        {
          "output_type": "stream",
          "name": "stdout",
          "text": [
            "Epoch [926/10000]: Train loss: 1.0967, Valid loss: 1.1296\n"
          ]
        },
        {
          "output_type": "stream",
          "name": "stderr",
          "text": [
            "Epoch [927/10000]: 100%|██████████| 14/14 [00:00<00:00, 90.35it/s, loss=0.963]\n"
          ]
        },
        {
          "output_type": "stream",
          "name": "stdout",
          "text": [
            "Epoch [927/10000]: Train loss: 1.0660, Valid loss: 1.0930\n"
          ]
        },
        {
          "output_type": "stream",
          "name": "stderr",
          "text": [
            "Epoch [928/10000]: 100%|██████████| 14/14 [00:00<00:00, 92.05it/s, loss=0.972]\n"
          ]
        },
        {
          "output_type": "stream",
          "name": "stdout",
          "text": [
            "Epoch [928/10000]: Train loss: 1.0656, Valid loss: 1.0608\n"
          ]
        },
        {
          "output_type": "stream",
          "name": "stderr",
          "text": [
            "Epoch [929/10000]: 100%|██████████| 14/14 [00:00<00:00, 89.56it/s, loss=0.758]\n"
          ]
        },
        {
          "output_type": "stream",
          "name": "stdout",
          "text": [
            "Epoch [929/10000]: Train loss: 1.0799, Valid loss: 1.1567\n"
          ]
        },
        {
          "output_type": "stream",
          "name": "stderr",
          "text": [
            "Epoch [930/10000]: 100%|██████████| 14/14 [00:00<00:00, 98.80it/s, loss=0.964] \n"
          ]
        },
        {
          "output_type": "stream",
          "name": "stdout",
          "text": [
            "Epoch [930/10000]: Train loss: 1.1049, Valid loss: 1.0596\n"
          ]
        },
        {
          "output_type": "stream",
          "name": "stderr",
          "text": [
            "Epoch [931/10000]: 100%|██████████| 14/14 [00:00<00:00, 82.33it/s, loss=1.64]\n"
          ]
        },
        {
          "output_type": "stream",
          "name": "stdout",
          "text": [
            "Epoch [931/10000]: Train loss: 1.0959, Valid loss: 1.0883\n"
          ]
        },
        {
          "output_type": "stream",
          "name": "stderr",
          "text": [
            "Epoch [932/10000]: 100%|██████████| 14/14 [00:00<00:00, 92.51it/s, loss=0.909]\n"
          ]
        },
        {
          "output_type": "stream",
          "name": "stdout",
          "text": [
            "Epoch [932/10000]: Train loss: 1.0919, Valid loss: 1.1085\n"
          ]
        },
        {
          "output_type": "stream",
          "name": "stderr",
          "text": [
            "Epoch [933/10000]: 100%|██████████| 14/14 [00:00<00:00, 95.31it/s, loss=0.921]\n"
          ]
        },
        {
          "output_type": "stream",
          "name": "stdout",
          "text": [
            "Epoch [933/10000]: Train loss: 1.0828, Valid loss: 1.0498\n"
          ]
        },
        {
          "output_type": "stream",
          "name": "stderr",
          "text": [
            "Epoch [934/10000]: 100%|██████████| 14/14 [00:00<00:00, 96.58it/s, loss=1.26]\n"
          ]
        },
        {
          "output_type": "stream",
          "name": "stdout",
          "text": [
            "Epoch [934/10000]: Train loss: 1.0847, Valid loss: 1.0824\n"
          ]
        },
        {
          "output_type": "stream",
          "name": "stderr",
          "text": [
            "Epoch [935/10000]: 100%|██████████| 14/14 [00:00<00:00, 88.76it/s, loss=0.947]\n"
          ]
        },
        {
          "output_type": "stream",
          "name": "stdout",
          "text": [
            "Epoch [935/10000]: Train loss: 1.0804, Valid loss: 1.0642\n"
          ]
        },
        {
          "output_type": "stream",
          "name": "stderr",
          "text": [
            "Epoch [936/10000]: 100%|██████████| 14/14 [00:00<00:00, 98.11it/s, loss=0.973] \n"
          ]
        },
        {
          "output_type": "stream",
          "name": "stdout",
          "text": [
            "Epoch [936/10000]: Train loss: 1.0725, Valid loss: 1.0602\n"
          ]
        },
        {
          "output_type": "stream",
          "name": "stderr",
          "text": [
            "Epoch [937/10000]: 100%|██████████| 14/14 [00:00<00:00, 84.23it/s, loss=1.47]\n"
          ]
        },
        {
          "output_type": "stream",
          "name": "stdout",
          "text": [
            "Epoch [937/10000]: Train loss: 1.1054, Valid loss: 1.0462\n"
          ]
        },
        {
          "output_type": "stream",
          "name": "stderr",
          "text": [
            "Epoch [938/10000]: 100%|██████████| 14/14 [00:00<00:00, 76.40it/s, loss=1.19]\n"
          ]
        },
        {
          "output_type": "stream",
          "name": "stdout",
          "text": [
            "Epoch [938/10000]: Train loss: 1.0961, Valid loss: 1.0755\n"
          ]
        },
        {
          "output_type": "stream",
          "name": "stderr",
          "text": [
            "Epoch [939/10000]: 100%|██████████| 14/14 [00:00<00:00, 80.27it/s, loss=1.53]\n"
          ]
        },
        {
          "output_type": "stream",
          "name": "stdout",
          "text": [
            "Epoch [939/10000]: Train loss: 1.1079, Valid loss: 1.1078\n"
          ]
        },
        {
          "output_type": "stream",
          "name": "stderr",
          "text": [
            "Epoch [940/10000]: 100%|██████████| 14/14 [00:00<00:00, 81.22it/s, loss=1.27]\n"
          ]
        },
        {
          "output_type": "stream",
          "name": "stdout",
          "text": [
            "Epoch [940/10000]: Train loss: 1.0952, Valid loss: 1.0989\n"
          ]
        },
        {
          "output_type": "stream",
          "name": "stderr",
          "text": [
            "Epoch [941/10000]: 100%|██████████| 14/14 [00:00<00:00, 83.69it/s, loss=1.79]\n"
          ]
        },
        {
          "output_type": "stream",
          "name": "stdout",
          "text": [
            "Epoch [941/10000]: Train loss: 1.1082, Valid loss: 1.0983\n"
          ]
        },
        {
          "output_type": "stream",
          "name": "stderr",
          "text": [
            "Epoch [942/10000]: 100%|██████████| 14/14 [00:00<00:00, 92.16it/s, loss=1.21]\n"
          ]
        },
        {
          "output_type": "stream",
          "name": "stdout",
          "text": [
            "Epoch [942/10000]: Train loss: 1.1465, Valid loss: 1.0837\n"
          ]
        },
        {
          "output_type": "stream",
          "name": "stderr",
          "text": [
            "Epoch [943/10000]: 100%|██████████| 14/14 [00:00<00:00, 95.81it/s, loss=0.59]\n"
          ]
        },
        {
          "output_type": "stream",
          "name": "stdout",
          "text": [
            "Epoch [943/10000]: Train loss: 1.0871, Valid loss: 1.1134\n"
          ]
        },
        {
          "output_type": "stream",
          "name": "stderr",
          "text": [
            "Epoch [944/10000]: 100%|██████████| 14/14 [00:00<00:00, 96.38it/s, loss=0.687]\n"
          ]
        },
        {
          "output_type": "stream",
          "name": "stdout",
          "text": [
            "Epoch [944/10000]: Train loss: 1.0865, Valid loss: 1.0981\n"
          ]
        },
        {
          "output_type": "stream",
          "name": "stderr",
          "text": [
            "Epoch [945/10000]: 100%|██████████| 14/14 [00:00<00:00, 97.70it/s, loss=0.978] \n"
          ]
        },
        {
          "output_type": "stream",
          "name": "stdout",
          "text": [
            "Epoch [945/10000]: Train loss: 1.0820, Valid loss: 1.1485\n"
          ]
        },
        {
          "output_type": "stream",
          "name": "stderr",
          "text": [
            "Epoch [946/10000]: 100%|██████████| 14/14 [00:00<00:00, 88.58it/s, loss=1.01]\n"
          ]
        },
        {
          "output_type": "stream",
          "name": "stdout",
          "text": [
            "Epoch [946/10000]: Train loss: 1.1012, Valid loss: 1.2162\n"
          ]
        },
        {
          "output_type": "stream",
          "name": "stderr",
          "text": [
            "Epoch [947/10000]: 100%|██████████| 14/14 [00:00<00:00, 78.79it/s, loss=1.34]\n"
          ]
        },
        {
          "output_type": "stream",
          "name": "stdout",
          "text": [
            "Epoch [947/10000]: Train loss: 1.1219, Valid loss: 1.1536\n"
          ]
        },
        {
          "output_type": "stream",
          "name": "stderr",
          "text": [
            "Epoch [948/10000]: 100%|██████████| 14/14 [00:00<00:00, 75.22it/s, loss=1.3]\n"
          ]
        },
        {
          "output_type": "stream",
          "name": "stdout",
          "text": [
            "Epoch [948/10000]: Train loss: 1.1376, Valid loss: 1.0684\n"
          ]
        },
        {
          "output_type": "stream",
          "name": "stderr",
          "text": [
            "Epoch [949/10000]: 100%|██████████| 14/14 [00:00<00:00, 85.33it/s, loss=1.43]\n"
          ]
        },
        {
          "output_type": "stream",
          "name": "stdout",
          "text": [
            "Epoch [949/10000]: Train loss: 1.1115, Valid loss: 1.0620\n"
          ]
        },
        {
          "output_type": "stream",
          "name": "stderr",
          "text": [
            "Epoch [950/10000]: 100%|██████████| 14/14 [00:00<00:00, 94.20it/s, loss=1.26]\n"
          ]
        },
        {
          "output_type": "stream",
          "name": "stdout",
          "text": [
            "Epoch [950/10000]: Train loss: 1.1239, Valid loss: 1.1602\n"
          ]
        },
        {
          "output_type": "stream",
          "name": "stderr",
          "text": [
            "Epoch [951/10000]: 100%|██████████| 14/14 [00:00<00:00, 92.90it/s, loss=1.07]\n"
          ]
        },
        {
          "output_type": "stream",
          "name": "stdout",
          "text": [
            "Epoch [951/10000]: Train loss: 1.1225, Valid loss: 1.1255\n"
          ]
        },
        {
          "output_type": "stream",
          "name": "stderr",
          "text": [
            "Epoch [952/10000]: 100%|██████████| 14/14 [00:00<00:00, 80.80it/s, loss=1.01]\n"
          ]
        },
        {
          "output_type": "stream",
          "name": "stdout",
          "text": [
            "Epoch [952/10000]: Train loss: 1.1208, Valid loss: 1.0739\n"
          ]
        },
        {
          "output_type": "stream",
          "name": "stderr",
          "text": [
            "Epoch [953/10000]: 100%|██████████| 14/14 [00:00<00:00, 77.60it/s, loss=1.26]\n"
          ]
        },
        {
          "output_type": "stream",
          "name": "stdout",
          "text": [
            "Epoch [953/10000]: Train loss: 1.0782, Valid loss: 1.0593\n"
          ]
        },
        {
          "output_type": "stream",
          "name": "stderr",
          "text": [
            "Epoch [954/10000]: 100%|██████████| 14/14 [00:00<00:00, 81.20it/s, loss=0.882]\n"
          ]
        },
        {
          "output_type": "stream",
          "name": "stdout",
          "text": [
            "Epoch [954/10000]: Train loss: 1.0662, Valid loss: 1.0702\n"
          ]
        },
        {
          "output_type": "stream",
          "name": "stderr",
          "text": [
            "Epoch [955/10000]: 100%|██████████| 14/14 [00:00<00:00, 82.20it/s, loss=1.24]\n"
          ]
        },
        {
          "output_type": "stream",
          "name": "stdout",
          "text": [
            "Epoch [955/10000]: Train loss: 1.0943, Valid loss: 1.1111\n"
          ]
        },
        {
          "output_type": "stream",
          "name": "stderr",
          "text": [
            "Epoch [956/10000]: 100%|██████████| 14/14 [00:00<00:00, 83.07it/s, loss=0.952]\n"
          ]
        },
        {
          "output_type": "stream",
          "name": "stdout",
          "text": [
            "Epoch [956/10000]: Train loss: 1.0684, Valid loss: 1.1147\n"
          ]
        },
        {
          "output_type": "stream",
          "name": "stderr",
          "text": [
            "Epoch [957/10000]: 100%|██████████| 14/14 [00:00<00:00, 75.11it/s, loss=1.57]\n"
          ]
        },
        {
          "output_type": "stream",
          "name": "stdout",
          "text": [
            "Epoch [957/10000]: Train loss: 1.0861, Valid loss: 1.0532\n"
          ]
        },
        {
          "output_type": "stream",
          "name": "stderr",
          "text": [
            "Epoch [958/10000]: 100%|██████████| 14/14 [00:00<00:00, 87.49it/s, loss=1.19]\n"
          ]
        },
        {
          "output_type": "stream",
          "name": "stdout",
          "text": [
            "Epoch [958/10000]: Train loss: 1.0875, Valid loss: 1.0870\n"
          ]
        },
        {
          "output_type": "stream",
          "name": "stderr",
          "text": [
            "Epoch [959/10000]: 100%|██████████| 14/14 [00:00<00:00, 90.76it/s, loss=1.14]\n"
          ]
        },
        {
          "output_type": "stream",
          "name": "stdout",
          "text": [
            "Epoch [959/10000]: Train loss: 1.1299, Valid loss: 1.0895\n"
          ]
        },
        {
          "output_type": "stream",
          "name": "stderr",
          "text": [
            "Epoch [960/10000]: 100%|██████████| 14/14 [00:00<00:00, 81.47it/s, loss=1.17]\n"
          ]
        },
        {
          "output_type": "stream",
          "name": "stdout",
          "text": [
            "Epoch [960/10000]: Train loss: 1.0929, Valid loss: 1.1330\n"
          ]
        },
        {
          "output_type": "stream",
          "name": "stderr",
          "text": [
            "Epoch [961/10000]: 100%|██████████| 14/14 [00:00<00:00, 85.56it/s, loss=0.83]\n"
          ]
        },
        {
          "output_type": "stream",
          "name": "stdout",
          "text": [
            "Epoch [961/10000]: Train loss: 1.0828, Valid loss: 1.0923\n"
          ]
        },
        {
          "output_type": "stream",
          "name": "stderr",
          "text": [
            "Epoch [962/10000]: 100%|██████████| 14/14 [00:00<00:00, 91.79it/s, loss=0.905]\n"
          ]
        },
        {
          "output_type": "stream",
          "name": "stdout",
          "text": [
            "Epoch [962/10000]: Train loss: 1.0705, Valid loss: 1.0902\n"
          ]
        },
        {
          "output_type": "stream",
          "name": "stderr",
          "text": [
            "Epoch [963/10000]: 100%|██████████| 14/14 [00:00<00:00, 87.25it/s, loss=1.13]\n"
          ]
        },
        {
          "output_type": "stream",
          "name": "stdout",
          "text": [
            "Epoch [963/10000]: Train loss: 1.0690, Valid loss: 1.1004\n"
          ]
        },
        {
          "output_type": "stream",
          "name": "stderr",
          "text": [
            "Epoch [964/10000]: 100%|██████████| 14/14 [00:00<00:00, 92.56it/s, loss=0.92]\n"
          ]
        },
        {
          "output_type": "stream",
          "name": "stdout",
          "text": [
            "Epoch [964/10000]: Train loss: 1.0733, Valid loss: 1.1055\n"
          ]
        },
        {
          "output_type": "stream",
          "name": "stderr",
          "text": [
            "Epoch [965/10000]: 100%|██████████| 14/14 [00:00<00:00, 75.32it/s, loss=0.976]\n"
          ]
        },
        {
          "output_type": "stream",
          "name": "stdout",
          "text": [
            "Epoch [965/10000]: Train loss: 1.0981, Valid loss: 1.1350\n"
          ]
        },
        {
          "output_type": "stream",
          "name": "stderr",
          "text": [
            "Epoch [966/10000]: 100%|██████████| 14/14 [00:00<00:00, 94.65it/s, loss=1.05]\n"
          ]
        },
        {
          "output_type": "stream",
          "name": "stdout",
          "text": [
            "Epoch [966/10000]: Train loss: 1.1067, Valid loss: 1.1109\n"
          ]
        },
        {
          "output_type": "stream",
          "name": "stderr",
          "text": [
            "Epoch [967/10000]: 100%|██████████| 14/14 [00:00<00:00, 90.71it/s, loss=1.14]\n"
          ]
        },
        {
          "output_type": "stream",
          "name": "stdout",
          "text": [
            "Epoch [967/10000]: Train loss: 1.0992, Valid loss: 1.0778\n"
          ]
        },
        {
          "output_type": "stream",
          "name": "stderr",
          "text": [
            "Epoch [968/10000]: 100%|██████████| 14/14 [00:00<00:00, 93.46it/s, loss=0.948]\n"
          ]
        },
        {
          "output_type": "stream",
          "name": "stdout",
          "text": [
            "Epoch [968/10000]: Train loss: 1.0860, Valid loss: 1.0833\n"
          ]
        },
        {
          "output_type": "stream",
          "name": "stderr",
          "text": [
            "Epoch [969/10000]: 100%|██████████| 14/14 [00:00<00:00, 89.19it/s, loss=1.54]\n"
          ]
        },
        {
          "output_type": "stream",
          "name": "stdout",
          "text": [
            "Epoch [969/10000]: Train loss: 1.1205, Valid loss: 1.1232\n"
          ]
        },
        {
          "output_type": "stream",
          "name": "stderr",
          "text": [
            "Epoch [970/10000]: 100%|██████████| 14/14 [00:00<00:00, 95.87it/s, loss=0.752]\n"
          ]
        },
        {
          "output_type": "stream",
          "name": "stdout",
          "text": [
            "Epoch [970/10000]: Train loss: 1.0692, Valid loss: 1.1328\n"
          ]
        },
        {
          "output_type": "stream",
          "name": "stderr",
          "text": [
            "Epoch [971/10000]: 100%|██████████| 14/14 [00:00<00:00, 96.06it/s, loss=1.21]\n"
          ]
        },
        {
          "output_type": "stream",
          "name": "stdout",
          "text": [
            "Epoch [971/10000]: Train loss: 1.0821, Valid loss: 1.0620\n"
          ]
        },
        {
          "output_type": "stream",
          "name": "stderr",
          "text": [
            "Epoch [972/10000]: 100%|██████████| 14/14 [00:00<00:00, 95.66it/s, loss=0.756]\n"
          ]
        },
        {
          "output_type": "stream",
          "name": "stdout",
          "text": [
            "Epoch [972/10000]: Train loss: 1.0629, Valid loss: 1.1174\n"
          ]
        },
        {
          "output_type": "stream",
          "name": "stderr",
          "text": [
            "Epoch [973/10000]: 100%|██████████| 14/14 [00:00<00:00, 91.89it/s, loss=1.14]\n"
          ]
        },
        {
          "output_type": "stream",
          "name": "stdout",
          "text": [
            "Epoch [973/10000]: Train loss: 1.0784, Valid loss: 1.1022\n"
          ]
        },
        {
          "output_type": "stream",
          "name": "stderr",
          "text": [
            "Epoch [974/10000]: 100%|██████████| 14/14 [00:00<00:00, 87.84it/s, loss=1.18]\n"
          ]
        },
        {
          "output_type": "stream",
          "name": "stdout",
          "text": [
            "Epoch [974/10000]: Train loss: 1.0869, Valid loss: 1.0951\n"
          ]
        },
        {
          "output_type": "stream",
          "name": "stderr",
          "text": [
            "Epoch [975/10000]: 100%|██████████| 14/14 [00:00<00:00, 80.93it/s, loss=0.917]\n"
          ]
        },
        {
          "output_type": "stream",
          "name": "stdout",
          "text": [
            "Epoch [975/10000]: Train loss: 1.0904, Valid loss: 1.1544\n"
          ]
        },
        {
          "output_type": "stream",
          "name": "stderr",
          "text": [
            "Epoch [976/10000]: 100%|██████████| 14/14 [00:00<00:00, 89.17it/s, loss=1.18]\n"
          ]
        },
        {
          "output_type": "stream",
          "name": "stdout",
          "text": [
            "Epoch [976/10000]: Train loss: 1.1089, Valid loss: 1.0748\n"
          ]
        },
        {
          "output_type": "stream",
          "name": "stderr",
          "text": [
            "Epoch [977/10000]: 100%|██████████| 14/14 [00:00<00:00, 69.40it/s, loss=1.11]\n"
          ]
        },
        {
          "output_type": "stream",
          "name": "stdout",
          "text": [
            "Epoch [977/10000]: Train loss: 1.1248, Valid loss: 1.1794\n"
          ]
        },
        {
          "output_type": "stream",
          "name": "stderr",
          "text": [
            "Epoch [978/10000]: 100%|██████████| 14/14 [00:00<00:00, 76.43it/s, loss=1.41]\n"
          ]
        },
        {
          "output_type": "stream",
          "name": "stdout",
          "text": [
            "Epoch [978/10000]: Train loss: 1.0964, Valid loss: 1.0793\n"
          ]
        },
        {
          "output_type": "stream",
          "name": "stderr",
          "text": [
            "Epoch [979/10000]: 100%|██████████| 14/14 [00:00<00:00, 77.13it/s, loss=0.829]\n"
          ]
        },
        {
          "output_type": "stream",
          "name": "stdout",
          "text": [
            "Epoch [979/10000]: Train loss: 1.0651, Valid loss: 1.0794\n"
          ]
        },
        {
          "output_type": "stream",
          "name": "stderr",
          "text": [
            "Epoch [980/10000]: 100%|██████████| 14/14 [00:00<00:00, 82.63it/s, loss=1.02]\n"
          ]
        },
        {
          "output_type": "stream",
          "name": "stdout",
          "text": [
            "Epoch [980/10000]: Train loss: 1.0718, Valid loss: 1.1298\n"
          ]
        },
        {
          "output_type": "stream",
          "name": "stderr",
          "text": [
            "Epoch [981/10000]: 100%|██████████| 14/14 [00:00<00:00, 93.41it/s, loss=1.17]\n"
          ]
        },
        {
          "output_type": "stream",
          "name": "stdout",
          "text": [
            "Epoch [981/10000]: Train loss: 1.1112, Valid loss: 1.1080\n"
          ]
        },
        {
          "output_type": "stream",
          "name": "stderr",
          "text": [
            "Epoch [982/10000]: 100%|██████████| 14/14 [00:00<00:00, 87.68it/s, loss=1.17]\n"
          ]
        },
        {
          "output_type": "stream",
          "name": "stdout",
          "text": [
            "Epoch [982/10000]: Train loss: 1.1280, Valid loss: 1.0948\n"
          ]
        },
        {
          "output_type": "stream",
          "name": "stderr",
          "text": [
            "Epoch [983/10000]: 100%|██████████| 14/14 [00:00<00:00, 87.74it/s, loss=1.84]\n"
          ]
        },
        {
          "output_type": "stream",
          "name": "stdout",
          "text": [
            "Epoch [983/10000]: Train loss: 1.1901, Valid loss: 1.1209\n"
          ]
        },
        {
          "output_type": "stream",
          "name": "stderr",
          "text": [
            "Epoch [984/10000]: 100%|██████████| 14/14 [00:00<00:00, 90.07it/s, loss=1.17]\n"
          ]
        },
        {
          "output_type": "stream",
          "name": "stdout",
          "text": [
            "Epoch [984/10000]: Train loss: 1.1246, Valid loss: 1.0954\n"
          ]
        },
        {
          "output_type": "stream",
          "name": "stderr",
          "text": [
            "Epoch [985/10000]: 100%|██████████| 14/14 [00:00<00:00, 76.24it/s, loss=1.27]\n"
          ]
        },
        {
          "output_type": "stream",
          "name": "stdout",
          "text": [
            "Epoch [985/10000]: Train loss: 1.0809, Valid loss: 1.0755\n"
          ]
        },
        {
          "output_type": "stream",
          "name": "stderr",
          "text": [
            "Epoch [986/10000]: 100%|██████████| 14/14 [00:00<00:00, 79.99it/s, loss=1.3]\n"
          ]
        },
        {
          "output_type": "stream",
          "name": "stdout",
          "text": [
            "Epoch [986/10000]: Train loss: 1.1076, Valid loss: 1.1830\n"
          ]
        },
        {
          "output_type": "stream",
          "name": "stderr",
          "text": [
            "Epoch [987/10000]: 100%|██████████| 14/14 [00:00<00:00, 76.38it/s, loss=1.57]\n"
          ]
        },
        {
          "output_type": "stream",
          "name": "stdout",
          "text": [
            "Epoch [987/10000]: Train loss: 1.1375, Valid loss: 1.1633\n"
          ]
        },
        {
          "output_type": "stream",
          "name": "stderr",
          "text": [
            "Epoch [988/10000]: 100%|██████████| 14/14 [00:00<00:00, 77.48it/s, loss=1.48]\n"
          ]
        },
        {
          "output_type": "stream",
          "name": "stdout",
          "text": [
            "Epoch [988/10000]: Train loss: 1.1583, Valid loss: 1.2190\n"
          ]
        },
        {
          "output_type": "stream",
          "name": "stderr",
          "text": [
            "Epoch [989/10000]: 100%|██████████| 14/14 [00:00<00:00, 79.82it/s, loss=1.2]\n"
          ]
        },
        {
          "output_type": "stream",
          "name": "stdout",
          "text": [
            "Epoch [989/10000]: Train loss: 1.0904, Valid loss: 1.1011\n"
          ]
        },
        {
          "output_type": "stream",
          "name": "stderr",
          "text": [
            "Epoch [990/10000]: 100%|██████████| 14/14 [00:00<00:00, 77.58it/s, loss=0.833]\n"
          ]
        },
        {
          "output_type": "stream",
          "name": "stdout",
          "text": [
            "Epoch [990/10000]: Train loss: 1.0760, Valid loss: 1.1268\n"
          ]
        },
        {
          "output_type": "stream",
          "name": "stderr",
          "text": [
            "Epoch [991/10000]: 100%|██████████| 14/14 [00:00<00:00, 70.31it/s, loss=1.51]\n"
          ]
        },
        {
          "output_type": "stream",
          "name": "stdout",
          "text": [
            "Epoch [991/10000]: Train loss: 1.1284, Valid loss: 1.0788\n"
          ]
        },
        {
          "output_type": "stream",
          "name": "stderr",
          "text": [
            "Epoch [992/10000]: 100%|██████████| 14/14 [00:00<00:00, 80.51it/s, loss=1.28]\n"
          ]
        },
        {
          "output_type": "stream",
          "name": "stdout",
          "text": [
            "Epoch [992/10000]: Train loss: 1.0901, Valid loss: 1.0683\n"
          ]
        },
        {
          "output_type": "stream",
          "name": "stderr",
          "text": [
            "Epoch [993/10000]: 100%|██████████| 14/14 [00:00<00:00, 83.27it/s, loss=0.66]\n"
          ]
        },
        {
          "output_type": "stream",
          "name": "stdout",
          "text": [
            "Epoch [993/10000]: Train loss: 1.0737, Valid loss: 1.1657\n"
          ]
        },
        {
          "output_type": "stream",
          "name": "stderr",
          "text": [
            "Epoch [994/10000]: 100%|██████████| 14/14 [00:00<00:00, 95.64it/s, loss=1.07]\n"
          ]
        },
        {
          "output_type": "stream",
          "name": "stdout",
          "text": [
            "Epoch [994/10000]: Train loss: 1.0932, Valid loss: 1.1010\n"
          ]
        },
        {
          "output_type": "stream",
          "name": "stderr",
          "text": [
            "Epoch [995/10000]: 100%|██████████| 14/14 [00:00<00:00, 85.38it/s, loss=1.37]\n"
          ]
        },
        {
          "output_type": "stream",
          "name": "stdout",
          "text": [
            "Epoch [995/10000]: Train loss: 1.1164, Valid loss: 1.1074\n"
          ]
        },
        {
          "output_type": "stream",
          "name": "stderr",
          "text": [
            "Epoch [996/10000]: 100%|██████████| 14/14 [00:00<00:00, 83.19it/s, loss=1.77]\n"
          ]
        },
        {
          "output_type": "stream",
          "name": "stdout",
          "text": [
            "Epoch [996/10000]: Train loss: 1.1276, Valid loss: 1.0649\n"
          ]
        },
        {
          "output_type": "stream",
          "name": "stderr",
          "text": [
            "Epoch [997/10000]: 100%|██████████| 14/14 [00:00<00:00, 92.30it/s, loss=0.938]\n"
          ]
        },
        {
          "output_type": "stream",
          "name": "stdout",
          "text": [
            "Epoch [997/10000]: Train loss: 1.0690, Valid loss: 1.0858\n"
          ]
        },
        {
          "output_type": "stream",
          "name": "stderr",
          "text": [
            "Epoch [998/10000]: 100%|██████████| 14/14 [00:00<00:00, 97.37it/s, loss=1.04]\n"
          ]
        },
        {
          "output_type": "stream",
          "name": "stdout",
          "text": [
            "Epoch [998/10000]: Train loss: 1.0653, Valid loss: 1.0618\n"
          ]
        },
        {
          "output_type": "stream",
          "name": "stderr",
          "text": [
            "Epoch [999/10000]: 100%|██████████| 14/14 [00:00<00:00, 73.42it/s, loss=1.24]\n"
          ]
        },
        {
          "output_type": "stream",
          "name": "stdout",
          "text": [
            "Epoch [999/10000]: Train loss: 1.0918, Valid loss: 1.1159\n"
          ]
        },
        {
          "output_type": "stream",
          "name": "stderr",
          "text": [
            "Epoch [1000/10000]: 100%|██████████| 14/14 [00:00<00:00, 90.65it/s, loss=1.1]\n"
          ]
        },
        {
          "output_type": "stream",
          "name": "stdout",
          "text": [
            "Epoch [1000/10000]: Train loss: 1.0942, Valid loss: 1.1079\n"
          ]
        },
        {
          "output_type": "stream",
          "name": "stderr",
          "text": [
            "Epoch [1001/10000]: 100%|██████████| 14/14 [00:00<00:00, 91.42it/s, loss=0.785]\n"
          ]
        },
        {
          "output_type": "stream",
          "name": "stdout",
          "text": [
            "Epoch [1001/10000]: Train loss: 1.0832, Valid loss: 1.0814\n"
          ]
        },
        {
          "output_type": "stream",
          "name": "stderr",
          "text": [
            "Epoch [1002/10000]: 100%|██████████| 14/14 [00:00<00:00, 85.14it/s, loss=1.35]\n"
          ]
        },
        {
          "output_type": "stream",
          "name": "stdout",
          "text": [
            "Epoch [1002/10000]: Train loss: 1.1014, Valid loss: 1.1287\n"
          ]
        },
        {
          "output_type": "stream",
          "name": "stderr",
          "text": [
            "Epoch [1003/10000]: 100%|██████████| 14/14 [00:00<00:00, 97.70it/s, loss=0.804]\n"
          ]
        },
        {
          "output_type": "stream",
          "name": "stdout",
          "text": [
            "Epoch [1003/10000]: Train loss: 1.0907, Valid loss: 1.1371\n"
          ]
        },
        {
          "output_type": "stream",
          "name": "stderr",
          "text": [
            "Epoch [1004/10000]: 100%|██████████| 14/14 [00:00<00:00, 96.71it/s, loss=0.995]\n"
          ]
        },
        {
          "output_type": "stream",
          "name": "stdout",
          "text": [
            "Epoch [1004/10000]: Train loss: 1.1522, Valid loss: 1.0672\n"
          ]
        },
        {
          "output_type": "stream",
          "name": "stderr",
          "text": [
            "Epoch [1005/10000]: 100%|██████████| 14/14 [00:00<00:00, 99.02it/s, loss=0.879] \n"
          ]
        },
        {
          "output_type": "stream",
          "name": "stdout",
          "text": [
            "Epoch [1005/10000]: Train loss: 1.0752, Valid loss: 1.0916\n"
          ]
        },
        {
          "output_type": "stream",
          "name": "stderr",
          "text": [
            "Epoch [1006/10000]: 100%|██████████| 14/14 [00:00<00:00, 79.97it/s, loss=0.763]\n"
          ]
        },
        {
          "output_type": "stream",
          "name": "stdout",
          "text": [
            "Epoch [1006/10000]: Train loss: 1.0656, Valid loss: 1.1082\n"
          ]
        },
        {
          "output_type": "stream",
          "name": "stderr",
          "text": [
            "Epoch [1007/10000]: 100%|██████████| 14/14 [00:00<00:00, 71.07it/s, loss=0.994]\n"
          ]
        },
        {
          "output_type": "stream",
          "name": "stdout",
          "text": [
            "Epoch [1007/10000]: Train loss: 1.0778, Valid loss: 1.0459\n"
          ]
        },
        {
          "output_type": "stream",
          "name": "stderr",
          "text": [
            "Epoch [1008/10000]: 100%|██████████| 14/14 [00:00<00:00, 85.73it/s, loss=0.889]\n"
          ]
        },
        {
          "output_type": "stream",
          "name": "stdout",
          "text": [
            "Epoch [1008/10000]: Train loss: 1.0708, Valid loss: 1.0857\n"
          ]
        },
        {
          "output_type": "stream",
          "name": "stderr",
          "text": [
            "Epoch [1009/10000]: 100%|██████████| 14/14 [00:00<00:00, 87.02it/s, loss=0.843]\n"
          ]
        },
        {
          "output_type": "stream",
          "name": "stdout",
          "text": [
            "Epoch [1009/10000]: Train loss: 1.0917, Valid loss: 1.2200\n"
          ]
        },
        {
          "output_type": "stream",
          "name": "stderr",
          "text": [
            "Epoch [1010/10000]: 100%|██████████| 14/14 [00:00<00:00, 77.15it/s, loss=2.09]\n"
          ]
        },
        {
          "output_type": "stream",
          "name": "stdout",
          "text": [
            "Epoch [1010/10000]: Train loss: 1.1640, Valid loss: 1.1375\n"
          ]
        },
        {
          "output_type": "stream",
          "name": "stderr",
          "text": [
            "Epoch [1011/10000]: 100%|██████████| 14/14 [00:00<00:00, 75.60it/s, loss=1.59]\n"
          ]
        },
        {
          "output_type": "stream",
          "name": "stdout",
          "text": [
            "Epoch [1011/10000]: Train loss: 1.1240, Valid loss: 1.0840\n"
          ]
        },
        {
          "output_type": "stream",
          "name": "stderr",
          "text": [
            "Epoch [1012/10000]: 100%|██████████| 14/14 [00:00<00:00, 81.99it/s, loss=1.64]\n"
          ]
        },
        {
          "output_type": "stream",
          "name": "stdout",
          "text": [
            "Epoch [1012/10000]: Train loss: 1.1201, Valid loss: 1.0559\n"
          ]
        },
        {
          "output_type": "stream",
          "name": "stderr",
          "text": [
            "Epoch [1013/10000]: 100%|██████████| 14/14 [00:00<00:00, 87.02it/s, loss=0.82]\n"
          ]
        },
        {
          "output_type": "stream",
          "name": "stdout",
          "text": [
            "Epoch [1013/10000]: Train loss: 1.0823, Valid loss: 1.0475\n"
          ]
        },
        {
          "output_type": "stream",
          "name": "stderr",
          "text": [
            "Epoch [1014/10000]: 100%|██████████| 14/14 [00:00<00:00, 73.41it/s, loss=0.949]\n"
          ]
        },
        {
          "output_type": "stream",
          "name": "stdout",
          "text": [
            "Epoch [1014/10000]: Train loss: 1.0666, Valid loss: 1.1526\n"
          ]
        },
        {
          "output_type": "stream",
          "name": "stderr",
          "text": [
            "Epoch [1015/10000]: 100%|██████████| 14/14 [00:00<00:00, 75.20it/s, loss=0.773]\n"
          ]
        },
        {
          "output_type": "stream",
          "name": "stdout",
          "text": [
            "Epoch [1015/10000]: Train loss: 1.0690, Valid loss: 1.1082\n"
          ]
        },
        {
          "output_type": "stream",
          "name": "stderr",
          "text": [
            "Epoch [1016/10000]: 100%|██████████| 14/14 [00:00<00:00, 86.64it/s, loss=1.49]\n"
          ]
        },
        {
          "output_type": "stream",
          "name": "stdout",
          "text": [
            "Epoch [1016/10000]: Train loss: 1.1159, Valid loss: 1.1216\n"
          ]
        },
        {
          "output_type": "stream",
          "name": "stderr",
          "text": [
            "Epoch [1017/10000]: 100%|██████████| 14/14 [00:00<00:00, 74.59it/s, loss=1.49]\n"
          ]
        },
        {
          "output_type": "stream",
          "name": "stdout",
          "text": [
            "Epoch [1017/10000]: Train loss: 1.1070, Valid loss: 1.3182\n"
          ]
        },
        {
          "output_type": "stream",
          "name": "stderr",
          "text": [
            "Epoch [1018/10000]: 100%|██████████| 14/14 [00:00<00:00, 75.29it/s, loss=1.3]\n"
          ]
        },
        {
          "output_type": "stream",
          "name": "stdout",
          "text": [
            "Epoch [1018/10000]: Train loss: 1.1945, Valid loss: 1.2192\n"
          ]
        },
        {
          "output_type": "stream",
          "name": "stderr",
          "text": [
            "Epoch [1019/10000]: 100%|██████████| 14/14 [00:00<00:00, 87.70it/s, loss=1.39]\n"
          ]
        },
        {
          "output_type": "stream",
          "name": "stdout",
          "text": [
            "Epoch [1019/10000]: Train loss: 1.1422, Valid loss: 1.1002\n"
          ]
        },
        {
          "output_type": "stream",
          "name": "stderr",
          "text": [
            "Epoch [1020/10000]: 100%|██████████| 14/14 [00:00<00:00, 85.75it/s, loss=0.888]\n"
          ]
        },
        {
          "output_type": "stream",
          "name": "stdout",
          "text": [
            "Epoch [1020/10000]: Train loss: 1.1299, Valid loss: 1.1101\n"
          ]
        },
        {
          "output_type": "stream",
          "name": "stderr",
          "text": [
            "Epoch [1021/10000]: 100%|██████████| 14/14 [00:00<00:00, 91.69it/s, loss=0.978]\n"
          ]
        },
        {
          "output_type": "stream",
          "name": "stdout",
          "text": [
            "Epoch [1021/10000]: Train loss: 1.0695, Valid loss: 1.1265\n"
          ]
        },
        {
          "output_type": "stream",
          "name": "stderr",
          "text": [
            "Epoch [1022/10000]: 100%|██████████| 14/14 [00:00<00:00, 89.41it/s, loss=1.24]\n"
          ]
        },
        {
          "output_type": "stream",
          "name": "stdout",
          "text": [
            "Epoch [1022/10000]: Train loss: 1.0887, Valid loss: 1.0610\n"
          ]
        },
        {
          "output_type": "stream",
          "name": "stderr",
          "text": [
            "Epoch [1023/10000]: 100%|██████████| 14/14 [00:00<00:00, 75.30it/s, loss=0.994]\n"
          ]
        },
        {
          "output_type": "stream",
          "name": "stdout",
          "text": [
            "Epoch [1023/10000]: Train loss: 1.0728, Valid loss: 1.0883\n"
          ]
        },
        {
          "output_type": "stream",
          "name": "stderr",
          "text": [
            "Epoch [1024/10000]: 100%|██████████| 14/14 [00:00<00:00, 85.23it/s, loss=1.19]\n"
          ]
        },
        {
          "output_type": "stream",
          "name": "stdout",
          "text": [
            "Epoch [1024/10000]: Train loss: 1.0726, Valid loss: 1.0952\n"
          ]
        },
        {
          "output_type": "stream",
          "name": "stderr",
          "text": [
            "Epoch [1025/10000]: 100%|██████████| 14/14 [00:00<00:00, 78.60it/s, loss=1.07]\n"
          ]
        },
        {
          "output_type": "stream",
          "name": "stdout",
          "text": [
            "Epoch [1025/10000]: Train loss: 1.0731, Valid loss: 1.1154\n"
          ]
        },
        {
          "output_type": "stream",
          "name": "stderr",
          "text": [
            "Epoch [1026/10000]: 100%|██████████| 14/14 [00:00<00:00, 72.02it/s, loss=0.907]\n"
          ]
        },
        {
          "output_type": "stream",
          "name": "stdout",
          "text": [
            "Epoch [1026/10000]: Train loss: 1.0764, Valid loss: 1.0857\n"
          ]
        },
        {
          "output_type": "stream",
          "name": "stderr",
          "text": [
            "Epoch [1027/10000]: 100%|██████████| 14/14 [00:00<00:00, 87.86it/s, loss=0.943]\n"
          ]
        },
        {
          "output_type": "stream",
          "name": "stdout",
          "text": [
            "Epoch [1027/10000]: Train loss: 1.0662, Valid loss: 1.0587\n"
          ]
        },
        {
          "output_type": "stream",
          "name": "stderr",
          "text": [
            "Epoch [1028/10000]: 100%|██████████| 14/14 [00:00<00:00, 82.92it/s, loss=1.06]\n"
          ]
        },
        {
          "output_type": "stream",
          "name": "stdout",
          "text": [
            "Epoch [1028/10000]: Train loss: 1.0909, Valid loss: 1.0971\n"
          ]
        },
        {
          "output_type": "stream",
          "name": "stderr",
          "text": [
            "Epoch [1029/10000]: 100%|██████████| 14/14 [00:00<00:00, 78.07it/s, loss=0.855]\n"
          ]
        },
        {
          "output_type": "stream",
          "name": "stdout",
          "text": [
            "Epoch [1029/10000]: Train loss: 1.0602, Valid loss: 1.1255\n"
          ]
        },
        {
          "output_type": "stream",
          "name": "stderr",
          "text": [
            "Epoch [1030/10000]: 100%|██████████| 14/14 [00:00<00:00, 61.43it/s, loss=0.876]\n"
          ]
        },
        {
          "output_type": "stream",
          "name": "stdout",
          "text": [
            "Epoch [1030/10000]: Train loss: 1.0751, Valid loss: 1.0764\n"
          ]
        },
        {
          "output_type": "stream",
          "name": "stderr",
          "text": [
            "Epoch [1031/10000]: 100%|██████████| 14/14 [00:00<00:00, 84.86it/s, loss=0.975]\n"
          ]
        },
        {
          "output_type": "stream",
          "name": "stdout",
          "text": [
            "Epoch [1031/10000]: Train loss: 1.0654, Valid loss: 1.0614\n"
          ]
        },
        {
          "output_type": "stream",
          "name": "stderr",
          "text": [
            "Epoch [1032/10000]: 100%|██████████| 14/14 [00:00<00:00, 79.60it/s, loss=1.18]\n"
          ]
        },
        {
          "output_type": "stream",
          "name": "stdout",
          "text": [
            "Epoch [1032/10000]: Train loss: 1.0684, Valid loss: 1.1534\n"
          ]
        },
        {
          "output_type": "stream",
          "name": "stderr",
          "text": [
            "Epoch [1033/10000]: 100%|██████████| 14/14 [00:00<00:00, 91.02it/s, loss=1.32]\n"
          ]
        },
        {
          "output_type": "stream",
          "name": "stdout",
          "text": [
            "Epoch [1033/10000]: Train loss: 1.1160, Valid loss: 1.1326\n"
          ]
        },
        {
          "output_type": "stream",
          "name": "stderr",
          "text": [
            "Epoch [1034/10000]: 100%|██████████| 14/14 [00:00<00:00, 85.34it/s, loss=0.848]\n"
          ]
        },
        {
          "output_type": "stream",
          "name": "stdout",
          "text": [
            "Epoch [1034/10000]: Train loss: 1.0972, Valid loss: 1.1087\n"
          ]
        },
        {
          "output_type": "stream",
          "name": "stderr",
          "text": [
            "Epoch [1035/10000]: 100%|██████████| 14/14 [00:00<00:00, 82.49it/s, loss=1.44]\n"
          ]
        },
        {
          "output_type": "stream",
          "name": "stdout",
          "text": [
            "Epoch [1035/10000]: Train loss: 1.1238, Valid loss: 1.0860\n"
          ]
        },
        {
          "output_type": "stream",
          "name": "stderr",
          "text": [
            "Epoch [1036/10000]: 100%|██████████| 14/14 [00:00<00:00, 86.58it/s, loss=1.27]\n"
          ]
        },
        {
          "output_type": "stream",
          "name": "stdout",
          "text": [
            "Epoch [1036/10000]: Train loss: 1.0985, Valid loss: 1.1346\n"
          ]
        },
        {
          "output_type": "stream",
          "name": "stderr",
          "text": [
            "Epoch [1037/10000]: 100%|██████████| 14/14 [00:00<00:00, 77.78it/s, loss=1.12]\n"
          ]
        },
        {
          "output_type": "stream",
          "name": "stdout",
          "text": [
            "Epoch [1037/10000]: Train loss: 1.0744, Valid loss: 1.0956\n"
          ]
        },
        {
          "output_type": "stream",
          "name": "stderr",
          "text": [
            "Epoch [1038/10000]: 100%|██████████| 14/14 [00:00<00:00, 88.30it/s, loss=1.18]\n"
          ]
        },
        {
          "output_type": "stream",
          "name": "stdout",
          "text": [
            "Epoch [1038/10000]: Train loss: 1.0991, Valid loss: 1.1561\n"
          ]
        },
        {
          "output_type": "stream",
          "name": "stderr",
          "text": [
            "Epoch [1039/10000]: 100%|██████████| 14/14 [00:00<00:00, 94.17it/s, loss=1]\n"
          ]
        },
        {
          "output_type": "stream",
          "name": "stdout",
          "text": [
            "Epoch [1039/10000]: Train loss: 1.0780, Valid loss: 1.0904\n"
          ]
        },
        {
          "output_type": "stream",
          "name": "stderr",
          "text": [
            "Epoch [1040/10000]: 100%|██████████| 14/14 [00:00<00:00, 81.27it/s, loss=1.09]\n"
          ]
        },
        {
          "output_type": "stream",
          "name": "stdout",
          "text": [
            "Epoch [1040/10000]: Train loss: 1.0721, Valid loss: 1.0695\n"
          ]
        },
        {
          "output_type": "stream",
          "name": "stderr",
          "text": [
            "Epoch [1041/10000]: 100%|██████████| 14/14 [00:00<00:00, 70.30it/s, loss=1.1]\n"
          ]
        },
        {
          "output_type": "stream",
          "name": "stdout",
          "text": [
            "Epoch [1041/10000]: Train loss: 1.0694, Valid loss: 1.1024\n"
          ]
        },
        {
          "output_type": "stream",
          "name": "stderr",
          "text": [
            "Epoch [1042/10000]: 100%|██████████| 14/14 [00:00<00:00, 83.78it/s, loss=1.11]\n"
          ]
        },
        {
          "output_type": "stream",
          "name": "stdout",
          "text": [
            "Epoch [1042/10000]: Train loss: 1.0658, Valid loss: 1.1069\n"
          ]
        },
        {
          "output_type": "stream",
          "name": "stderr",
          "text": [
            "Epoch [1043/10000]: 100%|██████████| 14/14 [00:00<00:00, 81.57it/s, loss=0.963]\n"
          ]
        },
        {
          "output_type": "stream",
          "name": "stdout",
          "text": [
            "Epoch [1043/10000]: Train loss: 1.0756, Valid loss: 1.0943\n"
          ]
        },
        {
          "output_type": "stream",
          "name": "stderr",
          "text": [
            "Epoch [1044/10000]: 100%|██████████| 14/14 [00:00<00:00, 87.55it/s, loss=1.12]\n"
          ]
        },
        {
          "output_type": "stream",
          "name": "stdout",
          "text": [
            "Epoch [1044/10000]: Train loss: 1.0931, Valid loss: 1.1288\n"
          ]
        },
        {
          "output_type": "stream",
          "name": "stderr",
          "text": [
            "Epoch [1045/10000]: 100%|██████████| 14/14 [00:00<00:00, 78.74it/s, loss=0.895]\n"
          ]
        },
        {
          "output_type": "stream",
          "name": "stdout",
          "text": [
            "Epoch [1045/10000]: Train loss: 1.1080, Valid loss: 1.1646\n"
          ]
        },
        {
          "output_type": "stream",
          "name": "stderr",
          "text": [
            "Epoch [1046/10000]: 100%|██████████| 14/14 [00:00<00:00, 87.45it/s, loss=1.03]\n"
          ]
        },
        {
          "output_type": "stream",
          "name": "stdout",
          "text": [
            "Epoch [1046/10000]: Train loss: 1.1165, Valid loss: 1.2023\n"
          ]
        },
        {
          "output_type": "stream",
          "name": "stderr",
          "text": [
            "Epoch [1047/10000]: 100%|██████████| 14/14 [00:00<00:00, 79.58it/s, loss=0.893]\n"
          ]
        },
        {
          "output_type": "stream",
          "name": "stdout",
          "text": [
            "Epoch [1047/10000]: Train loss: 1.0929, Valid loss: 1.2248\n"
          ]
        },
        {
          "output_type": "stream",
          "name": "stderr",
          "text": [
            "Epoch [1048/10000]: 100%|██████████| 14/14 [00:00<00:00, 78.04it/s, loss=1.17]\n"
          ]
        },
        {
          "output_type": "stream",
          "name": "stdout",
          "text": [
            "Epoch [1048/10000]: Train loss: 1.1318, Valid loss: 1.0888\n"
          ]
        },
        {
          "output_type": "stream",
          "name": "stderr",
          "text": [
            "Epoch [1049/10000]: 100%|██████████| 14/14 [00:00<00:00, 87.01it/s, loss=1.07]\n"
          ]
        },
        {
          "output_type": "stream",
          "name": "stdout",
          "text": [
            "Epoch [1049/10000]: Train loss: 1.0672, Valid loss: 1.0928\n"
          ]
        },
        {
          "output_type": "stream",
          "name": "stderr",
          "text": [
            "Epoch [1050/10000]: 100%|██████████| 14/14 [00:00<00:00, 87.54it/s, loss=0.87]\n"
          ]
        },
        {
          "output_type": "stream",
          "name": "stdout",
          "text": [
            "Epoch [1050/10000]: Train loss: 1.0646, Valid loss: 1.0890\n"
          ]
        },
        {
          "output_type": "stream",
          "name": "stderr",
          "text": [
            "Epoch [1051/10000]: 100%|██████████| 14/14 [00:00<00:00, 73.08it/s, loss=1]\n"
          ]
        },
        {
          "output_type": "stream",
          "name": "stdout",
          "text": [
            "Epoch [1051/10000]: Train loss: 1.0804, Valid loss: 1.1681\n"
          ]
        },
        {
          "output_type": "stream",
          "name": "stderr",
          "text": [
            "Epoch [1052/10000]: 100%|██████████| 14/14 [00:00<00:00, 73.48it/s, loss=0.746]\n"
          ]
        },
        {
          "output_type": "stream",
          "name": "stdout",
          "text": [
            "Epoch [1052/10000]: Train loss: 1.1002, Valid loss: 1.0854\n"
          ]
        },
        {
          "output_type": "stream",
          "name": "stderr",
          "text": [
            "Epoch [1053/10000]: 100%|██████████| 14/14 [00:00<00:00, 82.10it/s, loss=0.829]\n"
          ]
        },
        {
          "output_type": "stream",
          "name": "stdout",
          "text": [
            "Epoch [1053/10000]: Train loss: 1.0761, Valid loss: 1.1219\n"
          ]
        },
        {
          "output_type": "stream",
          "name": "stderr",
          "text": [
            "Epoch [1054/10000]: 100%|██████████| 14/14 [00:00<00:00, 91.84it/s, loss=1.16]\n"
          ]
        },
        {
          "output_type": "stream",
          "name": "stdout",
          "text": [
            "Epoch [1054/10000]: Train loss: 1.1289, Valid loss: 1.1158\n"
          ]
        },
        {
          "output_type": "stream",
          "name": "stderr",
          "text": [
            "Epoch [1055/10000]: 100%|██████████| 14/14 [00:00<00:00, 93.41it/s, loss=1.16]\n"
          ]
        },
        {
          "output_type": "stream",
          "name": "stdout",
          "text": [
            "Epoch [1055/10000]: Train loss: 1.0705, Valid loss: 1.1266\n"
          ]
        },
        {
          "output_type": "stream",
          "name": "stderr",
          "text": [
            "Epoch [1056/10000]: 100%|██████████| 14/14 [00:00<00:00, 92.91it/s, loss=1]\n"
          ]
        },
        {
          "output_type": "stream",
          "name": "stdout",
          "text": [
            "Epoch [1056/10000]: Train loss: 1.0745, Valid loss: 1.2289\n"
          ]
        },
        {
          "output_type": "stream",
          "name": "stderr",
          "text": [
            "Epoch [1057/10000]: 100%|██████████| 14/14 [00:00<00:00, 87.61it/s, loss=1]\n"
          ]
        },
        {
          "output_type": "stream",
          "name": "stdout",
          "text": [
            "Epoch [1057/10000]: Train loss: 1.1132, Valid loss: 1.1026\n"
          ]
        },
        {
          "output_type": "stream",
          "name": "stderr",
          "text": [
            "Epoch [1058/10000]: 100%|██████████| 14/14 [00:00<00:00, 87.53it/s, loss=1.17]\n"
          ]
        },
        {
          "output_type": "stream",
          "name": "stdout",
          "text": [
            "Epoch [1058/10000]: Train loss: 1.0754, Valid loss: 1.0743\n"
          ]
        },
        {
          "output_type": "stream",
          "name": "stderr",
          "text": [
            "Epoch [1059/10000]: 100%|██████████| 14/14 [00:00<00:00, 79.46it/s, loss=1.3]\n"
          ]
        },
        {
          "output_type": "stream",
          "name": "stdout",
          "text": [
            "Epoch [1059/10000]: Train loss: 1.0835, Valid loss: 1.1066\n"
          ]
        },
        {
          "output_type": "stream",
          "name": "stderr",
          "text": [
            "Epoch [1060/10000]: 100%|██████████| 14/14 [00:00<00:00, 96.52it/s, loss=1.66]\n"
          ]
        },
        {
          "output_type": "stream",
          "name": "stdout",
          "text": [
            "Epoch [1060/10000]: Train loss: 1.1382, Valid loss: 1.0669\n"
          ]
        },
        {
          "output_type": "stream",
          "name": "stderr",
          "text": [
            "Epoch [1061/10000]: 100%|██████████| 14/14 [00:00<00:00, 78.71it/s, loss=1.17]\n"
          ]
        },
        {
          "output_type": "stream",
          "name": "stdout",
          "text": [
            "Epoch [1061/10000]: Train loss: 1.1377, Valid loss: 1.0816\n"
          ]
        },
        {
          "output_type": "stream",
          "name": "stderr",
          "text": [
            "Epoch [1062/10000]: 100%|██████████| 14/14 [00:00<00:00, 65.93it/s, loss=1.24]\n"
          ]
        },
        {
          "output_type": "stream",
          "name": "stdout",
          "text": [
            "Epoch [1062/10000]: Train loss: 1.1075, Valid loss: 1.1020\n"
          ]
        },
        {
          "output_type": "stream",
          "name": "stderr",
          "text": [
            "Epoch [1063/10000]: 100%|██████████| 14/14 [00:00<00:00, 69.11it/s, loss=0.798]\n"
          ]
        },
        {
          "output_type": "stream",
          "name": "stdout",
          "text": [
            "Epoch [1063/10000]: Train loss: 1.0508, Valid loss: 1.0871\n"
          ]
        },
        {
          "output_type": "stream",
          "name": "stderr",
          "text": [
            "Epoch [1064/10000]: 100%|██████████| 14/14 [00:00<00:00, 83.48it/s, loss=0.716]\n"
          ]
        },
        {
          "output_type": "stream",
          "name": "stdout",
          "text": [
            "Epoch [1064/10000]: Train loss: 1.0788, Valid loss: 1.1805\n"
          ]
        },
        {
          "output_type": "stream",
          "name": "stderr",
          "text": [
            "Epoch [1065/10000]: 100%|██████████| 14/14 [00:00<00:00, 86.15it/s, loss=1.39]\n"
          ]
        },
        {
          "output_type": "stream",
          "name": "stdout",
          "text": [
            "Epoch [1065/10000]: Train loss: 1.0928, Valid loss: 1.0541\n"
          ]
        },
        {
          "output_type": "stream",
          "name": "stderr",
          "text": [
            "Epoch [1066/10000]: 100%|██████████| 14/14 [00:00<00:00, 87.19it/s, loss=1.29]\n"
          ]
        },
        {
          "output_type": "stream",
          "name": "stdout",
          "text": [
            "Epoch [1066/10000]: Train loss: 1.0863, Valid loss: 1.1082\n"
          ]
        },
        {
          "output_type": "stream",
          "name": "stderr",
          "text": [
            "Epoch [1067/10000]: 100%|██████████| 14/14 [00:00<00:00, 86.47it/s, loss=0.713]\n"
          ]
        },
        {
          "output_type": "stream",
          "name": "stdout",
          "text": [
            "Epoch [1067/10000]: Train loss: 1.0934, Valid loss: 1.1638\n"
          ]
        },
        {
          "output_type": "stream",
          "name": "stderr",
          "text": [
            "Epoch [1068/10000]: 100%|██████████| 14/14 [00:00<00:00, 85.20it/s, loss=1.31]\n"
          ]
        },
        {
          "output_type": "stream",
          "name": "stdout",
          "text": [
            "Epoch [1068/10000]: Train loss: 1.0841, Valid loss: 1.0911\n"
          ]
        },
        {
          "output_type": "stream",
          "name": "stderr",
          "text": [
            "Epoch [1069/10000]: 100%|██████████| 14/14 [00:00<00:00, 72.79it/s, loss=1.23]\n"
          ]
        },
        {
          "output_type": "stream",
          "name": "stdout",
          "text": [
            "Epoch [1069/10000]: Train loss: 1.0712, Valid loss: 1.0615\n"
          ]
        },
        {
          "output_type": "stream",
          "name": "stderr",
          "text": [
            "Epoch [1070/10000]: 100%|██████████| 14/14 [00:00<00:00, 84.96it/s, loss=1.13]\n"
          ]
        },
        {
          "output_type": "stream",
          "name": "stdout",
          "text": [
            "Epoch [1070/10000]: Train loss: 1.0690, Valid loss: 1.0570\n"
          ]
        },
        {
          "output_type": "stream",
          "name": "stderr",
          "text": [
            "Epoch [1071/10000]: 100%|██████████| 14/14 [00:00<00:00, 78.81it/s, loss=1.64]\n"
          ]
        },
        {
          "output_type": "stream",
          "name": "stdout",
          "text": [
            "Epoch [1071/10000]: Train loss: 1.0914, Valid loss: 1.1403\n"
          ]
        },
        {
          "output_type": "stream",
          "name": "stderr",
          "text": [
            "Epoch [1072/10000]: 100%|██████████| 14/14 [00:00<00:00, 77.52it/s, loss=1.34]\n"
          ]
        },
        {
          "output_type": "stream",
          "name": "stdout",
          "text": [
            "Epoch [1072/10000]: Train loss: 1.0735, Valid loss: 1.0956\n"
          ]
        },
        {
          "output_type": "stream",
          "name": "stderr",
          "text": [
            "Epoch [1073/10000]: 100%|██████████| 14/14 [00:00<00:00, 80.46it/s, loss=1.14]\n"
          ]
        },
        {
          "output_type": "stream",
          "name": "stdout",
          "text": [
            "Epoch [1073/10000]: Train loss: 1.0713, Valid loss: 1.0919\n"
          ]
        },
        {
          "output_type": "stream",
          "name": "stderr",
          "text": [
            "Epoch [1074/10000]: 100%|██████████| 14/14 [00:00<00:00, 89.90it/s, loss=1.26]\n"
          ]
        },
        {
          "output_type": "stream",
          "name": "stdout",
          "text": [
            "Epoch [1074/10000]: Train loss: 1.0856, Valid loss: 1.0942\n"
          ]
        },
        {
          "output_type": "stream",
          "name": "stderr",
          "text": [
            "Epoch [1075/10000]: 100%|██████████| 14/14 [00:00<00:00, 83.00it/s, loss=0.955]\n"
          ]
        },
        {
          "output_type": "stream",
          "name": "stdout",
          "text": [
            "Epoch [1075/10000]: Train loss: 1.0592, Valid loss: 1.1111\n"
          ]
        },
        {
          "output_type": "stream",
          "name": "stderr",
          "text": [
            "Epoch [1076/10000]: 100%|██████████| 14/14 [00:00<00:00, 69.16it/s, loss=1.01]\n"
          ]
        },
        {
          "output_type": "stream",
          "name": "stdout",
          "text": [
            "Epoch [1076/10000]: Train loss: 1.0561, Valid loss: 1.0924\n"
          ]
        },
        {
          "output_type": "stream",
          "name": "stderr",
          "text": [
            "Epoch [1077/10000]: 100%|██████████| 14/14 [00:00<00:00, 74.37it/s, loss=0.975]\n"
          ]
        },
        {
          "output_type": "stream",
          "name": "stdout",
          "text": [
            "Epoch [1077/10000]: Train loss: 1.1070, Valid loss: 1.2345\n"
          ]
        },
        {
          "output_type": "stream",
          "name": "stderr",
          "text": [
            "Epoch [1078/10000]: 100%|██████████| 14/14 [00:00<00:00, 80.44it/s, loss=1.19]\n"
          ]
        },
        {
          "output_type": "stream",
          "name": "stdout",
          "text": [
            "Epoch [1078/10000]: Train loss: 1.0903, Valid loss: 1.0833\n"
          ]
        },
        {
          "output_type": "stream",
          "name": "stderr",
          "text": [
            "Epoch [1079/10000]: 100%|██████████| 14/14 [00:00<00:00, 82.46it/s, loss=0.824]\n"
          ]
        },
        {
          "output_type": "stream",
          "name": "stdout",
          "text": [
            "Epoch [1079/10000]: Train loss: 1.0607, Valid loss: 1.0781\n"
          ]
        },
        {
          "output_type": "stream",
          "name": "stderr",
          "text": [
            "Epoch [1080/10000]: 100%|██████████| 14/14 [00:00<00:00, 80.85it/s, loss=1.05]\n"
          ]
        },
        {
          "output_type": "stream",
          "name": "stdout",
          "text": [
            "Epoch [1080/10000]: Train loss: 1.0694, Valid loss: 1.1018\n"
          ]
        },
        {
          "output_type": "stream",
          "name": "stderr",
          "text": [
            "Epoch [1081/10000]: 100%|██████████| 14/14 [00:00<00:00, 82.60it/s, loss=0.797]\n"
          ]
        },
        {
          "output_type": "stream",
          "name": "stdout",
          "text": [
            "Epoch [1081/10000]: Train loss: 1.0631, Valid loss: 1.1360\n"
          ]
        },
        {
          "output_type": "stream",
          "name": "stderr",
          "text": [
            "Epoch [1082/10000]: 100%|██████████| 14/14 [00:00<00:00, 84.18it/s, loss=0.87]\n"
          ]
        },
        {
          "output_type": "stream",
          "name": "stdout",
          "text": [
            "Epoch [1082/10000]: Train loss: 1.0657, Valid loss: 1.1260\n"
          ]
        },
        {
          "output_type": "stream",
          "name": "stderr",
          "text": [
            "Epoch [1083/10000]: 100%|██████████| 14/14 [00:00<00:00, 88.00it/s, loss=1.32]\n"
          ]
        },
        {
          "output_type": "stream",
          "name": "stdout",
          "text": [
            "Epoch [1083/10000]: Train loss: 1.0836, Valid loss: 1.1140\n"
          ]
        },
        {
          "output_type": "stream",
          "name": "stderr",
          "text": [
            "Epoch [1084/10000]: 100%|██████████| 14/14 [00:00<00:00, 68.15it/s, loss=1.11]\n"
          ]
        },
        {
          "output_type": "stream",
          "name": "stdout",
          "text": [
            "Epoch [1084/10000]: Train loss: 1.0810, Valid loss: 1.1608\n"
          ]
        },
        {
          "output_type": "stream",
          "name": "stderr",
          "text": [
            "Epoch [1085/10000]: 100%|██████████| 14/14 [00:00<00:00, 78.95it/s, loss=1.64]\n"
          ]
        },
        {
          "output_type": "stream",
          "name": "stdout",
          "text": [
            "Epoch [1085/10000]: Train loss: 1.1229, Valid loss: 1.0663\n"
          ]
        },
        {
          "output_type": "stream",
          "name": "stderr",
          "text": [
            "Epoch [1086/10000]: 100%|██████████| 14/14 [00:00<00:00, 86.32it/s, loss=1.29]\n"
          ]
        },
        {
          "output_type": "stream",
          "name": "stdout",
          "text": [
            "Epoch [1086/10000]: Train loss: 1.0988, Valid loss: 1.1157\n"
          ]
        },
        {
          "output_type": "stream",
          "name": "stderr",
          "text": [
            "Epoch [1087/10000]: 100%|██████████| 14/14 [00:00<00:00, 81.51it/s, loss=1.41]\n"
          ]
        },
        {
          "output_type": "stream",
          "name": "stdout",
          "text": [
            "Epoch [1087/10000]: Train loss: 1.0911, Valid loss: 1.0951\n"
          ]
        },
        {
          "output_type": "stream",
          "name": "stderr",
          "text": [
            "Epoch [1088/10000]: 100%|██████████| 14/14 [00:00<00:00, 84.57it/s, loss=1.08]\n"
          ]
        },
        {
          "output_type": "stream",
          "name": "stdout",
          "text": [
            "Epoch [1088/10000]: Train loss: 1.0742, Valid loss: 1.1229\n"
          ]
        },
        {
          "output_type": "stream",
          "name": "stderr",
          "text": [
            "Epoch [1089/10000]: 100%|██████████| 14/14 [00:00<00:00, 76.67it/s, loss=1.3]\n"
          ]
        },
        {
          "output_type": "stream",
          "name": "stdout",
          "text": [
            "Epoch [1089/10000]: Train loss: 1.0781, Valid loss: 1.0606\n"
          ]
        },
        {
          "output_type": "stream",
          "name": "stderr",
          "text": [
            "Epoch [1090/10000]: 100%|██████████| 14/14 [00:00<00:00, 74.38it/s, loss=0.773]\n"
          ]
        },
        {
          "output_type": "stream",
          "name": "stdout",
          "text": [
            "Epoch [1090/10000]: Train loss: 1.0823, Valid loss: 1.0948\n"
          ]
        },
        {
          "output_type": "stream",
          "name": "stderr",
          "text": [
            "Epoch [1091/10000]: 100%|██████████| 14/14 [00:00<00:00, 88.85it/s, loss=0.956]\n"
          ]
        },
        {
          "output_type": "stream",
          "name": "stdout",
          "text": [
            "Epoch [1091/10000]: Train loss: 1.0635, Valid loss: 1.0566\n"
          ]
        },
        {
          "output_type": "stream",
          "name": "stderr",
          "text": [
            "Epoch [1092/10000]: 100%|██████████| 14/14 [00:00<00:00, 75.68it/s, loss=1.24]\n"
          ]
        },
        {
          "output_type": "stream",
          "name": "stdout",
          "text": [
            "Epoch [1092/10000]: Train loss: 1.0757, Valid loss: 1.0847\n"
          ]
        },
        {
          "output_type": "stream",
          "name": "stderr",
          "text": [
            "Epoch [1093/10000]: 100%|██████████| 14/14 [00:00<00:00, 89.43it/s, loss=0.969]\n"
          ]
        },
        {
          "output_type": "stream",
          "name": "stdout",
          "text": [
            "Epoch [1093/10000]: Train loss: 1.0692, Valid loss: 1.1059\n"
          ]
        },
        {
          "output_type": "stream",
          "name": "stderr",
          "text": [
            "Epoch [1094/10000]: 100%|██████████| 14/14 [00:00<00:00, 90.48it/s, loss=0.871]\n"
          ]
        },
        {
          "output_type": "stream",
          "name": "stdout",
          "text": [
            "Epoch [1094/10000]: Train loss: 1.0629, Valid loss: 1.0773\n"
          ]
        },
        {
          "output_type": "stream",
          "name": "stderr",
          "text": [
            "Epoch [1095/10000]: 100%|██████████| 14/14 [00:00<00:00, 99.26it/s, loss=1.13] \n"
          ]
        },
        {
          "output_type": "stream",
          "name": "stdout",
          "text": [
            "Epoch [1095/10000]: Train loss: 1.0762, Valid loss: 1.0498\n"
          ]
        },
        {
          "output_type": "stream",
          "name": "stderr",
          "text": [
            "Epoch [1096/10000]: 100%|██████████| 14/14 [00:00<00:00, 80.29it/s, loss=1.49]\n"
          ]
        },
        {
          "output_type": "stream",
          "name": "stdout",
          "text": [
            "Epoch [1096/10000]: Train loss: 1.0827, Valid loss: 1.0774\n"
          ]
        },
        {
          "output_type": "stream",
          "name": "stderr",
          "text": [
            "Epoch [1097/10000]: 100%|██████████| 14/14 [00:00<00:00, 72.23it/s, loss=0.707]\n"
          ]
        },
        {
          "output_type": "stream",
          "name": "stdout",
          "text": [
            "Epoch [1097/10000]: Train loss: 1.0500, Valid loss: 1.0652\n"
          ]
        },
        {
          "output_type": "stream",
          "name": "stderr",
          "text": [
            "Epoch [1098/10000]: 100%|██████████| 14/14 [00:00<00:00, 85.30it/s, loss=0.735]\n"
          ]
        },
        {
          "output_type": "stream",
          "name": "stdout",
          "text": [
            "Epoch [1098/10000]: Train loss: 1.0495, Valid loss: 1.0802\n"
          ]
        },
        {
          "output_type": "stream",
          "name": "stderr",
          "text": [
            "Epoch [1099/10000]: 100%|██████████| 14/14 [00:00<00:00, 77.85it/s, loss=0.695]\n"
          ]
        },
        {
          "output_type": "stream",
          "name": "stdout",
          "text": [
            "Epoch [1099/10000]: Train loss: 1.0558, Valid loss: 1.0834\n"
          ]
        },
        {
          "output_type": "stream",
          "name": "stderr",
          "text": [
            "Epoch [1100/10000]: 100%|██████████| 14/14 [00:00<00:00, 80.64it/s, loss=1.08]\n"
          ]
        },
        {
          "output_type": "stream",
          "name": "stdout",
          "text": [
            "Epoch [1100/10000]: Train loss: 1.0717, Valid loss: 1.2022\n"
          ]
        },
        {
          "output_type": "stream",
          "name": "stderr",
          "text": [
            "Epoch [1101/10000]: 100%|██████████| 14/14 [00:00<00:00, 79.78it/s, loss=0.759]\n"
          ]
        },
        {
          "output_type": "stream",
          "name": "stdout",
          "text": [
            "Epoch [1101/10000]: Train loss: 1.0771, Valid loss: 1.1291\n"
          ]
        },
        {
          "output_type": "stream",
          "name": "stderr",
          "text": [
            "Epoch [1102/10000]: 100%|██████████| 14/14 [00:00<00:00, 84.50it/s, loss=1.08]\n"
          ]
        },
        {
          "output_type": "stream",
          "name": "stdout",
          "text": [
            "Epoch [1102/10000]: Train loss: 1.0836, Valid loss: 1.1281\n"
          ]
        },
        {
          "output_type": "stream",
          "name": "stderr",
          "text": [
            "Epoch [1103/10000]: 100%|██████████| 14/14 [00:00<00:00, 88.03it/s, loss=1.19]\n"
          ]
        },
        {
          "output_type": "stream",
          "name": "stdout",
          "text": [
            "Epoch [1103/10000]: Train loss: 1.0975, Valid loss: 1.1062\n"
          ]
        },
        {
          "output_type": "stream",
          "name": "stderr",
          "text": [
            "Epoch [1104/10000]: 100%|██████████| 14/14 [00:00<00:00, 81.41it/s, loss=0.904]\n"
          ]
        },
        {
          "output_type": "stream",
          "name": "stdout",
          "text": [
            "Epoch [1104/10000]: Train loss: 1.0818, Valid loss: 1.1840\n"
          ]
        },
        {
          "output_type": "stream",
          "name": "stderr",
          "text": [
            "Epoch [1105/10000]: 100%|██████████| 14/14 [00:00<00:00, 83.03it/s, loss=1.04]\n"
          ]
        },
        {
          "output_type": "stream",
          "name": "stdout",
          "text": [
            "Epoch [1105/10000]: Train loss: 1.0955, Valid loss: 1.0629\n"
          ]
        },
        {
          "output_type": "stream",
          "name": "stderr",
          "text": [
            "Epoch [1106/10000]: 100%|██████████| 14/14 [00:00<00:00, 82.48it/s, loss=1.1]\n"
          ]
        },
        {
          "output_type": "stream",
          "name": "stdout",
          "text": [
            "Epoch [1106/10000]: Train loss: 1.0713, Valid loss: 1.1206\n"
          ]
        },
        {
          "output_type": "stream",
          "name": "stderr",
          "text": [
            "Epoch [1107/10000]: 100%|██████████| 14/14 [00:00<00:00, 94.56it/s, loss=1.15]\n"
          ]
        },
        {
          "output_type": "stream",
          "name": "stdout",
          "text": [
            "Epoch [1107/10000]: Train loss: 1.0948, Valid loss: 1.1730\n"
          ]
        },
        {
          "output_type": "stream",
          "name": "stderr",
          "text": [
            "Epoch [1108/10000]: 100%|██████████| 14/14 [00:00<00:00, 81.83it/s, loss=0.866]\n"
          ]
        },
        {
          "output_type": "stream",
          "name": "stdout",
          "text": [
            "Epoch [1108/10000]: Train loss: 1.0803, Valid loss: 1.0658\n"
          ]
        },
        {
          "output_type": "stream",
          "name": "stderr",
          "text": [
            "Epoch [1109/10000]: 100%|██████████| 14/14 [00:00<00:00, 92.68it/s, loss=1.37]\n"
          ]
        },
        {
          "output_type": "stream",
          "name": "stdout",
          "text": [
            "Epoch [1109/10000]: Train loss: 1.0737, Valid loss: 1.0496\n"
          ]
        },
        {
          "output_type": "stream",
          "name": "stderr",
          "text": [
            "Epoch [1110/10000]: 100%|██████████| 14/14 [00:00<00:00, 91.61it/s, loss=0.872]\n"
          ]
        },
        {
          "output_type": "stream",
          "name": "stdout",
          "text": [
            "Epoch [1110/10000]: Train loss: 1.0737, Valid loss: 1.0653\n"
          ]
        },
        {
          "output_type": "stream",
          "name": "stderr",
          "text": [
            "Epoch [1111/10000]: 100%|██████████| 14/14 [00:00<00:00, 78.41it/s, loss=0.919]\n"
          ]
        },
        {
          "output_type": "stream",
          "name": "stdout",
          "text": [
            "Epoch [1111/10000]: Train loss: 1.0651, Valid loss: 1.0758\n"
          ]
        },
        {
          "output_type": "stream",
          "name": "stderr",
          "text": [
            "Epoch [1112/10000]: 100%|██████████| 14/14 [00:00<00:00, 77.15it/s, loss=1.33]\n"
          ]
        },
        {
          "output_type": "stream",
          "name": "stdout",
          "text": [
            "Epoch [1112/10000]: Train loss: 1.0950, Valid loss: 1.0740\n"
          ]
        },
        {
          "output_type": "stream",
          "name": "stderr",
          "text": [
            "Epoch [1113/10000]: 100%|██████████| 14/14 [00:00<00:00, 72.26it/s, loss=0.777]\n"
          ]
        },
        {
          "output_type": "stream",
          "name": "stdout",
          "text": [
            "Epoch [1113/10000]: Train loss: 1.0469, Valid loss: 1.0733\n"
          ]
        },
        {
          "output_type": "stream",
          "name": "stderr",
          "text": [
            "Epoch [1114/10000]: 100%|██████████| 14/14 [00:00<00:00, 90.03it/s, loss=0.874]\n"
          ]
        },
        {
          "output_type": "stream",
          "name": "stdout",
          "text": [
            "Epoch [1114/10000]: Train loss: 1.0459, Valid loss: 1.1977\n"
          ]
        },
        {
          "output_type": "stream",
          "name": "stderr",
          "text": [
            "Epoch [1115/10000]: 100%|██████████| 14/14 [00:00<00:00, 74.48it/s, loss=1.36]\n"
          ]
        },
        {
          "output_type": "stream",
          "name": "stdout",
          "text": [
            "Epoch [1115/10000]: Train loss: 1.1348, Valid loss: 1.0762\n"
          ]
        },
        {
          "output_type": "stream",
          "name": "stderr",
          "text": [
            "Epoch [1116/10000]: 100%|██████████| 14/14 [00:00<00:00, 85.36it/s, loss=1.74]\n"
          ]
        },
        {
          "output_type": "stream",
          "name": "stdout",
          "text": [
            "Epoch [1116/10000]: Train loss: 1.0947, Valid loss: 1.0828\n"
          ]
        },
        {
          "output_type": "stream",
          "name": "stderr",
          "text": [
            "Epoch [1117/10000]: 100%|██████████| 14/14 [00:00<00:00, 74.10it/s, loss=1.07]\n"
          ]
        },
        {
          "output_type": "stream",
          "name": "stdout",
          "text": [
            "Epoch [1117/10000]: Train loss: 1.0982, Valid loss: 1.0770\n"
          ]
        },
        {
          "output_type": "stream",
          "name": "stderr",
          "text": [
            "Epoch [1118/10000]: 100%|██████████| 14/14 [00:00<00:00, 78.13it/s, loss=1.14]\n"
          ]
        },
        {
          "output_type": "stream",
          "name": "stdout",
          "text": [
            "Epoch [1118/10000]: Train loss: 1.0821, Valid loss: 1.1013\n"
          ]
        },
        {
          "output_type": "stream",
          "name": "stderr",
          "text": [
            "Epoch [1119/10000]: 100%|██████████| 14/14 [00:00<00:00, 87.01it/s, loss=0.896]\n"
          ]
        },
        {
          "output_type": "stream",
          "name": "stdout",
          "text": [
            "Epoch [1119/10000]: Train loss: 1.0861, Valid loss: 1.0502\n"
          ]
        },
        {
          "output_type": "stream",
          "name": "stderr",
          "text": [
            "Epoch [1120/10000]: 100%|██████████| 14/14 [00:00<00:00, 74.07it/s, loss=0.972]\n"
          ]
        },
        {
          "output_type": "stream",
          "name": "stdout",
          "text": [
            "Epoch [1120/10000]: Train loss: 1.0816, Valid loss: 1.1528\n"
          ]
        },
        {
          "output_type": "stream",
          "name": "stderr",
          "text": [
            "Epoch [1121/10000]: 100%|██████████| 14/14 [00:00<00:00, 80.96it/s, loss=1.04]\n"
          ]
        },
        {
          "output_type": "stream",
          "name": "stdout",
          "text": [
            "Epoch [1121/10000]: Train loss: 1.0779, Valid loss: 1.0604\n"
          ]
        },
        {
          "output_type": "stream",
          "name": "stderr",
          "text": [
            "Epoch [1122/10000]: 100%|██████████| 14/14 [00:00<00:00, 73.02it/s, loss=1.16]\n"
          ]
        },
        {
          "output_type": "stream",
          "name": "stdout",
          "text": [
            "Epoch [1122/10000]: Train loss: 1.0987, Valid loss: 1.0821\n"
          ]
        },
        {
          "output_type": "stream",
          "name": "stderr",
          "text": [
            "Epoch [1123/10000]: 100%|██████████| 14/14 [00:00<00:00, 68.84it/s, loss=0.947]\n"
          ]
        },
        {
          "output_type": "stream",
          "name": "stdout",
          "text": [
            "Epoch [1123/10000]: Train loss: 1.0801, Valid loss: 1.0471\n"
          ]
        },
        {
          "output_type": "stream",
          "name": "stderr",
          "text": [
            "Epoch [1124/10000]: 100%|██████████| 14/14 [00:00<00:00, 88.64it/s, loss=1.03]\n"
          ]
        },
        {
          "output_type": "stream",
          "name": "stdout",
          "text": [
            "Epoch [1124/10000]: Train loss: 1.0680, Valid loss: 1.0847\n"
          ]
        },
        {
          "output_type": "stream",
          "name": "stderr",
          "text": [
            "Epoch [1125/10000]: 100%|██████████| 14/14 [00:00<00:00, 85.44it/s, loss=1.11]\n"
          ]
        },
        {
          "output_type": "stream",
          "name": "stdout",
          "text": [
            "Epoch [1125/10000]: Train loss: 1.0779, Valid loss: 1.0538\n"
          ]
        },
        {
          "output_type": "stream",
          "name": "stderr",
          "text": [
            "Epoch [1126/10000]: 100%|██████████| 14/14 [00:00<00:00, 80.32it/s, loss=1.52]\n"
          ]
        },
        {
          "output_type": "stream",
          "name": "stdout",
          "text": [
            "Epoch [1126/10000]: Train loss: 1.0964, Valid loss: 1.1679\n"
          ]
        },
        {
          "output_type": "stream",
          "name": "stderr",
          "text": [
            "Epoch [1127/10000]: 100%|██████████| 14/14 [00:00<00:00, 71.89it/s, loss=0.551]\n"
          ]
        },
        {
          "output_type": "stream",
          "name": "stdout",
          "text": [
            "Epoch [1127/10000]: Train loss: 1.1041, Valid loss: 1.0587\n"
          ]
        },
        {
          "output_type": "stream",
          "name": "stderr",
          "text": [
            "Epoch [1128/10000]: 100%|██████████| 14/14 [00:00<00:00, 89.01it/s, loss=0.945]\n"
          ]
        },
        {
          "output_type": "stream",
          "name": "stdout",
          "text": [
            "Epoch [1128/10000]: Train loss: 1.0771, Valid loss: 1.1864\n"
          ]
        },
        {
          "output_type": "stream",
          "name": "stderr",
          "text": [
            "Epoch [1129/10000]: 100%|██████████| 14/14 [00:00<00:00, 91.10it/s, loss=1.05]\n"
          ]
        },
        {
          "output_type": "stream",
          "name": "stdout",
          "text": [
            "Epoch [1129/10000]: Train loss: 1.1197, Valid loss: 1.1496\n"
          ]
        },
        {
          "output_type": "stream",
          "name": "stderr",
          "text": [
            "Epoch [1130/10000]: 100%|██████████| 14/14 [00:00<00:00, 92.77it/s, loss=1.9]\n"
          ]
        },
        {
          "output_type": "stream",
          "name": "stdout",
          "text": [
            "Epoch [1130/10000]: Train loss: 1.1273, Valid loss: 1.0401\n"
          ]
        },
        {
          "output_type": "stream",
          "name": "stderr",
          "text": [
            "Epoch [1131/10000]: 100%|██████████| 14/14 [00:00<00:00, 92.81it/s, loss=0.72]\n"
          ]
        },
        {
          "output_type": "stream",
          "name": "stdout",
          "text": [
            "Epoch [1131/10000]: Train loss: 1.0752, Valid loss: 1.0633\n"
          ]
        },
        {
          "output_type": "stream",
          "name": "stderr",
          "text": [
            "Epoch [1132/10000]: 100%|██████████| 14/14 [00:00<00:00, 77.04it/s, loss=0.636]\n"
          ]
        },
        {
          "output_type": "stream",
          "name": "stdout",
          "text": [
            "Epoch [1132/10000]: Train loss: 1.0839, Valid loss: 1.1339\n"
          ]
        },
        {
          "output_type": "stream",
          "name": "stderr",
          "text": [
            "Epoch [1133/10000]: 100%|██████████| 14/14 [00:00<00:00, 89.16it/s, loss=0.908]\n"
          ]
        },
        {
          "output_type": "stream",
          "name": "stdout",
          "text": [
            "Epoch [1133/10000]: Train loss: 1.0655, Valid loss: 1.0978\n"
          ]
        },
        {
          "output_type": "stream",
          "name": "stderr",
          "text": [
            "Epoch [1134/10000]: 100%|██████████| 14/14 [00:00<00:00, 91.66it/s, loss=0.743]\n"
          ]
        },
        {
          "output_type": "stream",
          "name": "stdout",
          "text": [
            "Epoch [1134/10000]: Train loss: 1.0704, Valid loss: 1.0624\n"
          ]
        },
        {
          "output_type": "stream",
          "name": "stderr",
          "text": [
            "Epoch [1135/10000]: 100%|██████████| 14/14 [00:00<00:00, 90.25it/s, loss=1.19]\n"
          ]
        },
        {
          "output_type": "stream",
          "name": "stdout",
          "text": [
            "Epoch [1135/10000]: Train loss: 1.0777, Valid loss: 1.1125\n"
          ]
        },
        {
          "output_type": "stream",
          "name": "stderr",
          "text": [
            "Epoch [1136/10000]: 100%|██████████| 14/14 [00:00<00:00, 81.93it/s, loss=1.02]\n"
          ]
        },
        {
          "output_type": "stream",
          "name": "stdout",
          "text": [
            "Epoch [1136/10000]: Train loss: 1.0818, Valid loss: 1.1169\n"
          ]
        },
        {
          "output_type": "stream",
          "name": "stderr",
          "text": [
            "Epoch [1137/10000]: 100%|██████████| 14/14 [00:00<00:00, 73.12it/s, loss=0.874]\n"
          ]
        },
        {
          "output_type": "stream",
          "name": "stdout",
          "text": [
            "Epoch [1137/10000]: Train loss: 1.0996, Valid loss: 1.0547\n"
          ]
        },
        {
          "output_type": "stream",
          "name": "stderr",
          "text": [
            "Epoch [1138/10000]: 100%|██████████| 14/14 [00:00<00:00, 73.29it/s, loss=0.937]\n"
          ]
        },
        {
          "output_type": "stream",
          "name": "stdout",
          "text": [
            "Epoch [1138/10000]: Train loss: 1.0610, Valid loss: 1.1077\n"
          ]
        },
        {
          "output_type": "stream",
          "name": "stderr",
          "text": [
            "Epoch [1139/10000]: 100%|██████████| 14/14 [00:00<00:00, 77.00it/s, loss=1.18]\n"
          ]
        },
        {
          "output_type": "stream",
          "name": "stdout",
          "text": [
            "Epoch [1139/10000]: Train loss: 1.0751, Valid loss: 1.1247\n"
          ]
        },
        {
          "output_type": "stream",
          "name": "stderr",
          "text": [
            "Epoch [1140/10000]: 100%|██████████| 14/14 [00:00<00:00, 84.05it/s, loss=1.26]\n"
          ]
        },
        {
          "output_type": "stream",
          "name": "stdout",
          "text": [
            "Epoch [1140/10000]: Train loss: 1.0726, Valid loss: 1.0567\n"
          ]
        },
        {
          "output_type": "stream",
          "name": "stderr",
          "text": [
            "Epoch [1141/10000]: 100%|██████████| 14/14 [00:00<00:00, 75.33it/s, loss=1.46]\n"
          ]
        },
        {
          "output_type": "stream",
          "name": "stdout",
          "text": [
            "Epoch [1141/10000]: Train loss: 1.0995, Valid loss: 1.1231\n"
          ]
        },
        {
          "output_type": "stream",
          "name": "stderr",
          "text": [
            "Epoch [1142/10000]: 100%|██████████| 14/14 [00:00<00:00, 82.87it/s, loss=1.12]\n"
          ]
        },
        {
          "output_type": "stream",
          "name": "stdout",
          "text": [
            "Epoch [1142/10000]: Train loss: 1.0742, Valid loss: 1.0679\n"
          ]
        },
        {
          "output_type": "stream",
          "name": "stderr",
          "text": [
            "Epoch [1143/10000]: 100%|██████████| 14/14 [00:00<00:00, 80.63it/s, loss=1.05]\n"
          ]
        },
        {
          "output_type": "stream",
          "name": "stdout",
          "text": [
            "Epoch [1143/10000]: Train loss: 1.0684, Valid loss: 1.0536\n"
          ]
        },
        {
          "output_type": "stream",
          "name": "stderr",
          "text": [
            "Epoch [1144/10000]: 100%|██████████| 14/14 [00:00<00:00, 86.75it/s, loss=1.01]\n"
          ]
        },
        {
          "output_type": "stream",
          "name": "stdout",
          "text": [
            "Epoch [1144/10000]: Train loss: 1.0581, Valid loss: 1.1714\n"
          ]
        },
        {
          "output_type": "stream",
          "name": "stderr",
          "text": [
            "Epoch [1145/10000]: 100%|██████████| 14/14 [00:00<00:00, 87.53it/s, loss=1.04]\n"
          ]
        },
        {
          "output_type": "stream",
          "name": "stdout",
          "text": [
            "Epoch [1145/10000]: Train loss: 1.0762, Valid loss: 1.0696\n"
          ]
        },
        {
          "output_type": "stream",
          "name": "stderr",
          "text": [
            "Epoch [1146/10000]: 100%|██████████| 14/14 [00:00<00:00, 72.34it/s, loss=1.1]\n"
          ]
        },
        {
          "output_type": "stream",
          "name": "stdout",
          "text": [
            "Epoch [1146/10000]: Train loss: 1.0763, Valid loss: 1.0933\n"
          ]
        },
        {
          "output_type": "stream",
          "name": "stderr",
          "text": [
            "Epoch [1147/10000]: 100%|██████████| 14/14 [00:00<00:00, 87.26it/s, loss=0.744]\n"
          ]
        },
        {
          "output_type": "stream",
          "name": "stdout",
          "text": [
            "Epoch [1147/10000]: Train loss: 1.0579, Valid loss: 1.1001\n"
          ]
        },
        {
          "output_type": "stream",
          "name": "stderr",
          "text": [
            "Epoch [1148/10000]: 100%|██████████| 14/14 [00:00<00:00, 92.88it/s, loss=0.774]\n"
          ]
        },
        {
          "output_type": "stream",
          "name": "stdout",
          "text": [
            "Epoch [1148/10000]: Train loss: 1.0785, Valid loss: 1.1191\n"
          ]
        },
        {
          "output_type": "stream",
          "name": "stderr",
          "text": [
            "Epoch [1149/10000]: 100%|██████████| 14/14 [00:00<00:00, 95.07it/s, loss=1.01]\n"
          ]
        },
        {
          "output_type": "stream",
          "name": "stdout",
          "text": [
            "Epoch [1149/10000]: Train loss: 1.0842, Valid loss: 1.1045\n"
          ]
        },
        {
          "output_type": "stream",
          "name": "stderr",
          "text": [
            "Epoch [1150/10000]: 100%|██████████| 14/14 [00:00<00:00, 73.29it/s, loss=0.798]\n"
          ]
        },
        {
          "output_type": "stream",
          "name": "stdout",
          "text": [
            "Epoch [1150/10000]: Train loss: 1.0658, Valid loss: 1.2140\n"
          ]
        },
        {
          "output_type": "stream",
          "name": "stderr",
          "text": [
            "Epoch [1151/10000]: 100%|██████████| 14/14 [00:00<00:00, 73.33it/s, loss=1]\n"
          ]
        },
        {
          "output_type": "stream",
          "name": "stdout",
          "text": [
            "Epoch [1151/10000]: Train loss: 1.0711, Valid loss: 1.0805\n"
          ]
        },
        {
          "output_type": "stream",
          "name": "stderr",
          "text": [
            "Epoch [1152/10000]: 100%|██████████| 14/14 [00:00<00:00, 75.12it/s, loss=1.06]\n"
          ]
        },
        {
          "output_type": "stream",
          "name": "stdout",
          "text": [
            "Epoch [1152/10000]: Train loss: 1.0666, Valid loss: 1.1010\n"
          ]
        },
        {
          "output_type": "stream",
          "name": "stderr",
          "text": [
            "Epoch [1153/10000]: 100%|██████████| 14/14 [00:00<00:00, 74.19it/s, loss=1.2]\n"
          ]
        },
        {
          "output_type": "stream",
          "name": "stdout",
          "text": [
            "Epoch [1153/10000]: Train loss: 1.0679, Valid loss: 1.0539\n"
          ]
        },
        {
          "output_type": "stream",
          "name": "stderr",
          "text": [
            "Epoch [1154/10000]: 100%|██████████| 14/14 [00:00<00:00, 76.67it/s, loss=1.11]\n"
          ]
        },
        {
          "output_type": "stream",
          "name": "stdout",
          "text": [
            "Epoch [1154/10000]: Train loss: 1.0634, Valid loss: 1.0690\n"
          ]
        },
        {
          "output_type": "stream",
          "name": "stderr",
          "text": [
            "Epoch [1155/10000]: 100%|██████████| 14/14 [00:00<00:00, 79.20it/s, loss=1.16]\n"
          ]
        },
        {
          "output_type": "stream",
          "name": "stdout",
          "text": [
            "Epoch [1155/10000]: Train loss: 1.0795, Valid loss: 1.1491\n"
          ]
        },
        {
          "output_type": "stream",
          "name": "stderr",
          "text": [
            "Epoch [1156/10000]: 100%|██████████| 14/14 [00:00<00:00, 82.19it/s, loss=1.2]\n"
          ]
        },
        {
          "output_type": "stream",
          "name": "stdout",
          "text": [
            "Epoch [1156/10000]: Train loss: 1.0727, Valid loss: 1.0726\n"
          ]
        },
        {
          "output_type": "stream",
          "name": "stderr",
          "text": [
            "Epoch [1157/10000]: 100%|██████████| 14/14 [00:00<00:00, 73.08it/s, loss=1.08]\n"
          ]
        },
        {
          "output_type": "stream",
          "name": "stdout",
          "text": [
            "Epoch [1157/10000]: Train loss: 1.0688, Valid loss: 1.0859\n"
          ]
        },
        {
          "output_type": "stream",
          "name": "stderr",
          "text": [
            "Epoch [1158/10000]: 100%|██████████| 14/14 [00:00<00:00, 84.94it/s, loss=0.946]\n"
          ]
        },
        {
          "output_type": "stream",
          "name": "stdout",
          "text": [
            "Epoch [1158/10000]: Train loss: 1.0634, Valid loss: 1.1155\n"
          ]
        },
        {
          "output_type": "stream",
          "name": "stderr",
          "text": [
            "Epoch [1159/10000]: 100%|██████████| 14/14 [00:00<00:00, 91.58it/s, loss=1.35]\n"
          ]
        },
        {
          "output_type": "stream",
          "name": "stdout",
          "text": [
            "Epoch [1159/10000]: Train loss: 1.0852, Valid loss: 1.0821\n"
          ]
        },
        {
          "output_type": "stream",
          "name": "stderr",
          "text": [
            "Epoch [1160/10000]: 100%|██████████| 14/14 [00:00<00:00, 93.05it/s, loss=1.13]\n"
          ]
        },
        {
          "output_type": "stream",
          "name": "stdout",
          "text": [
            "Epoch [1160/10000]: Train loss: 1.1467, Valid loss: 1.0901\n"
          ]
        },
        {
          "output_type": "stream",
          "name": "stderr",
          "text": [
            "Epoch [1161/10000]: 100%|██████████| 14/14 [00:00<00:00, 93.59it/s, loss=1.49]\n"
          ]
        },
        {
          "output_type": "stream",
          "name": "stdout",
          "text": [
            "Epoch [1161/10000]: Train loss: 1.0828, Valid loss: 1.0941\n"
          ]
        },
        {
          "output_type": "stream",
          "name": "stderr",
          "text": [
            "Epoch [1162/10000]: 100%|██████████| 14/14 [00:00<00:00, 86.24it/s, loss=1.32]\n"
          ]
        },
        {
          "output_type": "stream",
          "name": "stdout",
          "text": [
            "Epoch [1162/10000]: Train loss: 1.0899, Valid loss: 1.0682\n"
          ]
        },
        {
          "output_type": "stream",
          "name": "stderr",
          "text": [
            "Epoch [1163/10000]: 100%|██████████| 14/14 [00:00<00:00, 86.45it/s, loss=0.964]\n"
          ]
        },
        {
          "output_type": "stream",
          "name": "stdout",
          "text": [
            "Epoch [1163/10000]: Train loss: 1.0645, Valid loss: 1.0801\n"
          ]
        },
        {
          "output_type": "stream",
          "name": "stderr",
          "text": [
            "Epoch [1164/10000]: 100%|██████████| 14/14 [00:00<00:00, 84.65it/s, loss=1.1]\n"
          ]
        },
        {
          "output_type": "stream",
          "name": "stdout",
          "text": [
            "Epoch [1164/10000]: Train loss: 1.0656, Valid loss: 1.1058\n"
          ]
        },
        {
          "output_type": "stream",
          "name": "stderr",
          "text": [
            "Epoch [1165/10000]: 100%|██████████| 14/14 [00:00<00:00, 71.96it/s, loss=0.955]\n"
          ]
        },
        {
          "output_type": "stream",
          "name": "stdout",
          "text": [
            "Epoch [1165/10000]: Train loss: 1.0712, Valid loss: 1.0616\n"
          ]
        },
        {
          "output_type": "stream",
          "name": "stderr",
          "text": [
            "Epoch [1166/10000]: 100%|██████████| 14/14 [00:00<00:00, 78.48it/s, loss=1.57]"
          ]
        },
        {
          "output_type": "stream",
          "name": "stdout",
          "text": [
            "Epoch [1166/10000]: Train loss: 1.0986, Valid loss: 1.0981"
          ]
        },
        {
          "output_type": "stream",
          "name": "stderr",
          "text": [
            "\n"
          ]
        },
        {
          "output_type": "stream",
          "name": "stdout",
          "text": [
            "\n"
          ]
        },
        {
          "output_type": "stream",
          "name": "stderr",
          "text": [
            "Epoch [1167/10000]: 100%|██████████| 14/14 [00:00<00:00, 74.69it/s, loss=0.815]\n"
          ]
        },
        {
          "output_type": "stream",
          "name": "stdout",
          "text": [
            "Epoch [1167/10000]: Train loss: 1.0515, Valid loss: 1.0912\n"
          ]
        },
        {
          "output_type": "stream",
          "name": "stderr",
          "text": [
            "Epoch [1168/10000]: 100%|██████████| 14/14 [00:00<00:00, 78.53it/s, loss=0.703]\n"
          ]
        },
        {
          "output_type": "stream",
          "name": "stdout",
          "text": [
            "Epoch [1168/10000]: Train loss: 1.0471, Valid loss: 1.0738\n"
          ]
        },
        {
          "output_type": "stream",
          "name": "stderr",
          "text": [
            "Epoch [1169/10000]: 100%|██████████| 14/14 [00:00<00:00, 62.33it/s, loss=1.23]\n"
          ]
        },
        {
          "output_type": "stream",
          "name": "stdout",
          "text": [
            "Epoch [1169/10000]: Train loss: 1.0741, Valid loss: 1.1997\n"
          ]
        },
        {
          "output_type": "stream",
          "name": "stderr",
          "text": [
            "Epoch [1170/10000]: 100%|██████████| 14/14 [00:00<00:00, 79.06it/s, loss=0.627]\n"
          ]
        },
        {
          "output_type": "stream",
          "name": "stdout",
          "text": [
            "Epoch [1170/10000]: Train loss: 1.1391, Valid loss: 1.2213\n"
          ]
        },
        {
          "output_type": "stream",
          "name": "stderr",
          "text": [
            "Epoch [1171/10000]: 100%|██████████| 14/14 [00:00<00:00, 91.36it/s, loss=0.789]\n"
          ]
        },
        {
          "output_type": "stream",
          "name": "stdout",
          "text": [
            "Epoch [1171/10000]: Train loss: 1.1532, Valid loss: 1.2519\n"
          ]
        },
        {
          "output_type": "stream",
          "name": "stderr",
          "text": [
            "Epoch [1172/10000]: 100%|██████████| 14/14 [00:00<00:00, 70.38it/s, loss=0.864]\n"
          ]
        },
        {
          "output_type": "stream",
          "name": "stdout",
          "text": [
            "Epoch [1172/10000]: Train loss: 1.1325, Valid loss: 1.1135\n"
          ]
        },
        {
          "output_type": "stream",
          "name": "stderr",
          "text": [
            "Epoch [1173/10000]: 100%|██████████| 14/14 [00:00<00:00, 78.77it/s, loss=1.16]\n"
          ]
        },
        {
          "output_type": "stream",
          "name": "stdout",
          "text": [
            "Epoch [1173/10000]: Train loss: 1.1244, Valid loss: 1.0463\n"
          ]
        },
        {
          "output_type": "stream",
          "name": "stderr",
          "text": [
            "Epoch [1174/10000]: 100%|██████████| 14/14 [00:00<00:00, 88.67it/s, loss=1.64]\n"
          ]
        },
        {
          "output_type": "stream",
          "name": "stdout",
          "text": [
            "Epoch [1174/10000]: Train loss: 1.1193, Valid loss: 1.0951\n"
          ]
        },
        {
          "output_type": "stream",
          "name": "stderr",
          "text": [
            "Epoch [1175/10000]: 100%|██████████| 14/14 [00:00<00:00, 79.08it/s, loss=1.37]\n"
          ]
        },
        {
          "output_type": "stream",
          "name": "stdout",
          "text": [
            "Epoch [1175/10000]: Train loss: 1.1024, Valid loss: 1.0578\n"
          ]
        },
        {
          "output_type": "stream",
          "name": "stderr",
          "text": [
            "Epoch [1176/10000]: 100%|██████████| 14/14 [00:00<00:00, 71.11it/s, loss=1.21]\n"
          ]
        },
        {
          "output_type": "stream",
          "name": "stdout",
          "text": [
            "Epoch [1176/10000]: Train loss: 1.0756, Valid loss: 1.0565\n"
          ]
        },
        {
          "output_type": "stream",
          "name": "stderr",
          "text": [
            "Epoch [1177/10000]: 100%|██████████| 14/14 [00:00<00:00, 92.59it/s, loss=1.03]\n"
          ]
        },
        {
          "output_type": "stream",
          "name": "stdout",
          "text": [
            "Epoch [1177/10000]: Train loss: 1.0666, Valid loss: 1.1474\n"
          ]
        },
        {
          "output_type": "stream",
          "name": "stderr",
          "text": [
            "Epoch [1178/10000]: 100%|██████████| 14/14 [00:00<00:00, 81.87it/s, loss=0.892]\n"
          ]
        },
        {
          "output_type": "stream",
          "name": "stdout",
          "text": [
            "Epoch [1178/10000]: Train loss: 1.0987, Valid loss: 1.0720\n"
          ]
        },
        {
          "output_type": "stream",
          "name": "stderr",
          "text": [
            "Epoch [1179/10000]: 100%|██████████| 14/14 [00:00<00:00, 78.75it/s, loss=1.51]\n"
          ]
        },
        {
          "output_type": "stream",
          "name": "stdout",
          "text": [
            "Epoch [1179/10000]: Train loss: 1.0762, Valid loss: 1.1161\n"
          ]
        },
        {
          "output_type": "stream",
          "name": "stderr",
          "text": [
            "Epoch [1180/10000]: 100%|██████████| 14/14 [00:00<00:00, 79.38it/s, loss=1.09]\n"
          ]
        },
        {
          "output_type": "stream",
          "name": "stdout",
          "text": [
            "Epoch [1180/10000]: Train loss: 1.0648, Valid loss: 1.1294\n"
          ]
        },
        {
          "output_type": "stream",
          "name": "stderr",
          "text": [
            "Epoch [1181/10000]: 100%|██████████| 14/14 [00:00<00:00, 85.99it/s, loss=0.891]\n"
          ]
        },
        {
          "output_type": "stream",
          "name": "stdout",
          "text": [
            "Epoch [1181/10000]: Train loss: 1.0829, Valid loss: 1.1002\n"
          ]
        },
        {
          "output_type": "stream",
          "name": "stderr",
          "text": [
            "Epoch [1182/10000]: 100%|██████████| 14/14 [00:00<00:00, 75.74it/s, loss=1.28]\n"
          ]
        },
        {
          "output_type": "stream",
          "name": "stdout",
          "text": [
            "Epoch [1182/10000]: Train loss: 1.0790, Valid loss: 1.0821\n"
          ]
        },
        {
          "output_type": "stream",
          "name": "stderr",
          "text": [
            "Epoch [1183/10000]: 100%|██████████| 14/14 [00:00<00:00, 90.65it/s, loss=1.31]\n"
          ]
        },
        {
          "output_type": "stream",
          "name": "stdout",
          "text": [
            "Epoch [1183/10000]: Train loss: 1.0742, Valid loss: 1.1401\n"
          ]
        },
        {
          "output_type": "stream",
          "name": "stderr",
          "text": [
            "Epoch [1184/10000]: 100%|██████████| 14/14 [00:00<00:00, 82.87it/s, loss=1.48]\n"
          ]
        },
        {
          "output_type": "stream",
          "name": "stdout",
          "text": [
            "Epoch [1184/10000]: Train loss: 1.0755, Valid loss: 1.0483\n"
          ]
        },
        {
          "output_type": "stream",
          "name": "stderr",
          "text": [
            "Epoch [1185/10000]: 100%|██████████| 14/14 [00:00<00:00, 92.63it/s, loss=1.33]\n"
          ]
        },
        {
          "output_type": "stream",
          "name": "stdout",
          "text": [
            "Epoch [1185/10000]: Train loss: 1.0776, Valid loss: 1.0554\n"
          ]
        },
        {
          "output_type": "stream",
          "name": "stderr",
          "text": [
            "Epoch [1186/10000]: 100%|██████████| 14/14 [00:00<00:00, 93.12it/s, loss=0.628]\n"
          ]
        },
        {
          "output_type": "stream",
          "name": "stdout",
          "text": [
            "Epoch [1186/10000]: Train loss: 1.0729, Valid loss: 1.0687\n"
          ]
        },
        {
          "output_type": "stream",
          "name": "stderr",
          "text": [
            "Epoch [1187/10000]: 100%|██████████| 14/14 [00:00<00:00, 81.65it/s, loss=1.03]\n"
          ]
        },
        {
          "output_type": "stream",
          "name": "stdout",
          "text": [
            "Epoch [1187/10000]: Train loss: 1.0671, Valid loss: 1.0802\n"
          ]
        },
        {
          "output_type": "stream",
          "name": "stderr",
          "text": [
            "Epoch [1188/10000]: 100%|██████████| 14/14 [00:00<00:00, 75.72it/s, loss=1.55]\n"
          ]
        },
        {
          "output_type": "stream",
          "name": "stdout",
          "text": [
            "Epoch [1188/10000]: Train loss: 1.1394, Valid loss: 1.0900\n"
          ]
        },
        {
          "output_type": "stream",
          "name": "stderr",
          "text": [
            "Epoch [1189/10000]: 100%|██████████| 14/14 [00:00<00:00, 89.40it/s, loss=0.852]\n"
          ]
        },
        {
          "output_type": "stream",
          "name": "stdout",
          "text": [
            "Epoch [1189/10000]: Train loss: 1.0623, Valid loss: 1.0728\n"
          ]
        },
        {
          "output_type": "stream",
          "name": "stderr",
          "text": [
            "Epoch [1190/10000]: 100%|██████████| 14/14 [00:00<00:00, 88.64it/s, loss=1.31]\n"
          ]
        },
        {
          "output_type": "stream",
          "name": "stdout",
          "text": [
            "Epoch [1190/10000]: Train loss: 1.0774, Valid loss: 1.0796\n"
          ]
        },
        {
          "output_type": "stream",
          "name": "stderr",
          "text": [
            "Epoch [1191/10000]: 100%|██████████| 14/14 [00:00<00:00, 87.23it/s, loss=0.867]\n"
          ]
        },
        {
          "output_type": "stream",
          "name": "stdout",
          "text": [
            "Epoch [1191/10000]: Train loss: 1.0481, Valid loss: 1.1005\n"
          ]
        },
        {
          "output_type": "stream",
          "name": "stderr",
          "text": [
            "Epoch [1192/10000]: 100%|██████████| 14/14 [00:00<00:00, 76.19it/s, loss=1.17]\n"
          ]
        },
        {
          "output_type": "stream",
          "name": "stdout",
          "text": [
            "Epoch [1192/10000]: Train loss: 1.0700, Valid loss: 1.1661\n"
          ]
        },
        {
          "output_type": "stream",
          "name": "stderr",
          "text": [
            "Epoch [1193/10000]: 100%|██████████| 14/14 [00:00<00:00, 81.05it/s, loss=2.08]\n"
          ]
        },
        {
          "output_type": "stream",
          "name": "stdout",
          "text": [
            "Epoch [1193/10000]: Train loss: 1.1023, Valid loss: 1.1240\n"
          ]
        },
        {
          "output_type": "stream",
          "name": "stderr",
          "text": [
            "Epoch [1194/10000]: 100%|██████████| 14/14 [00:00<00:00, 87.33it/s, loss=0.754]\n"
          ]
        },
        {
          "output_type": "stream",
          "name": "stdout",
          "text": [
            "Epoch [1194/10000]: Train loss: 1.0622, Valid loss: 1.0732\n"
          ]
        },
        {
          "output_type": "stream",
          "name": "stderr",
          "text": [
            "Epoch [1195/10000]: 100%|██████████| 14/14 [00:00<00:00, 81.39it/s, loss=1.14]\n"
          ]
        },
        {
          "output_type": "stream",
          "name": "stdout",
          "text": [
            "Epoch [1195/10000]: Train loss: 1.0608, Valid loss: 1.0551\n"
          ]
        },
        {
          "output_type": "stream",
          "name": "stderr",
          "text": [
            "Epoch [1196/10000]: 100%|██████████| 14/14 [00:00<00:00, 85.36it/s, loss=1.46]\n"
          ]
        },
        {
          "output_type": "stream",
          "name": "stdout",
          "text": [
            "Epoch [1196/10000]: Train loss: 1.0780, Valid loss: 1.1386\n"
          ]
        },
        {
          "output_type": "stream",
          "name": "stderr",
          "text": [
            "Epoch [1197/10000]: 100%|██████████| 14/14 [00:00<00:00, 86.18it/s, loss=0.935]\n"
          ]
        },
        {
          "output_type": "stream",
          "name": "stdout",
          "text": [
            "Epoch [1197/10000]: Train loss: 1.1500, Valid loss: 1.1051\n"
          ]
        },
        {
          "output_type": "stream",
          "name": "stderr",
          "text": [
            "Epoch [1198/10000]: 100%|██████████| 14/14 [00:00<00:00, 74.91it/s, loss=1.09]\n"
          ]
        },
        {
          "output_type": "stream",
          "name": "stdout",
          "text": [
            "Epoch [1198/10000]: Train loss: 1.0724, Valid loss: 1.0754\n"
          ]
        },
        {
          "output_type": "stream",
          "name": "stderr",
          "text": [
            "Epoch [1199/10000]: 100%|██████████| 14/14 [00:00<00:00, 66.85it/s, loss=1.47]\n"
          ]
        },
        {
          "output_type": "stream",
          "name": "stdout",
          "text": [
            "Epoch [1199/10000]: Train loss: 1.0763, Valid loss: 1.0787\n"
          ]
        },
        {
          "output_type": "stream",
          "name": "stderr",
          "text": [
            "Epoch [1200/10000]: 100%|██████████| 14/14 [00:00<00:00, 72.12it/s, loss=1.08]\n"
          ]
        },
        {
          "output_type": "stream",
          "name": "stdout",
          "text": [
            "Epoch [1200/10000]: Train loss: 1.0663, Valid loss: 1.0645\n"
          ]
        },
        {
          "output_type": "stream",
          "name": "stderr",
          "text": [
            "Epoch [1201/10000]: 100%|██████████| 14/14 [00:00<00:00, 71.81it/s, loss=1.61]\n"
          ]
        },
        {
          "output_type": "stream",
          "name": "stdout",
          "text": [
            "Epoch [1201/10000]: Train loss: 1.1036, Valid loss: 1.0697\n"
          ]
        },
        {
          "output_type": "stream",
          "name": "stderr",
          "text": [
            "Epoch [1202/10000]: 100%|██████████| 14/14 [00:00<00:00, 80.45it/s, loss=1.08]\n"
          ]
        },
        {
          "output_type": "stream",
          "name": "stdout",
          "text": [
            "Epoch [1202/10000]: Train loss: 1.0659, Valid loss: 1.1079\n"
          ]
        },
        {
          "output_type": "stream",
          "name": "stderr",
          "text": [
            "Epoch [1203/10000]: 100%|██████████| 14/14 [00:00<00:00, 91.31it/s, loss=1.05]\n"
          ]
        },
        {
          "output_type": "stream",
          "name": "stdout",
          "text": [
            "Epoch [1203/10000]: Train loss: 1.0637, Valid loss: 1.0580\n"
          ]
        },
        {
          "output_type": "stream",
          "name": "stderr",
          "text": [
            "Epoch [1204/10000]: 100%|██████████| 14/14 [00:00<00:00, 83.07it/s, loss=0.84]\n"
          ]
        },
        {
          "output_type": "stream",
          "name": "stdout",
          "text": [
            "Epoch [1204/10000]: Train loss: 1.0692, Valid loss: 1.0735\n"
          ]
        },
        {
          "output_type": "stream",
          "name": "stderr",
          "text": [
            "Epoch [1205/10000]: 100%|██████████| 14/14 [00:00<00:00, 94.34it/s, loss=1.12]\n"
          ]
        },
        {
          "output_type": "stream",
          "name": "stdout",
          "text": [
            "Epoch [1205/10000]: Train loss: 1.0914, Valid loss: 1.1175\n"
          ]
        },
        {
          "output_type": "stream",
          "name": "stderr",
          "text": [
            "Epoch [1206/10000]: 100%|██████████| 14/14 [00:00<00:00, 92.46it/s, loss=0.784]\n"
          ]
        },
        {
          "output_type": "stream",
          "name": "stdout",
          "text": [
            "Epoch [1206/10000]: Train loss: 1.1127, Valid loss: 1.2377\n"
          ]
        },
        {
          "output_type": "stream",
          "name": "stderr",
          "text": [
            "Epoch [1207/10000]: 100%|██████████| 14/14 [00:00<00:00, 91.40it/s, loss=1.1]\n"
          ]
        },
        {
          "output_type": "stream",
          "name": "stdout",
          "text": [
            "Epoch [1207/10000]: Train loss: 1.1063, Valid loss: 1.1284\n"
          ]
        },
        {
          "output_type": "stream",
          "name": "stderr",
          "text": [
            "Epoch [1208/10000]: 100%|██████████| 14/14 [00:00<00:00, 85.89it/s, loss=0.934]\n"
          ]
        },
        {
          "output_type": "stream",
          "name": "stdout",
          "text": [
            "Epoch [1208/10000]: Train loss: 1.0684, Valid loss: 1.0851\n"
          ]
        },
        {
          "output_type": "stream",
          "name": "stderr",
          "text": [
            "Epoch [1209/10000]: 100%|██████████| 14/14 [00:00<00:00, 91.54it/s, loss=0.843]\n"
          ]
        },
        {
          "output_type": "stream",
          "name": "stdout",
          "text": [
            "Epoch [1209/10000]: Train loss: 1.0873, Valid loss: 1.2596\n"
          ]
        },
        {
          "output_type": "stream",
          "name": "stderr",
          "text": [
            "Epoch [1210/10000]: 100%|██████████| 14/14 [00:00<00:00, 94.48it/s, loss=1.33]\n"
          ]
        },
        {
          "output_type": "stream",
          "name": "stdout",
          "text": [
            "Epoch [1210/10000]: Train loss: 1.1286, Valid loss: 1.2101\n"
          ]
        },
        {
          "output_type": "stream",
          "name": "stderr",
          "text": [
            "Epoch [1211/10000]: 100%|██████████| 14/14 [00:00<00:00, 79.91it/s, loss=1.06]\n"
          ]
        },
        {
          "output_type": "stream",
          "name": "stdout",
          "text": [
            "Epoch [1211/10000]: Train loss: 1.0976, Valid loss: 1.0695\n"
          ]
        },
        {
          "output_type": "stream",
          "name": "stderr",
          "text": [
            "Epoch [1212/10000]: 100%|██████████| 14/14 [00:00<00:00, 87.98it/s, loss=0.772]\n"
          ]
        },
        {
          "output_type": "stream",
          "name": "stdout",
          "text": [
            "Epoch [1212/10000]: Train loss: 1.0546, Valid loss: 1.0387\n"
          ]
        },
        {
          "output_type": "stream",
          "name": "stderr",
          "text": [
            "Epoch [1213/10000]: 100%|██████████| 14/14 [00:00<00:00, 87.75it/s, loss=0.922]\n"
          ]
        },
        {
          "output_type": "stream",
          "name": "stdout",
          "text": [
            "Epoch [1213/10000]: Train loss: 1.0587, Valid loss: 1.0923\n"
          ]
        },
        {
          "output_type": "stream",
          "name": "stderr",
          "text": [
            "Epoch [1214/10000]: 100%|██████████| 14/14 [00:00<00:00, 81.21it/s, loss=0.921]\n"
          ]
        },
        {
          "output_type": "stream",
          "name": "stdout",
          "text": [
            "Epoch [1214/10000]: Train loss: 1.0595, Valid loss: 1.0719\n"
          ]
        },
        {
          "output_type": "stream",
          "name": "stderr",
          "text": [
            "Epoch [1215/10000]: 100%|██████████| 14/14 [00:00<00:00, 92.00it/s, loss=0.864]\n"
          ]
        },
        {
          "output_type": "stream",
          "name": "stdout",
          "text": [
            "Epoch [1215/10000]: Train loss: 1.0756, Valid loss: 1.1227\n"
          ]
        },
        {
          "output_type": "stream",
          "name": "stderr",
          "text": [
            "Epoch [1216/10000]: 100%|██████████| 14/14 [00:00<00:00, 72.26it/s, loss=0.911]\n"
          ]
        },
        {
          "output_type": "stream",
          "name": "stdout",
          "text": [
            "Epoch [1216/10000]: Train loss: 1.0685, Valid loss: 1.0640\n"
          ]
        },
        {
          "output_type": "stream",
          "name": "stderr",
          "text": [
            "Epoch [1217/10000]: 100%|██████████| 14/14 [00:00<00:00, 84.61it/s, loss=1.09]\n"
          ]
        },
        {
          "output_type": "stream",
          "name": "stdout",
          "text": [
            "Epoch [1217/10000]: Train loss: 1.0684, Valid loss: 1.1692\n"
          ]
        },
        {
          "output_type": "stream",
          "name": "stderr",
          "text": [
            "Epoch [1218/10000]: 100%|██████████| 14/14 [00:00<00:00, 91.53it/s, loss=1.15]\n"
          ]
        },
        {
          "output_type": "stream",
          "name": "stdout",
          "text": [
            "Epoch [1218/10000]: Train loss: 1.0633, Valid loss: 1.0847\n"
          ]
        },
        {
          "output_type": "stream",
          "name": "stderr",
          "text": [
            "Epoch [1219/10000]: 100%|██████████| 14/14 [00:00<00:00, 68.27it/s, loss=0.814]\n"
          ]
        },
        {
          "output_type": "stream",
          "name": "stdout",
          "text": [
            "Epoch [1219/10000]: Train loss: 1.0490, Valid loss: 1.0921\n"
          ]
        },
        {
          "output_type": "stream",
          "name": "stderr",
          "text": [
            "Epoch [1220/10000]: 100%|██████████| 14/14 [00:00<00:00, 72.53it/s, loss=1.69]\n"
          ]
        },
        {
          "output_type": "stream",
          "name": "stdout",
          "text": [
            "Epoch [1220/10000]: Train loss: 1.0920, Valid loss: 1.0694\n"
          ]
        },
        {
          "output_type": "stream",
          "name": "stderr",
          "text": [
            "Epoch [1221/10000]: 100%|██████████| 14/14 [00:00<00:00, 82.56it/s, loss=0.989]\n"
          ]
        },
        {
          "output_type": "stream",
          "name": "stdout",
          "text": [
            "Epoch [1221/10000]: Train loss: 1.0692, Valid loss: 1.1575\n"
          ]
        },
        {
          "output_type": "stream",
          "name": "stderr",
          "text": [
            "Epoch [1222/10000]: 100%|██████████| 14/14 [00:00<00:00, 82.34it/s, loss=0.869]\n"
          ]
        },
        {
          "output_type": "stream",
          "name": "stdout",
          "text": [
            "Epoch [1222/10000]: Train loss: 1.0692, Valid loss: 1.1428\n"
          ]
        },
        {
          "output_type": "stream",
          "name": "stderr",
          "text": [
            "Epoch [1223/10000]: 100%|██████████| 14/14 [00:00<00:00, 88.45it/s, loss=0.983]\n"
          ]
        },
        {
          "output_type": "stream",
          "name": "stdout",
          "text": [
            "Epoch [1223/10000]: Train loss: 1.0712, Valid loss: 1.1019\n"
          ]
        },
        {
          "output_type": "stream",
          "name": "stderr",
          "text": [
            "Epoch [1224/10000]: 100%|██████████| 14/14 [00:00<00:00, 90.63it/s, loss=2.05]\n"
          ]
        },
        {
          "output_type": "stream",
          "name": "stdout",
          "text": [
            "Epoch [1224/10000]: Train loss: 1.1112, Valid loss: 1.0801\n"
          ]
        },
        {
          "output_type": "stream",
          "name": "stderr",
          "text": [
            "Epoch [1225/10000]: 100%|██████████| 14/14 [00:00<00:00, 95.28it/s, loss=1.57]\n"
          ]
        },
        {
          "output_type": "stream",
          "name": "stdout",
          "text": [
            "Epoch [1225/10000]: Train loss: 1.0797, Valid loss: 1.1421\n"
          ]
        },
        {
          "output_type": "stream",
          "name": "stderr",
          "text": [
            "Epoch [1226/10000]: 100%|██████████| 14/14 [00:00<00:00, 97.70it/s, loss=1.15]\n"
          ]
        },
        {
          "output_type": "stream",
          "name": "stdout",
          "text": [
            "Epoch [1226/10000]: Train loss: 1.1032, Valid loss: 1.1039\n"
          ]
        },
        {
          "output_type": "stream",
          "name": "stderr",
          "text": [
            "Epoch [1227/10000]: 100%|██████████| 14/14 [00:00<00:00, 91.77it/s, loss=1.01]\n"
          ]
        },
        {
          "output_type": "stream",
          "name": "stdout",
          "text": [
            "Epoch [1227/10000]: Train loss: 1.0622, Valid loss: 1.1060\n"
          ]
        },
        {
          "output_type": "stream",
          "name": "stderr",
          "text": [
            "Epoch [1228/10000]:   0%|          | 0/14 [00:00<?, ?it/s, loss=0.757]"
          ]
        }
      ],
      "source": [
        "model = My_Model(input_dim=x_train.shape[1]).to(device) # put your model and data on the same computation device.\n",
        "trainer(train_loader, valid_loader, model, config, device)"
      ]
    },
    {
      "cell_type": "markdown",
      "metadata": {
        "id": "Ik09KPqU-di-"
      },
      "source": [
        "# Plot learning curves with `tensorboard` (optional)\n",
        "\n",
        "`tensorboard` is a tool that allows you to visualize your training progress.\n",
        "\n",
        "If this block does not display your learning curve, please wait for few minutes, and re-run this block. It might take some time to load your logging information. "
      ]
    },
    {
      "cell_type": "code",
      "execution_count": 146,
      "metadata": {
        "id": "loA4nKmLGQ-n"
      },
      "outputs": [],
      "source": [
        "%reload_ext tensorboard\n",
        "%tensorboard --logdir=./runs/"
      ]
    },
    {
      "cell_type": "markdown",
      "source": [
        "test1：64,32,3 train6000\n",
        "test2:test1 train9000\n",
        "test3:weight_decay=0.001 train3000\n"
      ],
      "metadata": {
        "id": "_YI3qxDEYnUw"
      }
    },
    {
      "cell_type": "markdown",
      "metadata": {
        "id": "yhAHGqC9-woK"
      },
      "source": [
        "# Testing\n",
        "The predictions of your model on testing set will be stored at `pred.csv`."
      ]
    },
    {
      "cell_type": "code",
      "execution_count": 147,
      "metadata": {
        "id": "Q5eVdpbvAlAe"
      },
      "outputs": [],
      "source": [
        "def save_pred(preds, file):\n",
        "    ''' Save predictions to specified file '''\n",
        "    with open(file, 'w') as fp:\n",
        "        writer = csv.writer(fp)\n",
        "        writer.writerow(['id', 'tested_positive'])\n",
        "        for i, p in enumerate(preds):\n",
        "            writer.writerow([i, p])\n",
        "\n",
        "model = My_Model(input_dim=x_train.shape[1]).to(device)\n",
        "model.load_state_dict(torch.load(config['save_path']))\n",
        "preds = predict(test_loader, model, device) \n",
        "save_pred(preds, 'pred.csv')         "
      ]
    },
    {
      "cell_type": "markdown",
      "source": [
        "# Reference\n",
        "This notebook uses code written by Heng-Jui Chang @ NTUEE (https://github.com/ga642381/ML2021-Spring/blob/main/HW01/HW01.ipynb)"
      ],
      "metadata": {
        "id": "IJ_k5rY0GvSV"
      }
    }
  ],
  "metadata": {
    "accelerator": "GPU",
    "colab": {
      "collapsed_sections": [],
      "name": "「ML2022Spring_HW1_ipynb」的副本-strong baseline3.ipynb",
      "provenance": []
    },
    "kernelspec": {
      "display_name": "Python 3",
      "name": "python3"
    },
    "language_info": {
      "name": "python"
    }
  },
  "nbformat": 4,
  "nbformat_minor": 0
}